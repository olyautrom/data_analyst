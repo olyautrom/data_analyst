{
 "cells": [
  {
   "cell_type": "markdown",
   "metadata": {
    "toc": true
   },
   "source": [
    "<h1>Содержание<span class=\"tocSkip\"></span></h1>\n",
    "<div class=\"toc\"><ul class=\"toc-item\"><li><span><a href=\"#Шаг-1.-Открытие-файла-и-изучение-данных\" data-toc-modified-id=\"Шаг-1.-Открытие-файла-и-изучение-данных-1\"><span class=\"toc-item-num\">1&nbsp;&nbsp;</span>Шаг 1. Открытие файла и изучение данных</a></span></li><li><span><a href=\"#Шаг-2.-Предобработка-данных\" data-toc-modified-id=\"Шаг-2.-Предобработка-данных-2\"><span class=\"toc-item-num\">2&nbsp;&nbsp;</span>Шаг 2. Предобработка данных</a></span><ul class=\"toc-item\"><li><span><a href=\"#Обработка-пропусков\" data-toc-modified-id=\"Обработка-пропусков-2.1\"><span class=\"toc-item-num\">2.1&nbsp;&nbsp;</span>Обработка пропусков</a></span></li><li><span><a href=\"#Замена-типов-данных\" data-toc-modified-id=\"Замена-типов-данных-2.2\"><span class=\"toc-item-num\">2.2&nbsp;&nbsp;</span>Замена типов данных</a></span></li><li><span><a href=\"#Обработка-дубликатов\" data-toc-modified-id=\"Обработка-дубликатов-2.3\"><span class=\"toc-item-num\">2.3&nbsp;&nbsp;</span>Обработка дубликатов</a></span></li><li><span><a href=\"#Лемматизация\" data-toc-modified-id=\"Лемматизация-2.4\"><span class=\"toc-item-num\">2.4&nbsp;&nbsp;</span>Лемматизация</a></span></li><li><span><a href=\"#Категоризация-данных\" data-toc-modified-id=\"Категоризация-данных-2.5\"><span class=\"toc-item-num\">2.5&nbsp;&nbsp;</span>Категоризация данных</a></span></li></ul></li><li><span><a href=\"#Шаг-3.-Ответы-на-вопросы-исследования\" data-toc-modified-id=\"Шаг-3.-Ответы-на-вопросы-исследования-3\"><span class=\"toc-item-num\">3&nbsp;&nbsp;</span>Шаг 3. Ответы на вопросы исследования</a></span><ul class=\"toc-item\"><li><span><a href=\"#Есть-ли-зависимость-между-количеством-детей-и-возвратом-кредита-в-срок?\" data-toc-modified-id=\"Есть-ли-зависимость-между-количеством-детей-и-возвратом-кредита-в-срок?-3.1\"><span class=\"toc-item-num\">3.1&nbsp;&nbsp;</span>Есть ли зависимость между количеством детей и возвратом кредита в срок?</a></span></li><li><span><a href=\"#Есть-ли-зависимость-между-семейным-положением-и-возвратом-кредита-в-срок?\" data-toc-modified-id=\"Есть-ли-зависимость-между-семейным-положением-и-возвратом-кредита-в-срок?-3.2\"><span class=\"toc-item-num\">3.2&nbsp;&nbsp;</span>Есть ли зависимость между семейным положением и возвратом кредита в срок?</a></span></li><li><span><a href=\"#Есть-ли-зависимость-между-уровнем-дохода-и-возвратом-кредита-в-срок?\" data-toc-modified-id=\"Есть-ли-зависимость-между-уровнем-дохода-и-возвратом-кредита-в-срок?-3.3\"><span class=\"toc-item-num\">3.3&nbsp;&nbsp;</span>Есть ли зависимость между уровнем дохода и возвратом кредита в срок?</a></span></li><li><span><a href=\"#Как-разные-цели-кредита-влияют-на-его-возврат-в-срок?\" data-toc-modified-id=\"Как-разные-цели-кредита-влияют-на-его-возврат-в-срок?-3.4\"><span class=\"toc-item-num\">3.4&nbsp;&nbsp;</span>Как разные цели кредита влияют на его возврат в срок?</a></span></li></ul></li><li><span><a href=\"#Шаг-4.-Общий-вывод\" data-toc-modified-id=\"Шаг-4.-Общий-вывод-4\"><span class=\"toc-item-num\">4&nbsp;&nbsp;</span>Шаг 4. Общий вывод</a></span></li></ul></div>"
   ]
  },
  {
   "cell_type": "markdown",
   "metadata": {},
   "source": [
    "# Исследование надёжности заёмщиков\n",
    "\n",
    "Заказчик — кредитный отдел банка. Нужно разобраться, влияет ли семейное положение и количество детей клиента на факт погашения кредита в срок. Входные данные от банка — статистика о платёжеспособности клиентов.\n",
    "\n",
    "Нужно ответить на вопросы:\n",
    "- Есть ли зависимость между количеством детей и возвратом кредита в срок?\n",
    "- Есть ли зависимость между семейным положением и возвратом кредита в срок?\n",
    "- Есть ли зависимость между уровнем дохода и возвратом кредита в срок?\n",
    "- Как разные цели кредита влияют на его возврат в срок?\n",
    "\n",
    "Результаты исследования будут учтены при построении модели **кредитного скоринга** — специальной системы, которая оценивает способность потенциального заёмщика вернуть кредит банку."
   ]
  },
  {
   "cell_type": "markdown",
   "metadata": {},
   "source": [
    "## Шаг 1. Открытие файла и изучение данных"
   ]
  },
  {
   "cell_type": "markdown",
   "metadata": {},
   "source": [
    "Импортируем нужные для проекта библиотеки. Cохраним файл `data.csv` из папки `/datasets` в переменную `df`. Выведем первые 10 строк таблицы."
   ]
  },
  {
   "cell_type": "code",
   "execution_count": 1,
   "metadata": {
    "scrolled": false
   },
   "outputs": [
    {
     "data": {
      "text/html": [
       "<div>\n",
       "<style scoped>\n",
       "    .dataframe tbody tr th:only-of-type {\n",
       "        vertical-align: middle;\n",
       "    }\n",
       "\n",
       "    .dataframe tbody tr th {\n",
       "        vertical-align: top;\n",
       "    }\n",
       "\n",
       "    .dataframe thead th {\n",
       "        text-align: right;\n",
       "    }\n",
       "</style>\n",
       "<table border=\"1\" class=\"dataframe\">\n",
       "  <thead>\n",
       "    <tr style=\"text-align: right;\">\n",
       "      <th></th>\n",
       "      <th>children</th>\n",
       "      <th>days_employed</th>\n",
       "      <th>dob_years</th>\n",
       "      <th>education</th>\n",
       "      <th>education_id</th>\n",
       "      <th>family_status</th>\n",
       "      <th>family_status_id</th>\n",
       "      <th>gender</th>\n",
       "      <th>income_type</th>\n",
       "      <th>debt</th>\n",
       "      <th>total_income</th>\n",
       "      <th>purpose</th>\n",
       "    </tr>\n",
       "  </thead>\n",
       "  <tbody>\n",
       "    <tr>\n",
       "      <th>0</th>\n",
       "      <td>1</td>\n",
       "      <td>-8437.673028</td>\n",
       "      <td>42</td>\n",
       "      <td>высшее</td>\n",
       "      <td>0</td>\n",
       "      <td>женат / замужем</td>\n",
       "      <td>0</td>\n",
       "      <td>F</td>\n",
       "      <td>сотрудник</td>\n",
       "      <td>0</td>\n",
       "      <td>253875.639453</td>\n",
       "      <td>покупка жилья</td>\n",
       "    </tr>\n",
       "    <tr>\n",
       "      <th>1</th>\n",
       "      <td>1</td>\n",
       "      <td>-4024.803754</td>\n",
       "      <td>36</td>\n",
       "      <td>среднее</td>\n",
       "      <td>1</td>\n",
       "      <td>женат / замужем</td>\n",
       "      <td>0</td>\n",
       "      <td>F</td>\n",
       "      <td>сотрудник</td>\n",
       "      <td>0</td>\n",
       "      <td>112080.014102</td>\n",
       "      <td>приобретение автомобиля</td>\n",
       "    </tr>\n",
       "    <tr>\n",
       "      <th>2</th>\n",
       "      <td>0</td>\n",
       "      <td>-5623.422610</td>\n",
       "      <td>33</td>\n",
       "      <td>Среднее</td>\n",
       "      <td>1</td>\n",
       "      <td>женат / замужем</td>\n",
       "      <td>0</td>\n",
       "      <td>M</td>\n",
       "      <td>сотрудник</td>\n",
       "      <td>0</td>\n",
       "      <td>145885.952297</td>\n",
       "      <td>покупка жилья</td>\n",
       "    </tr>\n",
       "    <tr>\n",
       "      <th>3</th>\n",
       "      <td>3</td>\n",
       "      <td>-4124.747207</td>\n",
       "      <td>32</td>\n",
       "      <td>среднее</td>\n",
       "      <td>1</td>\n",
       "      <td>женат / замужем</td>\n",
       "      <td>0</td>\n",
       "      <td>M</td>\n",
       "      <td>сотрудник</td>\n",
       "      <td>0</td>\n",
       "      <td>267628.550329</td>\n",
       "      <td>дополнительное образование</td>\n",
       "    </tr>\n",
       "    <tr>\n",
       "      <th>4</th>\n",
       "      <td>0</td>\n",
       "      <td>340266.072047</td>\n",
       "      <td>53</td>\n",
       "      <td>среднее</td>\n",
       "      <td>1</td>\n",
       "      <td>гражданский брак</td>\n",
       "      <td>1</td>\n",
       "      <td>F</td>\n",
       "      <td>пенсионер</td>\n",
       "      <td>0</td>\n",
       "      <td>158616.077870</td>\n",
       "      <td>сыграть свадьбу</td>\n",
       "    </tr>\n",
       "    <tr>\n",
       "      <th>5</th>\n",
       "      <td>0</td>\n",
       "      <td>-926.185831</td>\n",
       "      <td>27</td>\n",
       "      <td>высшее</td>\n",
       "      <td>0</td>\n",
       "      <td>гражданский брак</td>\n",
       "      <td>1</td>\n",
       "      <td>M</td>\n",
       "      <td>компаньон</td>\n",
       "      <td>0</td>\n",
       "      <td>255763.565419</td>\n",
       "      <td>покупка жилья</td>\n",
       "    </tr>\n",
       "    <tr>\n",
       "      <th>6</th>\n",
       "      <td>0</td>\n",
       "      <td>-2879.202052</td>\n",
       "      <td>43</td>\n",
       "      <td>высшее</td>\n",
       "      <td>0</td>\n",
       "      <td>женат / замужем</td>\n",
       "      <td>0</td>\n",
       "      <td>F</td>\n",
       "      <td>компаньон</td>\n",
       "      <td>0</td>\n",
       "      <td>240525.971920</td>\n",
       "      <td>операции с жильем</td>\n",
       "    </tr>\n",
       "    <tr>\n",
       "      <th>7</th>\n",
       "      <td>0</td>\n",
       "      <td>-152.779569</td>\n",
       "      <td>50</td>\n",
       "      <td>СРЕДНЕЕ</td>\n",
       "      <td>1</td>\n",
       "      <td>женат / замужем</td>\n",
       "      <td>0</td>\n",
       "      <td>M</td>\n",
       "      <td>сотрудник</td>\n",
       "      <td>0</td>\n",
       "      <td>135823.934197</td>\n",
       "      <td>образование</td>\n",
       "    </tr>\n",
       "    <tr>\n",
       "      <th>8</th>\n",
       "      <td>2</td>\n",
       "      <td>-6929.865299</td>\n",
       "      <td>35</td>\n",
       "      <td>ВЫСШЕЕ</td>\n",
       "      <td>0</td>\n",
       "      <td>гражданский брак</td>\n",
       "      <td>1</td>\n",
       "      <td>F</td>\n",
       "      <td>сотрудник</td>\n",
       "      <td>0</td>\n",
       "      <td>95856.832424</td>\n",
       "      <td>на проведение свадьбы</td>\n",
       "    </tr>\n",
       "    <tr>\n",
       "      <th>9</th>\n",
       "      <td>0</td>\n",
       "      <td>-2188.756445</td>\n",
       "      <td>41</td>\n",
       "      <td>среднее</td>\n",
       "      <td>1</td>\n",
       "      <td>женат / замужем</td>\n",
       "      <td>0</td>\n",
       "      <td>M</td>\n",
       "      <td>сотрудник</td>\n",
       "      <td>0</td>\n",
       "      <td>144425.938277</td>\n",
       "      <td>покупка жилья для семьи</td>\n",
       "    </tr>\n",
       "  </tbody>\n",
       "</table>\n",
       "</div>"
      ],
      "text/plain": [
       "   children  days_employed  dob_years education  education_id  \\\n",
       "0         1   -8437.673028         42    высшее             0   \n",
       "1         1   -4024.803754         36   среднее             1   \n",
       "2         0   -5623.422610         33   Среднее             1   \n",
       "3         3   -4124.747207         32   среднее             1   \n",
       "4         0  340266.072047         53   среднее             1   \n",
       "5         0    -926.185831         27    высшее             0   \n",
       "6         0   -2879.202052         43    высшее             0   \n",
       "7         0    -152.779569         50   СРЕДНЕЕ             1   \n",
       "8         2   -6929.865299         35    ВЫСШЕЕ             0   \n",
       "9         0   -2188.756445         41   среднее             1   \n",
       "\n",
       "      family_status  family_status_id gender income_type  debt   total_income  \\\n",
       "0   женат / замужем                 0      F   сотрудник     0  253875.639453   \n",
       "1   женат / замужем                 0      F   сотрудник     0  112080.014102   \n",
       "2   женат / замужем                 0      M   сотрудник     0  145885.952297   \n",
       "3   женат / замужем                 0      M   сотрудник     0  267628.550329   \n",
       "4  гражданский брак                 1      F   пенсионер     0  158616.077870   \n",
       "5  гражданский брак                 1      M   компаньон     0  255763.565419   \n",
       "6   женат / замужем                 0      F   компаньон     0  240525.971920   \n",
       "7   женат / замужем                 0      M   сотрудник     0  135823.934197   \n",
       "8  гражданский брак                 1      F   сотрудник     0   95856.832424   \n",
       "9   женат / замужем                 0      M   сотрудник     0  144425.938277   \n",
       "\n",
       "                      purpose  \n",
       "0               покупка жилья  \n",
       "1     приобретение автомобиля  \n",
       "2               покупка жилья  \n",
       "3  дополнительное образование  \n",
       "4             сыграть свадьбу  \n",
       "5               покупка жилья  \n",
       "6           операции с жильем  \n",
       "7                 образование  \n",
       "8       на проведение свадьбы  \n",
       "9     покупка жилья для семьи  "
      ]
     },
     "execution_count": 1,
     "metadata": {},
     "output_type": "execute_result"
    }
   ],
   "source": [
    "import pandas as pd\n",
    "import seaborn as sns\n",
    "import matplotlib.pyplot as plt\n",
    "from pymystem3 import Mystem\n",
    "from collections import Counter\n",
    "\n",
    "data = pd.read_csv('/datasets/data.csv')\n",
    "data.head(10)"
   ]
  },
  {
   "cell_type": "markdown",
   "metadata": {},
   "source": [
    "Получим общую информацию о таблице:"
   ]
  },
  {
   "cell_type": "code",
   "execution_count": 2,
   "metadata": {
    "scrolled": true
   },
   "outputs": [
    {
     "name": "stdout",
     "output_type": "stream",
     "text": [
      "<class 'pandas.core.frame.DataFrame'>\n",
      "RangeIndex: 21525 entries, 0 to 21524\n",
      "Data columns (total 12 columns):\n",
      " #   Column            Non-Null Count  Dtype  \n",
      "---  ------            --------------  -----  \n",
      " 0   children          21525 non-null  int64  \n",
      " 1   days_employed     19351 non-null  float64\n",
      " 2   dob_years         21525 non-null  int64  \n",
      " 3   education         21525 non-null  object \n",
      " 4   education_id      21525 non-null  int64  \n",
      " 5   family_status     21525 non-null  object \n",
      " 6   family_status_id  21525 non-null  int64  \n",
      " 7   gender            21525 non-null  object \n",
      " 8   income_type       21525 non-null  object \n",
      " 9   debt              21525 non-null  int64  \n",
      " 10  total_income      19351 non-null  float64\n",
      " 11  purpose           21525 non-null  object \n",
      "dtypes: float64(2), int64(5), object(5)\n",
      "memory usage: 2.0+ MB\n"
     ]
    }
   ],
   "source": [
    "data.info()"
   ]
  },
  {
   "cell_type": "markdown",
   "metadata": {},
   "source": [
    "**Вывод**"
   ]
  },
  {
   "cell_type": "markdown",
   "metadata": {},
   "source": [
    "Итак, в таблице 12 столбцов. Типы данных в столбцах — `int, float, object`. Количетво строк - 21525.\n",
    "\n",
    "Согласно документации к данным:\n",
    "* `children` — количество детей в семье;\n",
    "* `days_employed` — общий трудовой стаж в днях\n",
    "* `dob_years` — возраст клиента в годах\n",
    "* `education` — уровень образования клиента\n",
    "* `education_id` — идентификатор уровня образования\n",
    "* `family_status` — семейное положение\n",
    "* `family_status_id` — идентификатор семейного положения\n",
    "* `gender` — пол клиента\n",
    "* `income_type` — тип занятости\n",
    "* `debt` — имел ли задолженность по возврату кредитов\n",
    "* `total_income` — ежемесячный доход\n",
    "* `purpose` — цель получения кредита\n",
    "\n",
    "Названия колонок соответвуют стилю Snake case.\n",
    "\n",
    "Количество значений в столбцах отличается. Из этого следует, что в столбах `days_employed` и `total_income` есть пропущенные значения."
   ]
  },
  {
   "cell_type": "markdown",
   "metadata": {},
   "source": [
    "## Шаг 2. Предобработка данных"
   ]
  },
  {
   "cell_type": "markdown",
   "metadata": {},
   "source": [
    "### Обработка пропусков"
   ]
  },
  {
   "cell_type": "markdown",
   "metadata": {},
   "source": [
    "Пропуски есть в столбцах `days_employed` и `total_income`.\n",
    "\n",
    "`days_employed` и `total_income` - это количественные переменные. Выведем количество пропущенных значений в этих столбцах."
   ]
  },
  {
   "cell_type": "code",
   "execution_count": 3,
   "metadata": {},
   "outputs": [
    {
     "name": "stdout",
     "output_type": "stream",
     "text": [
      "Количество пропущенных значений days_employed: 2174\n",
      "Количество пропущенных значений total_income: 2174\n"
     ]
    }
   ],
   "source": [
    "print('Количество пропущенных значений days_employed:', len(data[data['days_employed'].isna()]))\n",
    "print('Количество пропущенных значений total_income:', len(data[data['total_income'].isna()]))"
   ]
  },
  {
   "cell_type": "markdown",
   "metadata": {},
   "source": [
    "Выведем первые 5 строк, в которых значение `days_employed` - NaN."
   ]
  },
  {
   "cell_type": "code",
   "execution_count": 4,
   "metadata": {},
   "outputs": [
    {
     "data": {
      "text/html": [
       "<div>\n",
       "<style scoped>\n",
       "    .dataframe tbody tr th:only-of-type {\n",
       "        vertical-align: middle;\n",
       "    }\n",
       "\n",
       "    .dataframe tbody tr th {\n",
       "        vertical-align: top;\n",
       "    }\n",
       "\n",
       "    .dataframe thead th {\n",
       "        text-align: right;\n",
       "    }\n",
       "</style>\n",
       "<table border=\"1\" class=\"dataframe\">\n",
       "  <thead>\n",
       "    <tr style=\"text-align: right;\">\n",
       "      <th></th>\n",
       "      <th>children</th>\n",
       "      <th>days_employed</th>\n",
       "      <th>dob_years</th>\n",
       "      <th>education</th>\n",
       "      <th>education_id</th>\n",
       "      <th>family_status</th>\n",
       "      <th>family_status_id</th>\n",
       "      <th>gender</th>\n",
       "      <th>income_type</th>\n",
       "      <th>debt</th>\n",
       "      <th>total_income</th>\n",
       "      <th>purpose</th>\n",
       "    </tr>\n",
       "  </thead>\n",
       "  <tbody>\n",
       "    <tr>\n",
       "      <th>12</th>\n",
       "      <td>0</td>\n",
       "      <td>NaN</td>\n",
       "      <td>65</td>\n",
       "      <td>среднее</td>\n",
       "      <td>1</td>\n",
       "      <td>гражданский брак</td>\n",
       "      <td>1</td>\n",
       "      <td>M</td>\n",
       "      <td>пенсионер</td>\n",
       "      <td>0</td>\n",
       "      <td>NaN</td>\n",
       "      <td>сыграть свадьбу</td>\n",
       "    </tr>\n",
       "    <tr>\n",
       "      <th>26</th>\n",
       "      <td>0</td>\n",
       "      <td>NaN</td>\n",
       "      <td>41</td>\n",
       "      <td>среднее</td>\n",
       "      <td>1</td>\n",
       "      <td>женат / замужем</td>\n",
       "      <td>0</td>\n",
       "      <td>M</td>\n",
       "      <td>госслужащий</td>\n",
       "      <td>0</td>\n",
       "      <td>NaN</td>\n",
       "      <td>образование</td>\n",
       "    </tr>\n",
       "    <tr>\n",
       "      <th>29</th>\n",
       "      <td>0</td>\n",
       "      <td>NaN</td>\n",
       "      <td>63</td>\n",
       "      <td>среднее</td>\n",
       "      <td>1</td>\n",
       "      <td>Не женат / не замужем</td>\n",
       "      <td>4</td>\n",
       "      <td>F</td>\n",
       "      <td>пенсионер</td>\n",
       "      <td>0</td>\n",
       "      <td>NaN</td>\n",
       "      <td>строительство жилой недвижимости</td>\n",
       "    </tr>\n",
       "    <tr>\n",
       "      <th>41</th>\n",
       "      <td>0</td>\n",
       "      <td>NaN</td>\n",
       "      <td>50</td>\n",
       "      <td>среднее</td>\n",
       "      <td>1</td>\n",
       "      <td>женат / замужем</td>\n",
       "      <td>0</td>\n",
       "      <td>F</td>\n",
       "      <td>госслужащий</td>\n",
       "      <td>0</td>\n",
       "      <td>NaN</td>\n",
       "      <td>сделка с подержанным автомобилем</td>\n",
       "    </tr>\n",
       "    <tr>\n",
       "      <th>55</th>\n",
       "      <td>0</td>\n",
       "      <td>NaN</td>\n",
       "      <td>54</td>\n",
       "      <td>среднее</td>\n",
       "      <td>1</td>\n",
       "      <td>гражданский брак</td>\n",
       "      <td>1</td>\n",
       "      <td>F</td>\n",
       "      <td>пенсионер</td>\n",
       "      <td>1</td>\n",
       "      <td>NaN</td>\n",
       "      <td>сыграть свадьбу</td>\n",
       "    </tr>\n",
       "  </tbody>\n",
       "</table>\n",
       "</div>"
      ],
      "text/plain": [
       "    children  days_employed  dob_years education  education_id  \\\n",
       "12         0            NaN         65   среднее             1   \n",
       "26         0            NaN         41   среднее             1   \n",
       "29         0            NaN         63   среднее             1   \n",
       "41         0            NaN         50   среднее             1   \n",
       "55         0            NaN         54   среднее             1   \n",
       "\n",
       "            family_status  family_status_id gender  income_type  debt  \\\n",
       "12       гражданский брак                 1      M    пенсионер     0   \n",
       "26        женат / замужем                 0      M  госслужащий     0   \n",
       "29  Не женат / не замужем                 4      F    пенсионер     0   \n",
       "41        женат / замужем                 0      F  госслужащий     0   \n",
       "55       гражданский брак                 1      F    пенсионер     1   \n",
       "\n",
       "    total_income                           purpose  \n",
       "12           NaN                   сыграть свадьбу  \n",
       "26           NaN                       образование  \n",
       "29           NaN  строительство жилой недвижимости  \n",
       "41           NaN  сделка с подержанным автомобилем  \n",
       "55           NaN                   сыграть свадьбу  "
      ]
     },
     "execution_count": 4,
     "metadata": {},
     "output_type": "execute_result"
    }
   ],
   "source": [
    "data[data['days_employed'].isna()].head(5)"
   ]
  },
  {
   "cell_type": "markdown",
   "metadata": {},
   "source": [
    "Выглядит так, что значения `days_employed` и `total_income` пропущенны в одних и тех же строках. Давайте проверим это предположение с помощью вычислений и на графике `heatmap`, с помощью библиотеки `seaborn`."
   ]
  },
  {
   "cell_type": "code",
   "execution_count": 5,
   "metadata": {},
   "outputs": [
    {
     "name": "stdout",
     "output_type": "stream",
     "text": [
      "Число строк, в которых пропущены и days_employed, и total_income: 2174\n"
     ]
    },
    {
     "data": {
      "image/png": "[encoded data removed]",
      "text/plain": [
       "<Figure size 720x432 with 1 Axes>"
      ]
     },
     "metadata": {
      "needs_background": "light"
     },
     "output_type": "display_data"
    }
   ],
   "source": [
    "print('Число строк, в которых пропущены и days_employed, и total_income:', \n",
    "      len(data[(data['days_employed'].isna()) & (data['total_income'].isna())]))\n",
    "\n",
    "# построение графика\n",
    "plt.figure(figsize=(10, 6))\n",
    "plt.title('График пропущеных значений')\n",
    "sns.heatmap(data.isna(), yticklabels=False, cbar=False, cmap=\"YlGnBu\");\n",
    "plt.show()"
   ]
  },
  {
   "cell_type": "markdown",
   "metadata": {},
   "source": [
    "То есть в таблице все пустые значения встречаются обновременнно в общем трудовом стаже в днях и ежемесячном доходе. Возможно данные потерялись при выгрузках, возможно их просто нет.\n",
    "\n",
    "В столбцах пропущенно по 2174 значений, что составляет 10% отвсех данных. Следовательно их удаление или замена на 0 сильно повлияют на результаты исследования. Пропуски необхимо заменить средними или медианными значениями."
   ]
  },
  {
   "cell_type": "markdown",
   "metadata": {},
   "source": [
    "Также посмотрим на распределения значений `days_employed` и `total_income` с помошью метода `describe()` для выявления аномалий."
   ]
  },
  {
   "cell_type": "code",
   "execution_count": 6,
   "metadata": {},
   "outputs": [
    {
     "name": "stdout",
     "output_type": "stream",
     "text": [
      "Eжемесячный доход total_income:\n",
      "count      19351.00\n",
      "mean      167422.30\n",
      "std       102971.57\n",
      "min        20667.26\n",
      "25%       103053.15\n",
      "50%       145017.94\n",
      "75%       203435.07\n",
      "max      2265604.03\n",
      "Name: total_income, dtype: float64\n",
      "---------------------------------------------\n",
      "Трудовой стаж в днях days_employed:\n",
      "count     19351.00\n",
      "mean      63046.50\n",
      "std      140827.31\n",
      "min      -18388.95\n",
      "25%       -2747.42\n",
      "50%       -1203.37\n",
      "75%        -291.10\n",
      "max      401755.40\n",
      "Name: days_employed, dtype: float64\n"
     ]
    }
   ],
   "source": [
    "print('Eжемесячный доход total_income:')\n",
    "print(data['total_income'].describe().round(2))\n",
    "print('-'*45)\n",
    "print('Трудовой стаж в днях days_employed:')\n",
    "print(data['days_employed'].describe().round(2))"
   ]
  },
  {
   "cell_type": "markdown",
   "metadata": {},
   "source": [
    "Мы видим аномалии в столбце `days_employed`. Отрицательные и очень больше значения скорее всего встречаются из-за другой системы записи данных.\n",
    "\n",
    "226504 дня - это примерно 620 лет. А если 226504 - это часы, то получится стаж 25 лет. Либо в таблице содержится информация о вампирах, либо аномально большие значения трудового стажа указаны в часах.\n",
    "\n",
    "Возьмем стаж в 70 лет, это примерно 25550 дней. А значения выше этой цифры поделим на 24, чтобы привести трудовой стаж к единому формату - дням. Отрицательные значения возьмем по модулю, применяя к столбцу метод `apply()`."
   ]
  },
  {
   "cell_type": "code",
   "execution_count": 7,
   "metadata": {},
   "outputs": [],
   "source": [
    "data['days_employed'] = data['days_employed'].apply(abs)\n",
    "data.loc[data['days_employed'] > 25550, 'days_employed'] = data.loc[data['days_employed'] > 25550, 'days_employed'] / 24\n"
   ]
  },
  {
   "cell_type": "markdown",
   "metadata": {},
   "source": [
    "Посмотрим на минимальное и максимально знаечения трудового стажа:"
   ]
  },
  {
   "cell_type": "code",
   "execution_count": 8,
   "metadata": {},
   "outputs": [
    {
     "name": "stdout",
     "output_type": "stream",
     "text": [
      "Трудовой стаж в днях: 24.14163324048118 18388.949900568383\n"
     ]
    }
   ],
   "source": [
    "print('Трудовой стаж в днях:', data['days_employed'].min(), data['days_employed'].max())"
   ]
  },
  {
   "cell_type": "markdown",
   "metadata": {},
   "source": [
    "Заменим пропуски в столбщах `days_employed` и `total_income` на средние значения в группе по типу занятости. Парметр `income_type` самый подходящий для группировки, так как доход и трудовой стаж сильно отличается именно в зависимости от типа занятости.\n",
    "\n",
    "Сначала посмотрим на уникальные значения столбца `income_type`:"
   ]
  },
  {
   "cell_type": "code",
   "execution_count": 9,
   "metadata": {},
   "outputs": [
    {
     "data": {
      "text/plain": [
       "array(['сотрудник', 'пенсионер', 'компаньон', 'госслужащий',\n",
       "       'безработный', 'предприниматель', 'студент', 'в декрете'],\n",
       "      dtype=object)"
      ]
     },
     "execution_count": 9,
     "metadata": {},
     "output_type": "execute_result"
    }
   ],
   "source": [
    "data['income_type'].unique()"
   ]
  },
  {
   "cell_type": "markdown",
   "metadata": {},
   "source": [
    "Пройдем в цикле по уникальным значениям `income_type` и сделаем замену пропусков в столбцах `days_employed`, `total_income` на средние значения:"
   ]
  },
  {
   "cell_type": "code",
   "execution_count": 10,
   "metadata": {},
   "outputs": [
    {
     "name": "stdout",
     "output_type": "stream",
     "text": [
      "Для группы \"сотрудник\" средний трудовой стаж в днях 2326.4992159717935, средний ежемесячный доход 161380.26048788553\n",
      "Для группы \"пенсионер\" средний трудовой стаж в днях 15208.478801869218, средний ежемесячный доход 137127.4656901654\n",
      "Для группы \"компаньон\" средний трудовой стаж в днях 2111.524398297732, средний ежемесячный доход 202417.4614617771\n",
      "Для группы \"госслужащий\" средний трудовой стаж в днях 3399.89690169574, средний ежемесячный доход 170898.30992266268\n",
      "Для группы \"безработный\" средний трудовой стаж в днях 15267.235531008522, средний ежемесячный доход 131339.7516762103\n",
      "Для группы \"предприниматель\" средний трудовой стаж в днях 520.8480834953765, средний ежемесячный доход 499163.1449470857\n",
      "Для группы \"студент\" средний трудовой стаж в днях 578.7515535382181, средний ежемесячный доход 98201.62531401133\n",
      "Для группы \"в декрете\" средний трудовой стаж в днях 3296.7599620220594, средний ежемесячный доход 53829.13072905995\n"
     ]
    }
   ],
   "source": [
    "for income_type in data['income_type'].unique():\n",
    "    mean_days_employed = data.loc[data['income_type'] == income_type, 'days_employed'].mean()\n",
    "    mean_total_income = data.loc[data['income_type'] == income_type, 'total_income'].mean()\n",
    "    print(f'Для группы \\\"{income_type}\\\" средний трудовой стаж в днях {mean_days_employed}, средний ежемесячный доход {mean_total_income}')\n",
    "    data.loc[(data['income_type'] == income_type) & \n",
    "             (data['days_employed'].isna()), 'days_employed'] = mean_days_employed\n",
    "    data.loc[(data['income_type'] == income_type) & \n",
    "             (data['total_income'].isna()), 'total_income'] = mean_total_income\n",
    "    "
   ]
  },
  {
   "cell_type": "markdown",
   "metadata": {},
   "source": [
    "Теперь еще раз выведем общую информацию о таблице, чтобы убедиться в том, что пропущенных значений больше нет."
   ]
  },
  {
   "cell_type": "code",
   "execution_count": 11,
   "metadata": {
    "scrolled": true
   },
   "outputs": [
    {
     "name": "stdout",
     "output_type": "stream",
     "text": [
      "<class 'pandas.core.frame.DataFrame'>\n",
      "RangeIndex: 21525 entries, 0 to 21524\n",
      "Data columns (total 12 columns):\n",
      " #   Column            Non-Null Count  Dtype  \n",
      "---  ------            --------------  -----  \n",
      " 0   children          21525 non-null  int64  \n",
      " 1   days_employed     21525 non-null  float64\n",
      " 2   dob_years         21525 non-null  int64  \n",
      " 3   education         21525 non-null  object \n",
      " 4   education_id      21525 non-null  int64  \n",
      " 5   family_status     21525 non-null  object \n",
      " 6   family_status_id  21525 non-null  int64  \n",
      " 7   gender            21525 non-null  object \n",
      " 8   income_type       21525 non-null  object \n",
      " 9   debt              21525 non-null  int64  \n",
      " 10  total_income      21525 non-null  float64\n",
      " 11  purpose           21525 non-null  object \n",
      "dtypes: float64(2), int64(5), object(5)\n",
      "memory usage: 2.0+ MB\n"
     ]
    }
   ],
   "source": [
    "data.info()"
   ]
  },
  {
   "cell_type": "markdown",
   "metadata": {},
   "source": [
    "Теперь во всех столбцах 21525 значений.\n",
    "\n",
    "Рассмотрим оставшиеся количественные значения, это столбцы `children`, `dob_years`. Посмотрим на распределения их значения для выявления аномалий."
   ]
  },
  {
   "cell_type": "code",
   "execution_count": 12,
   "metadata": {},
   "outputs": [
    {
     "name": "stdout",
     "output_type": "stream",
     "text": [
      "Количество детей children:\n",
      "count    21525.000000\n",
      "mean         0.538908\n",
      "std          1.381587\n",
      "min         -1.000000\n",
      "25%          0.000000\n",
      "50%          0.000000\n",
      "75%          1.000000\n",
      "max         20.000000\n",
      "Name: children, dtype: float64\n",
      "---------------------------------------------\n",
      "Возраст клиента dob_years:\n",
      "count    21525.000000\n",
      "mean        43.293380\n",
      "std         12.574584\n",
      "min          0.000000\n",
      "25%         33.000000\n",
      "50%         42.000000\n",
      "75%         53.000000\n",
      "max         75.000000\n",
      "Name: dob_years, dtype: float64\n"
     ]
    }
   ],
   "source": [
    "print('Количество детей children:')\n",
    "print(data['children'].describe())\n",
    "print('-'*45)\n",
    "print('Возраст клиента dob_years:')\n",
    "print(data['dob_years'].describe())"
   ]
  },
  {
   "cell_type": "markdown",
   "metadata": {},
   "source": [
    "Скорее всего количество детей -1 означает отсутствие детей, значение можно заменить на 0, а 20 - это опечатка, которую заменим на 2."
   ]
  },
  {
   "cell_type": "code",
   "execution_count": 13,
   "metadata": {},
   "outputs": [],
   "source": [
    "data['children'] = data['children'].replace({-1: 0, 20: 2})"
   ]
  },
  {
   "cell_type": "markdown",
   "metadata": {},
   "source": [
    "Нулевой возраст клиентов выглядит подозрительно, посмотрим на количество таких строк."
   ]
  },
  {
   "cell_type": "code",
   "execution_count": 14,
   "metadata": {},
   "outputs": [
    {
     "data": {
      "text/plain": [
       "101"
      ]
     },
     "execution_count": 14,
     "metadata": {},
     "output_type": "execute_result"
    }
   ],
   "source": [
    "data[data['dob_years'] == 0]['dob_years'].count()"
   ]
  },
  {
   "cell_type": "markdown",
   "metadata": {},
   "source": [
    "Заменим нулевой возраст клиентов на средний в выборке по типу занятости."
   ]
  },
  {
   "cell_type": "code",
   "execution_count": 15,
   "metadata": {},
   "outputs": [
    {
     "name": "stdout",
     "output_type": "stream",
     "text": [
      "Для группы \"сотрудник\" средний возраст 39.82102707077975\n",
      "Для группы \"пенсионер\" средний возраст 59.06301867219917\n",
      "Для группы \"компаньон\" средний возраст 39.69754178957719\n",
      "Для группы \"госслужащий\" средний возраст 40.63673749143249\n",
      "Для группы \"безработный\" средний возраст 38.0\n",
      "Для группы \"предприниматель\" средний возраст 42.5\n",
      "Для группы \"студент\" средний возраст 22.0\n",
      "Для группы \"в декрете\" средний возраст 39.0\n"
     ]
    }
   ],
   "source": [
    "for income_type in data['income_type'].unique():\n",
    "    mean_dob_years = data.loc[data['income_type'] == income_type, 'dob_years'].mean()\n",
    "    print(f'Для группы \\\"{income_type}\\\" средний возраст {mean_dob_years}')\n",
    "    data.loc[(data['income_type'] == income_type) & \n",
    "             (data['dob_years'] == 0), 'dob_years'] = mean_dob_years"
   ]
  },
  {
   "cell_type": "markdown",
   "metadata": {},
   "source": [
    "После замен проверим минимальные и максимальные значения столбцов `children` и `dob_years` еще раз."
   ]
  },
  {
   "cell_type": "code",
   "execution_count": 16,
   "metadata": {},
   "outputs": [
    {
     "name": "stdout",
     "output_type": "stream",
     "text": [
      "Количество детей: 0 5\n",
      "Возраст клиента: 19.0 75.0\n"
     ]
    }
   ],
   "source": [
    "print('Количество детей:', data['children'].min(), data['children'].max())\n",
    "print('Возраст клиента:', data['dob_years'].min(), data['dob_years'].max())"
   ]
  },
  {
   "cell_type": "markdown",
   "metadata": {},
   "source": [
    "Теперь все количественные переменные в порядке."
   ]
  },
  {
   "cell_type": "markdown",
   "metadata": {},
   "source": [
    "**Вывод**"
   ]
  },
  {
   "cell_type": "markdown",
   "metadata": {},
   "source": [
    "В процессе обработки пропусков были рассмотренны количественные переменные. Были выявленны пропущенные значения и некоторые аномалии: слишком большие, отрицательные, нулевые значения.\n",
    "\n",
    "Отрицательные значени столбца `days_employed` заменены на модуль этих чисел, слишком больше означают запись стажа в часах, переведены в дни. В столбце `children` - количество детей значение -1 заменено на 0, так как означаает отсутвие детей у клиента, а 20 на 2, скорее всего это опечатка.\n",
    "\n",
    "В столбцах `days_employed` - трудовой стаж в днях и `total_income` - ежемесячный доход были пустые 2174 строки (причем совпадающие), а в переменной `dob_years` - возраст клиента 101 строка, содержащая 0. Эти значения были заменены на средние значения в группе по типу занятости - `income_type`, так как это самые значимые категории, влияющие на значения.\n",
    "\n",
    "Таким образом мы обработали все пропущенные значения исходной таблицы."
   ]
  },
  {
   "cell_type": "markdown",
   "metadata": {},
   "source": [
    "### Замена типов данных"
   ]
  },
  {
   "cell_type": "markdown",
   "metadata": {},
   "source": [
    "Выведем типы данных таблицы `dtypes`:"
   ]
  },
  {
   "cell_type": "code",
   "execution_count": 17,
   "metadata": {},
   "outputs": [
    {
     "data": {
      "text/plain": [
       "children              int64\n",
       "days_employed       float64\n",
       "dob_years           float64\n",
       "education            object\n",
       "education_id          int64\n",
       "family_status        object\n",
       "family_status_id      int64\n",
       "gender               object\n",
       "income_type          object\n",
       "debt                  int64\n",
       "total_income        float64\n",
       "purpose              object\n",
       "dtype: object"
      ]
     },
     "execution_count": 17,
     "metadata": {},
     "output_type": "execute_result"
    }
   ],
   "source": [
    "data.dtypes"
   ]
  },
  {
   "cell_type": "markdown",
   "metadata": {},
   "source": [
    "Значения столбцов `days_employed` (общий трудовой стаж в днях), `dob_years` (возраст клиента в годах) - числа с плавающей точкой. Приведем их к целочисленному формату с помощью метода `astype()` с указанием типа `int`. \n",
    "\n",
    "Если бы нужно было сделать целочисленный тип данных из строк, то использовали бы `to_numeric()`, но в данной ситуации идеально подходит `astype()`. "
   ]
  },
  {
   "cell_type": "code",
   "execution_count": 18,
   "metadata": {},
   "outputs": [
    {
     "name": "stdout",
     "output_type": "stream",
     "text": [
      "children              int64\n",
      "days_employed         int64\n",
      "dob_years           float64\n",
      "education            object\n",
      "education_id          int64\n",
      "family_status        object\n",
      "family_status_id      int64\n",
      "gender               object\n",
      "income_type          object\n",
      "debt                  int64\n",
      "total_income          int64\n",
      "purpose              object\n",
      "dtype: object\n"
     ]
    }
   ],
   "source": [
    "# обработка возможных ошибок с помощью try-except\n",
    "try:\n",
    "    data[['days_employed', 'total_income']] = data[['days_employed', 'total_income']].astype('int')\n",
    "    print(data.dtypes)\n",
    "except:\n",
    "    print('При замене типа данных произошла ошибка')"
   ]
  },
  {
   "cell_type": "markdown",
   "metadata": {},
   "source": [
    "**Вывод**\n",
    "\n",
    "Тип данных `days_employed` и `dob_years` теперь целочисленный. Посмотрим на первые 5 строк таблицы."
   ]
  },
  {
   "cell_type": "code",
   "execution_count": 19,
   "metadata": {
    "scrolled": true
   },
   "outputs": [
    {
     "data": {
      "text/html": [
       "<div>\n",
       "<style scoped>\n",
       "    .dataframe tbody tr th:only-of-type {\n",
       "        vertical-align: middle;\n",
       "    }\n",
       "\n",
       "    .dataframe tbody tr th {\n",
       "        vertical-align: top;\n",
       "    }\n",
       "\n",
       "    .dataframe thead th {\n",
       "        text-align: right;\n",
       "    }\n",
       "</style>\n",
       "<table border=\"1\" class=\"dataframe\">\n",
       "  <thead>\n",
       "    <tr style=\"text-align: right;\">\n",
       "      <th></th>\n",
       "      <th>children</th>\n",
       "      <th>days_employed</th>\n",
       "      <th>dob_years</th>\n",
       "      <th>education</th>\n",
       "      <th>education_id</th>\n",
       "      <th>family_status</th>\n",
       "      <th>family_status_id</th>\n",
       "      <th>gender</th>\n",
       "      <th>income_type</th>\n",
       "      <th>debt</th>\n",
       "      <th>total_income</th>\n",
       "      <th>purpose</th>\n",
       "    </tr>\n",
       "  </thead>\n",
       "  <tbody>\n",
       "    <tr>\n",
       "      <th>0</th>\n",
       "      <td>1</td>\n",
       "      <td>8437</td>\n",
       "      <td>42.0</td>\n",
       "      <td>высшее</td>\n",
       "      <td>0</td>\n",
       "      <td>женат / замужем</td>\n",
       "      <td>0</td>\n",
       "      <td>F</td>\n",
       "      <td>сотрудник</td>\n",
       "      <td>0</td>\n",
       "      <td>253875</td>\n",
       "      <td>покупка жилья</td>\n",
       "    </tr>\n",
       "    <tr>\n",
       "      <th>1</th>\n",
       "      <td>1</td>\n",
       "      <td>4024</td>\n",
       "      <td>36.0</td>\n",
       "      <td>среднее</td>\n",
       "      <td>1</td>\n",
       "      <td>женат / замужем</td>\n",
       "      <td>0</td>\n",
       "      <td>F</td>\n",
       "      <td>сотрудник</td>\n",
       "      <td>0</td>\n",
       "      <td>112080</td>\n",
       "      <td>приобретение автомобиля</td>\n",
       "    </tr>\n",
       "    <tr>\n",
       "      <th>2</th>\n",
       "      <td>0</td>\n",
       "      <td>5623</td>\n",
       "      <td>33.0</td>\n",
       "      <td>Среднее</td>\n",
       "      <td>1</td>\n",
       "      <td>женат / замужем</td>\n",
       "      <td>0</td>\n",
       "      <td>M</td>\n",
       "      <td>сотрудник</td>\n",
       "      <td>0</td>\n",
       "      <td>145885</td>\n",
       "      <td>покупка жилья</td>\n",
       "    </tr>\n",
       "    <tr>\n",
       "      <th>3</th>\n",
       "      <td>3</td>\n",
       "      <td>4124</td>\n",
       "      <td>32.0</td>\n",
       "      <td>среднее</td>\n",
       "      <td>1</td>\n",
       "      <td>женат / замужем</td>\n",
       "      <td>0</td>\n",
       "      <td>M</td>\n",
       "      <td>сотрудник</td>\n",
       "      <td>0</td>\n",
       "      <td>267628</td>\n",
       "      <td>дополнительное образование</td>\n",
       "    </tr>\n",
       "    <tr>\n",
       "      <th>4</th>\n",
       "      <td>0</td>\n",
       "      <td>14177</td>\n",
       "      <td>53.0</td>\n",
       "      <td>среднее</td>\n",
       "      <td>1</td>\n",
       "      <td>гражданский брак</td>\n",
       "      <td>1</td>\n",
       "      <td>F</td>\n",
       "      <td>пенсионер</td>\n",
       "      <td>0</td>\n",
       "      <td>158616</td>\n",
       "      <td>сыграть свадьбу</td>\n",
       "    </tr>\n",
       "  </tbody>\n",
       "</table>\n",
       "</div>"
      ],
      "text/plain": [
       "   children  days_employed  dob_years education  education_id  \\\n",
       "0         1           8437       42.0    высшее             0   \n",
       "1         1           4024       36.0   среднее             1   \n",
       "2         0           5623       33.0   Среднее             1   \n",
       "3         3           4124       32.0   среднее             1   \n",
       "4         0          14177       53.0   среднее             1   \n",
       "\n",
       "      family_status  family_status_id gender income_type  debt  total_income  \\\n",
       "0   женат / замужем                 0      F   сотрудник     0        253875   \n",
       "1   женат / замужем                 0      F   сотрудник     0        112080   \n",
       "2   женат / замужем                 0      M   сотрудник     0        145885   \n",
       "3   женат / замужем                 0      M   сотрудник     0        267628   \n",
       "4  гражданский брак                 1      F   пенсионер     0        158616   \n",
       "\n",
       "                      purpose  \n",
       "0               покупка жилья  \n",
       "1     приобретение автомобиля  \n",
       "2               покупка жилья  \n",
       "3  дополнительное образование  \n",
       "4             сыграть свадьбу  "
      ]
     },
     "execution_count": 19,
     "metadata": {},
     "output_type": "execute_result"
    }
   ],
   "source": [
    "data.head(5)"
   ]
  },
  {
   "cell_type": "markdown",
   "metadata": {},
   "source": [
    "Теперь параметры `children`, `days_employed`, `dob_years`, `education_id`, `family_status_id`, `debt` - целочисленные, `total_income` - числа с плавающей точкой, остальные - текстовые значения."
   ]
  },
  {
   "cell_type": "markdown",
   "metadata": {},
   "source": [
    "### Обработка дубликатов"
   ]
  },
  {
   "cell_type": "markdown",
   "metadata": {},
   "source": [
    "Посчитаем количесвто дубликатов в таблице:"
   ]
  },
  {
   "cell_type": "code",
   "execution_count": 20,
   "metadata": {},
   "outputs": [
    {
     "data": {
      "text/plain": [
       "54"
      ]
     },
     "execution_count": 20,
     "metadata": {},
     "output_type": "execute_result"
    }
   ],
   "source": [
    "data.duplicated().sum()"
   ]
  },
  {
   "cell_type": "markdown",
   "metadata": {},
   "source": [
    "Для поиска дубликатов нужно также учесть регистр. С помощью метода `value_counts()` изучим параметры `education` и `family_status`, с разными регистрами."
   ]
  },
  {
   "cell_type": "code",
   "execution_count": 21,
   "metadata": {},
   "outputs": [
    {
     "name": "stdout",
     "output_type": "stream",
     "text": [
      "education\n",
      "среднее                13750\n",
      "высшее                  4718\n",
      "СРЕДНЕЕ                  772\n",
      "Среднее                  711\n",
      "неоконченное высшее      668\n",
      "ВЫСШЕЕ                   274\n",
      "Высшее                   268\n",
      "начальное                250\n",
      "Неоконченное высшее       47\n",
      "НЕОКОНЧЕННОЕ ВЫСШЕЕ       29\n",
      "НАЧАЛЬНОЕ                 17\n",
      "Начальное                 15\n",
      "ученая степень             4\n",
      "Ученая степень             1\n",
      "УЧЕНАЯ СТЕПЕНЬ             1\n",
      "Name: education, dtype: int64 \n",
      "\n",
      "family_status\n",
      "женат / замужем          12380\n",
      "гражданский брак          4177\n",
      "Не женат / не замужем     2813\n",
      "в разводе                 1195\n",
      "вдовец / вдова             960\n",
      "Name: family_status, dtype: int64 \n",
      "\n"
     ]
    }
   ],
   "source": [
    "# цикл для двух столбцов\n",
    "for column in ['education', 'family_status']:\n",
    "    print(column)\n",
    "    print(data[column].value_counts(), '\\n')"
   ]
  },
  {
   "cell_type": "markdown",
   "metadata": {},
   "source": [
    "Приведем значения столбцов `education` и `family_status` к нижнему регистру с помощью `str.lower()`. Хоть в `family_status` нет дубликатов, но пусть значения будут в одном стиле."
   ]
  },
  {
   "cell_type": "code",
   "execution_count": 22,
   "metadata": {},
   "outputs": [],
   "source": [
    "data['education'] = data['education'].str.lower()\n",
    "data['family_status'] = data['family_status'].str.lower()"
   ]
  },
  {
   "cell_type": "markdown",
   "metadata": {},
   "source": [
    "Посмотрим на результат изменения регистра:"
   ]
  },
  {
   "cell_type": "code",
   "execution_count": 23,
   "metadata": {},
   "outputs": [
    {
     "data": {
      "text/plain": [
       "среднее                15233\n",
       "высшее                  5260\n",
       "неоконченное высшее      744\n",
       "начальное                282\n",
       "ученая степень             6\n",
       "Name: education, dtype: int64"
      ]
     },
     "execution_count": 23,
     "metadata": {},
     "output_type": "execute_result"
    }
   ],
   "source": [
    "data['education'].value_counts()"
   ]
  },
  {
   "cell_type": "code",
   "execution_count": 24,
   "metadata": {},
   "outputs": [
    {
     "data": {
      "text/plain": [
       "женат / замужем          12380\n",
       "гражданский брак          4177\n",
       "не женат / не замужем     2813\n",
       "в разводе                 1195\n",
       "вдовец / вдова             960\n",
       "Name: family_status, dtype: int64"
      ]
     },
     "execution_count": 24,
     "metadata": {},
     "output_type": "execute_result"
    }
   ],
   "source": [
    "data['family_status'].value_counts()"
   ]
  },
  {
   "cell_type": "markdown",
   "metadata": {},
   "source": [
    "Теперь еще раз посмотрим на количество дубликатов в таблице:"
   ]
  },
  {
   "cell_type": "code",
   "execution_count": 25,
   "metadata": {},
   "outputs": [
    {
     "data": {
      "text/plain": [
       "71"
      ]
     },
     "execution_count": 25,
     "metadata": {},
     "output_type": "execute_result"
    }
   ],
   "source": [
    "data.duplicated().sum()"
   ]
  },
  {
   "cell_type": "markdown",
   "metadata": {},
   "source": [
    "После изменения регистра их стало на 17 больше.\n",
    "\n",
    "Возможные причины возникновения дубликатов — неправильное соединение данных из разных источников, ошибки при занесении информации, внесение несколько раз одной и той же информации. Из-за человеческого фактора, все это с легкостью может произойти.\n",
    "\n",
    "Удалим строки дубликаты с помощью метода `drop_duplicates()` и обновим индекссацию."
   ]
  },
  {
   "cell_type": "code",
   "execution_count": 26,
   "metadata": {},
   "outputs": [],
   "source": [
    "data = data.drop_duplicates().reset_index(drop = True)"
   ]
  },
  {
   "cell_type": "markdown",
   "metadata": {},
   "source": [
    "Проверим количесвто дубликатов:"
   ]
  },
  {
   "cell_type": "code",
   "execution_count": 27,
   "metadata": {},
   "outputs": [
    {
     "data": {
      "text/plain": [
       "0"
      ]
     },
     "execution_count": 27,
     "metadata": {},
     "output_type": "execute_result"
    }
   ],
   "source": [
    "data.duplicated().sum()"
   ]
  },
  {
   "cell_type": "markdown",
   "metadata": {},
   "source": [
    "**Вывод**\n",
    "\n",
    "Явных дубликатов в таблице было 54 строки.\n",
    "\n",
    "После приведения значения параметра `education` к нижнему регистру, дубликатов стало 71. Повторяющиеся строки были удалены из таблицы."
   ]
  },
  {
   "cell_type": "markdown",
   "metadata": {},
   "source": [
    "### Лемматизация"
   ]
  },
  {
   "cell_type": "markdown",
   "metadata": {},
   "source": [
    "В столбце `purpose` (цель взятия кредита) очень много повторяющихся значений, но в разных формулировках:"
   ]
  },
  {
   "cell_type": "code",
   "execution_count": 28,
   "metadata": {},
   "outputs": [
    {
     "data": {
      "text/plain": [
       "свадьба                                   791\n",
       "на проведение свадьбы                     768\n",
       "сыграть свадьбу                           765\n",
       "операции с недвижимостью                  675\n",
       "покупка коммерческой недвижимости         661\n",
       "операции с жильем                         652\n",
       "покупка жилья для сдачи                   651\n",
       "операции с коммерческой недвижимостью     650\n",
       "покупка жилья                             646\n",
       "жилье                                     646\n",
       "покупка жилья для семьи                   638\n",
       "строительство собственной недвижимости    635\n",
       "недвижимость                              633\n",
       "операции со своей недвижимостью           627\n",
       "строительство жилой недвижимости          624\n",
       "покупка недвижимости                      621\n",
       "покупка своего жилья                      620\n",
       "строительство недвижимости                619\n",
       "ремонт жилью                              607\n",
       "покупка жилой недвижимости                606\n",
       "на покупку своего автомобиля              505\n",
       "заняться высшим образованием              496\n",
       "автомобиль                                494\n",
       "сделка с подержанным автомобилем          486\n",
       "свой автомобиль                           478\n",
       "на покупку подержанного автомобиля        478\n",
       "автомобили                                478\n",
       "на покупку автомобиля                     471\n",
       "приобретение автомобиля                   461\n",
       "дополнительное образование                460\n",
       "сделка с автомобилем                      455\n",
       "высшее образование                        452\n",
       "образование                               447\n",
       "получение дополнительного образования     446\n",
       "получение образования                     442\n",
       "профильное образование                    436\n",
       "получение высшего образования             426\n",
       "заняться образованием                     408\n",
       "Name: purpose, dtype: int64"
      ]
     },
     "execution_count": 28,
     "metadata": {},
     "output_type": "execute_result"
    }
   ],
   "source": [
    "# значения столбца purpose\n",
    "data['purpose'].value_counts()"
   ]
  },
  {
   "cell_type": "markdown",
   "metadata": {},
   "source": [
    "Для отсеивания повторяющихся значений используем лемматизацию, то есть приведение слова к его словарной форме (лемме). Используем библиотеку `pymystem3`. Сохраним леммы уникальных значений столбца `purpose` в переменной `lemmas`."
   ]
  },
  {
   "cell_type": "code",
   "execution_count": 29,
   "metadata": {},
   "outputs": [
    {
     "data": {
      "text/plain": [
       "['покупка',\n",
       " ' ',\n",
       " 'жилье',\n",
       " ' ',\n",
       " 'приобретение',\n",
       " ' ',\n",
       " 'автомобиль',\n",
       " ' ',\n",
       " 'дополнительный',\n",
       " ' ',\n",
       " 'образование',\n",
       " ' ',\n",
       " 'сыграть',\n",
       " ' ',\n",
       " 'свадьба',\n",
       " ' ',\n",
       " 'операция',\n",
       " ' ',\n",
       " 'с',\n",
       " ' ',\n",
       " 'жилье',\n",
       " ' ',\n",
       " 'образование',\n",
       " ' ',\n",
       " 'на',\n",
       " ' ',\n",
       " 'проведение',\n",
       " ' ',\n",
       " 'свадьба',\n",
       " ' ',\n",
       " 'покупка',\n",
       " ' ',\n",
       " 'жилье',\n",
       " ' ',\n",
       " 'для',\n",
       " ' ',\n",
       " 'семья',\n",
       " ' ',\n",
       " 'покупка',\n",
       " ' ',\n",
       " 'недвижимость',\n",
       " ' ',\n",
       " 'покупка',\n",
       " ' ',\n",
       " 'коммерческий',\n",
       " ' ',\n",
       " 'недвижимость',\n",
       " ' ',\n",
       " 'покупка',\n",
       " ' ',\n",
       " 'жилой',\n",
       " ' ',\n",
       " 'недвижимость',\n",
       " ' ',\n",
       " 'строительство',\n",
       " ' ',\n",
       " 'собственный',\n",
       " ' ',\n",
       " 'недвижимость',\n",
       " ' ',\n",
       " 'недвижимость',\n",
       " ' ',\n",
       " 'строительство',\n",
       " ' ',\n",
       " 'недвижимость',\n",
       " ' ',\n",
       " 'на',\n",
       " ' ',\n",
       " 'покупка',\n",
       " ' ',\n",
       " 'подержать',\n",
       " ' ',\n",
       " 'автомобиль',\n",
       " ' ',\n",
       " 'на',\n",
       " ' ',\n",
       " 'покупка',\n",
       " ' ',\n",
       " 'свой',\n",
       " ' ',\n",
       " 'автомобиль',\n",
       " ' ',\n",
       " 'операция',\n",
       " ' ',\n",
       " 'с',\n",
       " ' ',\n",
       " 'коммерческий',\n",
       " ' ',\n",
       " 'недвижимость',\n",
       " ' ',\n",
       " 'строительство',\n",
       " ' ',\n",
       " 'жилой',\n",
       " ' ',\n",
       " 'недвижимость',\n",
       " ' ',\n",
       " 'жилье',\n",
       " ' ',\n",
       " 'операция',\n",
       " ' ',\n",
       " 'со',\n",
       " ' ',\n",
       " 'свой',\n",
       " ' ',\n",
       " 'недвижимость',\n",
       " ' ',\n",
       " 'автомобиль',\n",
       " ' ',\n",
       " 'заниматься',\n",
       " ' ',\n",
       " 'образование',\n",
       " ' ',\n",
       " 'сделка',\n",
       " ' ',\n",
       " 'с',\n",
       " ' ',\n",
       " 'подержать',\n",
       " ' ',\n",
       " 'автомобиль',\n",
       " ' ',\n",
       " 'получение',\n",
       " ' ',\n",
       " 'образование',\n",
       " ' ',\n",
       " 'автомобиль',\n",
       " ' ',\n",
       " 'свадьба',\n",
       " ' ',\n",
       " 'получение',\n",
       " ' ',\n",
       " 'дополнительный',\n",
       " ' ',\n",
       " 'образование',\n",
       " ' ',\n",
       " 'покупка',\n",
       " ' ',\n",
       " 'свой',\n",
       " ' ',\n",
       " 'жилье',\n",
       " ' ',\n",
       " 'операция',\n",
       " ' ',\n",
       " 'с',\n",
       " ' ',\n",
       " 'недвижимость',\n",
       " ' ',\n",
       " 'получение',\n",
       " ' ',\n",
       " 'высокий',\n",
       " ' ',\n",
       " 'образование',\n",
       " ' ',\n",
       " 'свой',\n",
       " ' ',\n",
       " 'автомобиль',\n",
       " ' ',\n",
       " 'сделка',\n",
       " ' ',\n",
       " 'с',\n",
       " ' ',\n",
       " 'автомобиль',\n",
       " ' ',\n",
       " 'профильный',\n",
       " ' ',\n",
       " 'образование',\n",
       " ' ',\n",
       " 'высокий',\n",
       " ' ',\n",
       " 'образование',\n",
       " ' ',\n",
       " 'покупка',\n",
       " ' ',\n",
       " 'жилье',\n",
       " ' ',\n",
       " 'для',\n",
       " ' ',\n",
       " 'сдача',\n",
       " ' ',\n",
       " 'на',\n",
       " ' ',\n",
       " 'покупка',\n",
       " ' ',\n",
       " 'автомобиль',\n",
       " ' ',\n",
       " 'ремонт',\n",
       " ' ',\n",
       " 'жилье',\n",
       " ' ',\n",
       " 'заниматься',\n",
       " ' ',\n",
       " 'высокий',\n",
       " ' ',\n",
       " 'образование',\n",
       " '\\n']"
      ]
     },
     "execution_count": 29,
     "metadata": {},
     "output_type": "execute_result"
    }
   ],
   "source": [
    "m = Mystem() \n",
    "#соединяем все уникльные значения в один список с помощью join()\n",
    "lemmas = m.lemmatize(' '.join(data['purpose'].unique()))\n",
    "lemmas"
   ]
  },
  {
   "cell_type": "markdown",
   "metadata": {},
   "source": [
    "Посчитаем число упоминаний слов. Для этого вызовем специальный контейнер `Counter` из модуля `collections`."
   ]
  },
  {
   "cell_type": "code",
   "execution_count": 30,
   "metadata": {},
   "outputs": [
    {
     "data": {
      "text/plain": [
       "Counter({'покупка': 10,\n",
       "         ' ': 96,\n",
       "         'жилье': 7,\n",
       "         'приобретение': 1,\n",
       "         'автомобиль': 9,\n",
       "         'дополнительный': 2,\n",
       "         'образование': 9,\n",
       "         'сыграть': 1,\n",
       "         'свадьба': 3,\n",
       "         'операция': 4,\n",
       "         'с': 5,\n",
       "         'на': 4,\n",
       "         'проведение': 1,\n",
       "         'для': 2,\n",
       "         'семья': 1,\n",
       "         'недвижимость': 10,\n",
       "         'коммерческий': 2,\n",
       "         'жилой': 2,\n",
       "         'строительство': 3,\n",
       "         'собственный': 1,\n",
       "         'подержать': 2,\n",
       "         'свой': 4,\n",
       "         'со': 1,\n",
       "         'заниматься': 2,\n",
       "         'сделка': 2,\n",
       "         'получение': 3,\n",
       "         'высокий': 3,\n",
       "         'профильный': 1,\n",
       "         'сдача': 1,\n",
       "         'ремонт': 1,\n",
       "         '\\n': 1})"
      ]
     },
     "execution_count": 30,
     "metadata": {},
     "output_type": "execute_result"
    }
   ],
   "source": [
    "Counter(lemmas)"
   ]
  },
  {
   "cell_type": "markdown",
   "metadata": {},
   "source": [
    "Выделим категории:"
   ]
  },
  {
   "cell_type": "code",
   "execution_count": 31,
   "metadata": {},
   "outputs": [],
   "source": [
    "categories = ['жилье', 'недвижимость', 'свадьба', 'образование', 'автомобиль']"
   ]
  },
  {
   "cell_type": "markdown",
   "metadata": {},
   "source": [
    "Выделим категории: `жилье, недвижимость, свадьба, образование, автомобиль`.\n",
    "\n",
    "Напишем функцию, которая будет лематизировать последовательно каждую ячейку столбца `purpose` и проверять, какая из выделенных нами категорий обнаруживается. \n",
    "\n",
    "Создадим новый столбец `purpose_category` для категорий с применением функции через метод apply()."
   ]
  },
  {
   "cell_type": "code",
   "execution_count": 32,
   "metadata": {},
   "outputs": [
    {
     "data": {
      "text/plain": [
       "недвижимость    6351\n",
       "жилье           4460\n",
       "автомобиль      4306\n",
       "образование     4013\n",
       "свадьба         2324\n",
       "Name: purpose_category, dtype: int64"
      ]
     },
     "execution_count": 32,
     "metadata": {},
     "output_type": "execute_result"
    }
   ],
   "source": [
    "categories = ['жилье', 'недвижимость', 'свадьба', 'образование', 'автомобиль']\n",
    "\n",
    "\n",
    "def lemmas_category(row):\n",
    "    lemma = m.lemmatize(row)\n",
    "    for category in categories:\n",
    "        if category in lemma:\n",
    "            return category\n",
    "    return 'категория не определена'\n",
    "\n",
    "\n",
    "data['purpose_category'] = data['purpose'].apply(lemmas_category)\n",
    "data['purpose_category'].value_counts()"
   ]
  },
  {
   "cell_type": "markdown",
   "metadata": {},
   "source": [
    "**Вывод**"
   ]
  },
  {
   "cell_type": "markdown",
   "metadata": {},
   "source": [
    "С помощью лемматизации были выделены 5 целей получения кредита:\n",
    "* недвижимость\n",
    "* жилье\n",
    "* автомобиль\n",
    "* образование\n",
    "* свадьба \n",
    "\n",
    "Они были занесены в отдельный столбец таблицы `purpose_category`."
   ]
  },
  {
   "cell_type": "markdown",
   "metadata": {},
   "source": [
    "### Категоризация данных"
   ]
  },
  {
   "cell_type": "markdown",
   "metadata": {},
   "source": [
    "Для первой задачи необходимо разделить получателей кредита на категории на наличию детей. Обозначим категории:\n",
    "* Больше 3 - многодетные\n",
    "* От 1 до 3 - есть дети\n",
    "* Ноль - нет детей\n",
    "\n",
    "Создадим функцию `children` для разделения на категории. Также создадим отдельную таблицу `category_children`, куда сохраним данные о детях, полученные из фунции с помощью метода `apply()`, и столбец о задолжностях по выплате кредита `debt`."
   ]
  },
  {
   "cell_type": "code",
   "execution_count": 33,
   "metadata": {},
   "outputs": [
    {
     "data": {
      "text/html": [
       "<div>\n",
       "<style scoped>\n",
       "    .dataframe tbody tr th:only-of-type {\n",
       "        vertical-align: middle;\n",
       "    }\n",
       "\n",
       "    .dataframe tbody tr th {\n",
       "        vertical-align: top;\n",
       "    }\n",
       "\n",
       "    .dataframe thead th {\n",
       "        text-align: right;\n",
       "    }\n",
       "</style>\n",
       "<table border=\"1\" class=\"dataframe\">\n",
       "  <thead>\n",
       "    <tr style=\"text-align: right;\">\n",
       "      <th></th>\n",
       "      <th>debt</th>\n",
       "      <th>children</th>\n",
       "    </tr>\n",
       "  </thead>\n",
       "  <tbody>\n",
       "    <tr>\n",
       "      <th>0</th>\n",
       "      <td>0</td>\n",
       "      <td>есть дети</td>\n",
       "    </tr>\n",
       "    <tr>\n",
       "      <th>1</th>\n",
       "      <td>0</td>\n",
       "      <td>есть дети</td>\n",
       "    </tr>\n",
       "    <tr>\n",
       "      <th>2</th>\n",
       "      <td>0</td>\n",
       "      <td>нет детей</td>\n",
       "    </tr>\n",
       "    <tr>\n",
       "      <th>3</th>\n",
       "      <td>0</td>\n",
       "      <td>многодетные</td>\n",
       "    </tr>\n",
       "    <tr>\n",
       "      <th>4</th>\n",
       "      <td>0</td>\n",
       "      <td>нет детей</td>\n",
       "    </tr>\n",
       "  </tbody>\n",
       "</table>\n",
       "</div>"
      ],
      "text/plain": [
       "   debt     children\n",
       "0     0    есть дети\n",
       "1     0    есть дети\n",
       "2     0    нет детей\n",
       "3     0  многодетные\n",
       "4     0    нет детей"
      ]
     },
     "execution_count": 33,
     "metadata": {},
     "output_type": "execute_result"
    }
   ],
   "source": [
    "#новая таблица\n",
    "category_children = pd.DataFrame()\n",
    "category_children['debt'] = data['debt']\n",
    "#функция категоризации по наличию детей\n",
    "def children(child):\n",
    "    if child >= 3:\n",
    "        return 'многодетные'\n",
    "    elif child > 0:\n",
    "        return 'есть дети'\n",
    "    elif child == 0:\n",
    "        return 'нет детей'\n",
    "\n",
    "category_children['children'] = data['children'].apply(children)\n",
    "#выведем перве 5 строк полученной таблицы\n",
    "category_children.head(5)"
   ]
  },
  {
   "cell_type": "markdown",
   "metadata": {},
   "source": [
    "Для второй задачи необходимо разделить получателей кредита на категории по семейному положению. Эти категории содежатся в переменной `family_status`.\n",
    "\n",
    "Создадим отдельную таблицу `categoty_family_status`, куда сохраним семейное положение и были ли задолжности по выплате кредита `debt`."
   ]
  },
  {
   "cell_type": "code",
   "execution_count": 34,
   "metadata": {},
   "outputs": [
    {
     "data": {
      "text/html": [
       "<div>\n",
       "<style scoped>\n",
       "    .dataframe tbody tr th:only-of-type {\n",
       "        vertical-align: middle;\n",
       "    }\n",
       "\n",
       "    .dataframe tbody tr th {\n",
       "        vertical-align: top;\n",
       "    }\n",
       "\n",
       "    .dataframe thead th {\n",
       "        text-align: right;\n",
       "    }\n",
       "</style>\n",
       "<table border=\"1\" class=\"dataframe\">\n",
       "  <thead>\n",
       "    <tr style=\"text-align: right;\">\n",
       "      <th></th>\n",
       "      <th>debt</th>\n",
       "      <th>family_status</th>\n",
       "    </tr>\n",
       "  </thead>\n",
       "  <tbody>\n",
       "    <tr>\n",
       "      <th>0</th>\n",
       "      <td>0</td>\n",
       "      <td>женат / замужем</td>\n",
       "    </tr>\n",
       "    <tr>\n",
       "      <th>1</th>\n",
       "      <td>0</td>\n",
       "      <td>женат / замужем</td>\n",
       "    </tr>\n",
       "    <tr>\n",
       "      <th>2</th>\n",
       "      <td>0</td>\n",
       "      <td>женат / замужем</td>\n",
       "    </tr>\n",
       "    <tr>\n",
       "      <th>3</th>\n",
       "      <td>0</td>\n",
       "      <td>женат / замужем</td>\n",
       "    </tr>\n",
       "    <tr>\n",
       "      <th>4</th>\n",
       "      <td>0</td>\n",
       "      <td>гражданский брак</td>\n",
       "    </tr>\n",
       "  </tbody>\n",
       "</table>\n",
       "</div>"
      ],
      "text/plain": [
       "   debt     family_status\n",
       "0     0   женат / замужем\n",
       "1     0   женат / замужем\n",
       "2     0   женат / замужем\n",
       "3     0   женат / замужем\n",
       "4     0  гражданский брак"
      ]
     },
     "execution_count": 34,
     "metadata": {},
     "output_type": "execute_result"
    }
   ],
   "source": [
    "categoty_family_status = pd.DataFrame()\n",
    "categoty_family_status['debt'] = data['debt']\n",
    "categoty_family_status['family_status'] = data['family_status']\n",
    "#выведем перве 5 строк полученной таблицы\n",
    "categoty_family_status.head(5)"
   ]
  },
  {
   "cell_type": "markdown",
   "metadata": {},
   "source": [
    "Для третьей задачи необходимо разделить получателей кредита на категории по уровню дохода. Для категоризации искользуем метод `qcut` - это функция дискретизации на основе квантилей. Выделим категории по проценилям:\n",
    "\n",
    "- 0-30% низкий уровень дохода\n",
    "- 30%-60% средний уровень дохода\n",
    "- 60-90% высокий уровень дохода\n",
    "- 90-100% очень высокий уровень дохода"
   ]
  },
  {
   "cell_type": "code",
   "execution_count": 35,
   "metadata": {
    "scrolled": true
   },
   "outputs": [
    {
     "data": {
      "text/html": [
       "<div>\n",
       "<style scoped>\n",
       "    .dataframe tbody tr th:only-of-type {\n",
       "        vertical-align: middle;\n",
       "    }\n",
       "\n",
       "    .dataframe tbody tr th {\n",
       "        vertical-align: top;\n",
       "    }\n",
       "\n",
       "    .dataframe thead th {\n",
       "        text-align: right;\n",
       "    }\n",
       "</style>\n",
       "<table border=\"1\" class=\"dataframe\">\n",
       "  <thead>\n",
       "    <tr style=\"text-align: right;\">\n",
       "      <th></th>\n",
       "      <th>debt</th>\n",
       "      <th>total_income</th>\n",
       "    </tr>\n",
       "  </thead>\n",
       "  <tbody>\n",
       "    <tr>\n",
       "      <th>0</th>\n",
       "      <td>0</td>\n",
       "      <td>очень высокий уровень дохода</td>\n",
       "    </tr>\n",
       "    <tr>\n",
       "      <th>1</th>\n",
       "      <td>0</td>\n",
       "      <td>средний уровень дохода</td>\n",
       "    </tr>\n",
       "    <tr>\n",
       "      <th>2</th>\n",
       "      <td>0</td>\n",
       "      <td>высокий уровень дохода</td>\n",
       "    </tr>\n",
       "    <tr>\n",
       "      <th>3</th>\n",
       "      <td>0</td>\n",
       "      <td>очень высокий уровень дохода</td>\n",
       "    </tr>\n",
       "    <tr>\n",
       "      <th>4</th>\n",
       "      <td>0</td>\n",
       "      <td>высокий уровень дохода</td>\n",
       "    </tr>\n",
       "  </tbody>\n",
       "</table>\n",
       "</div>"
      ],
      "text/plain": [
       "   debt                  total_income\n",
       "0     0  очень высокий уровень дохода\n",
       "1     0        средний уровень дохода\n",
       "2     0        высокий уровень дохода\n",
       "3     0  очень высокий уровень дохода\n",
       "4     0        высокий уровень дохода"
      ]
     },
     "execution_count": 35,
     "metadata": {},
     "output_type": "execute_result"
    }
   ],
   "source": [
    "#новая таблица\n",
    "categoty_total_income = pd.DataFrame()\n",
    "categoty_total_income['debt'] = data['debt']\n",
    "#функция категоризации по наличию детей\n",
    "def total_income(total):\n",
    "    if total < 40000:\n",
    "        return 'низкий уровень дохода'\n",
    "    elif total < 120000:\n",
    "        return 'средний уровень дохода'\n",
    "    elif total < 200000:\n",
    "        return 'высокий уровень дохода'\n",
    "    else:\n",
    "        return 'очень высокий уровень дохода'\n",
    "\n",
    "categoty_total_income['total_income'] = data['total_income'].apply(total_income)\n",
    "#выведем перве 5 строк полученной таблицы\n",
    "categoty_total_income.head(5)"
   ]
  },
  {
   "cell_type": "code",
   "execution_count": 36,
   "metadata": {
    "scrolled": true
   },
   "outputs": [
    {
     "data": {
      "text/html": [
       "<div>\n",
       "<style scoped>\n",
       "    .dataframe tbody tr th:only-of-type {\n",
       "        vertical-align: middle;\n",
       "    }\n",
       "\n",
       "    .dataframe tbody tr th {\n",
       "        vertical-align: top;\n",
       "    }\n",
       "\n",
       "    .dataframe thead th {\n",
       "        text-align: right;\n",
       "    }\n",
       "</style>\n",
       "<table border=\"1\" class=\"dataframe\">\n",
       "  <thead>\n",
       "    <tr style=\"text-align: right;\">\n",
       "      <th></th>\n",
       "      <th>debt</th>\n",
       "      <th>total_income</th>\n",
       "    </tr>\n",
       "  </thead>\n",
       "  <tbody>\n",
       "    <tr>\n",
       "      <th>0</th>\n",
       "      <td>0</td>\n",
       "      <td>высокий уровень дохода</td>\n",
       "    </tr>\n",
       "    <tr>\n",
       "      <th>1</th>\n",
       "      <td>0</td>\n",
       "      <td>низкий уровень дохода</td>\n",
       "    </tr>\n",
       "    <tr>\n",
       "      <th>2</th>\n",
       "      <td>0</td>\n",
       "      <td>средний уровень дохода</td>\n",
       "    </tr>\n",
       "    <tr>\n",
       "      <th>3</th>\n",
       "      <td>0</td>\n",
       "      <td>высокий уровень дохода</td>\n",
       "    </tr>\n",
       "    <tr>\n",
       "      <th>4</th>\n",
       "      <td>0</td>\n",
       "      <td>средний уровень дохода</td>\n",
       "    </tr>\n",
       "  </tbody>\n",
       "</table>\n",
       "</div>"
      ],
      "text/plain": [
       "   debt            total_income\n",
       "0     0  высокий уровень дохода\n",
       "1     0   низкий уровень дохода\n",
       "2     0  средний уровень дохода\n",
       "3     0  высокий уровень дохода\n",
       "4     0  средний уровень дохода"
      ]
     },
     "execution_count": 36,
     "metadata": {},
     "output_type": "execute_result"
    }
   ],
   "source": [
    "#новая таблица\n",
    "categoty_total_income = pd.DataFrame()\n",
    "categoty_total_income['debt'] = data['debt']\n",
    "# названия групп\n",
    "labels = ['низкий уровень дохода', 'средний уровень дохода', 'высокий уровень дохода', 'очень высокий уровень дохода']\n",
    "# категоризация\n",
    "categoty_total_income['total_income'] = pd.qcut(data['total_income'], q=[0, .3, .6, .9, 1], labels=labels)\n",
    "#выведем перве 5 строк полученной таблицы\n",
    "categoty_total_income.head(5)"
   ]
  },
  {
   "cell_type": "markdown",
   "metadata": {},
   "source": [
    "Выведем конкретные значения квартилей с помощью метода quantile:"
   ]
  },
  {
   "cell_type": "code",
   "execution_count": 37,
   "metadata": {},
   "outputs": [
    {
     "data": {
      "text/plain": [
       "0.0      20667.0\n",
       "0.3     116008.6\n",
       "0.6     162638.8\n",
       "0.9     269825.5\n",
       "1.0    2265604.0\n",
       "Name: total_income, dtype: float64"
      ]
     },
     "execution_count": 37,
     "metadata": {},
     "output_type": "execute_result"
    }
   ],
   "source": [
    "data['total_income'].quantile([0, .3, .6, .9, 1])"
   ]
  },
  {
   "cell_type": "markdown",
   "metadata": {},
   "source": [
    "Для четвертой задачи необходимо разделить клиентов на категории по цели получения кредита. Катеории у нас уже есть в столбце `purpose_category`:\n",
    "* недвижимость\n",
    "* жилье\n",
    "* автомобиль\n",
    "* образование\n",
    "* свадьба \n",
    "\n",
    "Создадим отдельную таблицу `categoty_purpose`, куда сохраним данные о целях получения кредита и о задолжностях по выплате `debt`."
   ]
  },
  {
   "cell_type": "code",
   "execution_count": 38,
   "metadata": {},
   "outputs": [
    {
     "data": {
      "text/html": [
       "<div>\n",
       "<style scoped>\n",
       "    .dataframe tbody tr th:only-of-type {\n",
       "        vertical-align: middle;\n",
       "    }\n",
       "\n",
       "    .dataframe tbody tr th {\n",
       "        vertical-align: top;\n",
       "    }\n",
       "\n",
       "    .dataframe thead th {\n",
       "        text-align: right;\n",
       "    }\n",
       "</style>\n",
       "<table border=\"1\" class=\"dataframe\">\n",
       "  <thead>\n",
       "    <tr style=\"text-align: right;\">\n",
       "      <th></th>\n",
       "      <th>debt</th>\n",
       "      <th>purpose</th>\n",
       "    </tr>\n",
       "  </thead>\n",
       "  <tbody>\n",
       "    <tr>\n",
       "      <th>0</th>\n",
       "      <td>0</td>\n",
       "      <td>жилье</td>\n",
       "    </tr>\n",
       "    <tr>\n",
       "      <th>1</th>\n",
       "      <td>0</td>\n",
       "      <td>автомобиль</td>\n",
       "    </tr>\n",
       "    <tr>\n",
       "      <th>2</th>\n",
       "      <td>0</td>\n",
       "      <td>жилье</td>\n",
       "    </tr>\n",
       "    <tr>\n",
       "      <th>3</th>\n",
       "      <td>0</td>\n",
       "      <td>образование</td>\n",
       "    </tr>\n",
       "    <tr>\n",
       "      <th>4</th>\n",
       "      <td>0</td>\n",
       "      <td>свадьба</td>\n",
       "    </tr>\n",
       "  </tbody>\n",
       "</table>\n",
       "</div>"
      ],
      "text/plain": [
       "   debt      purpose\n",
       "0     0        жилье\n",
       "1     0   автомобиль\n",
       "2     0        жилье\n",
       "3     0  образование\n",
       "4     0      свадьба"
      ]
     },
     "execution_count": 38,
     "metadata": {},
     "output_type": "execute_result"
    }
   ],
   "source": [
    "categoty_purpose = pd.DataFrame()\n",
    "categoty_purpose['debt'] = data['debt']\n",
    "categoty_purpose['purpose'] = data['purpose_category']\n",
    "#выведем перве 5 строк полученной таблицы\n",
    "categoty_purpose.head(5)"
   ]
  },
  {
   "cell_type": "markdown",
   "metadata": {},
   "source": [
    "**Вывод**"
   ]
  },
  {
   "cell_type": "markdown",
   "metadata": {},
   "source": [
    "Мы категоризовали данные и создали три таблицы для трех исследований:\n",
    "* `category_children` - наличие детей,\n",
    "* `categoty_family_status` - семейное положение,\n",
    "* `categoty_total_income` - уровень дохода,\n",
    "* `categoty_purpose` - цели кредита.\n",
    "\n",
    "Теперь все готово для анализа зависимостей."
   ]
  },
  {
   "cell_type": "markdown",
   "metadata": {},
   "source": [
    "## Шаг 3. Ответы на вопросы исследования\n",
    "\n",
    "### Есть ли зависимость между количеством детей и возвратом кредита в срок?"
   ]
  },
  {
   "cell_type": "markdown",
   "metadata": {},
   "source": [
    "Сгруппируем таблицу `category_children` по значению `children`. С помощью метода `agg()` применим операции `count` - количество заемщиков  и `mean` - количество невозвратов к столбцу.\n",
    "\n",
    "Для этих действий напишем фунцию `get_result()`, в качестве праметров предаем датафрейим и столбец, по которому осуществляем группировку.\n",
    "\n",
    "Переименуем столбцы, отсортируем по убыванию процента невозврата кредита."
   ]
  },
  {
   "cell_type": "code",
   "execution_count": 39,
   "metadata": {},
   "outputs": [
    {
     "data": {
      "text/html": [
       "<style  type=\"text/css\" >\n",
       "</style><table id=\"T_9ff94_\" ><thead>    <tr>        <th class=\"blank level0\" ></th>        <th class=\"col_heading level0 col0\" >количество заемщиков</th>        <th class=\"col_heading level0 col1\" >количество невозврата в %</th>    </tr>    <tr>        <th class=\"index_name level0\" >children</th>        <th class=\"blank\" ></th>        <th class=\"blank\" ></th>    </tr></thead><tbody>\n",
       "                <tr>\n",
       "                        <th id=\"T_9ff94_level0_row0\" class=\"row_heading level0 row0\" >есть дети</th>\n",
       "                        <td id=\"T_9ff94_row0_col0\" class=\"data row0 col0\" >6936</td>\n",
       "                        <td id=\"T_9ff94_row0_col1\" class=\"data row0 col1\" >9.31%</td>\n",
       "            </tr>\n",
       "            <tr>\n",
       "                        <th id=\"T_9ff94_level0_row1\" class=\"row_heading level0 row1\" >многодетные</th>\n",
       "                        <td id=\"T_9ff94_row1_col0\" class=\"data row1 col0\" >380</td>\n",
       "                        <td id=\"T_9ff94_row1_col1\" class=\"data row1 col1\" >8.16%</td>\n",
       "            </tr>\n",
       "            <tr>\n",
       "                        <th id=\"T_9ff94_level0_row2\" class=\"row_heading level0 row2\" >нет детей</th>\n",
       "                        <td id=\"T_9ff94_row2_col0\" class=\"data row2 col0\" >14138</td>\n",
       "                        <td id=\"T_9ff94_row2_col1\" class=\"data row2 col1\" >7.53%</td>\n",
       "            </tr>\n",
       "    </tbody></table>"
      ],
      "text/plain": [
       "<pandas.io.formats.style.Styler at 0x7f94bbfc6d00>"
      ]
     },
     "metadata": {},
     "output_type": "display_data"
    }
   ],
   "source": [
    "def get_result(data = category_children, column = 'children'):\n",
    "    # грппировка по столбцу, применение операций count, mean\n",
    "    data = data.groupby(column).agg({'debt':['count','mean']})\n",
    "    data.columns = ['количество заемщиков', 'количество невозврата в %']\n",
    "    #сортировка по убыванию\n",
    "    data = data.sort_values(by = 'количество невозврата в %', ascending = False)\n",
    "    #формат в %\n",
    "    display(data.style.format({'количество невозврата в %': \"{:.2%}\"}))\n",
    "\n",
    "get_result(category_children, 'children')"
   ]
  },
  {
   "cell_type": "markdown",
   "metadata": {},
   "source": [
    "**Вывод**\n",
    "\n",
    "Зависимость между наличием детей и возвратом кредита в срок есть. Самый высокий процент невозврата наблюдаеся у заемщиков с детьми, самый низкий 7.53% - без детей.\n",
    "\n",
    "Причем заемщики у которых от 3 детей возваращают лучше, чем у которых 1-2 ребенка."
   ]
  },
  {
   "cell_type": "markdown",
   "metadata": {},
   "source": [
    "### Есть ли зависимость между семейным положением и возвратом кредита в срок?\n",
    "\n",
    "Получим результаты из датафрейма `categoty_family_status`, сгруппировав значения по столбцу семейный статус `family_status`."
   ]
  },
  {
   "cell_type": "code",
   "execution_count": 40,
   "metadata": {},
   "outputs": [
    {
     "data": {
      "text/html": [
       "<style  type=\"text/css\" >\n",
       "</style><table id=\"T_e14f0_\" ><thead>    <tr>        <th class=\"blank level0\" ></th>        <th class=\"col_heading level0 col0\" >количество заемщиков</th>        <th class=\"col_heading level0 col1\" >количество невозврата в %</th>    </tr>    <tr>        <th class=\"index_name level0\" >family_status</th>        <th class=\"blank\" ></th>        <th class=\"blank\" ></th>    </tr></thead><tbody>\n",
       "                <tr>\n",
       "                        <th id=\"T_e14f0_level0_row0\" class=\"row_heading level0 row0\" >не женат / не замужем</th>\n",
       "                        <td id=\"T_e14f0_row0_col0\" class=\"data row0 col0\" >2810</td>\n",
       "                        <td id=\"T_e14f0_row0_col1\" class=\"data row0 col1\" >9.75%</td>\n",
       "            </tr>\n",
       "            <tr>\n",
       "                        <th id=\"T_e14f0_level0_row1\" class=\"row_heading level0 row1\" >гражданский брак</th>\n",
       "                        <td id=\"T_e14f0_row1_col0\" class=\"data row1 col0\" >4151</td>\n",
       "                        <td id=\"T_e14f0_row1_col1\" class=\"data row1 col1\" >9.35%</td>\n",
       "            </tr>\n",
       "            <tr>\n",
       "                        <th id=\"T_e14f0_level0_row2\" class=\"row_heading level0 row2\" >женат / замужем</th>\n",
       "                        <td id=\"T_e14f0_row2_col0\" class=\"data row2 col0\" >12339</td>\n",
       "                        <td id=\"T_e14f0_row2_col1\" class=\"data row2 col1\" >7.55%</td>\n",
       "            </tr>\n",
       "            <tr>\n",
       "                        <th id=\"T_e14f0_level0_row3\" class=\"row_heading level0 row3\" >в разводе</th>\n",
       "                        <td id=\"T_e14f0_row3_col0\" class=\"data row3 col0\" >1195</td>\n",
       "                        <td id=\"T_e14f0_row3_col1\" class=\"data row3 col1\" >7.11%</td>\n",
       "            </tr>\n",
       "            <tr>\n",
       "                        <th id=\"T_e14f0_level0_row4\" class=\"row_heading level0 row4\" >вдовец / вдова</th>\n",
       "                        <td id=\"T_e14f0_row4_col0\" class=\"data row4 col0\" >959</td>\n",
       "                        <td id=\"T_e14f0_row4_col1\" class=\"data row4 col1\" >6.57%</td>\n",
       "            </tr>\n",
       "    </tbody></table>"
      ],
      "text/plain": [
       "<pandas.io.formats.style.Styler at 0x7f945d331460>"
      ]
     },
     "metadata": {},
     "output_type": "display_data"
    }
   ],
   "source": [
    "get_result(categoty_family_status, 'family_status')"
   ]
  },
  {
   "cell_type": "markdown",
   "metadata": {},
   "source": [
    "**Вывод**\n",
    "\n",
    "Наблюдается зависимость между семейным положением и возвратом кредита в срок. \n",
    "\n",
    "Самый высокий процент невозврата кредита у категории не в браке или в граждансом браке (больше 9%). Чуть больше 7% невозвратов у категорий в браке и в разводе. И самые эффективные плательщики - категория вдовец / вдова (6.57%)."
   ]
  },
  {
   "cell_type": "markdown",
   "metadata": {},
   "source": [
    "### Есть ли зависимость между уровнем дохода и возвратом кредита в срок?"
   ]
  },
  {
   "cell_type": "markdown",
   "metadata": {},
   "source": [
    "С помощью фнаписанной функции `get_result` получим результаты из датафрейма `categoty_total_income`, сгруппировав значения по столбцу дохода `total_income`."
   ]
  },
  {
   "cell_type": "code",
   "execution_count": 41,
   "metadata": {},
   "outputs": [
    {
     "data": {
      "text/html": [
       "<style  type=\"text/css\" >\n",
       "</style><table id=\"T_16558_\" ><thead>    <tr>        <th class=\"blank level0\" ></th>        <th class=\"col_heading level0 col0\" >количество заемщиков</th>        <th class=\"col_heading level0 col1\" >количество невозврата в %</th>    </tr>    <tr>        <th class=\"index_name level0\" >total_income</th>        <th class=\"blank\" ></th>        <th class=\"blank\" ></th>    </tr></thead><tbody>\n",
       "                <tr>\n",
       "                        <th id=\"T_16558_level0_row0\" class=\"row_heading level0 row0\" >средний уровень дохода</th>\n",
       "                        <td id=\"T_16558_row0_col0\" class=\"data row0 col0\" >6436</td>\n",
       "                        <td id=\"T_16558_row0_col1\" class=\"data row0 col1\" >8.70%</td>\n",
       "            </tr>\n",
       "            <tr>\n",
       "                        <th id=\"T_16558_level0_row1\" class=\"row_heading level0 row1\" >низкий уровень дохода</th>\n",
       "                        <td id=\"T_16558_row1_col0\" class=\"data row1 col0\" >6436</td>\n",
       "                        <td id=\"T_16558_row1_col1\" class=\"data row1 col1\" >8.13%</td>\n",
       "            </tr>\n",
       "            <tr>\n",
       "                        <th id=\"T_16558_level0_row2\" class=\"row_heading level0 row2\" >высокий уровень дохода</th>\n",
       "                        <td id=\"T_16558_row2_col0\" class=\"data row2 col0\" >6436</td>\n",
       "                        <td id=\"T_16558_row2_col1\" class=\"data row2 col1\" >7.88%</td>\n",
       "            </tr>\n",
       "            <tr>\n",
       "                        <th id=\"T_16558_level0_row3\" class=\"row_heading level0 row3\" >очень высокий уровень дохода</th>\n",
       "                        <td id=\"T_16558_row3_col0\" class=\"data row3 col0\" >2146</td>\n",
       "                        <td id=\"T_16558_row3_col1\" class=\"data row3 col1\" >7.04%</td>\n",
       "            </tr>\n",
       "    </tbody></table>"
      ],
      "text/plain": [
       "<pandas.io.formats.style.Styler at 0x7f94bbfc6af0>"
      ]
     },
     "metadata": {},
     "output_type": "display_data"
    }
   ],
   "source": [
    "get_result(categoty_total_income, 'total_income')"
   ]
  },
  {
   "cell_type": "markdown",
   "metadata": {},
   "source": [
    "**Вывод**"
   ]
  },
  {
   "cell_type": "markdown",
   "metadata": {},
   "source": [
    "Зависимость между уровнем дохода и возвратом кредита в срок также наблюдается.\n",
    "\n",
    "Самый большой процент невозврата у людей со средним (116 - 163 тысячи) и низким (20 - 116 тысяч) уровнем дохода - больше 8%. Лучше возвращают кредит клиенты с высоким уровнем дохода, от 163 до 270 тысяч в месяц. И самый меньший процент невозврата 7,04% у заемщиков с очень высоким уровенем дохода (больше 270 тысяч). "
   ]
  },
  {
   "cell_type": "markdown",
   "metadata": {},
   "source": [
    "### Как разные цели кредита влияют на его возврат в срок?"
   ]
  },
  {
   "cell_type": "markdown",
   "metadata": {},
   "source": [
    "Получим результаты из датафрейма `categoty_purpose`, сгруппировав значения по цели взятия кредита `purpose`, с помощью написанной фунции."
   ]
  },
  {
   "cell_type": "code",
   "execution_count": 42,
   "metadata": {},
   "outputs": [
    {
     "data": {
      "text/html": [
       "<style  type=\"text/css\" >\n",
       "</style><table id=\"T_7dcf3_\" ><thead>    <tr>        <th class=\"blank level0\" ></th>        <th class=\"col_heading level0 col0\" >количество заемщиков</th>        <th class=\"col_heading level0 col1\" >количество невозврата в %</th>    </tr>    <tr>        <th class=\"index_name level0\" >purpose</th>        <th class=\"blank\" ></th>        <th class=\"blank\" ></th>    </tr></thead><tbody>\n",
       "                <tr>\n",
       "                        <th id=\"T_7dcf3_level0_row0\" class=\"row_heading level0 row0\" >автомобиль</th>\n",
       "                        <td id=\"T_7dcf3_row0_col0\" class=\"data row0 col0\" >4306</td>\n",
       "                        <td id=\"T_7dcf3_row0_col1\" class=\"data row0 col1\" >9.36%</td>\n",
       "            </tr>\n",
       "            <tr>\n",
       "                        <th id=\"T_7dcf3_level0_row1\" class=\"row_heading level0 row1\" >образование</th>\n",
       "                        <td id=\"T_7dcf3_row1_col0\" class=\"data row1 col0\" >4013</td>\n",
       "                        <td id=\"T_7dcf3_row1_col1\" class=\"data row1 col1\" >9.22%</td>\n",
       "            </tr>\n",
       "            <tr>\n",
       "                        <th id=\"T_7dcf3_level0_row2\" class=\"row_heading level0 row2\" >свадьба</th>\n",
       "                        <td id=\"T_7dcf3_row2_col0\" class=\"data row2 col0\" >2324</td>\n",
       "                        <td id=\"T_7dcf3_row2_col1\" class=\"data row2 col1\" >8.00%</td>\n",
       "            </tr>\n",
       "            <tr>\n",
       "                        <th id=\"T_7dcf3_level0_row3\" class=\"row_heading level0 row3\" >недвижимость</th>\n",
       "                        <td id=\"T_7dcf3_row3_col0\" class=\"data row3 col0\" >6351</td>\n",
       "                        <td id=\"T_7dcf3_row3_col1\" class=\"data row3 col1\" >7.46%</td>\n",
       "            </tr>\n",
       "            <tr>\n",
       "                        <th id=\"T_7dcf3_level0_row4\" class=\"row_heading level0 row4\" >жилье</th>\n",
       "                        <td id=\"T_7dcf3_row4_col0\" class=\"data row4 col0\" >4460</td>\n",
       "                        <td id=\"T_7dcf3_row4_col1\" class=\"data row4 col1\" >6.91%</td>\n",
       "            </tr>\n",
       "    </tbody></table>"
      ],
      "text/plain": [
       "<pandas.io.formats.style.Styler at 0x7f94bbe62370>"
      ]
     },
     "metadata": {},
     "output_type": "display_data"
    }
   ],
   "source": [
    "get_result(categoty_purpose, 'purpose')"
   ]
  },
  {
   "cell_type": "markdown",
   "metadata": {},
   "source": [
    "**Вывод**"
   ]
  },
  {
   "cell_type": "markdown",
   "metadata": {},
   "source": [
    "Есть зависимость между целью и возвратом кредита в срок.\n",
    "\n",
    "Самый высокий процен невозврата у заемщиков, которые брали кредит на автомобиль или образование (больше 9%). Наименьшие риски у целей кредита на жилье и недвижимость, около 7%."
   ]
  },
  {
   "cell_type": "markdown",
   "metadata": {},
   "source": [
    "## Шаг 4. Общий вывод"
   ]
  },
  {
   "cell_type": "markdown",
   "metadata": {},
   "source": [
    "При открытии таблицы мы изучили информацию о данных. Типы данных в 12 столбцах — `int, float, object`, количество строк - 21525.\n",
    "\n",
    "Значения столбцов:\n",
    "* `children` — количество детей в семье;\n",
    "* `days_employed` — общий трудовой стаж в днях\n",
    "* `dob_years` — возраст клиента в годах\n",
    "* `education` — уровень образования клиента\n",
    "* `education_id` — идентификатор уровня образования\n",
    "* `family_status` — семейное положение\n",
    "* `family_status_id` — идентификатор семейного положения\n",
    "* `gender` — пол клиента\n",
    "* `income_type` — тип занятости\n",
    "* `debt` — имел ли задолженность по возврату кредитов\n",
    "* `total_income` — ежемесячный доход\n",
    "* `purpose` — цель получения кредита\n",
    "\n",
    "На этапе обработки пропусков были рассмотренны количественные переменные. Были выявленны пропущенные значения и некоторые аномалии: слишком большие, отрицательные, нулевые значения. Нектороые значения были заменены (следстия опечаток, другой системы представления), некоторые заменены на средние значения в группе по типу занятости - `income_type`.\n",
    "\n",
    "На этапе замены типа данных столбцы `days_employed` и `dob_years` приведены к целочисленным значениям.\n",
    "\n",
    "Для обработки дубликатов значения категориальных переменных были преведдены к нижнему регистру. Стоки дубликаты были удалены.\n",
    "\n",
    "В столбце `purpose` (цель взятия кредита) очень много неявных повторяющихся значений. Для их устрания была использованна лемматизация, выделенные основные цели взятия кредита: \n",
    "* недвижимость\n",
    "* жилье\n",
    "* автомобиль\n",
    "* образование\n",
    "* свадьба\n",
    "\n",
    "На этапе категоризации данных были созданы 4 таблицы для нашего исследования. Категориальные переменные в них были перенесены без изменений, а количественные разбиты на категории с помощью функций.\n",
    "\n",
    "При ответах на вопросы исследования были выявлены определенные закономерности различных категорий с возвратом кредита в срок.\n",
    "Самое большое колисечество невозвратов у заемщиков с детьми, не в браке (или гражданском), с средним или низким уровнем дохода, с целями получения кредита на автомобиль или свадьбу. Эти закономерности выявленны отдельно в рамках каждого критерия. Усиливают ли они друг друга неизвестно, для этого нужно дальнейшее исследование.\n",
    "\n",
    "Полученные данные можно использовать для проектирвоания модели кредитного скоринга."
   ]
  },
  {
   "cell_type": "code",
   "execution_count": null,
   "metadata": {},
   "outputs": [],
   "source": []
  }
 ],
 "metadata": {
  "ExecuteTimeLog": [
   {
    "duration": 894,
    "start_time": "2021-12-15T08:58:34.397Z"
   },
   {
    "duration": 92,
    "start_time": "2021-12-15T08:59:00.322Z"
   },
   {
    "duration": 64,
    "start_time": "2021-12-15T09:10:01.633Z"
   },
   {
    "duration": 62,
    "start_time": "2021-12-15T09:16:37.440Z"
   },
   {
    "duration": 12,
    "start_time": "2021-12-15T09:17:54.203Z"
   },
   {
    "duration": 60,
    "start_time": "2021-12-15T09:30:04.199Z"
   },
   {
    "duration": 12,
    "start_time": "2021-12-15T09:30:17.052Z"
   },
   {
    "duration": 7,
    "start_time": "2021-12-15T09:38:56.340Z"
   },
   {
    "duration": 5,
    "start_time": "2021-12-15T09:39:37.561Z"
   },
   {
    "duration": 838,
    "start_time": "2021-12-16T17:48:32.632Z"
   },
   {
    "duration": 21,
    "start_time": "2021-12-16T17:48:33.473Z"
   },
   {
    "duration": 17,
    "start_time": "2021-12-16T17:48:33.497Z"
   },
   {
    "duration": 11,
    "start_time": "2021-12-16T18:00:45.433Z"
   },
   {
    "duration": 11,
    "start_time": "2021-12-16T18:05:35.317Z"
   },
   {
    "duration": 11,
    "start_time": "2021-12-16T18:05:43.019Z"
   },
   {
    "duration": 13,
    "start_time": "2021-12-16T18:05:56.090Z"
   },
   {
    "duration": 13,
    "start_time": "2021-12-16T18:07:03.848Z"
   },
   {
    "duration": 340,
    "start_time": "2021-12-16T18:19:57.044Z"
   },
   {
    "duration": 80,
    "start_time": "2021-12-16T18:20:17.413Z"
   },
   {
    "duration": 15,
    "start_time": "2021-12-16T18:20:17.495Z"
   },
   {
    "duration": 13,
    "start_time": "2021-12-16T18:20:17.513Z"
   },
   {
    "duration": 49,
    "start_time": "2021-12-16T18:20:17.528Z"
   },
   {
    "duration": 8,
    "start_time": "2021-12-16T18:24:04.376Z"
   },
   {
    "duration": 7,
    "start_time": "2021-12-16T18:24:25.628Z"
   },
   {
    "duration": 95,
    "start_time": "2021-12-16T18:28:10.305Z"
   },
   {
    "duration": 8,
    "start_time": "2021-12-16T18:28:18.599Z"
   },
   {
    "duration": 11,
    "start_time": "2021-12-16T18:28:22.548Z"
   },
   {
    "duration": 13,
    "start_time": "2021-12-16T18:34:04.167Z"
   },
   {
    "duration": 78,
    "start_time": "2021-12-16T18:34:12.850Z"
   },
   {
    "duration": 14,
    "start_time": "2021-12-16T18:34:16.164Z"
   },
   {
    "duration": 8,
    "start_time": "2021-12-16T18:34:23.620Z"
   },
   {
    "duration": 11,
    "start_time": "2021-12-16T18:34:26.652Z"
   },
   {
    "duration": 18,
    "start_time": "2021-12-16T18:36:53.226Z"
   },
   {
    "duration": 15,
    "start_time": "2021-12-16T18:38:08.388Z"
   },
   {
    "duration": 16,
    "start_time": "2021-12-16T18:43:26.216Z"
   },
   {
    "duration": 78,
    "start_time": "2021-12-16T18:43:32.887Z"
   },
   {
    "duration": 16,
    "start_time": "2021-12-16T18:43:32.968Z"
   },
   {
    "duration": 12,
    "start_time": "2021-12-16T18:43:32.987Z"
   },
   {
    "duration": 26,
    "start_time": "2021-12-16T18:43:33.001Z"
   },
   {
    "duration": 43,
    "start_time": "2021-12-16T18:43:33.030Z"
   },
   {
    "duration": 7,
    "start_time": "2021-12-16T18:47:54.228Z"
   },
   {
    "duration": 308,
    "start_time": "2021-12-16T18:50:48.652Z"
   },
   {
    "duration": 15,
    "start_time": "2021-12-16T18:50:55.939Z"
   },
   {
    "duration": 10,
    "start_time": "2021-12-16T18:51:14.868Z"
   },
   {
    "duration": 9,
    "start_time": "2021-12-16T18:51:23.155Z"
   },
   {
    "duration": 10,
    "start_time": "2021-12-16T18:51:27.729Z"
   },
   {
    "duration": 5189,
    "start_time": "2021-12-16T18:51:36.651Z"
   },
   {
    "duration": 13,
    "start_time": "2021-12-16T18:52:09.740Z"
   },
   {
    "duration": 8,
    "start_time": "2021-12-16T18:52:27.905Z"
   },
   {
    "duration": 20,
    "start_time": "2021-12-16T18:52:28.786Z"
   },
   {
    "duration": 814,
    "start_time": "2021-12-16T18:52:40.098Z"
   },
   {
    "duration": 18,
    "start_time": "2021-12-16T18:52:40.914Z"
   },
   {
    "duration": 7,
    "start_time": "2021-12-16T18:52:40.935Z"
   },
   {
    "duration": 35,
    "start_time": "2021-12-16T18:52:40.945Z"
   },
   {
    "duration": 22,
    "start_time": "2021-12-16T18:52:40.982Z"
   },
   {
    "duration": 8,
    "start_time": "2021-12-16T18:54:54.822Z"
   },
   {
    "duration": 7,
    "start_time": "2021-12-16T18:55:22.773Z"
   },
   {
    "duration": 9,
    "start_time": "2021-12-16T18:55:29.157Z"
   },
   {
    "duration": 852,
    "start_time": "2021-12-16T18:55:39.179Z"
   },
   {
    "duration": 37,
    "start_time": "2021-12-16T18:55:40.034Z"
   },
   {
    "duration": 8,
    "start_time": "2021-12-16T18:55:40.074Z"
   },
   {
    "duration": 59,
    "start_time": "2021-12-16T18:55:40.085Z"
   },
   {
    "duration": 54,
    "start_time": "2021-12-16T18:55:40.147Z"
   },
   {
    "duration": 11,
    "start_time": "2021-12-16T18:55:51.375Z"
   },
   {
    "duration": 78,
    "start_time": "2021-12-16T18:56:00.655Z"
   },
   {
    "duration": 14,
    "start_time": "2021-12-16T18:56:00.736Z"
   },
   {
    "duration": 26,
    "start_time": "2021-12-16T18:56:00.752Z"
   },
   {
    "duration": 27,
    "start_time": "2021-12-16T18:56:00.781Z"
   },
   {
    "duration": 24,
    "start_time": "2021-12-16T18:56:00.810Z"
   },
   {
    "duration": 15,
    "start_time": "2021-12-16T19:13:24.514Z"
   },
   {
    "duration": 78,
    "start_time": "2021-12-16T19:13:59.221Z"
   },
   {
    "duration": 15,
    "start_time": "2021-12-16T19:13:59.302Z"
   },
   {
    "duration": 40,
    "start_time": "2021-12-16T19:13:59.320Z"
   },
   {
    "duration": 46,
    "start_time": "2021-12-16T19:13:59.363Z"
   },
   {
    "duration": 38,
    "start_time": "2021-12-16T19:13:59.411Z"
   },
   {
    "duration": 19,
    "start_time": "2021-12-16T19:14:57.624Z"
   },
   {
    "duration": 7,
    "start_time": "2021-12-16T19:15:13.612Z"
   },
   {
    "duration": 9,
    "start_time": "2021-12-16T19:18:38.071Z"
   },
   {
    "duration": 7,
    "start_time": "2021-12-16T19:19:55.697Z"
   },
   {
    "duration": 7,
    "start_time": "2021-12-16T19:28:09.940Z"
   },
   {
    "duration": 15,
    "start_time": "2021-12-16T19:35:04.963Z"
   },
   {
    "duration": 8,
    "start_time": "2021-12-16T19:35:12.064Z"
   },
   {
    "duration": 7,
    "start_time": "2021-12-16T19:40:07.207Z"
   },
   {
    "duration": 107,
    "start_time": "2021-12-16T19:52:21.195Z"
   },
   {
    "duration": 97,
    "start_time": "2021-12-16T19:53:09.348Z"
   },
   {
    "duration": 54,
    "start_time": "2021-12-16T19:53:23.481Z"
   },
   {
    "duration": 220,
    "start_time": "2021-12-16T19:54:34.761Z"
   },
   {
    "duration": 9,
    "start_time": "2021-12-16T19:55:23.739Z"
   },
   {
    "duration": 21,
    "start_time": "2021-12-16T19:56:16.342Z"
   },
   {
    "duration": 16,
    "start_time": "2021-12-16T19:57:24.733Z"
   },
   {
    "duration": 82,
    "start_time": "2021-12-16T19:57:30.552Z"
   },
   {
    "duration": 14,
    "start_time": "2021-12-16T19:57:30.636Z"
   },
   {
    "duration": 5,
    "start_time": "2021-12-16T19:57:30.680Z"
   },
   {
    "duration": 29,
    "start_time": "2021-12-16T19:57:30.688Z"
   },
   {
    "duration": 18,
    "start_time": "2021-12-16T19:57:30.720Z"
   },
   {
    "duration": 7,
    "start_time": "2021-12-16T19:57:30.741Z"
   },
   {
    "duration": 20,
    "start_time": "2021-12-16T19:57:30.750Z"
   },
   {
    "duration": 140,
    "start_time": "2021-12-16T19:57:30.773Z"
   },
   {
    "duration": 15,
    "start_time": "2021-12-16T19:57:30.915Z"
   },
   {
    "duration": 78,
    "start_time": "2021-12-16T19:57:55.939Z"
   },
   {
    "duration": 77,
    "start_time": "2021-12-16T19:59:06.584Z"
   },
   {
    "duration": 14,
    "start_time": "2021-12-16T19:59:06.664Z"
   },
   {
    "duration": 17,
    "start_time": "2021-12-16T19:59:06.681Z"
   },
   {
    "duration": 47,
    "start_time": "2021-12-16T19:59:06.701Z"
   },
   {
    "duration": 22,
    "start_time": "2021-12-16T19:59:06.750Z"
   },
   {
    "duration": 35,
    "start_time": "2021-12-16T19:59:06.775Z"
   },
   {
    "duration": 123,
    "start_time": "2021-12-16T19:59:06.813Z"
   },
   {
    "duration": 32,
    "start_time": "2021-12-16T19:59:06.939Z"
   },
   {
    "duration": 9,
    "start_time": "2021-12-16T20:01:57.621Z"
   },
   {
    "duration": 125,
    "start_time": "2021-12-16T20:06:49.870Z"
   },
   {
    "duration": 24,
    "start_time": "2021-12-16T20:07:28.398Z"
   },
   {
    "duration": 9,
    "start_time": "2021-12-16T20:11:28.040Z"
   },
   {
    "duration": 52,
    "start_time": "2021-12-16T20:13:30.214Z"
   },
   {
    "duration": 116,
    "start_time": "2021-12-16T20:13:38.839Z"
   },
   {
    "duration": 14,
    "start_time": "2021-12-16T20:13:38.967Z"
   },
   {
    "duration": 11634,
    "start_time": "2021-12-16T20:13:38.984Z"
   },
   {
    "duration": -108,
    "start_time": "2021-12-16T20:13:50.729Z"
   },
   {
    "duration": -111,
    "start_time": "2021-12-16T20:13:50.733Z"
   },
   {
    "duration": -113,
    "start_time": "2021-12-16T20:13:50.737Z"
   },
   {
    "duration": -115,
    "start_time": "2021-12-16T20:13:50.741Z"
   },
   {
    "duration": -116,
    "start_time": "2021-12-16T20:13:50.743Z"
   },
   {
    "duration": -117,
    "start_time": "2021-12-16T20:13:50.746Z"
   },
   {
    "duration": 29,
    "start_time": "2021-12-16T20:18:21.836Z"
   },
   {
    "duration": 27,
    "start_time": "2021-12-16T20:18:36.403Z"
   },
   {
    "duration": 24,
    "start_time": "2021-12-16T20:18:50.168Z"
   },
   {
    "duration": 1576,
    "start_time": "2021-12-16T20:25:24.429Z"
   },
   {
    "duration": 19,
    "start_time": "2021-12-16T20:25:26.008Z"
   },
   {
    "duration": 40,
    "start_time": "2021-12-16T20:25:26.031Z"
   },
   {
    "duration": 22,
    "start_time": "2021-12-16T20:25:26.075Z"
   },
   {
    "duration": 33,
    "start_time": "2021-12-16T20:25:26.100Z"
   },
   {
    "duration": 31,
    "start_time": "2021-12-16T20:25:26.136Z"
   },
   {
    "duration": 142,
    "start_time": "2021-12-16T20:25:26.170Z"
   },
   {
    "duration": 23,
    "start_time": "2021-12-16T20:25:26.315Z"
   },
   {
    "duration": 20,
    "start_time": "2021-12-16T20:31:47.337Z"
   },
   {
    "duration": 8,
    "start_time": "2021-12-16T20:32:02.998Z"
   },
   {
    "duration": 9,
    "start_time": "2021-12-16T20:32:05.980Z"
   },
   {
    "duration": 103,
    "start_time": "2021-12-16T20:37:18.572Z"
   },
   {
    "duration": 418,
    "start_time": "2021-12-16T20:37:24.534Z"
   },
   {
    "duration": 559,
    "start_time": "2021-12-16T20:38:25.697Z"
   },
   {
    "duration": 17,
    "start_time": "2021-12-16T20:42:20.144Z"
   },
   {
    "duration": 53,
    "start_time": "2021-12-16T20:44:59.085Z"
   },
   {
    "duration": 884,
    "start_time": "2021-12-16T20:45:19.519Z"
   },
   {
    "duration": 25,
    "start_time": "2021-12-16T20:45:20.406Z"
   },
   {
    "duration": 36,
    "start_time": "2021-12-16T20:45:20.435Z"
   },
   {
    "duration": 23,
    "start_time": "2021-12-16T20:45:20.474Z"
   },
   {
    "duration": 18,
    "start_time": "2021-12-16T20:45:20.500Z"
   },
   {
    "duration": 21,
    "start_time": "2021-12-16T20:45:20.521Z"
   },
   {
    "duration": 167,
    "start_time": "2021-12-16T20:45:20.545Z"
   },
   {
    "duration": 15,
    "start_time": "2021-12-16T20:45:20.715Z"
   },
   {
    "duration": 32,
    "start_time": "2021-12-16T20:45:20.733Z"
   },
   {
    "duration": 36,
    "start_time": "2021-12-16T20:45:20.768Z"
   },
   {
    "duration": 38,
    "start_time": "2021-12-16T20:45:20.807Z"
   },
   {
    "duration": 13,
    "start_time": "2021-12-16T20:47:20.527Z"
   },
   {
    "duration": 11,
    "start_time": "2021-12-16T20:47:38.788Z"
   },
   {
    "duration": 8,
    "start_time": "2021-12-16T20:47:51.220Z"
   },
   {
    "duration": 140,
    "start_time": "2021-12-16T20:49:04.641Z"
   },
   {
    "duration": 68,
    "start_time": "2021-12-16T20:50:43.307Z"
   },
   {
    "duration": 12,
    "start_time": "2021-12-16T20:52:30.174Z"
   },
   {
    "duration": 18,
    "start_time": "2021-12-16T20:57:30.910Z"
   },
   {
    "duration": 17,
    "start_time": "2021-12-16T20:58:07.793Z"
   },
   {
    "duration": 16,
    "start_time": "2021-12-16T21:00:09.823Z"
   },
   {
    "duration": 912,
    "start_time": "2021-12-17T19:30:59.953Z"
   },
   {
    "duration": 15,
    "start_time": "2021-12-17T19:31:00.868Z"
   },
   {
    "duration": 36,
    "start_time": "2021-12-17T19:31:00.887Z"
   },
   {
    "duration": 17,
    "start_time": "2021-12-17T19:31:00.927Z"
   },
   {
    "duration": 10,
    "start_time": "2021-12-17T19:31:00.947Z"
   },
   {
    "duration": 10,
    "start_time": "2021-12-17T19:31:00.960Z"
   },
   {
    "duration": 237,
    "start_time": "2021-12-17T19:31:00.973Z"
   },
   {
    "duration": 15,
    "start_time": "2021-12-17T19:31:01.217Z"
   },
   {
    "duration": 8,
    "start_time": "2021-12-17T19:31:01.235Z"
   },
   {
    "duration": 16,
    "start_time": "2021-12-17T19:31:01.246Z"
   },
   {
    "duration": 28,
    "start_time": "2021-12-17T19:31:01.264Z"
   },
   {
    "duration": 90,
    "start_time": "2021-12-17T19:31:01.294Z"
   },
   {
    "duration": 34,
    "start_time": "2021-12-17T19:31:01.386Z"
   },
   {
    "duration": 26,
    "start_time": "2021-12-17T19:31:01.422Z"
   },
   {
    "duration": 14,
    "start_time": "2021-12-17T19:44:20.175Z"
   },
   {
    "duration": 97,
    "start_time": "2021-12-17T20:06:05.991Z"
   },
   {
    "duration": 19,
    "start_time": "2021-12-17T20:08:44.868Z"
   },
   {
    "duration": 21,
    "start_time": "2021-12-17T20:09:35.831Z"
   },
   {
    "duration": 18,
    "start_time": "2021-12-17T20:11:27.726Z"
   },
   {
    "duration": 629,
    "start_time": "2021-12-20T09:32:42.272Z"
   },
   {
    "duration": 10,
    "start_time": "2021-12-20T09:32:42.903Z"
   },
   {
    "duration": 7,
    "start_time": "2021-12-20T09:32:42.915Z"
   },
   {
    "duration": 14,
    "start_time": "2021-12-20T09:32:42.924Z"
   },
   {
    "duration": 4,
    "start_time": "2021-12-20T09:32:42.940Z"
   },
   {
    "duration": 6,
    "start_time": "2021-12-20T09:32:42.945Z"
   },
   {
    "duration": 95,
    "start_time": "2021-12-20T09:32:42.953Z"
   },
   {
    "duration": 10,
    "start_time": "2021-12-20T09:32:43.050Z"
   },
   {
    "duration": 7,
    "start_time": "2021-12-20T09:32:43.062Z"
   },
   {
    "duration": 21,
    "start_time": "2021-12-20T09:32:43.071Z"
   },
   {
    "duration": 7,
    "start_time": "2021-12-20T09:32:43.094Z"
   },
   {
    "duration": 50,
    "start_time": "2021-12-20T09:32:43.102Z"
   },
   {
    "duration": 6,
    "start_time": "2021-12-20T09:32:43.153Z"
   },
   {
    "duration": 11,
    "start_time": "2021-12-20T09:32:43.192Z"
   },
   {
    "duration": 9,
    "start_time": "2021-12-20T09:32:43.205Z"
   },
   {
    "duration": 12,
    "start_time": "2021-12-20T09:32:43.216Z"
   },
   {
    "duration": 11,
    "start_time": "2021-12-20T09:32:43.230Z"
   },
   {
    "duration": 9,
    "start_time": "2021-12-20T09:52:44.151Z"
   },
   {
    "duration": 586,
    "start_time": "2021-12-20T09:54:10.815Z"
   },
   {
    "duration": 11,
    "start_time": "2021-12-20T09:54:11.403Z"
   },
   {
    "duration": 8,
    "start_time": "2021-12-20T09:54:11.416Z"
   },
   {
    "duration": 17,
    "start_time": "2021-12-20T09:54:11.426Z"
   },
   {
    "duration": 10,
    "start_time": "2021-12-20T09:54:11.445Z"
   },
   {
    "duration": 5,
    "start_time": "2021-12-20T09:54:11.457Z"
   },
   {
    "duration": 30,
    "start_time": "2021-12-20T09:54:11.463Z"
   },
   {
    "duration": 73,
    "start_time": "2021-12-20T09:54:11.495Z"
   },
   {
    "duration": 25,
    "start_time": "2021-12-20T09:54:11.570Z"
   },
   {
    "duration": 5,
    "start_time": "2021-12-20T09:54:11.597Z"
   },
   {
    "duration": 11,
    "start_time": "2021-12-20T09:54:11.604Z"
   },
   {
    "duration": 7,
    "start_time": "2021-12-20T09:54:11.617Z"
   },
   {
    "duration": 73,
    "start_time": "2021-12-20T09:54:11.625Z"
   },
   {
    "duration": 6,
    "start_time": "2021-12-20T09:54:11.700Z"
   },
   {
    "duration": 12,
    "start_time": "2021-12-20T09:54:11.708Z"
   },
   {
    "duration": 9,
    "start_time": "2021-12-20T09:54:11.722Z"
   },
   {
    "duration": 12,
    "start_time": "2021-12-20T09:54:11.733Z"
   },
   {
    "duration": 44,
    "start_time": "2021-12-20T09:54:11.747Z"
   },
   {
    "duration": 9,
    "start_time": "2021-12-20T09:54:54.409Z"
   },
   {
    "duration": 57,
    "start_time": "2021-12-20T09:55:02.626Z"
   },
   {
    "duration": 12,
    "start_time": "2021-12-20T09:55:04.556Z"
   },
   {
    "duration": 10,
    "start_time": "2021-12-20T09:55:07.221Z"
   },
   {
    "duration": 14,
    "start_time": "2021-12-20T09:55:08.421Z"
   },
   {
    "duration": 52,
    "start_time": "2021-12-20T09:58:14.056Z"
   },
   {
    "duration": 50,
    "start_time": "2021-12-20T09:58:42.106Z"
   },
   {
    "duration": 48,
    "start_time": "2021-12-20T09:58:45.882Z"
   },
   {
    "duration": 14,
    "start_time": "2021-12-20T09:58:50.404Z"
   },
   {
    "duration": 10,
    "start_time": "2021-12-20T09:58:56.106Z"
   },
   {
    "duration": 7,
    "start_time": "2021-12-20T09:59:23.561Z"
   },
   {
    "duration": 7,
    "start_time": "2021-12-20T09:59:25.999Z"
   },
   {
    "duration": 9,
    "start_time": "2021-12-20T09:59:36.900Z"
   },
   {
    "duration": 20,
    "start_time": "2021-12-20T10:00:55.765Z"
   },
   {
    "duration": 8,
    "start_time": "2021-12-20T10:01:16.819Z"
   },
   {
    "duration": 96,
    "start_time": "2021-12-20T10:02:26.660Z"
   },
   {
    "duration": 49,
    "start_time": "2021-12-20T10:02:59.192Z"
   },
   {
    "duration": 56,
    "start_time": "2021-12-20T10:04:05.799Z"
   },
   {
    "duration": 58,
    "start_time": "2021-12-20T10:04:20.426Z"
   },
   {
    "duration": 10,
    "start_time": "2021-12-20T10:04:52.937Z"
   },
   {
    "duration": 6,
    "start_time": "2021-12-20T10:05:21.413Z"
   },
   {
    "duration": 8,
    "start_time": "2021-12-20T10:06:54.396Z"
   },
   {
    "duration": 13,
    "start_time": "2021-12-20T10:07:17.013Z"
   },
   {
    "duration": 6,
    "start_time": "2021-12-20T10:13:14.044Z"
   },
   {
    "duration": 10,
    "start_time": "2021-12-20T10:13:54.842Z"
   },
   {
    "duration": 10,
    "start_time": "2021-12-20T10:28:57.802Z"
   },
   {
    "duration": 5,
    "start_time": "2021-12-20T10:28:58.651Z"
   },
   {
    "duration": 13,
    "start_time": "2021-12-20T10:29:04.337Z"
   },
   {
    "duration": 8,
    "start_time": "2021-12-20T12:18:10.878Z"
   },
   {
    "duration": 2,
    "start_time": "2021-12-20T12:24:58.045Z"
   },
   {
    "duration": 7,
    "start_time": "2021-12-20T12:25:04.185Z"
   },
   {
    "duration": 53,
    "start_time": "2021-12-20T12:28:09.851Z"
   },
   {
    "duration": 8,
    "start_time": "2021-12-20T12:28:17.780Z"
   },
   {
    "duration": 8,
    "start_time": "2021-12-20T12:28:51.970Z"
   },
   {
    "duration": 8,
    "start_time": "2021-12-20T12:29:09.954Z"
   },
   {
    "duration": 8,
    "start_time": "2021-12-20T12:29:40.806Z"
   },
   {
    "duration": 7,
    "start_time": "2021-12-20T12:30:56.526Z"
   },
   {
    "duration": 7,
    "start_time": "2021-12-20T12:30:56.830Z"
   },
   {
    "duration": 7,
    "start_time": "2021-12-20T12:30:57.174Z"
   },
   {
    "duration": 8,
    "start_time": "2021-12-20T12:30:58.044Z"
   },
   {
    "duration": 20,
    "start_time": "2021-12-20T12:37:32.410Z"
   },
   {
    "duration": 8,
    "start_time": "2021-12-20T12:37:41.052Z"
   },
   {
    "duration": 12,
    "start_time": "2021-12-20T12:38:27.649Z"
   },
   {
    "duration": 689,
    "start_time": "2021-12-20T17:51:12.520Z"
   },
   {
    "duration": 11,
    "start_time": "2021-12-20T17:51:13.211Z"
   },
   {
    "duration": 7,
    "start_time": "2021-12-20T17:51:13.224Z"
   },
   {
    "duration": 13,
    "start_time": "2021-12-20T17:51:13.233Z"
   },
   {
    "duration": 8,
    "start_time": "2021-12-20T17:51:13.249Z"
   },
   {
    "duration": 8,
    "start_time": "2021-12-20T17:51:13.260Z"
   },
   {
    "duration": 14,
    "start_time": "2021-12-20T17:51:13.315Z"
   },
   {
    "duration": 5,
    "start_time": "2021-12-20T17:51:13.331Z"
   },
   {
    "duration": 5,
    "start_time": "2021-12-20T17:51:13.339Z"
   },
   {
    "duration": 111,
    "start_time": "2021-12-20T17:51:13.346Z"
   },
   {
    "duration": 12,
    "start_time": "2021-12-20T17:51:13.459Z"
   },
   {
    "duration": 33,
    "start_time": "2021-12-20T17:51:13.474Z"
   },
   {
    "duration": 9,
    "start_time": "2021-12-20T17:51:13.509Z"
   },
   {
    "duration": 6,
    "start_time": "2021-12-20T17:51:13.520Z"
   },
   {
    "duration": 82,
    "start_time": "2021-12-20T17:51:13.528Z"
   },
   {
    "duration": 7,
    "start_time": "2021-12-20T17:51:13.611Z"
   },
   {
    "duration": 16,
    "start_time": "2021-12-20T17:51:13.620Z"
   },
   {
    "duration": 11,
    "start_time": "2021-12-20T17:51:13.637Z"
   },
   {
    "duration": 15,
    "start_time": "2021-12-20T17:51:13.650Z"
   },
   {
    "duration": 50,
    "start_time": "2021-12-20T17:51:13.667Z"
   },
   {
    "duration": 18,
    "start_time": "2021-12-20T17:51:13.719Z"
   },
   {
    "duration": 7,
    "start_time": "2021-12-20T17:51:13.739Z"
   },
   {
    "duration": 11,
    "start_time": "2021-12-20T17:51:13.748Z"
   },
   {
    "duration": 46,
    "start_time": "2021-12-20T17:51:13.761Z"
   },
   {
    "duration": 8,
    "start_time": "2021-12-20T17:51:13.809Z"
   },
   {
    "duration": 27,
    "start_time": "2021-12-20T17:51:13.819Z"
   },
   {
    "duration": 9,
    "start_time": "2021-12-20T17:51:13.850Z"
   },
   {
    "duration": 16,
    "start_time": "2021-12-20T17:51:13.861Z"
   },
   {
    "duration": 22,
    "start_time": "2021-12-20T17:55:59.325Z"
   },
   {
    "duration": 8,
    "start_time": "2021-12-20T17:56:01.631Z"
   },
   {
    "duration": 20,
    "start_time": "2021-12-20T17:56:42.017Z"
   },
   {
    "duration": 38,
    "start_time": "2021-12-20T17:58:27.070Z"
   },
   {
    "duration": 12,
    "start_time": "2021-12-20T18:02:58.941Z"
   },
   {
    "duration": 11,
    "start_time": "2021-12-20T18:03:19.104Z"
   },
   {
    "duration": 13,
    "start_time": "2021-12-20T18:03:28.058Z"
   },
   {
    "duration": 38,
    "start_time": "2021-12-20T18:03:53.509Z"
   },
   {
    "duration": 41,
    "start_time": "2021-12-20T18:03:56.730Z"
   },
   {
    "duration": 16,
    "start_time": "2021-12-20T18:04:42.191Z"
   },
   {
    "duration": 40,
    "start_time": "2021-12-20T18:04:52.711Z"
   },
   {
    "duration": 17,
    "start_time": "2021-12-20T18:04:56.119Z"
   },
   {
    "duration": 60,
    "start_time": "2021-12-20T18:35:13.172Z"
   },
   {
    "duration": 58,
    "start_time": "2021-12-20T18:35:19.901Z"
   },
   {
    "duration": 11,
    "start_time": "2021-12-20T18:38:43.860Z"
   },
   {
    "duration": 360,
    "start_time": "2021-12-20T18:43:47.972Z"
   },
   {
    "duration": 654,
    "start_time": "2021-12-20T18:44:33.596Z"
   },
   {
    "duration": 707,
    "start_time": "2021-12-20T18:44:39.712Z"
   },
   {
    "duration": 100,
    "start_time": "2021-12-20T18:47:25.423Z"
   },
   {
    "duration": 22,
    "start_time": "2021-12-20T18:47:53.856Z"
   },
   {
    "duration": 779,
    "start_time": "2021-12-20T18:48:00.990Z"
   },
   {
    "duration": 694,
    "start_time": "2021-12-20T18:48:03.470Z"
   },
   {
    "duration": 675,
    "start_time": "2021-12-20T18:51:53.915Z"
   },
   {
    "duration": 4,
    "start_time": "2021-12-20T18:53:45.369Z"
   },
   {
    "duration": 4,
    "start_time": "2021-12-20T19:24:11.540Z"
   },
   {
    "duration": 1446,
    "start_time": "2021-12-20T19:25:33.412Z"
   },
   {
    "duration": 2092,
    "start_time": "2021-12-20T19:26:07.852Z"
   },
   {
    "duration": 638,
    "start_time": "2021-12-20T19:27:13.953Z"
   },
   {
    "duration": 3,
    "start_time": "2021-12-20T19:30:47.660Z"
   },
   {
    "duration": 1468,
    "start_time": "2021-12-20T19:30:52.695Z"
   },
   {
    "duration": 691,
    "start_time": "2021-12-20T19:31:11.712Z"
   },
   {
    "duration": 12,
    "start_time": "2021-12-20T19:31:12.404Z"
   },
   {
    "duration": 6,
    "start_time": "2021-12-20T19:31:12.418Z"
   },
   {
    "duration": 13,
    "start_time": "2021-12-20T19:31:12.426Z"
   },
   {
    "duration": 7,
    "start_time": "2021-12-20T19:31:12.441Z"
   },
   {
    "duration": 8,
    "start_time": "2021-12-20T19:31:12.449Z"
   },
   {
    "duration": 48,
    "start_time": "2021-12-20T19:31:12.459Z"
   },
   {
    "duration": 5,
    "start_time": "2021-12-20T19:31:12.510Z"
   },
   {
    "duration": 5,
    "start_time": "2021-12-20T19:31:12.517Z"
   },
   {
    "duration": 99,
    "start_time": "2021-12-20T19:31:12.524Z"
   },
   {
    "duration": 11,
    "start_time": "2021-12-20T19:31:12.624Z"
   },
   {
    "duration": 6,
    "start_time": "2021-12-20T19:31:12.637Z"
   },
   {
    "duration": 9,
    "start_time": "2021-12-20T19:31:12.645Z"
   },
   {
    "duration": 5,
    "start_time": "2021-12-20T19:31:12.655Z"
   },
   {
    "duration": 84,
    "start_time": "2021-12-20T19:31:12.662Z"
   },
   {
    "duration": 6,
    "start_time": "2021-12-20T19:31:12.747Z"
   },
   {
    "duration": 14,
    "start_time": "2021-12-20T19:31:12.755Z"
   },
   {
    "duration": 36,
    "start_time": "2021-12-20T19:31:12.771Z"
   },
   {
    "duration": 14,
    "start_time": "2021-12-20T19:31:12.809Z"
   },
   {
    "duration": 11,
    "start_time": "2021-12-20T19:31:12.825Z"
   },
   {
    "duration": 18,
    "start_time": "2021-12-20T19:31:12.838Z"
   },
   {
    "duration": 8,
    "start_time": "2021-12-20T19:31:12.858Z"
   },
   {
    "duration": 41,
    "start_time": "2021-12-20T19:31:12.869Z"
   },
   {
    "duration": 23,
    "start_time": "2021-12-20T19:31:12.912Z"
   },
   {
    "duration": 10,
    "start_time": "2021-12-20T19:31:12.937Z"
   },
   {
    "duration": 18,
    "start_time": "2021-12-20T19:31:12.948Z"
   },
   {
    "duration": 41,
    "start_time": "2021-12-20T19:31:12.968Z"
   },
   {
    "duration": 43,
    "start_time": "2021-12-20T19:31:13.011Z"
   },
   {
    "duration": 16,
    "start_time": "2021-12-20T19:31:13.056Z"
   },
   {
    "duration": 7,
    "start_time": "2021-12-20T19:31:13.074Z"
   },
   {
    "duration": 691,
    "start_time": "2021-12-20T19:31:13.107Z"
   },
   {
    "duration": 9,
    "start_time": "2021-12-20T19:31:13.800Z"
   },
   {
    "duration": 6,
    "start_time": "2021-12-20T19:31:13.811Z"
   },
   {
    "duration": 5,
    "start_time": "2021-12-20T19:31:13.818Z"
   },
   {
    "duration": 2954,
    "start_time": "2021-12-20T19:31:13.824Z"
   },
   {
    "duration": 2954,
    "start_time": "2021-12-20T19:31:28.694Z"
   },
   {
    "duration": 3,
    "start_time": "2021-12-20T19:31:58.017Z"
   },
   {
    "duration": 2960,
    "start_time": "2021-12-20T19:32:00.587Z"
   },
   {
    "duration": 3,
    "start_time": "2021-12-20T19:32:19.706Z"
   },
   {
    "duration": 3003,
    "start_time": "2021-12-20T19:32:20.792Z"
   },
   {
    "duration": 8,
    "start_time": "2021-12-20T19:33:44.803Z"
   },
   {
    "duration": 356,
    "start_time": "2021-12-20T20:49:57.101Z"
   },
   {
    "duration": 306,
    "start_time": "2021-12-20T20:50:46.392Z"
   },
   {
    "duration": 968,
    "start_time": "2021-12-20T20:50:56.523Z"
   },
   {
    "duration": 15,
    "start_time": "2021-12-20T20:50:57.494Z"
   },
   {
    "duration": 182,
    "start_time": "2021-12-20T20:50:57.513Z"
   },
   {
    "duration": 212,
    "start_time": "2021-12-20T20:50:57.698Z"
   },
   {
    "duration": 163,
    "start_time": "2021-12-20T20:50:57.912Z"
   },
   {
    "duration": 188,
    "start_time": "2021-12-20T20:50:58.078Z"
   },
   {
    "duration": 207,
    "start_time": "2021-12-20T20:50:58.270Z"
   },
   {
    "duration": 171,
    "start_time": "2021-12-20T20:50:58.482Z"
   },
   {
    "duration": 193,
    "start_time": "2021-12-20T20:50:58.656Z"
   },
   {
    "duration": 315,
    "start_time": "2021-12-20T20:50:58.852Z"
   },
   {
    "duration": 51,
    "start_time": "2021-12-20T20:50:59.170Z"
   },
   {
    "duration": 172,
    "start_time": "2021-12-20T20:50:59.224Z"
   },
   {
    "duration": 196,
    "start_time": "2021-12-20T20:50:59.399Z"
   },
   {
    "duration": 234,
    "start_time": "2021-12-20T20:50:59.598Z"
   },
   {
    "duration": 269,
    "start_time": "2021-12-20T20:50:59.835Z"
   },
   {
    "duration": 181,
    "start_time": "2021-12-20T20:51:00.107Z"
   },
   {
    "duration": 203,
    "start_time": "2021-12-20T20:51:00.291Z"
   },
   {
    "duration": 270,
    "start_time": "2021-12-20T20:51:00.498Z"
   },
   {
    "duration": 120,
    "start_time": "2021-12-20T20:51:00.771Z"
   },
   {
    "duration": 178,
    "start_time": "2021-12-20T20:51:00.894Z"
   },
   {
    "duration": 227,
    "start_time": "2021-12-20T20:51:01.075Z"
   },
   {
    "duration": 165,
    "start_time": "2021-12-20T20:51:01.304Z"
   },
   {
    "duration": 209,
    "start_time": "2021-12-20T20:51:01.476Z"
   },
   {
    "duration": 201,
    "start_time": "2021-12-20T20:51:01.689Z"
   },
   {
    "duration": 214,
    "start_time": "2021-12-20T20:51:01.892Z"
   },
   {
    "duration": 230,
    "start_time": "2021-12-20T20:51:02.109Z"
   },
   {
    "duration": 244,
    "start_time": "2021-12-20T20:51:02.341Z"
   },
   {
    "duration": 222,
    "start_time": "2021-12-20T20:51:02.588Z"
   },
   {
    "duration": 232,
    "start_time": "2021-12-20T20:51:02.813Z"
   },
   {
    "duration": 158,
    "start_time": "2021-12-20T20:51:03.048Z"
   },
   {
    "duration": 184,
    "start_time": "2021-12-20T20:51:03.209Z"
   },
   {
    "duration": 1221,
    "start_time": "2021-12-20T20:51:03.396Z"
   },
   {
    "duration": 7,
    "start_time": "2021-12-20T20:51:04.620Z"
   },
   {
    "duration": 191,
    "start_time": "2021-12-20T20:51:04.629Z"
   },
   {
    "duration": 185,
    "start_time": "2021-12-20T20:51:04.823Z"
   },
   {
    "duration": 5119,
    "start_time": "2021-12-20T20:51:05.010Z"
   },
   {
    "duration": 14,
    "start_time": "2021-12-20T20:51:10.132Z"
   },
   {
    "duration": 44,
    "start_time": "2021-12-20T20:52:50.031Z"
   },
   {
    "duration": 40,
    "start_time": "2021-12-20T20:52:58.979Z"
   },
   {
    "duration": 31,
    "start_time": "2021-12-20T20:53:05.614Z"
   },
   {
    "duration": 945,
    "start_time": "2021-12-20T20:53:13.639Z"
   },
   {
    "duration": 21,
    "start_time": "2021-12-20T20:53:14.587Z"
   },
   {
    "duration": 154,
    "start_time": "2021-12-20T20:53:14.612Z"
   },
   {
    "duration": 166,
    "start_time": "2021-12-20T20:53:14.770Z"
   },
   {
    "duration": 158,
    "start_time": "2021-12-20T20:53:14.939Z"
   },
   {
    "duration": 169,
    "start_time": "2021-12-20T20:53:15.100Z"
   },
   {
    "duration": 186,
    "start_time": "2021-12-20T20:53:15.272Z"
   },
   {
    "duration": 184,
    "start_time": "2021-12-20T20:53:15.461Z"
   },
   {
    "duration": 195,
    "start_time": "2021-12-20T20:53:15.649Z"
   },
   {
    "duration": 363,
    "start_time": "2021-12-20T20:53:15.848Z"
   },
   {
    "duration": 77,
    "start_time": "2021-12-20T20:53:16.213Z"
   },
   {
    "duration": 248,
    "start_time": "2021-12-20T20:53:16.293Z"
   },
   {
    "duration": 141,
    "start_time": "2021-12-20T20:53:16.544Z"
   },
   {
    "duration": 197,
    "start_time": "2021-12-20T20:53:16.689Z"
   },
   {
    "duration": 325,
    "start_time": "2021-12-20T20:53:16.888Z"
   },
   {
    "duration": 90,
    "start_time": "2021-12-20T20:53:17.216Z"
   },
   {
    "duration": 197,
    "start_time": "2021-12-20T20:53:17.309Z"
   },
   {
    "duration": 218,
    "start_time": "2021-12-20T20:53:17.509Z"
   },
   {
    "duration": 234,
    "start_time": "2021-12-20T20:53:17.730Z"
   },
   {
    "duration": 159,
    "start_time": "2021-12-20T20:53:17.966Z"
   },
   {
    "duration": 509,
    "start_time": "2021-12-20T20:53:18.128Z"
   },
   {
    "duration": 168,
    "start_time": "2021-12-20T20:53:18.639Z"
   },
   {
    "duration": 185,
    "start_time": "2021-12-20T20:53:18.810Z"
   },
   {
    "duration": 206,
    "start_time": "2021-12-20T20:53:18.998Z"
   },
   {
    "duration": 212,
    "start_time": "2021-12-20T20:53:19.208Z"
   },
   {
    "duration": 143,
    "start_time": "2021-12-20T20:53:19.423Z"
   },
   {
    "duration": 187,
    "start_time": "2021-12-20T20:53:19.573Z"
   },
   {
    "duration": 212,
    "start_time": "2021-12-20T20:53:19.763Z"
   },
   {
    "duration": 181,
    "start_time": "2021-12-20T20:53:19.977Z"
   },
   {
    "duration": 163,
    "start_time": "2021-12-20T20:53:20.161Z"
   },
   {
    "duration": 138,
    "start_time": "2021-12-20T20:53:20.327Z"
   },
   {
    "duration": 1235,
    "start_time": "2021-12-20T20:53:20.468Z"
   },
   {
    "duration": 7,
    "start_time": "2021-12-20T20:53:21.706Z"
   },
   {
    "duration": 187,
    "start_time": "2021-12-20T20:53:21.716Z"
   },
   {
    "duration": 176,
    "start_time": "2021-12-20T20:53:21.905Z"
   },
   {
    "duration": 5106,
    "start_time": "2021-12-20T20:53:22.084Z"
   },
   {
    "duration": 11,
    "start_time": "2021-12-20T20:53:27.193Z"
   },
   {
    "duration": 41,
    "start_time": "2021-12-20T20:56:04.535Z"
   },
   {
    "duration": 979,
    "start_time": "2021-12-20T20:56:14.086Z"
   },
   {
    "duration": 17,
    "start_time": "2021-12-20T20:56:15.069Z"
   },
   {
    "duration": 196,
    "start_time": "2021-12-20T20:56:15.090Z"
   },
   {
    "duration": 195,
    "start_time": "2021-12-20T20:56:15.289Z"
   },
   {
    "duration": 126,
    "start_time": "2021-12-20T20:56:15.486Z"
   },
   {
    "duration": 184,
    "start_time": "2021-12-20T20:56:15.615Z"
   },
   {
    "duration": 258,
    "start_time": "2021-12-20T20:56:15.803Z"
   },
   {
    "duration": 160,
    "start_time": "2021-12-20T20:56:16.065Z"
   },
   {
    "duration": 204,
    "start_time": "2021-12-20T20:56:16.228Z"
   },
   {
    "duration": 281,
    "start_time": "2021-12-20T20:56:16.435Z"
   },
   {
    "duration": 78,
    "start_time": "2021-12-20T20:56:16.719Z"
   },
   {
    "duration": 198,
    "start_time": "2021-12-20T20:56:16.800Z"
   },
   {
    "duration": 189,
    "start_time": "2021-12-20T20:56:17.001Z"
   },
   {
    "duration": 273,
    "start_time": "2021-12-20T20:56:17.193Z"
   },
   {
    "duration": 244,
    "start_time": "2021-12-20T20:56:17.468Z"
   },
   {
    "duration": 131,
    "start_time": "2021-12-20T20:56:17.715Z"
   },
   {
    "duration": 259,
    "start_time": "2021-12-20T20:56:17.849Z"
   },
   {
    "duration": 189,
    "start_time": "2021-12-20T20:56:18.110Z"
   },
   {
    "duration": 223,
    "start_time": "2021-12-20T20:56:18.302Z"
   },
   {
    "duration": 183,
    "start_time": "2021-12-20T20:56:18.528Z"
   },
   {
    "duration": 239,
    "start_time": "2021-12-20T20:56:18.715Z"
   },
   {
    "duration": 151,
    "start_time": "2021-12-20T20:56:18.959Z"
   },
   {
    "duration": 205,
    "start_time": "2021-12-20T20:56:19.113Z"
   },
   {
    "duration": 212,
    "start_time": "2021-12-20T20:56:19.321Z"
   },
   {
    "duration": 188,
    "start_time": "2021-12-20T20:56:19.536Z"
   },
   {
    "duration": 151,
    "start_time": "2021-12-20T20:56:19.727Z"
   },
   {
    "duration": 224,
    "start_time": "2021-12-20T20:56:19.881Z"
   },
   {
    "duration": 220,
    "start_time": "2021-12-20T20:56:20.107Z"
   },
   {
    "duration": 236,
    "start_time": "2021-12-20T20:56:20.330Z"
   },
   {
    "duration": 158,
    "start_time": "2021-12-20T20:56:20.568Z"
   },
   {
    "duration": 167,
    "start_time": "2021-12-20T20:56:20.728Z"
   },
   {
    "duration": 1350,
    "start_time": "2021-12-20T20:56:20.898Z"
   },
   {
    "duration": 17,
    "start_time": "2021-12-20T20:56:22.250Z"
   },
   {
    "duration": 186,
    "start_time": "2021-12-20T20:56:22.270Z"
   },
   {
    "duration": 200,
    "start_time": "2021-12-20T20:56:22.459Z"
   },
   {
    "duration": 5757,
    "start_time": "2021-12-20T20:56:22.662Z"
   },
   {
    "duration": 10,
    "start_time": "2021-12-20T20:56:28.422Z"
   },
   {
    "duration": 1127,
    "start_time": "2021-12-20T21:06:22.420Z"
   },
   {
    "duration": 22,
    "start_time": "2021-12-20T21:06:23.550Z"
   },
   {
    "duration": 199,
    "start_time": "2021-12-20T21:06:23.577Z"
   },
   {
    "duration": 217,
    "start_time": "2021-12-20T21:06:23.780Z"
   },
   {
    "duration": 208,
    "start_time": "2021-12-20T21:06:24.001Z"
   },
   {
    "duration": 201,
    "start_time": "2021-12-20T21:06:24.212Z"
   },
   {
    "duration": 176,
    "start_time": "2021-12-20T21:06:24.415Z"
   },
   {
    "duration": 164,
    "start_time": "2021-12-20T21:06:24.597Z"
   },
   {
    "duration": 226,
    "start_time": "2021-12-20T21:06:24.764Z"
   },
   {
    "duration": 321,
    "start_time": "2021-12-20T21:06:24.993Z"
   },
   {
    "duration": 18,
    "start_time": "2021-12-20T21:06:25.317Z"
   },
   {
    "duration": 187,
    "start_time": "2021-12-20T21:06:25.338Z"
   },
   {
    "duration": 157,
    "start_time": "2021-12-20T21:06:25.528Z"
   },
   {
    "duration": 174,
    "start_time": "2021-12-20T21:06:25.688Z"
   },
   {
    "duration": 227,
    "start_time": "2021-12-20T21:06:25.864Z"
   },
   {
    "duration": 88,
    "start_time": "2021-12-20T21:06:26.093Z"
   },
   {
    "duration": 259,
    "start_time": "2021-12-20T21:06:26.184Z"
   },
   {
    "duration": 175,
    "start_time": "2021-12-20T21:06:26.446Z"
   },
   {
    "duration": 158,
    "start_time": "2021-12-20T21:06:26.624Z"
   },
   {
    "duration": 162,
    "start_time": "2021-12-20T21:06:26.785Z"
   },
   {
    "duration": 175,
    "start_time": "2021-12-20T21:06:26.950Z"
   },
   {
    "duration": 157,
    "start_time": "2021-12-20T21:06:27.128Z"
   },
   {
    "duration": 171,
    "start_time": "2021-12-20T21:06:27.292Z"
   },
   {
    "duration": 189,
    "start_time": "2021-12-20T21:06:27.467Z"
   },
   {
    "duration": 150,
    "start_time": "2021-12-20T21:06:27.659Z"
   },
   {
    "duration": 176,
    "start_time": "2021-12-20T21:06:27.812Z"
   },
   {
    "duration": 179,
    "start_time": "2021-12-20T21:06:27.990Z"
   },
   {
    "duration": 180,
    "start_time": "2021-12-20T21:06:28.171Z"
   },
   {
    "duration": 154,
    "start_time": "2021-12-20T21:06:28.354Z"
   },
   {
    "duration": 152,
    "start_time": "2021-12-20T21:06:28.511Z"
   },
   {
    "duration": 169,
    "start_time": "2021-12-20T21:06:28.666Z"
   },
   {
    "duration": 1215,
    "start_time": "2021-12-20T21:06:28.838Z"
   },
   {
    "duration": 11,
    "start_time": "2021-12-20T21:06:30.056Z"
   },
   {
    "duration": 163,
    "start_time": "2021-12-20T21:06:30.071Z"
   },
   {
    "duration": 167,
    "start_time": "2021-12-20T21:06:30.237Z"
   },
   {
    "duration": 5527,
    "start_time": "2021-12-20T21:06:30.407Z"
   },
   {
    "duration": 17,
    "start_time": "2021-12-20T21:06:35.937Z"
   },
   {
    "duration": 436,
    "start_time": "2021-12-20T21:26:40.149Z"
   },
   {
    "duration": 4644,
    "start_time": "2021-12-20T21:27:08.243Z"
   },
   {
    "duration": 17,
    "start_time": "2021-12-20T21:29:29.508Z"
   },
   {
    "duration": 4745,
    "start_time": "2021-12-20T21:30:47.092Z"
   },
   {
    "duration": 935,
    "start_time": "2021-12-20T21:32:17.479Z"
   },
   {
    "duration": 899,
    "start_time": "2021-12-20T21:36:45.293Z"
   },
   {
    "duration": 926,
    "start_time": "2021-12-20T21:37:01.374Z"
   },
   {
    "duration": 904,
    "start_time": "2021-12-20T21:37:11.349Z"
   },
   {
    "duration": 970,
    "start_time": "2021-12-20T21:42:22.557Z"
   },
   {
    "duration": 27,
    "start_time": "2021-12-20T21:47:31.129Z"
   },
   {
    "duration": 23,
    "start_time": "2021-12-20T21:48:27.240Z"
   },
   {
    "duration": 32,
    "start_time": "2021-12-20T21:48:39.322Z"
   },
   {
    "duration": 19,
    "start_time": "2021-12-20T21:52:12.625Z"
   },
   {
    "duration": 392,
    "start_time": "2021-12-21T06:22:33.497Z"
   },
   {
    "duration": 850,
    "start_time": "2021-12-21T06:23:02.061Z"
   },
   {
    "duration": 18,
    "start_time": "2021-12-21T06:23:02.914Z"
   },
   {
    "duration": 31,
    "start_time": "2021-12-21T06:23:02.936Z"
   },
   {
    "duration": 21,
    "start_time": "2021-12-21T06:23:02.970Z"
   },
   {
    "duration": 11,
    "start_time": "2021-12-21T06:23:02.994Z"
   },
   {
    "duration": 53,
    "start_time": "2021-12-21T06:23:03.008Z"
   },
   {
    "duration": 23,
    "start_time": "2021-12-21T06:23:03.065Z"
   },
   {
    "duration": 6,
    "start_time": "2021-12-21T06:23:03.093Z"
   },
   {
    "duration": 8,
    "start_time": "2021-12-21T06:23:03.103Z"
   },
   {
    "duration": 169,
    "start_time": "2021-12-21T06:23:03.113Z"
   },
   {
    "duration": 13,
    "start_time": "2021-12-21T06:23:03.285Z"
   },
   {
    "duration": 8,
    "start_time": "2021-12-21T06:23:03.300Z"
   },
   {
    "duration": 11,
    "start_time": "2021-12-21T06:23:03.310Z"
   },
   {
    "duration": 40,
    "start_time": "2021-12-21T06:23:03.323Z"
   },
   {
    "duration": 68,
    "start_time": "2021-12-21T06:23:03.365Z"
   },
   {
    "duration": 9,
    "start_time": "2021-12-21T06:23:03.459Z"
   },
   {
    "duration": 15,
    "start_time": "2021-12-21T06:23:03.471Z"
   },
   {
    "duration": 19,
    "start_time": "2021-12-21T06:23:03.488Z"
   },
   {
    "duration": 53,
    "start_time": "2021-12-21T06:23:03.509Z"
   },
   {
    "duration": 23,
    "start_time": "2021-12-21T06:23:03.564Z"
   },
   {
    "duration": 10,
    "start_time": "2021-12-21T06:23:03.589Z"
   },
   {
    "duration": 9,
    "start_time": "2021-12-21T06:23:03.601Z"
   },
   {
    "duration": 69,
    "start_time": "2021-12-21T06:23:03.615Z"
   },
   {
    "duration": 11,
    "start_time": "2021-12-21T06:23:03.687Z"
   },
   {
    "duration": 12,
    "start_time": "2021-12-21T06:23:03.700Z"
   },
   {
    "duration": 59,
    "start_time": "2021-12-21T06:23:03.714Z"
   },
   {
    "duration": 33,
    "start_time": "2021-12-21T06:23:03.776Z"
   },
   {
    "duration": 47,
    "start_time": "2021-12-21T06:23:03.812Z"
   },
   {
    "duration": 24,
    "start_time": "2021-12-21T06:23:03.861Z"
   },
   {
    "duration": 10,
    "start_time": "2021-12-21T06:23:03.888Z"
   },
   {
    "duration": 946,
    "start_time": "2021-12-21T06:23:03.901Z"
   },
   {
    "duration": 11,
    "start_time": "2021-12-21T06:23:04.850Z"
   },
   {
    "duration": 8,
    "start_time": "2021-12-21T06:23:04.865Z"
   },
   {
    "duration": 9,
    "start_time": "2021-12-21T06:23:04.876Z"
   },
   {
    "duration": 4382,
    "start_time": "2021-12-21T06:23:04.887Z"
   },
   {
    "duration": 11,
    "start_time": "2021-12-21T06:23:09.272Z"
   },
   {
    "duration": 433,
    "start_time": "2021-12-21T06:23:09.286Z"
   },
   {
    "duration": -161,
    "start_time": "2021-12-21T06:23:09.883Z"
   },
   {
    "duration": -194,
    "start_time": "2021-12-21T06:23:09.917Z"
   },
   {
    "duration": -207,
    "start_time": "2021-12-21T06:23:09.932Z"
   },
   {
    "duration": 24,
    "start_time": "2021-12-21T06:23:37.756Z"
   },
   {
    "duration": 18,
    "start_time": "2021-12-21T06:23:40.631Z"
   },
   {
    "duration": 31,
    "start_time": "2021-12-21T06:23:46.493Z"
   },
   {
    "duration": 16,
    "start_time": "2021-12-21T06:24:23.998Z"
   },
   {
    "duration": 900,
    "start_time": "2021-12-21T08:44:09.310Z"
   },
   {
    "duration": 14,
    "start_time": "2021-12-21T08:44:10.212Z"
   },
   {
    "duration": 42,
    "start_time": "2021-12-21T08:44:10.230Z"
   },
   {
    "duration": 22,
    "start_time": "2021-12-21T08:44:10.275Z"
   },
   {
    "duration": 9,
    "start_time": "2021-12-21T08:44:10.301Z"
   },
   {
    "duration": 10,
    "start_time": "2021-12-21T08:44:10.324Z"
   },
   {
    "duration": 20,
    "start_time": "2021-12-21T08:44:10.337Z"
   },
   {
    "duration": 6,
    "start_time": "2021-12-21T08:44:10.359Z"
   },
   {
    "duration": 10,
    "start_time": "2021-12-21T08:44:10.369Z"
   },
   {
    "duration": 159,
    "start_time": "2021-12-21T08:44:10.382Z"
   },
   {
    "duration": 14,
    "start_time": "2021-12-21T08:44:10.543Z"
   },
   {
    "duration": 7,
    "start_time": "2021-12-21T08:44:10.559Z"
   },
   {
    "duration": 15,
    "start_time": "2021-12-21T08:44:10.569Z"
   },
   {
    "duration": 37,
    "start_time": "2021-12-21T08:44:10.587Z"
   },
   {
    "duration": 63,
    "start_time": "2021-12-21T08:44:10.627Z"
   },
   {
    "duration": 33,
    "start_time": "2021-12-21T08:44:10.692Z"
   },
   {
    "duration": 16,
    "start_time": "2021-12-21T08:44:10.727Z"
   },
   {
    "duration": 20,
    "start_time": "2021-12-21T08:44:10.746Z"
   },
   {
    "duration": 60,
    "start_time": "2021-12-21T08:44:10.769Z"
   },
   {
    "duration": 23,
    "start_time": "2021-12-21T08:44:10.832Z"
   },
   {
    "duration": 10,
    "start_time": "2021-12-21T08:44:10.858Z"
   },
   {
    "duration": 10,
    "start_time": "2021-12-21T08:44:10.871Z"
   },
   {
    "duration": 30,
    "start_time": "2021-12-21T08:44:10.924Z"
   },
   {
    "duration": 11,
    "start_time": "2021-12-21T08:44:10.957Z"
   },
   {
    "duration": 14,
    "start_time": "2021-12-21T08:44:10.971Z"
   },
   {
    "duration": 57,
    "start_time": "2021-12-21T08:44:10.988Z"
   },
   {
    "duration": 31,
    "start_time": "2021-12-21T08:44:11.051Z"
   },
   {
    "duration": 51,
    "start_time": "2021-12-21T08:44:11.085Z"
   },
   {
    "duration": 21,
    "start_time": "2021-12-21T08:44:11.139Z"
   },
   {
    "duration": 10,
    "start_time": "2021-12-21T08:44:11.162Z"
   },
   {
    "duration": 934,
    "start_time": "2021-12-21T08:44:11.174Z"
   },
   {
    "duration": 15,
    "start_time": "2021-12-21T08:44:12.110Z"
   },
   {
    "duration": 3,
    "start_time": "2021-12-21T08:44:12.128Z"
   },
   {
    "duration": 7,
    "start_time": "2021-12-21T08:44:12.134Z"
   },
   {
    "duration": 3756,
    "start_time": "2021-12-21T08:44:12.144Z"
   },
   {
    "duration": 25,
    "start_time": "2021-12-21T08:44:15.903Z"
   },
   {
    "duration": 25,
    "start_time": "2021-12-21T08:44:15.931Z"
   },
   {
    "duration": 17,
    "start_time": "2021-12-21T08:44:15.959Z"
   },
   {
    "duration": 64,
    "start_time": "2021-12-21T08:44:15.978Z"
   },
   {
    "duration": 14,
    "start_time": "2021-12-21T08:44:16.044Z"
   },
   {
    "duration": 21,
    "start_time": "2021-12-21T08:51:28.552Z"
   },
   {
    "duration": 11104,
    "start_time": "2021-12-21T08:55:46.589Z"
   },
   {
    "duration": 11994,
    "start_time": "2021-12-21T08:56:36.440Z"
   },
   {
    "duration": 11641,
    "start_time": "2021-12-21T08:56:56.263Z"
   },
   {
    "duration": 10253,
    "start_time": "2021-12-21T08:57:37.765Z"
   },
   {
    "duration": 11708,
    "start_time": "2021-12-21T08:57:56.200Z"
   },
   {
    "duration": 11169,
    "start_time": "2021-12-21T08:58:41.967Z"
   },
   {
    "duration": 94,
    "start_time": "2021-12-21T08:59:04.032Z"
   },
   {
    "duration": 15,
    "start_time": "2021-12-21T08:59:04.128Z"
   },
   {
    "duration": 9,
    "start_time": "2021-12-21T08:59:04.146Z"
   },
   {
    "duration": 21,
    "start_time": "2021-12-21T08:59:04.158Z"
   },
   {
    "duration": 9,
    "start_time": "2021-12-21T08:59:04.223Z"
   },
   {
    "duration": 11,
    "start_time": "2021-12-21T08:59:04.234Z"
   },
   {
    "duration": 14,
    "start_time": "2021-12-21T08:59:04.248Z"
   },
   {
    "duration": 6,
    "start_time": "2021-12-21T08:59:04.266Z"
   },
   {
    "duration": 51,
    "start_time": "2021-12-21T08:59:04.274Z"
   },
   {
    "duration": 139,
    "start_time": "2021-12-21T08:59:04.327Z"
   },
   {
    "duration": 16,
    "start_time": "2021-12-21T08:59:04.468Z"
   },
   {
    "duration": 8,
    "start_time": "2021-12-21T08:59:04.487Z"
   },
   {
    "duration": 36,
    "start_time": "2021-12-21T08:59:04.497Z"
   },
   {
    "duration": 18,
    "start_time": "2021-12-21T08:59:04.535Z"
   },
   {
    "duration": 92,
    "start_time": "2021-12-21T08:59:04.556Z"
   },
   {
    "duration": 11,
    "start_time": "2021-12-21T08:59:04.651Z"
   },
   {
    "duration": 19,
    "start_time": "2021-12-21T08:59:04.664Z"
   },
   {
    "duration": 43,
    "start_time": "2021-12-21T08:59:04.686Z"
   },
   {
    "duration": 17,
    "start_time": "2021-12-21T08:59:04.732Z"
   },
   {
    "duration": 23,
    "start_time": "2021-12-21T08:59:04.752Z"
   },
   {
    "duration": 47,
    "start_time": "2021-12-21T08:59:04.778Z"
   },
   {
    "duration": 10,
    "start_time": "2021-12-21T08:59:04.827Z"
   },
   {
    "duration": 32,
    "start_time": "2021-12-21T08:59:04.843Z"
   },
   {
    "duration": 11,
    "start_time": "2021-12-21T08:59:04.878Z"
   },
   {
    "duration": 15,
    "start_time": "2021-12-21T08:59:04.924Z"
   },
   {
    "duration": 33,
    "start_time": "2021-12-21T08:59:04.942Z"
   },
   {
    "duration": 70,
    "start_time": "2021-12-21T08:59:04.978Z"
   },
   {
    "duration": 25,
    "start_time": "2021-12-21T08:59:05.051Z"
   },
   {
    "duration": 44,
    "start_time": "2021-12-21T08:59:05.079Z"
   },
   {
    "duration": 11,
    "start_time": "2021-12-21T08:59:05.125Z"
   },
   {
    "duration": 994,
    "start_time": "2021-12-21T08:59:05.138Z"
   },
   {
    "duration": 8,
    "start_time": "2021-12-21T08:59:06.135Z"
   },
   {
    "duration": 12,
    "start_time": "2021-12-21T08:59:06.146Z"
   },
   {
    "duration": 13,
    "start_time": "2021-12-21T08:59:06.161Z"
   },
   {
    "duration": 4705,
    "start_time": "2021-12-21T08:59:06.176Z"
   },
   {
    "duration": 9,
    "start_time": "2021-12-21T08:59:10.885Z"
   },
   {
    "duration": 47,
    "start_time": "2021-12-21T08:59:10.896Z"
   },
   {
    "duration": 24,
    "start_time": "2021-12-21T08:59:10.945Z"
   },
   {
    "duration": 36,
    "start_time": "2021-12-21T08:59:10.971Z"
   },
   {
    "duration": 21,
    "start_time": "2021-12-21T08:59:11.010Z"
   },
   {
    "duration": 27,
    "start_time": "2021-12-21T08:59:11.033Z"
   },
   {
    "duration": 13843,
    "start_time": "2021-12-21T08:59:21.723Z"
   },
   {
    "duration": 72,
    "start_time": "2021-12-21T09:00:16.824Z"
   },
   {
    "duration": 12430,
    "start_time": "2021-12-21T09:01:25.207Z"
   },
   {
    "duration": 1132,
    "start_time": "2021-12-21T09:01:51.720Z"
   },
   {
    "duration": 21,
    "start_time": "2021-12-21T09:01:52.856Z"
   },
   {
    "duration": 11,
    "start_time": "2021-12-21T09:01:52.881Z"
   },
   {
    "duration": 23,
    "start_time": "2021-12-21T09:01:52.924Z"
   },
   {
    "duration": 14,
    "start_time": "2021-12-21T09:01:52.952Z"
   },
   {
    "duration": 16,
    "start_time": "2021-12-21T09:01:52.970Z"
   },
   {
    "duration": 50,
    "start_time": "2021-12-21T09:01:52.989Z"
   },
   {
    "duration": 7,
    "start_time": "2021-12-21T09:01:53.043Z"
   },
   {
    "duration": 22,
    "start_time": "2021-12-21T09:01:53.054Z"
   },
   {
    "duration": 231,
    "start_time": "2021-12-21T09:01:53.080Z"
   },
   {
    "duration": 20,
    "start_time": "2021-12-21T09:01:53.323Z"
   },
   {
    "duration": 11,
    "start_time": "2021-12-21T09:01:53.345Z"
   },
   {
    "duration": 16,
    "start_time": "2021-12-21T09:01:53.359Z"
   },
   {
    "duration": 48,
    "start_time": "2021-12-21T09:01:53.377Z"
   },
   {
    "duration": 69,
    "start_time": "2021-12-21T09:01:53.428Z"
   },
   {
    "duration": 10,
    "start_time": "2021-12-21T09:01:53.523Z"
   },
   {
    "duration": 22,
    "start_time": "2021-12-21T09:01:53.536Z"
   },
   {
    "duration": 18,
    "start_time": "2021-12-21T09:01:53.561Z"
   },
   {
    "duration": 54,
    "start_time": "2021-12-21T09:01:53.582Z"
   },
   {
    "duration": 35,
    "start_time": "2021-12-21T09:01:53.638Z"
   },
   {
    "duration": 10,
    "start_time": "2021-12-21T09:01:53.675Z"
   },
   {
    "duration": 39,
    "start_time": "2021-12-21T09:01:53.688Z"
   },
   {
    "duration": 33,
    "start_time": "2021-12-21T09:01:53.732Z"
   },
   {
    "duration": 12,
    "start_time": "2021-12-21T09:01:53.768Z"
   },
   {
    "duration": 49,
    "start_time": "2021-12-21T09:01:53.783Z"
   },
   {
    "duration": 35,
    "start_time": "2021-12-21T09:01:53.835Z"
   },
   {
    "duration": 72,
    "start_time": "2021-12-21T09:01:53.873Z"
   },
   {
    "duration": 39,
    "start_time": "2021-12-21T09:01:53.948Z"
   },
   {
    "duration": 46,
    "start_time": "2021-12-21T09:01:53.990Z"
   },
   {
    "duration": 10,
    "start_time": "2021-12-21T09:01:54.039Z"
   },
   {
    "duration": 976,
    "start_time": "2021-12-21T09:01:54.052Z"
   },
   {
    "duration": 7,
    "start_time": "2021-12-21T09:01:55.031Z"
   },
   {
    "duration": 15,
    "start_time": "2021-12-21T09:01:55.041Z"
   },
   {
    "duration": 9,
    "start_time": "2021-12-21T09:01:55.058Z"
   },
   {
    "duration": 5029,
    "start_time": "2021-12-21T09:01:55.070Z"
   },
   {
    "duration": 23,
    "start_time": "2021-12-21T09:02:00.102Z"
   },
   {
    "duration": 29,
    "start_time": "2021-12-21T09:02:00.127Z"
   },
   {
    "duration": 16,
    "start_time": "2021-12-21T09:02:00.160Z"
   },
   {
    "duration": 59,
    "start_time": "2021-12-21T09:02:00.179Z"
   },
   {
    "duration": 14,
    "start_time": "2021-12-21T09:02:00.241Z"
   },
   {
    "duration": 23,
    "start_time": "2021-12-21T09:02:00.258Z"
   },
   {
    "duration": 561,
    "start_time": "2021-12-21T09:05:34.063Z"
   },
   {
    "duration": 91,
    "start_time": "2021-12-21T09:05:50.773Z"
   },
   {
    "duration": 21,
    "start_time": "2021-12-21T09:05:50.867Z"
   },
   {
    "duration": 53,
    "start_time": "2021-12-21T09:05:50.925Z"
   },
   {
    "duration": 58,
    "start_time": "2021-12-21T09:05:50.983Z"
   },
   {
    "duration": 56,
    "start_time": "2021-12-21T09:05:51.044Z"
   },
   {
    "duration": 51,
    "start_time": "2021-12-21T09:05:51.103Z"
   },
   {
    "duration": 58,
    "start_time": "2021-12-21T09:05:51.157Z"
   },
   {
    "duration": 61,
    "start_time": "2021-12-21T09:05:51.219Z"
   },
   {
    "duration": 36,
    "start_time": "2021-12-21T09:05:51.284Z"
   },
   {
    "duration": 171,
    "start_time": "2021-12-21T09:05:51.323Z"
   },
   {
    "duration": 25,
    "start_time": "2021-12-21T09:05:51.498Z"
   },
   {
    "duration": 49,
    "start_time": "2021-12-21T09:05:51.526Z"
   },
   {
    "duration": 36,
    "start_time": "2021-12-21T09:05:51.578Z"
   },
   {
    "duration": 42,
    "start_time": "2021-12-21T09:05:51.617Z"
   },
   {
    "duration": 131,
    "start_time": "2021-12-21T09:05:51.662Z"
   },
   {
    "duration": 27,
    "start_time": "2021-12-21T09:05:51.797Z"
   },
   {
    "duration": 43,
    "start_time": "2021-12-21T09:05:51.827Z"
   },
   {
    "duration": 40,
    "start_time": "2021-12-21T09:05:51.873Z"
   },
   {
    "duration": 51,
    "start_time": "2021-12-21T09:05:51.918Z"
   },
   {
    "duration": 25,
    "start_time": "2021-12-21T09:05:51.972Z"
   },
   {
    "duration": 10,
    "start_time": "2021-12-21T09:05:52.000Z"
   },
   {
    "duration": 16,
    "start_time": "2021-12-21T09:05:52.012Z"
   },
   {
    "duration": 60,
    "start_time": "2021-12-21T09:05:52.036Z"
   },
   {
    "duration": 27,
    "start_time": "2021-12-21T09:05:52.100Z"
   },
   {
    "duration": 21,
    "start_time": "2021-12-21T09:05:52.130Z"
   },
   {
    "duration": 33,
    "start_time": "2021-12-21T09:05:52.155Z"
   },
   {
    "duration": 71,
    "start_time": "2021-12-21T09:05:52.190Z"
   },
   {
    "duration": 38,
    "start_time": "2021-12-21T09:05:52.265Z"
   },
   {
    "duration": 33,
    "start_time": "2021-12-21T09:05:52.324Z"
   },
   {
    "duration": 14,
    "start_time": "2021-12-21T09:05:52.361Z"
   },
   {
    "duration": 1128,
    "start_time": "2021-12-21T09:05:52.377Z"
   },
   {
    "duration": 23,
    "start_time": "2021-12-21T09:05:53.509Z"
   },
   {
    "duration": 5,
    "start_time": "2021-12-21T09:05:53.536Z"
   },
   {
    "duration": 25,
    "start_time": "2021-12-21T09:05:53.544Z"
   },
   {
    "duration": 5473,
    "start_time": "2021-12-21T09:05:53.571Z"
   },
   {
    "duration": 14,
    "start_time": "2021-12-21T09:05:59.047Z"
   },
   {
    "duration": 53,
    "start_time": "2021-12-21T09:05:59.065Z"
   },
   {
    "duration": 24,
    "start_time": "2021-12-21T09:05:59.123Z"
   },
   {
    "duration": 32,
    "start_time": "2021-12-21T09:05:59.150Z"
   },
   {
    "duration": 44,
    "start_time": "2021-12-21T09:05:59.185Z"
   },
   {
    "duration": 1195,
    "start_time": "2021-12-21T09:05:59.232Z"
   },
   {
    "duration": 11,
    "start_time": "2021-12-21T09:13:41.440Z"
   },
   {
    "duration": 12,
    "start_time": "2021-12-21T09:13:47.087Z"
   },
   {
    "duration": 14,
    "start_time": "2021-12-21T09:15:34.989Z"
   },
   {
    "duration": 12,
    "start_time": "2021-12-21T09:16:00.648Z"
   },
   {
    "duration": 14,
    "start_time": "2021-12-21T09:16:19.963Z"
   },
   {
    "duration": 353,
    "start_time": "2021-12-21T09:16:33.288Z"
   },
   {
    "duration": 17,
    "start_time": "2021-12-21T09:16:38.278Z"
   },
   {
    "duration": 13,
    "start_time": "2021-12-21T09:16:46.781Z"
   },
   {
    "duration": 21,
    "start_time": "2021-12-21T09:17:09.673Z"
   },
   {
    "duration": 14,
    "start_time": "2021-12-21T09:17:56.232Z"
   },
   {
    "duration": 914,
    "start_time": "2021-12-21T09:18:58.173Z"
   },
   {
    "duration": 12,
    "start_time": "2021-12-21T09:19:03.436Z"
   },
   {
    "duration": 4,
    "start_time": "2021-12-21T09:19:15.078Z"
   },
   {
    "duration": 4,
    "start_time": "2021-12-21T09:19:15.731Z"
   },
   {
    "duration": 4076,
    "start_time": "2021-12-21T09:19:16.215Z"
   },
   {
    "duration": 10,
    "start_time": "2021-12-21T09:19:20.293Z"
   },
   {
    "duration": 26,
    "start_time": "2021-12-21T09:19:20.323Z"
   },
   {
    "duration": 46,
    "start_time": "2021-12-21T09:19:20.352Z"
   },
   {
    "duration": 96,
    "start_time": "2021-12-21T09:19:20.402Z"
   },
   {
    "duration": 25,
    "start_time": "2021-12-21T09:19:20.500Z"
   },
   {
    "duration": 38,
    "start_time": "2021-12-21T09:19:22.328Z"
   },
   {
    "duration": 404,
    "start_time": "2021-12-21T09:19:43.892Z"
   },
   {
    "duration": 77,
    "start_time": "2021-12-21T09:19:47.330Z"
   },
   {
    "duration": 31,
    "start_time": "2021-12-21T09:19:47.410Z"
   },
   {
    "duration": 11,
    "start_time": "2021-12-21T09:19:47.445Z"
   },
   {
    "duration": 66,
    "start_time": "2021-12-21T09:19:47.459Z"
   },
   {
    "duration": 9,
    "start_time": "2021-12-21T09:19:47.528Z"
   },
   {
    "duration": 38,
    "start_time": "2021-12-21T09:19:47.540Z"
   },
   {
    "duration": 20,
    "start_time": "2021-12-21T09:19:47.580Z"
   },
   {
    "duration": 18,
    "start_time": "2021-12-21T09:19:47.602Z"
   },
   {
    "duration": 34,
    "start_time": "2021-12-21T09:19:47.624Z"
   },
   {
    "duration": 132,
    "start_time": "2021-12-21T09:19:47.662Z"
   },
   {
    "duration": 33,
    "start_time": "2021-12-21T09:19:47.797Z"
   },
   {
    "duration": 27,
    "start_time": "2021-12-21T09:19:47.832Z"
   },
   {
    "duration": 27,
    "start_time": "2021-12-21T09:19:47.861Z"
   },
   {
    "duration": 41,
    "start_time": "2021-12-21T09:19:47.890Z"
   },
   {
    "duration": 95,
    "start_time": "2021-12-21T09:19:47.933Z"
   },
   {
    "duration": 9,
    "start_time": "2021-12-21T09:19:48.031Z"
   },
   {
    "duration": 51,
    "start_time": "2021-12-21T09:19:48.042Z"
   },
   {
    "duration": 51,
    "start_time": "2021-12-21T09:19:48.095Z"
   },
   {
    "duration": 22,
    "start_time": "2021-12-21T09:19:48.148Z"
   },
   {
    "duration": 41,
    "start_time": "2021-12-21T09:19:48.172Z"
   },
   {
    "duration": 16,
    "start_time": "2021-12-21T09:19:48.216Z"
   },
   {
    "duration": 29,
    "start_time": "2021-12-21T09:19:48.235Z"
   },
   {
    "duration": 70,
    "start_time": "2021-12-21T09:19:48.267Z"
   },
   {
    "duration": 22,
    "start_time": "2021-12-21T09:19:48.339Z"
   },
   {
    "duration": 44,
    "start_time": "2021-12-21T09:19:48.364Z"
   },
   {
    "duration": 60,
    "start_time": "2021-12-21T09:19:48.411Z"
   },
   {
    "duration": 45,
    "start_time": "2021-12-21T09:19:48.477Z"
   },
   {
    "duration": 34,
    "start_time": "2021-12-21T09:19:48.525Z"
   },
   {
    "duration": 29,
    "start_time": "2021-12-21T09:19:48.561Z"
   },
   {
    "duration": 39,
    "start_time": "2021-12-21T09:19:48.593Z"
   },
   {
    "duration": 1263,
    "start_time": "2021-12-21T09:19:48.634Z"
   },
   {
    "duration": 8,
    "start_time": "2021-12-21T09:19:49.900Z"
   },
   {
    "duration": 4,
    "start_time": "2021-12-21T09:19:49.925Z"
   },
   {
    "duration": 33,
    "start_time": "2021-12-21T09:19:49.931Z"
   },
   {
    "duration": 4640,
    "start_time": "2021-12-21T09:19:49.967Z"
   },
   {
    "duration": 19,
    "start_time": "2021-12-21T09:19:54.610Z"
   },
   {
    "duration": 47,
    "start_time": "2021-12-21T09:19:54.631Z"
   },
   {
    "duration": 16,
    "start_time": "2021-12-21T09:19:54.680Z"
   },
   {
    "duration": 54,
    "start_time": "2021-12-21T09:19:54.699Z"
   },
   {
    "duration": 15,
    "start_time": "2021-12-21T09:19:54.757Z"
   },
   {
    "duration": 44,
    "start_time": "2021-12-21T09:19:54.774Z"
   },
   {
    "duration": 988,
    "start_time": "2021-12-21T09:21:14.619Z"
   },
   {
    "duration": 21,
    "start_time": "2021-12-21T09:21:15.609Z"
   },
   {
    "duration": 18,
    "start_time": "2021-12-21T09:21:15.641Z"
   },
   {
    "duration": 27,
    "start_time": "2021-12-21T09:21:15.662Z"
   },
   {
    "duration": 10,
    "start_time": "2021-12-21T09:21:15.692Z"
   },
   {
    "duration": 37,
    "start_time": "2021-12-21T09:21:15.704Z"
   },
   {
    "duration": 16,
    "start_time": "2021-12-21T09:21:15.745Z"
   },
   {
    "duration": 9,
    "start_time": "2021-12-21T09:21:15.765Z"
   },
   {
    "duration": 11,
    "start_time": "2021-12-21T09:21:15.778Z"
   },
   {
    "duration": 182,
    "start_time": "2021-12-21T09:21:15.792Z"
   },
   {
    "duration": 17,
    "start_time": "2021-12-21T09:21:15.976Z"
   },
   {
    "duration": 32,
    "start_time": "2021-12-21T09:21:15.996Z"
   },
   {
    "duration": 17,
    "start_time": "2021-12-21T09:21:16.038Z"
   },
   {
    "duration": 11,
    "start_time": "2021-12-21T09:21:16.057Z"
   },
   {
    "duration": 109,
    "start_time": "2021-12-21T09:21:16.071Z"
   },
   {
    "duration": 9,
    "start_time": "2021-12-21T09:21:16.183Z"
   },
   {
    "duration": 37,
    "start_time": "2021-12-21T09:21:16.194Z"
   },
   {
    "duration": 24,
    "start_time": "2021-12-21T09:21:16.235Z"
   },
   {
    "duration": 19,
    "start_time": "2021-12-21T09:21:16.261Z"
   },
   {
    "duration": 55,
    "start_time": "2021-12-21T09:21:16.283Z"
   },
   {
    "duration": 14,
    "start_time": "2021-12-21T09:21:16.341Z"
   },
   {
    "duration": 11,
    "start_time": "2021-12-21T09:21:16.359Z"
   },
   {
    "duration": 66,
    "start_time": "2021-12-21T09:21:16.375Z"
   },
   {
    "duration": 11,
    "start_time": "2021-12-21T09:21:16.444Z"
   },
   {
    "duration": 14,
    "start_time": "2021-12-21T09:21:16.458Z"
   },
   {
    "duration": 62,
    "start_time": "2021-12-21T09:21:16.474Z"
   },
   {
    "duration": 33,
    "start_time": "2021-12-21T09:21:16.539Z"
   },
   {
    "duration": 26,
    "start_time": "2021-12-21T09:21:16.574Z"
   },
   {
    "duration": 40,
    "start_time": "2021-12-21T09:21:16.603Z"
   },
   {
    "duration": 13,
    "start_time": "2021-12-21T09:21:16.646Z"
   },
   {
    "duration": 1122,
    "start_time": "2021-12-21T09:21:16.662Z"
   },
   {
    "duration": 7,
    "start_time": "2021-12-21T09:21:17.787Z"
   },
   {
    "duration": 30,
    "start_time": "2021-12-21T09:21:17.797Z"
   },
   {
    "duration": 5,
    "start_time": "2021-12-21T09:21:17.831Z"
   },
   {
    "duration": 5689,
    "start_time": "2021-12-21T09:21:17.840Z"
   },
   {
    "duration": 11,
    "start_time": "2021-12-21T09:21:23.533Z"
   },
   {
    "duration": 395,
    "start_time": "2021-12-21T09:21:23.547Z"
   },
   {
    "duration": 288,
    "start_time": "2021-12-21T09:21:23.945Z"
   },
   {
    "duration": 101,
    "start_time": "2021-12-21T09:21:24.235Z"
   },
   {
    "duration": 39,
    "start_time": "2021-12-21T09:21:24.338Z"
   },
   {
    "duration": 884,
    "start_time": "2021-12-21T09:21:24.380Z"
   },
   {
    "duration": 867,
    "start_time": "2021-12-21T09:23:24.409Z"
   },
   {
    "duration": 15,
    "start_time": "2021-12-21T09:23:25.279Z"
   },
   {
    "duration": 29,
    "start_time": "2021-12-21T09:23:25.297Z"
   },
   {
    "duration": 20,
    "start_time": "2021-12-21T09:23:25.328Z"
   },
   {
    "duration": 10,
    "start_time": "2021-12-21T09:23:25.350Z"
   },
   {
    "duration": 22,
    "start_time": "2021-12-21T09:23:25.363Z"
   },
   {
    "duration": 36,
    "start_time": "2021-12-21T09:23:25.387Z"
   },
   {
    "duration": 6,
    "start_time": "2021-12-21T09:23:25.427Z"
   },
   {
    "duration": 18,
    "start_time": "2021-12-21T09:23:25.436Z"
   },
   {
    "duration": 151,
    "start_time": "2021-12-21T09:23:25.456Z"
   },
   {
    "duration": 24,
    "start_time": "2021-12-21T09:23:25.610Z"
   },
   {
    "duration": 9,
    "start_time": "2021-12-21T09:23:25.637Z"
   },
   {
    "duration": 11,
    "start_time": "2021-12-21T09:23:25.649Z"
   },
   {
    "duration": 9,
    "start_time": "2021-12-21T09:23:25.662Z"
   },
   {
    "duration": 104,
    "start_time": "2021-12-21T09:23:25.674Z"
   },
   {
    "duration": 10,
    "start_time": "2021-12-21T09:23:25.780Z"
   },
   {
    "duration": 38,
    "start_time": "2021-12-21T09:23:25.792Z"
   },
   {
    "duration": 18,
    "start_time": "2021-12-21T09:23:25.832Z"
   },
   {
    "duration": 16,
    "start_time": "2021-12-21T09:23:25.853Z"
   },
   {
    "duration": 58,
    "start_time": "2021-12-21T09:23:25.871Z"
   },
   {
    "duration": 9,
    "start_time": "2021-12-21T09:23:25.932Z"
   },
   {
    "duration": 15,
    "start_time": "2021-12-21T09:23:25.943Z"
   },
   {
    "duration": 30,
    "start_time": "2021-12-21T09:23:25.963Z"
   },
   {
    "duration": 36,
    "start_time": "2021-12-21T09:23:25.996Z"
   },
   {
    "duration": 14,
    "start_time": "2021-12-21T09:23:26.034Z"
   },
   {
    "duration": 29,
    "start_time": "2021-12-21T09:23:26.050Z"
   },
   {
    "duration": 62,
    "start_time": "2021-12-21T09:23:26.081Z"
   },
   {
    "duration": 24,
    "start_time": "2021-12-21T09:23:26.146Z"
   },
   {
    "duration": 21,
    "start_time": "2021-12-21T09:23:26.172Z"
   },
   {
    "duration": 33,
    "start_time": "2021-12-21T09:23:26.196Z"
   },
   {
    "duration": 897,
    "start_time": "2021-12-21T09:23:26.231Z"
   },
   {
    "duration": 6,
    "start_time": "2021-12-21T09:23:27.131Z"
   },
   {
    "duration": 12,
    "start_time": "2021-12-21T09:23:27.139Z"
   },
   {
    "duration": 13,
    "start_time": "2021-12-21T09:23:27.153Z"
   },
   {
    "duration": 3783,
    "start_time": "2021-12-21T09:23:27.168Z"
   },
   {
    "duration": 9,
    "start_time": "2021-12-21T09:23:30.954Z"
   },
   {
    "duration": 47,
    "start_time": "2021-12-21T09:23:30.966Z"
   },
   {
    "duration": 42,
    "start_time": "2021-12-21T09:23:31.015Z"
   },
   {
    "duration": 62,
    "start_time": "2021-12-21T09:23:31.060Z"
   },
   {
    "duration": 22,
    "start_time": "2021-12-21T09:23:31.124Z"
   },
   {
    "duration": 1262,
    "start_time": "2021-12-21T09:23:31.149Z"
   },
   {
    "duration": 873,
    "start_time": "2021-12-21T09:23:54.671Z"
   },
   {
    "duration": 15,
    "start_time": "2021-12-21T09:23:55.547Z"
   },
   {
    "duration": 36,
    "start_time": "2021-12-21T09:23:55.566Z"
   },
   {
    "duration": 23,
    "start_time": "2021-12-21T09:23:55.605Z"
   },
   {
    "duration": 23,
    "start_time": "2021-12-21T09:23:55.630Z"
   },
   {
    "duration": 37,
    "start_time": "2021-12-21T09:23:55.655Z"
   },
   {
    "duration": 44,
    "start_time": "2021-12-21T09:23:55.695Z"
   },
   {
    "duration": 7,
    "start_time": "2021-12-21T09:23:55.744Z"
   },
   {
    "duration": 9,
    "start_time": "2021-12-21T09:23:55.753Z"
   },
   {
    "duration": 141,
    "start_time": "2021-12-21T09:23:55.765Z"
   },
   {
    "duration": 22,
    "start_time": "2021-12-21T09:23:55.908Z"
   },
   {
    "duration": 23,
    "start_time": "2021-12-21T09:23:55.933Z"
   },
   {
    "duration": 31,
    "start_time": "2021-12-21T09:23:55.959Z"
   },
   {
    "duration": 26,
    "start_time": "2021-12-21T09:23:55.992Z"
   },
   {
    "duration": 74,
    "start_time": "2021-12-21T09:23:56.021Z"
   },
   {
    "duration": 11,
    "start_time": "2021-12-21T09:23:56.098Z"
   },
   {
    "duration": 55,
    "start_time": "2021-12-21T09:23:56.112Z"
   },
   {
    "duration": 25,
    "start_time": "2021-12-21T09:23:56.169Z"
   },
   {
    "duration": 31,
    "start_time": "2021-12-21T09:23:56.197Z"
   },
   {
    "duration": 36,
    "start_time": "2021-12-21T09:23:56.231Z"
   },
   {
    "duration": 9,
    "start_time": "2021-12-21T09:23:56.270Z"
   },
   {
    "duration": 12,
    "start_time": "2021-12-21T09:23:56.281Z"
   },
   {
    "duration": 50,
    "start_time": "2021-12-21T09:23:56.298Z"
   },
   {
    "duration": 11,
    "start_time": "2021-12-21T09:23:56.351Z"
   },
   {
    "duration": 13,
    "start_time": "2021-12-21T09:23:56.365Z"
   },
   {
    "duration": 52,
    "start_time": "2021-12-21T09:23:56.380Z"
   },
   {
    "duration": 33,
    "start_time": "2021-12-21T09:23:56.435Z"
   },
   {
    "duration": 52,
    "start_time": "2021-12-21T09:23:56.471Z"
   },
   {
    "duration": 23,
    "start_time": "2021-12-21T09:23:56.526Z"
   },
   {
    "duration": 11,
    "start_time": "2021-12-21T09:23:56.552Z"
   },
   {
    "duration": 928,
    "start_time": "2021-12-21T09:23:56.567Z"
   },
   {
    "duration": 24,
    "start_time": "2021-12-21T09:23:57.499Z"
   },
   {
    "duration": 5,
    "start_time": "2021-12-21T09:23:57.525Z"
   },
   {
    "duration": 6,
    "start_time": "2021-12-21T09:23:57.533Z"
   },
   {
    "duration": 4001,
    "start_time": "2021-12-21T09:23:57.541Z"
   },
   {
    "duration": 11,
    "start_time": "2021-12-21T09:24:01.545Z"
   },
   {
    "duration": 64,
    "start_time": "2021-12-21T09:24:01.559Z"
   },
   {
    "duration": 23,
    "start_time": "2021-12-21T09:24:01.626Z"
   },
   {
    "duration": 37,
    "start_time": "2021-12-21T09:24:01.651Z"
   },
   {
    "duration": 35,
    "start_time": "2021-12-21T09:24:01.691Z"
   },
   {
    "duration": 1619,
    "start_time": "2021-12-21T09:24:01.729Z"
   },
   {
    "duration": 434,
    "start_time": "2021-12-21T09:24:31.799Z"
   },
   {
    "duration": 1029,
    "start_time": "2021-12-21T09:38:08.438Z"
   },
   {
    "duration": 16,
    "start_time": "2021-12-21T09:38:09.470Z"
   },
   {
    "duration": 12,
    "start_time": "2021-12-21T09:38:09.489Z"
   },
   {
    "duration": 19,
    "start_time": "2021-12-21T09:38:09.524Z"
   },
   {
    "duration": 19,
    "start_time": "2021-12-21T09:38:09.546Z"
   },
   {
    "duration": 11,
    "start_time": "2021-12-21T09:38:09.568Z"
   },
   {
    "duration": 41,
    "start_time": "2021-12-21T09:38:09.582Z"
   },
   {
    "duration": 7,
    "start_time": "2021-12-21T09:38:09.626Z"
   },
   {
    "duration": 21,
    "start_time": "2021-12-21T09:38:09.637Z"
   },
   {
    "duration": 135,
    "start_time": "2021-12-21T09:38:09.662Z"
   },
   {
    "duration": 26,
    "start_time": "2021-12-21T09:38:09.799Z"
   },
   {
    "duration": 8,
    "start_time": "2021-12-21T09:38:09.827Z"
   },
   {
    "duration": 25,
    "start_time": "2021-12-21T09:38:09.838Z"
   },
   {
    "duration": 16,
    "start_time": "2021-12-21T09:38:09.865Z"
   },
   {
    "duration": 94,
    "start_time": "2021-12-21T09:38:09.884Z"
   },
   {
    "duration": 9,
    "start_time": "2021-12-21T09:38:09.981Z"
   },
   {
    "duration": 65,
    "start_time": "2021-12-21T09:38:09.992Z"
   },
   {
    "duration": 25,
    "start_time": "2021-12-21T09:38:10.060Z"
   },
   {
    "duration": 16,
    "start_time": "2021-12-21T09:38:10.088Z"
   },
   {
    "duration": 37,
    "start_time": "2021-12-21T09:38:10.106Z"
   },
   {
    "duration": 10,
    "start_time": "2021-12-21T09:38:10.145Z"
   },
   {
    "duration": 20,
    "start_time": "2021-12-21T09:38:10.158Z"
   },
   {
    "duration": 62,
    "start_time": "2021-12-21T09:38:10.181Z"
   },
   {
    "duration": 15,
    "start_time": "2021-12-21T09:38:10.245Z"
   },
   {
    "duration": 22,
    "start_time": "2021-12-21T09:38:10.263Z"
   },
   {
    "duration": 47,
    "start_time": "2021-12-21T09:38:10.288Z"
   },
   {
    "duration": 34,
    "start_time": "2021-12-21T09:38:10.340Z"
   },
   {
    "duration": 52,
    "start_time": "2021-12-21T09:38:10.377Z"
   },
   {
    "duration": 22,
    "start_time": "2021-12-21T09:38:10.432Z"
   },
   {
    "duration": 24,
    "start_time": "2021-12-21T09:38:10.456Z"
   },
   {
    "duration": 942,
    "start_time": "2021-12-21T09:38:10.483Z"
   },
   {
    "duration": 7,
    "start_time": "2021-12-21T09:38:11.428Z"
   },
   {
    "duration": 12,
    "start_time": "2021-12-21T09:38:11.437Z"
   },
   {
    "duration": 19,
    "start_time": "2021-12-21T09:38:11.451Z"
   },
   {
    "duration": 4353,
    "start_time": "2021-12-21T09:38:11.472Z"
   },
   {
    "duration": 10,
    "start_time": "2021-12-21T09:38:15.827Z"
   },
   {
    "duration": 61,
    "start_time": "2021-12-21T09:38:15.840Z"
   },
   {
    "duration": 23,
    "start_time": "2021-12-21T09:38:15.903Z"
   },
   {
    "duration": 50,
    "start_time": "2021-12-21T09:38:15.929Z"
   },
   {
    "duration": 18,
    "start_time": "2021-12-21T09:38:15.982Z"
   },
   {
    "duration": 748,
    "start_time": "2021-12-21T09:38:16.002Z"
   },
   {
    "duration": 32,
    "start_time": "2021-12-21T09:42:08.677Z"
   },
   {
    "duration": 18,
    "start_time": "2021-12-21T09:48:43.499Z"
   },
   {
    "duration": 820,
    "start_time": "2021-12-21T09:51:53.480Z"
   },
   {
    "duration": 19,
    "start_time": "2021-12-21T09:51:54.304Z"
   },
   {
    "duration": 11,
    "start_time": "2021-12-21T09:51:54.327Z"
   },
   {
    "duration": 20,
    "start_time": "2021-12-21T09:51:54.341Z"
   },
   {
    "duration": 10,
    "start_time": "2021-12-21T09:51:54.364Z"
   },
   {
    "duration": 57,
    "start_time": "2021-12-21T09:51:54.376Z"
   },
   {
    "duration": 20,
    "start_time": "2021-12-21T09:51:54.435Z"
   },
   {
    "duration": 7,
    "start_time": "2021-12-21T09:51:54.458Z"
   },
   {
    "duration": 8,
    "start_time": "2021-12-21T09:51:54.469Z"
   },
   {
    "duration": 162,
    "start_time": "2021-12-21T09:51:54.479Z"
   },
   {
    "duration": 13,
    "start_time": "2021-12-21T09:51:54.644Z"
   },
   {
    "duration": 11,
    "start_time": "2021-12-21T09:51:54.659Z"
   },
   {
    "duration": 14,
    "start_time": "2021-12-21T09:51:54.672Z"
   },
   {
    "duration": 38,
    "start_time": "2021-12-21T09:51:54.689Z"
   },
   {
    "duration": 62,
    "start_time": "2021-12-21T09:51:54.729Z"
   },
   {
    "duration": 32,
    "start_time": "2021-12-21T09:51:54.793Z"
   },
   {
    "duration": 15,
    "start_time": "2021-12-21T09:51:54.827Z"
   },
   {
    "duration": 25,
    "start_time": "2021-12-21T09:51:54.844Z"
   },
   {
    "duration": 20,
    "start_time": "2021-12-21T09:51:54.871Z"
   },
   {
    "duration": 45,
    "start_time": "2021-12-21T09:51:54.893Z"
   },
   {
    "duration": 15,
    "start_time": "2021-12-21T09:51:54.940Z"
   },
   {
    "duration": 29,
    "start_time": "2021-12-21T09:51:54.957Z"
   },
   {
    "duration": 41,
    "start_time": "2021-12-21T09:51:54.991Z"
   },
   {
    "duration": 33,
    "start_time": "2021-12-21T09:51:55.034Z"
   },
   {
    "duration": 19,
    "start_time": "2021-12-21T09:51:55.069Z"
   },
   {
    "duration": 42,
    "start_time": "2021-12-21T09:51:55.090Z"
   },
   {
    "duration": 32,
    "start_time": "2021-12-21T09:51:55.135Z"
   },
   {
    "duration": 23,
    "start_time": "2021-12-21T09:51:55.169Z"
   },
   {
    "duration": 42,
    "start_time": "2021-12-21T09:51:55.195Z"
   },
   {
    "duration": 10,
    "start_time": "2021-12-21T09:51:55.239Z"
   },
   {
    "duration": 912,
    "start_time": "2021-12-21T09:51:55.251Z"
   },
   {
    "duration": 6,
    "start_time": "2021-12-21T09:51:56.166Z"
   },
   {
    "duration": 11,
    "start_time": "2021-12-21T09:51:56.174Z"
   },
   {
    "duration": 13,
    "start_time": "2021-12-21T09:51:56.187Z"
   },
   {
    "duration": 3793,
    "start_time": "2021-12-21T09:51:56.202Z"
   },
   {
    "duration": 9,
    "start_time": "2021-12-21T09:51:59.998Z"
   },
   {
    "duration": 22,
    "start_time": "2021-12-21T09:52:00.024Z"
   },
   {
    "duration": 15,
    "start_time": "2021-12-21T09:52:00.049Z"
   },
   {
    "duration": 57,
    "start_time": "2021-12-21T09:52:00.066Z"
   },
   {
    "duration": 17,
    "start_time": "2021-12-21T09:52:00.126Z"
   },
   {
    "duration": 748,
    "start_time": "2021-12-21T09:52:00.146Z"
   },
   {
    "duration": 29,
    "start_time": "2021-12-21T09:52:00.897Z"
   },
   {
    "duration": 16,
    "start_time": "2021-12-21T09:52:00.929Z"
   },
   {
    "duration": 824,
    "start_time": "2021-12-21T09:54:24.658Z"
   },
   {
    "duration": 16,
    "start_time": "2021-12-21T09:54:25.485Z"
   },
   {
    "duration": 23,
    "start_time": "2021-12-21T09:54:25.504Z"
   },
   {
    "duration": 21,
    "start_time": "2021-12-21T09:54:25.530Z"
   },
   {
    "duration": 9,
    "start_time": "2021-12-21T09:54:25.554Z"
   },
   {
    "duration": 8,
    "start_time": "2021-12-21T09:54:25.566Z"
   },
   {
    "duration": 20,
    "start_time": "2021-12-21T09:54:25.623Z"
   },
   {
    "duration": 6,
    "start_time": "2021-12-21T09:54:25.649Z"
   },
   {
    "duration": 8,
    "start_time": "2021-12-21T09:54:25.659Z"
   },
   {
    "duration": 187,
    "start_time": "2021-12-21T09:54:25.670Z"
   },
   {
    "duration": 14,
    "start_time": "2021-12-21T09:54:25.860Z"
   },
   {
    "duration": 7,
    "start_time": "2021-12-21T09:54:25.876Z"
   },
   {
    "duration": 40,
    "start_time": "2021-12-21T09:54:25.886Z"
   },
   {
    "duration": 7,
    "start_time": "2021-12-21T09:54:25.929Z"
   },
   {
    "duration": 108,
    "start_time": "2021-12-21T09:54:25.939Z"
   },
   {
    "duration": 10,
    "start_time": "2021-12-21T09:54:26.050Z"
   },
   {
    "duration": 15,
    "start_time": "2021-12-21T09:54:26.062Z"
   },
   {
    "duration": 55,
    "start_time": "2021-12-21T09:54:26.079Z"
   },
   {
    "duration": 18,
    "start_time": "2021-12-21T09:54:26.137Z"
   },
   {
    "duration": 28,
    "start_time": "2021-12-21T09:54:26.157Z"
   },
   {
    "duration": 10,
    "start_time": "2021-12-21T09:54:26.187Z"
   },
   {
    "duration": 35,
    "start_time": "2021-12-21T09:54:26.200Z"
   },
   {
    "duration": 48,
    "start_time": "2021-12-21T09:54:26.241Z"
   },
   {
    "duration": 47,
    "start_time": "2021-12-21T09:54:26.292Z"
   },
   {
    "duration": 25,
    "start_time": "2021-12-21T09:54:26.341Z"
   },
   {
    "duration": 56,
    "start_time": "2021-12-21T09:54:26.369Z"
   },
   {
    "duration": 46,
    "start_time": "2021-12-21T09:54:26.428Z"
   },
   {
    "duration": 61,
    "start_time": "2021-12-21T09:54:26.477Z"
   },
   {
    "duration": 30,
    "start_time": "2021-12-21T09:54:26.540Z"
   },
   {
    "duration": 13,
    "start_time": "2021-12-21T09:54:26.573Z"
   },
   {
    "duration": 937,
    "start_time": "2021-12-21T09:54:26.589Z"
   },
   {
    "duration": 6,
    "start_time": "2021-12-21T09:54:27.529Z"
   },
   {
    "duration": 5,
    "start_time": "2021-12-21T09:54:27.538Z"
   },
   {
    "duration": 6,
    "start_time": "2021-12-21T09:54:27.545Z"
   },
   {
    "duration": 4222,
    "start_time": "2021-12-21T09:54:27.553Z"
   },
   {
    "duration": 12,
    "start_time": "2021-12-21T09:54:31.778Z"
   },
   {
    "duration": 49,
    "start_time": "2021-12-21T09:54:31.793Z"
   },
   {
    "duration": 22,
    "start_time": "2021-12-21T09:54:31.845Z"
   },
   {
    "duration": 52,
    "start_time": "2021-12-21T09:54:31.871Z"
   },
   {
    "duration": 15,
    "start_time": "2021-12-21T09:54:31.926Z"
   },
   {
    "duration": 782,
    "start_time": "2021-12-21T09:54:31.943Z"
   },
   {
    "duration": 22,
    "start_time": "2021-12-21T09:54:32.727Z"
   },
   {
    "duration": 33,
    "start_time": "2021-12-21T09:54:32.751Z"
   },
   {
    "duration": 839,
    "start_time": "2021-12-21T09:54:58.762Z"
   },
   {
    "duration": 19,
    "start_time": "2021-12-21T09:54:59.604Z"
   },
   {
    "duration": 10,
    "start_time": "2021-12-21T09:54:59.628Z"
   },
   {
    "duration": 21,
    "start_time": "2021-12-21T09:54:59.642Z"
   },
   {
    "duration": 9,
    "start_time": "2021-12-21T09:54:59.666Z"
   },
   {
    "duration": 9,
    "start_time": "2021-12-21T09:54:59.724Z"
   },
   {
    "duration": 21,
    "start_time": "2021-12-21T09:54:59.736Z"
   },
   {
    "duration": 6,
    "start_time": "2021-12-21T09:54:59.759Z"
   },
   {
    "duration": 9,
    "start_time": "2021-12-21T09:54:59.769Z"
   },
   {
    "duration": 164,
    "start_time": "2021-12-21T09:54:59.781Z"
   },
   {
    "duration": 15,
    "start_time": "2021-12-21T09:54:59.947Z"
   },
   {
    "duration": 19,
    "start_time": "2021-12-21T09:54:59.964Z"
   },
   {
    "duration": 37,
    "start_time": "2021-12-21T09:54:59.986Z"
   },
   {
    "duration": 8,
    "start_time": "2021-12-21T09:55:00.025Z"
   },
   {
    "duration": 103,
    "start_time": "2021-12-21T09:55:00.036Z"
   },
   {
    "duration": 11,
    "start_time": "2021-12-21T09:55:00.142Z"
   },
   {
    "duration": 20,
    "start_time": "2021-12-21T09:55:00.155Z"
   },
   {
    "duration": 53,
    "start_time": "2021-12-21T09:55:00.177Z"
   },
   {
    "duration": 18,
    "start_time": "2021-12-21T09:55:00.232Z"
   },
   {
    "duration": 36,
    "start_time": "2021-12-21T09:55:00.252Z"
   },
   {
    "duration": 38,
    "start_time": "2021-12-21T09:55:00.291Z"
   },
   {
    "duration": 12,
    "start_time": "2021-12-21T09:55:00.333Z"
   },
   {
    "duration": 42,
    "start_time": "2021-12-21T09:55:00.348Z"
   },
   {
    "duration": 13,
    "start_time": "2021-12-21T09:55:00.393Z"
   },
   {
    "duration": 13,
    "start_time": "2021-12-21T09:55:00.424Z"
   },
   {
    "duration": 38,
    "start_time": "2021-12-21T09:55:00.439Z"
   },
   {
    "duration": 54,
    "start_time": "2021-12-21T09:55:00.483Z"
   },
   {
    "duration": 27,
    "start_time": "2021-12-21T09:55:00.540Z"
   },
   {
    "duration": 24,
    "start_time": "2021-12-21T09:55:00.570Z"
   },
   {
    "duration": 35,
    "start_time": "2021-12-21T09:55:00.596Z"
   },
   {
    "duration": 1166,
    "start_time": "2021-12-21T09:55:00.633Z"
   },
   {
    "duration": 16,
    "start_time": "2021-12-21T09:55:01.802Z"
   },
   {
    "duration": 43,
    "start_time": "2021-12-21T09:55:01.821Z"
   },
   {
    "duration": 7,
    "start_time": "2021-12-21T09:55:01.867Z"
   },
   {
    "duration": 4591,
    "start_time": "2021-12-21T09:55:01.877Z"
   },
   {
    "duration": 13,
    "start_time": "2021-12-21T09:55:06.471Z"
   },
   {
    "duration": 51,
    "start_time": "2021-12-21T09:55:06.487Z"
   },
   {
    "duration": 19,
    "start_time": "2021-12-21T09:55:06.541Z"
   },
   {
    "duration": 60,
    "start_time": "2021-12-21T09:55:06.563Z"
   },
   {
    "duration": 19,
    "start_time": "2021-12-21T09:55:06.626Z"
   },
   {
    "duration": 788,
    "start_time": "2021-12-21T09:55:06.647Z"
   },
   {
    "duration": 22,
    "start_time": "2021-12-21T09:55:07.438Z"
   },
   {
    "duration": 18,
    "start_time": "2021-12-21T09:55:07.462Z"
   },
   {
    "duration": 24,
    "start_time": "2021-12-21T10:00:03.210Z"
   },
   {
    "duration": 889,
    "start_time": "2021-12-21T10:03:23.601Z"
   },
   {
    "duration": 15,
    "start_time": "2021-12-21T10:03:24.493Z"
   },
   {
    "duration": 18,
    "start_time": "2021-12-21T10:03:24.511Z"
   },
   {
    "duration": 36,
    "start_time": "2021-12-21T10:03:24.532Z"
   },
   {
    "duration": 9,
    "start_time": "2021-12-21T10:03:24.570Z"
   },
   {
    "duration": 25,
    "start_time": "2021-12-21T10:03:24.581Z"
   },
   {
    "duration": 26,
    "start_time": "2021-12-21T10:03:24.609Z"
   },
   {
    "duration": 9,
    "start_time": "2021-12-21T10:03:24.639Z"
   },
   {
    "duration": 14,
    "start_time": "2021-12-21T10:03:24.652Z"
   },
   {
    "duration": 127,
    "start_time": "2021-12-21T10:03:24.669Z"
   },
   {
    "duration": 13,
    "start_time": "2021-12-21T10:03:24.799Z"
   },
   {
    "duration": 29,
    "start_time": "2021-12-21T10:03:24.815Z"
   },
   {
    "duration": 40,
    "start_time": "2021-12-21T10:03:24.846Z"
   },
   {
    "duration": 15,
    "start_time": "2021-12-21T10:03:24.888Z"
   },
   {
    "duration": 93,
    "start_time": "2021-12-21T10:03:24.905Z"
   },
   {
    "duration": 9,
    "start_time": "2021-12-21T10:03:25.000Z"
   },
   {
    "duration": 66,
    "start_time": "2021-12-21T10:03:25.011Z"
   },
   {
    "duration": 26,
    "start_time": "2021-12-21T10:03:25.079Z"
   },
   {
    "duration": 17,
    "start_time": "2021-12-21T10:03:25.107Z"
   },
   {
    "duration": 44,
    "start_time": "2021-12-21T10:03:25.128Z"
   },
   {
    "duration": 16,
    "start_time": "2021-12-21T10:03:25.174Z"
   },
   {
    "duration": 21,
    "start_time": "2021-12-21T10:03:25.192Z"
   },
   {
    "duration": 71,
    "start_time": "2021-12-21T10:03:25.218Z"
   },
   {
    "duration": 16,
    "start_time": "2021-12-21T10:03:25.292Z"
   },
   {
    "duration": 19,
    "start_time": "2021-12-21T10:03:25.311Z"
   },
   {
    "duration": 52,
    "start_time": "2021-12-21T10:03:25.332Z"
   },
   {
    "duration": 52,
    "start_time": "2021-12-21T10:03:25.387Z"
   },
   {
    "duration": 26,
    "start_time": "2021-12-21T10:03:25.441Z"
   },
   {
    "duration": 34,
    "start_time": "2021-12-21T10:03:25.470Z"
   },
   {
    "duration": 11,
    "start_time": "2021-12-21T10:03:25.506Z"
   },
   {
    "duration": 1415,
    "start_time": "2021-12-21T10:03:25.519Z"
   },
   {
    "duration": 7,
    "start_time": "2021-12-21T10:03:26.937Z"
   },
   {
    "duration": 41,
    "start_time": "2021-12-21T10:03:26.947Z"
   },
   {
    "duration": 26,
    "start_time": "2021-12-21T10:03:26.991Z"
   },
   {
    "duration": 4391,
    "start_time": "2021-12-21T10:03:27.019Z"
   },
   {
    "duration": 11,
    "start_time": "2021-12-21T10:03:31.424Z"
   },
   {
    "duration": 37,
    "start_time": "2021-12-21T10:03:31.438Z"
   },
   {
    "duration": 15,
    "start_time": "2021-12-21T10:03:31.477Z"
   },
   {
    "duration": 47,
    "start_time": "2021-12-21T10:03:31.494Z"
   },
   {
    "duration": 20,
    "start_time": "2021-12-21T10:03:31.543Z"
   },
   {
    "duration": 753,
    "start_time": "2021-12-21T10:03:31.565Z"
   },
   {
    "duration": 22,
    "start_time": "2021-12-21T10:03:32.321Z"
   },
   {
    "duration": 24,
    "start_time": "2021-12-21T10:03:32.345Z"
   },
   {
    "duration": 17,
    "start_time": "2021-12-21T10:03:32.372Z"
   },
   {
    "duration": 880,
    "start_time": "2021-12-21T10:18:02.605Z"
   },
   {
    "duration": 17,
    "start_time": "2021-12-21T10:18:03.489Z"
   },
   {
    "duration": 9,
    "start_time": "2021-12-21T10:18:03.525Z"
   },
   {
    "duration": 29,
    "start_time": "2021-12-21T10:18:03.538Z"
   },
   {
    "duration": 10,
    "start_time": "2021-12-21T10:18:03.570Z"
   },
   {
    "duration": 42,
    "start_time": "2021-12-21T10:18:03.582Z"
   },
   {
    "duration": 16,
    "start_time": "2021-12-21T10:18:03.627Z"
   },
   {
    "duration": 5,
    "start_time": "2021-12-21T10:18:03.646Z"
   },
   {
    "duration": 8,
    "start_time": "2021-12-21T10:18:03.655Z"
   },
   {
    "duration": 232,
    "start_time": "2021-12-21T10:18:03.666Z"
   },
   {
    "duration": 30,
    "start_time": "2021-12-21T10:18:03.901Z"
   },
   {
    "duration": 12,
    "start_time": "2021-12-21T10:18:03.933Z"
   },
   {
    "duration": 11,
    "start_time": "2021-12-21T10:18:03.947Z"
   },
   {
    "duration": 8,
    "start_time": "2021-12-21T10:18:03.960Z"
   },
   {
    "duration": 111,
    "start_time": "2021-12-21T10:18:03.971Z"
   },
   {
    "duration": 10,
    "start_time": "2021-12-21T10:18:04.084Z"
   },
   {
    "duration": 15,
    "start_time": "2021-12-21T10:18:04.123Z"
   },
   {
    "duration": 19,
    "start_time": "2021-12-21T10:18:04.140Z"
   },
   {
    "duration": 22,
    "start_time": "2021-12-21T10:18:04.163Z"
   },
   {
    "duration": 63,
    "start_time": "2021-12-21T10:18:04.187Z"
   },
   {
    "duration": 12,
    "start_time": "2021-12-21T10:18:04.253Z"
   },
   {
    "duration": 13,
    "start_time": "2021-12-21T10:18:04.267Z"
   },
   {
    "duration": 81,
    "start_time": "2021-12-21T10:18:04.285Z"
   },
   {
    "duration": 11,
    "start_time": "2021-12-21T10:18:04.369Z"
   },
   {
    "duration": 13,
    "start_time": "2021-12-21T10:18:04.382Z"
   },
   {
    "duration": 29,
    "start_time": "2021-12-21T10:18:04.423Z"
   },
   {
    "duration": 33,
    "start_time": "2021-12-21T10:18:04.455Z"
   },
   {
    "duration": 55,
    "start_time": "2021-12-21T10:18:04.490Z"
   },
   {
    "duration": 22,
    "start_time": "2021-12-21T10:18:04.547Z"
   },
   {
    "duration": 10,
    "start_time": "2021-12-21T10:18:04.572Z"
   },
   {
    "duration": 1325,
    "start_time": "2021-12-21T10:18:04.585Z"
   },
   {
    "duration": 22,
    "start_time": "2021-12-21T10:18:05.913Z"
   },
   {
    "duration": 7,
    "start_time": "2021-12-21T10:18:05.938Z"
   },
   {
    "duration": 8,
    "start_time": "2021-12-21T10:18:05.948Z"
   },
   {
    "duration": 5192,
    "start_time": "2021-12-21T10:18:05.959Z"
   },
   {
    "duration": 10,
    "start_time": "2021-12-21T10:18:11.153Z"
   },
   {
    "duration": 41,
    "start_time": "2021-12-21T10:18:11.165Z"
   },
   {
    "duration": 42,
    "start_time": "2021-12-21T10:18:11.209Z"
   },
   {
    "duration": 47,
    "start_time": "2021-12-21T10:18:11.253Z"
   },
   {
    "duration": 20,
    "start_time": "2021-12-21T10:18:11.303Z"
   },
   {
    "duration": 834,
    "start_time": "2021-12-21T10:18:11.326Z"
   },
   {
    "duration": 21,
    "start_time": "2021-12-21T10:18:12.163Z"
   },
   {
    "duration": 46,
    "start_time": "2021-12-21T10:18:12.187Z"
   },
   {
    "duration": 16,
    "start_time": "2021-12-21T10:18:12.236Z"
   },
   {
    "duration": 848,
    "start_time": "2021-12-21T11:30:45.891Z"
   },
   {
    "duration": 21,
    "start_time": "2021-12-21T11:30:46.743Z"
   },
   {
    "duration": 21,
    "start_time": "2021-12-21T11:30:46.767Z"
   },
   {
    "duration": 44,
    "start_time": "2021-12-21T11:30:46.791Z"
   },
   {
    "duration": 24,
    "start_time": "2021-12-21T11:30:46.839Z"
   },
   {
    "duration": 31,
    "start_time": "2021-12-21T11:30:46.866Z"
   },
   {
    "duration": 21,
    "start_time": "2021-12-21T11:30:46.899Z"
   },
   {
    "duration": 6,
    "start_time": "2021-12-21T11:30:46.925Z"
   },
   {
    "duration": 20,
    "start_time": "2021-12-21T11:30:46.934Z"
   },
   {
    "duration": 219,
    "start_time": "2021-12-21T11:30:46.956Z"
   },
   {
    "duration": 45,
    "start_time": "2021-12-21T11:30:47.178Z"
   },
   {
    "duration": 12,
    "start_time": "2021-12-21T11:30:47.227Z"
   },
   {
    "duration": 16,
    "start_time": "2021-12-21T11:30:47.242Z"
   },
   {
    "duration": 10,
    "start_time": "2021-12-21T11:30:47.261Z"
   },
   {
    "duration": 107,
    "start_time": "2021-12-21T11:30:47.274Z"
   },
   {
    "duration": 39,
    "start_time": "2021-12-21T11:30:47.384Z"
   },
   {
    "duration": 20,
    "start_time": "2021-12-21T11:30:47.426Z"
   },
   {
    "duration": 20,
    "start_time": "2021-12-21T11:30:47.448Z"
   },
   {
    "duration": 57,
    "start_time": "2021-12-21T11:30:47.470Z"
   },
   {
    "duration": 22,
    "start_time": "2021-12-21T11:30:47.530Z"
   },
   {
    "duration": 10,
    "start_time": "2021-12-21T11:30:47.555Z"
   },
   {
    "duration": 15,
    "start_time": "2021-12-21T11:30:47.570Z"
   },
   {
    "duration": 61,
    "start_time": "2021-12-21T11:30:47.591Z"
   },
   {
    "duration": 15,
    "start_time": "2021-12-21T11:30:47.656Z"
   },
   {
    "duration": 23,
    "start_time": "2021-12-21T11:30:47.675Z"
   },
   {
    "duration": 37,
    "start_time": "2021-12-21T11:30:47.724Z"
   },
   {
    "duration": 68,
    "start_time": "2021-12-21T11:30:47.764Z"
   },
   {
    "duration": 37,
    "start_time": "2021-12-21T11:30:47.835Z"
   },
   {
    "duration": 47,
    "start_time": "2021-12-21T11:30:47.876Z"
   },
   {
    "duration": 12,
    "start_time": "2021-12-21T11:30:47.925Z"
   },
   {
    "duration": 1163,
    "start_time": "2021-12-21T11:30:47.941Z"
   },
   {
    "duration": 21,
    "start_time": "2021-12-21T11:30:49.108Z"
   },
   {
    "duration": 29,
    "start_time": "2021-12-21T11:30:49.132Z"
   },
   {
    "duration": 10,
    "start_time": "2021-12-21T11:30:49.164Z"
   },
   {
    "duration": 4682,
    "start_time": "2021-12-21T11:30:49.176Z"
   },
   {
    "duration": 10,
    "start_time": "2021-12-21T11:30:53.861Z"
   },
   {
    "duration": 79,
    "start_time": "2021-12-21T11:30:53.873Z"
   },
   {
    "duration": 21,
    "start_time": "2021-12-21T11:30:53.956Z"
   },
   {
    "duration": 64,
    "start_time": "2021-12-21T11:30:53.980Z"
   },
   {
    "duration": 33,
    "start_time": "2021-12-21T11:30:54.048Z"
   },
   {
    "duration": 962,
    "start_time": "2021-12-21T11:30:54.084Z"
   },
   {
    "duration": 23,
    "start_time": "2021-12-21T11:30:55.049Z"
   },
   {
    "duration": 36,
    "start_time": "2021-12-21T11:30:55.074Z"
   },
   {
    "duration": 25,
    "start_time": "2021-12-21T11:30:55.112Z"
   },
   {
    "duration": 929,
    "start_time": "2021-12-21T23:20:51.758Z"
   },
   {
    "duration": 17,
    "start_time": "2021-12-21T23:20:52.690Z"
   },
   {
    "duration": 11,
    "start_time": "2021-12-21T23:20:52.711Z"
   },
   {
    "duration": 53,
    "start_time": "2021-12-21T23:20:52.725Z"
   },
   {
    "duration": 10,
    "start_time": "2021-12-21T23:20:52.781Z"
   },
   {
    "duration": 10,
    "start_time": "2021-12-21T23:20:52.794Z"
   },
   {
    "duration": 20,
    "start_time": "2021-12-21T23:20:52.806Z"
   },
   {
    "duration": 43,
    "start_time": "2021-12-21T23:20:52.829Z"
   },
   {
    "duration": 7,
    "start_time": "2021-12-21T23:20:52.879Z"
   },
   {
    "duration": 165,
    "start_time": "2021-12-21T23:20:52.891Z"
   },
   {
    "duration": 22,
    "start_time": "2021-12-21T23:20:53.059Z"
   },
   {
    "duration": 10,
    "start_time": "2021-12-21T23:20:53.084Z"
   },
   {
    "duration": 13,
    "start_time": "2021-12-21T23:20:53.097Z"
   },
   {
    "duration": 57,
    "start_time": "2021-12-21T23:20:53.113Z"
   },
   {
    "duration": 100,
    "start_time": "2021-12-21T23:20:53.173Z"
   },
   {
    "duration": 9,
    "start_time": "2021-12-21T23:20:53.276Z"
   },
   {
    "duration": 18,
    "start_time": "2021-12-21T23:20:53.287Z"
   },
   {
    "duration": 60,
    "start_time": "2021-12-21T23:20:53.308Z"
   },
   {
    "duration": 17,
    "start_time": "2021-12-21T23:20:53.371Z"
   },
   {
    "duration": 33,
    "start_time": "2021-12-21T23:20:53.391Z"
   },
   {
    "duration": 45,
    "start_time": "2021-12-21T23:20:53.427Z"
   },
   {
    "duration": 10,
    "start_time": "2021-12-21T23:20:53.475Z"
   },
   {
    "duration": 49,
    "start_time": "2021-12-21T23:20:53.488Z"
   },
   {
    "duration": 12,
    "start_time": "2021-12-21T23:20:53.567Z"
   },
   {
    "duration": 14,
    "start_time": "2021-12-21T23:20:53.581Z"
   },
   {
    "duration": 31,
    "start_time": "2021-12-21T23:20:53.597Z"
   },
   {
    "duration": 68,
    "start_time": "2021-12-21T23:20:53.633Z"
   },
   {
    "duration": 31,
    "start_time": "2021-12-21T23:20:53.703Z"
   },
   {
    "duration": 53,
    "start_time": "2021-12-21T23:20:53.736Z"
   },
   {
    "duration": 10,
    "start_time": "2021-12-21T23:20:53.791Z"
   },
   {
    "duration": 1385,
    "start_time": "2021-12-21T23:20:53.803Z"
   },
   {
    "duration": 7,
    "start_time": "2021-12-21T23:20:55.191Z"
   },
   {
    "duration": 9,
    "start_time": "2021-12-21T23:20:55.201Z"
   },
   {
    "duration": 7,
    "start_time": "2021-12-21T23:20:55.213Z"
   },
   {
    "duration": 3945,
    "start_time": "2021-12-21T23:20:55.223Z"
   },
   {
    "duration": 12,
    "start_time": "2021-12-21T23:20:59.171Z"
   },
   {
    "duration": 23,
    "start_time": "2021-12-21T23:20:59.186Z"
   },
   {
    "duration": 17,
    "start_time": "2021-12-21T23:20:59.212Z"
   },
   {
    "duration": 25,
    "start_time": "2021-12-21T23:20:59.267Z"
   },
   {
    "duration": 23,
    "start_time": "2021-12-21T23:20:59.295Z"
   },
   {
    "duration": 58508,
    "start_time": "2021-12-21T23:20:59.320Z"
   },
   {
    "duration": 41,
    "start_time": "2021-12-21T23:21:57.831Z"
   },
   {
    "duration": 25,
    "start_time": "2021-12-21T23:21:57.876Z"
   },
   {
    "duration": 23,
    "start_time": "2021-12-21T23:21:57.904Z"
   },
   {
    "duration": 2224,
    "start_time": "2021-12-21T23:29:42.733Z"
   },
   {
    "duration": 84,
    "start_time": "2021-12-21T23:35:14.426Z"
   },
   {
    "duration": 1103,
    "start_time": "2021-12-21T23:39:25.327Z"
   },
   {
    "duration": 34,
    "start_time": "2021-12-21T23:39:26.434Z"
   },
   {
    "duration": 16,
    "start_time": "2021-12-21T23:39:26.472Z"
   },
   {
    "duration": 28,
    "start_time": "2021-12-21T23:39:26.493Z"
   },
   {
    "duration": 44,
    "start_time": "2021-12-21T23:39:26.524Z"
   },
   {
    "duration": 2199,
    "start_time": "2021-12-21T23:39:26.572Z"
   },
   {
    "duration": 15,
    "start_time": "2021-12-21T23:39:28.775Z"
   },
   {
    "duration": 67,
    "start_time": "2021-12-21T23:39:28.796Z"
   },
   {
    "duration": 23,
    "start_time": "2021-12-21T23:39:28.868Z"
   },
   {
    "duration": 21,
    "start_time": "2021-12-21T23:39:28.896Z"
   },
   {
    "duration": 205,
    "start_time": "2021-12-21T23:39:28.920Z"
   },
   {
    "duration": 42,
    "start_time": "2021-12-21T23:39:29.128Z"
   },
   {
    "duration": 11,
    "start_time": "2021-12-21T23:39:29.173Z"
   },
   {
    "duration": 13,
    "start_time": "2021-12-21T23:39:29.188Z"
   },
   {
    "duration": 10,
    "start_time": "2021-12-21T23:39:29.204Z"
   },
   {
    "duration": 167,
    "start_time": "2021-12-21T23:39:29.217Z"
   },
   {
    "duration": 12,
    "start_time": "2021-12-21T23:39:29.387Z"
   },
   {
    "duration": 26,
    "start_time": "2021-12-21T23:39:29.403Z"
   },
   {
    "duration": 54,
    "start_time": "2021-12-21T23:39:29.432Z"
   },
   {
    "duration": 20,
    "start_time": "2021-12-21T23:39:29.489Z"
   },
   {
    "duration": 63,
    "start_time": "2021-12-21T23:39:29.512Z"
   },
   {
    "duration": 11,
    "start_time": "2021-12-21T23:39:29.578Z"
   },
   {
    "duration": 17,
    "start_time": "2021-12-21T23:39:29.599Z"
   },
   {
    "duration": 80,
    "start_time": "2021-12-21T23:39:29.623Z"
   },
   {
    "duration": 16,
    "start_time": "2021-12-21T23:39:29.706Z"
   },
   {
    "duration": 45,
    "start_time": "2021-12-21T23:39:29.726Z"
   },
   {
    "duration": 38,
    "start_time": "2021-12-21T23:39:29.774Z"
   },
   {
    "duration": 76,
    "start_time": "2021-12-21T23:39:29.816Z"
   },
   {
    "duration": 37,
    "start_time": "2021-12-21T23:39:29.895Z"
   },
   {
    "duration": 65,
    "start_time": "2021-12-21T23:39:29.935Z"
   },
   {
    "duration": 21,
    "start_time": "2021-12-21T23:39:30.003Z"
   },
   {
    "duration": 1172,
    "start_time": "2021-12-21T23:39:30.028Z"
   },
   {
    "duration": 6,
    "start_time": "2021-12-21T23:39:31.203Z"
   },
   {
    "duration": 39,
    "start_time": "2021-12-21T23:39:31.212Z"
   },
   {
    "duration": 45,
    "start_time": "2021-12-21T23:39:31.253Z"
   },
   {
    "duration": 114,
    "start_time": "2021-12-21T23:39:31.301Z"
   },
   {
    "duration": 4112,
    "start_time": "2021-12-21T23:39:31.418Z"
   },
   {
    "duration": 11,
    "start_time": "2021-12-21T23:39:35.532Z"
   },
   {
    "duration": 28,
    "start_time": "2021-12-21T23:39:35.567Z"
   },
   {
    "duration": 17,
    "start_time": "2021-12-21T23:39:35.598Z"
   },
   {
    "duration": 61,
    "start_time": "2021-12-21T23:39:35.618Z"
   },
   {
    "duration": 16,
    "start_time": "2021-12-21T23:39:35.682Z"
   },
   {
    "duration": 60496,
    "start_time": "2021-12-21T23:39:35.701Z"
   },
   {
    "duration": 30,
    "start_time": "2021-12-21T23:40:36.200Z"
   },
   {
    "duration": 21,
    "start_time": "2021-12-21T23:40:36.233Z"
   },
   {
    "duration": 25,
    "start_time": "2021-12-21T23:40:36.256Z"
   },
   {
    "duration": 694,
    "start_time": "2022-05-17T09:48:30.502Z"
   },
   {
    "duration": 2272,
    "start_time": "2022-05-17T09:51:31.259Z"
   },
   {
    "duration": 660,
    "start_time": "2022-05-17T09:51:38.201Z"
   },
   {
    "duration": 653,
    "start_time": "2022-05-17T09:52:24.837Z"
   },
   {
    "duration": 654,
    "start_time": "2022-05-17T09:54:06.680Z"
   },
   {
    "duration": 712,
    "start_time": "2022-05-17T09:55:58.554Z"
   },
   {
    "duration": 647,
    "start_time": "2022-05-17T09:56:10.794Z"
   },
   {
    "duration": 697,
    "start_time": "2022-05-17T09:56:20.137Z"
   },
   {
    "duration": 730,
    "start_time": "2022-05-17T09:56:28.842Z"
   },
   {
    "duration": 716,
    "start_time": "2022-05-17T09:58:10.370Z"
   },
   {
    "duration": 19,
    "start_time": "2022-05-17T09:59:43.299Z"
   },
   {
    "duration": 20,
    "start_time": "2022-05-17T10:00:15.002Z"
   },
   {
    "duration": 24,
    "start_time": "2022-05-17T10:00:46.574Z"
   },
   {
    "duration": 24,
    "start_time": "2022-05-17T10:00:50.176Z"
   },
   {
    "duration": 25,
    "start_time": "2022-05-17T10:01:07.952Z"
   },
   {
    "duration": 26,
    "start_time": "2022-05-17T10:01:18.544Z"
   },
   {
    "duration": 25,
    "start_time": "2022-05-17T10:01:23.969Z"
   },
   {
    "duration": 183,
    "start_time": "2022-05-17T10:01:32.013Z"
   },
   {
    "duration": 138,
    "start_time": "2022-05-17T10:02:09.731Z"
   },
   {
    "duration": 22,
    "start_time": "2022-05-17T10:02:15.795Z"
   },
   {
    "duration": 18,
    "start_time": "2022-05-17T10:02:51.532Z"
   },
   {
    "duration": 7,
    "start_time": "2022-05-17T10:05:20.770Z"
   },
   {
    "duration": 6,
    "start_time": "2022-05-17T10:05:31.185Z"
   },
   {
    "duration": 17,
    "start_time": "2022-05-17T10:08:41.570Z"
   },
   {
    "duration": 8,
    "start_time": "2022-05-17T10:09:35.775Z"
   },
   {
    "duration": 13,
    "start_time": "2022-05-17T10:09:50.306Z"
   },
   {
    "duration": 13,
    "start_time": "2022-05-17T10:09:58.075Z"
   },
   {
    "duration": 1838,
    "start_time": "2022-05-17T10:11:40.274Z"
   },
   {
    "duration": 31,
    "start_time": "2022-05-17T10:11:42.116Z"
   },
   {
    "duration": 12,
    "start_time": "2022-05-17T10:11:42.149Z"
   },
   {
    "duration": 54,
    "start_time": "2022-05-17T10:11:42.165Z"
   },
   {
    "duration": 1058,
    "start_time": "2022-05-17T10:11:42.222Z"
   },
   {
    "duration": 32,
    "start_time": "2022-05-17T10:11:43.283Z"
   },
   {
    "duration": 17,
    "start_time": "2022-05-17T10:11:43.317Z"
   },
   {
    "duration": 11,
    "start_time": "2022-05-17T10:11:43.337Z"
   },
   {
    "duration": 14,
    "start_time": "2022-05-17T10:11:43.350Z"
   },
   {
    "duration": 145,
    "start_time": "2022-05-17T10:11:43.368Z"
   },
   {
    "duration": 30,
    "start_time": "2022-05-17T10:11:43.516Z"
   },
   {
    "duration": 21,
    "start_time": "2022-05-17T10:11:43.548Z"
   },
   {
    "duration": 6,
    "start_time": "2022-05-17T10:11:43.572Z"
   },
   {
    "duration": 11,
    "start_time": "2022-05-17T10:11:43.613Z"
   },
   {
    "duration": 101,
    "start_time": "2022-05-17T10:11:43.627Z"
   },
   {
    "duration": 9,
    "start_time": "2022-05-17T10:11:43.730Z"
   },
   {
    "duration": 28,
    "start_time": "2022-05-17T10:11:43.741Z"
   },
   {
    "duration": 57,
    "start_time": "2022-05-17T10:11:43.771Z"
   },
   {
    "duration": 18,
    "start_time": "2022-05-17T10:11:43.830Z"
   },
   {
    "duration": 67,
    "start_time": "2022-05-17T10:11:43.851Z"
   },
   {
    "duration": 13,
    "start_time": "2022-05-17T10:11:43.921Z"
   },
   {
    "duration": 19,
    "start_time": "2022-05-17T10:11:43.937Z"
   },
   {
    "duration": 66,
    "start_time": "2022-05-17T10:11:43.958Z"
   },
   {
    "duration": 13,
    "start_time": "2022-05-17T10:11:44.027Z"
   },
   {
    "duration": 21,
    "start_time": "2022-05-17T10:11:44.043Z"
   },
   {
    "duration": 60,
    "start_time": "2022-05-17T10:11:44.067Z"
   },
   {
    "duration": 37,
    "start_time": "2022-05-17T10:11:44.129Z"
   },
   {
    "duration": 44,
    "start_time": "2022-05-17T10:11:44.171Z"
   },
   {
    "duration": 31,
    "start_time": "2022-05-17T10:11:44.217Z"
   },
   {
    "duration": 10,
    "start_time": "2022-05-17T10:11:44.251Z"
   },
   {
    "duration": 1386,
    "start_time": "2022-05-17T10:11:44.264Z"
   },
   {
    "duration": 7,
    "start_time": "2022-05-17T10:11:45.653Z"
   },
   {
    "duration": 7,
    "start_time": "2022-05-17T10:11:45.663Z"
   },
   {
    "duration": 8,
    "start_time": "2022-05-17T10:11:45.673Z"
   },
   {
    "duration": 146,
    "start_time": "2022-05-17T10:11:45.683Z"
   },
   {
    "duration": 6441,
    "start_time": "2022-05-17T10:11:45.831Z"
   },
   {
    "duration": 14,
    "start_time": "2022-05-17T10:11:52.309Z"
   },
   {
    "duration": 84,
    "start_time": "2022-05-17T10:11:52.326Z"
   },
   {
    "duration": 22,
    "start_time": "2022-05-17T10:11:52.414Z"
   },
   {
    "duration": 97,
    "start_time": "2022-05-17T10:11:52.438Z"
   },
   {
    "duration": 89,
    "start_time": "2022-05-17T10:11:52.538Z"
   },
   {
    "duration": 213,
    "start_time": "2022-05-17T10:11:52.629Z"
   },
   {
    "duration": 81,
    "start_time": "2022-05-17T10:11:52.845Z"
   },
   {
    "duration": 25,
    "start_time": "2022-05-17T10:11:52.928Z"
   },
   {
    "duration": 82,
    "start_time": "2022-05-17T10:11:52.955Z"
   },
   {
    "duration": 10,
    "start_time": "2022-05-17T10:12:31.301Z"
   },
   {
    "duration": 10,
    "start_time": "2022-05-17T10:12:40.661Z"
   },
   {
    "duration": 17,
    "start_time": "2022-05-17T10:12:43.480Z"
   },
   {
    "duration": 13,
    "start_time": "2022-05-17T10:13:19.470Z"
   },
   {
    "duration": 7,
    "start_time": "2022-05-17T10:15:27.381Z"
   },
   {
    "duration": 7,
    "start_time": "2022-05-17T10:16:10.348Z"
   },
   {
    "duration": 13,
    "start_time": "2022-05-17T10:16:46.062Z"
   },
   {
    "duration": 9,
    "start_time": "2022-05-17T10:16:56.018Z"
   },
   {
    "duration": 9,
    "start_time": "2022-05-17T10:17:05.152Z"
   },
   {
    "duration": 13,
    "start_time": "2022-05-17T10:18:42.869Z"
   },
   {
    "duration": 13,
    "start_time": "2022-05-17T10:18:51.104Z"
   },
   {
    "duration": 14,
    "start_time": "2022-05-17T10:19:02.548Z"
   },
   {
    "duration": 8,
    "start_time": "2022-05-17T10:23:29.621Z"
   },
   {
    "duration": 7,
    "start_time": "2022-05-17T10:23:35.886Z"
   },
   {
    "duration": 103,
    "start_time": "2022-05-17T10:25:04.842Z"
   },
   {
    "duration": 4119,
    "start_time": "2022-05-17T10:27:27.155Z"
   },
   {
    "duration": 4682,
    "start_time": "2022-05-17T10:27:54.461Z"
   },
   {
    "duration": 4454,
    "start_time": "2022-05-17T10:28:30.633Z"
   },
   {
    "duration": 2475,
    "start_time": "2022-05-17T10:38:14.185Z"
   },
   {
    "duration": 1773,
    "start_time": "2022-05-17T10:38:32.977Z"
   },
   {
    "duration": 22,
    "start_time": "2022-05-17T10:38:34.752Z"
   },
   {
    "duration": 9,
    "start_time": "2022-05-17T10:38:34.777Z"
   },
   {
    "duration": 31,
    "start_time": "2022-05-17T10:38:34.814Z"
   },
   {
    "duration": 793,
    "start_time": "2022-05-17T10:38:34.848Z"
   },
   {
    "duration": 18,
    "start_time": "2022-05-17T10:38:35.644Z"
   },
   {
    "duration": 54,
    "start_time": "2022-05-17T10:38:35.666Z"
   },
   {
    "duration": 10,
    "start_time": "2022-05-17T10:38:35.723Z"
   },
   {
    "duration": 15,
    "start_time": "2022-05-17T10:38:35.736Z"
   },
   {
    "duration": 116,
    "start_time": "2022-05-17T10:38:35.755Z"
   },
   {
    "duration": 20,
    "start_time": "2022-05-17T10:38:35.874Z"
   },
   {
    "duration": 25,
    "start_time": "2022-05-17T10:38:35.896Z"
   },
   {
    "duration": 38,
    "start_time": "2022-05-17T10:38:35.924Z"
   },
   {
    "duration": 9,
    "start_time": "2022-05-17T10:38:35.964Z"
   },
   {
    "duration": 91,
    "start_time": "2022-05-17T10:38:35.976Z"
   },
   {
    "duration": 9,
    "start_time": "2022-05-17T10:38:36.069Z"
   },
   {
    "duration": 13,
    "start_time": "2022-05-17T10:38:36.080Z"
   },
   {
    "duration": 28,
    "start_time": "2022-05-17T10:38:36.096Z"
   },
   {
    "duration": 40,
    "start_time": "2022-05-17T10:38:36.128Z"
   },
   {
    "duration": 28,
    "start_time": "2022-05-17T10:38:36.171Z"
   },
   {
    "duration": 33,
    "start_time": "2022-05-17T10:38:36.201Z"
   },
   {
    "duration": 39,
    "start_time": "2022-05-17T10:38:36.236Z"
   },
   {
    "duration": 11,
    "start_time": "2022-05-17T10:38:36.278Z"
   },
   {
    "duration": 37,
    "start_time": "2022-05-17T10:38:36.291Z"
   },
   {
    "duration": 43,
    "start_time": "2022-05-17T10:38:36.332Z"
   },
   {
    "duration": 56,
    "start_time": "2022-05-17T10:38:36.377Z"
   },
   {
    "duration": 28,
    "start_time": "2022-05-17T10:38:36.435Z"
   },
   {
    "duration": 10,
    "start_time": "2022-05-17T10:38:36.468Z"
   },
   {
    "duration": 2534,
    "start_time": "2022-05-17T10:38:36.480Z"
   },
   {
    "duration": 12,
    "start_time": "2022-05-17T10:38:39.016Z"
   },
   {
    "duration": 26,
    "start_time": "2022-05-17T10:38:39.031Z"
   },
   {
    "duration": 5108,
    "start_time": "2022-05-17T10:38:39.060Z"
   },
   {
    "duration": 2590,
    "start_time": "2022-05-17T10:38:44.171Z"
   },
   {
    "duration": 0,
    "start_time": "2022-05-17T10:38:46.763Z"
   },
   {
    "duration": 0,
    "start_time": "2022-05-17T10:38:46.765Z"
   },
   {
    "duration": 0,
    "start_time": "2022-05-17T10:38:46.766Z"
   },
   {
    "duration": 0,
    "start_time": "2022-05-17T10:38:46.768Z"
   },
   {
    "duration": 0,
    "start_time": "2022-05-17T10:38:46.770Z"
   },
   {
    "duration": 0,
    "start_time": "2022-05-17T10:38:46.772Z"
   },
   {
    "duration": 0,
    "start_time": "2022-05-17T10:38:46.774Z"
   },
   {
    "duration": 0,
    "start_time": "2022-05-17T10:38:46.776Z"
   },
   {
    "duration": 26,
    "start_time": "2022-05-17T10:39:03.458Z"
   },
   {
    "duration": 29,
    "start_time": "2022-05-17T10:39:13.730Z"
   },
   {
    "duration": 25,
    "start_time": "2022-05-17T10:39:19.439Z"
   },
   {
    "duration": 42,
    "start_time": "2022-05-17T10:39:47.489Z"
   },
   {
    "duration": 48,
    "start_time": "2022-05-17T10:40:31.197Z"
   },
   {
    "duration": 29,
    "start_time": "2022-05-17T10:42:21.597Z"
   },
   {
    "duration": 16,
    "start_time": "2022-05-17T10:47:53.534Z"
   },
   {
    "duration": 140,
    "start_time": "2022-05-17T10:53:50.189Z"
   },
   {
    "duration": 27,
    "start_time": "2022-05-17T10:53:58.139Z"
   },
   {
    "duration": 30,
    "start_time": "2022-05-17T10:54:39.993Z"
   },
   {
    "duration": 22,
    "start_time": "2022-05-17T11:00:23.283Z"
   },
   {
    "duration": 15,
    "start_time": "2022-05-17T11:00:36.279Z"
   },
   {
    "duration": 77,
    "start_time": "2022-05-17T11:00:57.437Z"
   },
   {
    "duration": 18,
    "start_time": "2022-05-17T11:01:39.289Z"
   },
   {
    "duration": 25,
    "start_time": "2022-05-17T11:08:21.954Z"
   },
   {
    "duration": 10,
    "start_time": "2022-05-17T11:09:13.460Z"
   },
   {
    "duration": 1703,
    "start_time": "2022-05-17T11:12:02.876Z"
   },
   {
    "duration": 35,
    "start_time": "2022-05-17T11:12:04.582Z"
   },
   {
    "duration": 10,
    "start_time": "2022-05-17T11:12:04.620Z"
   },
   {
    "duration": 21,
    "start_time": "2022-05-17T11:12:04.633Z"
   },
   {
    "duration": 847,
    "start_time": "2022-05-17T11:12:04.657Z"
   },
   {
    "duration": 22,
    "start_time": "2022-05-17T11:12:05.517Z"
   },
   {
    "duration": 15,
    "start_time": "2022-05-17T11:12:05.542Z"
   },
   {
    "duration": 7,
    "start_time": "2022-05-17T11:12:05.560Z"
   },
   {
    "duration": 48,
    "start_time": "2022-05-17T11:12:05.570Z"
   },
   {
    "duration": 118,
    "start_time": "2022-05-17T11:12:05.621Z"
   },
   {
    "duration": 20,
    "start_time": "2022-05-17T11:12:05.742Z"
   },
   {
    "duration": 15,
    "start_time": "2022-05-17T11:12:05.765Z"
   },
   {
    "duration": 34,
    "start_time": "2022-05-17T11:12:05.783Z"
   },
   {
    "duration": 10,
    "start_time": "2022-05-17T11:12:05.826Z"
   },
   {
    "duration": 77,
    "start_time": "2022-05-17T11:12:05.840Z"
   },
   {
    "duration": 10,
    "start_time": "2022-05-17T11:12:05.920Z"
   },
   {
    "duration": 9,
    "start_time": "2022-05-17T11:12:05.932Z"
   },
   {
    "duration": 11,
    "start_time": "2022-05-17T11:12:05.943Z"
   },
   {
    "duration": 62,
    "start_time": "2022-05-17T11:12:05.956Z"
   },
   {
    "duration": 34,
    "start_time": "2022-05-17T11:12:06.021Z"
   },
   {
    "duration": 14,
    "start_time": "2022-05-17T11:12:06.058Z"
   },
   {
    "duration": 62,
    "start_time": "2022-05-17T11:12:06.074Z"
   },
   {
    "duration": 11,
    "start_time": "2022-05-17T11:12:06.138Z"
   },
   {
    "duration": 14,
    "start_time": "2022-05-17T11:12:06.151Z"
   },
   {
    "duration": 59,
    "start_time": "2022-05-17T11:12:06.167Z"
   },
   {
    "duration": 31,
    "start_time": "2022-05-17T11:12:06.229Z"
   },
   {
    "duration": 26,
    "start_time": "2022-05-17T11:12:06.262Z"
   },
   {
    "duration": 12,
    "start_time": "2022-05-17T11:12:06.316Z"
   },
   {
    "duration": 1034,
    "start_time": "2022-05-17T11:12:06.331Z"
   },
   {
    "duration": 6,
    "start_time": "2022-05-17T11:12:07.368Z"
   },
   {
    "duration": 10,
    "start_time": "2022-05-17T11:12:07.376Z"
   },
   {
    "duration": 4566,
    "start_time": "2022-05-17T11:12:07.388Z"
   },
   {
    "duration": 24,
    "start_time": "2022-05-17T11:12:11.956Z"
   },
   {
    "duration": 35,
    "start_time": "2022-05-17T11:12:11.982Z"
   },
   {
    "duration": 28,
    "start_time": "2022-05-17T11:12:12.020Z"
   },
   {
    "duration": 25,
    "start_time": "2022-05-17T11:12:12.051Z"
   },
   {
    "duration": 39,
    "start_time": "2022-05-17T11:12:12.079Z"
   },
   {
    "duration": 76,
    "start_time": "2022-05-17T11:12:12.122Z"
   },
   {
    "duration": 16,
    "start_time": "2022-05-17T11:12:12.213Z"
   },
   {
    "duration": 11,
    "start_time": "2022-05-17T11:12:12.231Z"
   },
   {
    "duration": 12,
    "start_time": "2022-05-17T11:12:12.247Z"
   },
   {
    "duration": 1779,
    "start_time": "2022-05-17T11:13:28.788Z"
   },
   {
    "duration": 22,
    "start_time": "2022-05-17T11:13:30.570Z"
   },
   {
    "duration": 24,
    "start_time": "2022-05-17T11:13:30.594Z"
   },
   {
    "duration": 31,
    "start_time": "2022-05-17T11:13:30.626Z"
   },
   {
    "duration": 736,
    "start_time": "2022-05-17T11:13:30.660Z"
   },
   {
    "duration": 26,
    "start_time": "2022-05-17T11:13:31.398Z"
   },
   {
    "duration": 24,
    "start_time": "2022-05-17T11:13:31.427Z"
   },
   {
    "duration": 11,
    "start_time": "2022-05-17T11:13:31.453Z"
   },
   {
    "duration": 16,
    "start_time": "2022-05-17T11:13:31.467Z"
   },
   {
    "duration": 101,
    "start_time": "2022-05-17T11:13:31.518Z"
   },
   {
    "duration": 20,
    "start_time": "2022-05-17T11:13:31.622Z"
   },
   {
    "duration": 24,
    "start_time": "2022-05-17T11:13:31.644Z"
   },
   {
    "duration": 32,
    "start_time": "2022-05-17T11:13:31.671Z"
   },
   {
    "duration": 30,
    "start_time": "2022-05-17T11:13:31.706Z"
   },
   {
    "duration": 75,
    "start_time": "2022-05-17T11:13:31.739Z"
   },
   {
    "duration": 8,
    "start_time": "2022-05-17T11:13:31.816Z"
   },
   {
    "duration": 25,
    "start_time": "2022-05-17T11:13:31.827Z"
   },
   {
    "duration": 19,
    "start_time": "2022-05-17T11:13:31.854Z"
   },
   {
    "duration": 20,
    "start_time": "2022-05-17T11:13:31.875Z"
   },
   {
    "duration": 63,
    "start_time": "2022-05-17T11:13:31.897Z"
   },
   {
    "duration": 12,
    "start_time": "2022-05-17T11:13:31.962Z"
   },
   {
    "duration": 39,
    "start_time": "2022-05-17T11:13:31.976Z"
   },
   {
    "duration": 12,
    "start_time": "2022-05-17T11:13:32.017Z"
   },
   {
    "duration": 18,
    "start_time": "2022-05-17T11:13:32.032Z"
   },
   {
    "duration": 34,
    "start_time": "2022-05-17T11:13:32.053Z"
   },
   {
    "duration": 31,
    "start_time": "2022-05-17T11:13:32.116Z"
   },
   {
    "duration": 26,
    "start_time": "2022-05-17T11:13:32.150Z"
   },
   {
    "duration": 10,
    "start_time": "2022-05-17T11:13:32.180Z"
   },
   {
    "duration": 2299,
    "start_time": "2022-05-17T11:13:32.212Z"
   },
   {
    "duration": 7,
    "start_time": "2022-05-17T11:13:34.514Z"
   },
   {
    "duration": 15,
    "start_time": "2022-05-17T11:13:34.527Z"
   },
   {
    "duration": 6631,
    "start_time": "2022-05-17T11:13:34.544Z"
   },
   {
    "duration": 43,
    "start_time": "2022-05-17T11:13:41.177Z"
   },
   {
    "duration": 17,
    "start_time": "2022-05-17T11:13:41.223Z"
   },
   {
    "duration": 27,
    "start_time": "2022-05-17T11:13:41.242Z"
   },
   {
    "duration": 52,
    "start_time": "2022-05-17T11:13:41.271Z"
   },
   {
    "duration": 14,
    "start_time": "2022-05-17T11:13:41.327Z"
   },
   {
    "duration": 105,
    "start_time": "2022-05-17T11:13:41.343Z"
   },
   {
    "duration": 18,
    "start_time": "2022-05-17T11:13:41.450Z"
   },
   {
    "duration": 45,
    "start_time": "2022-05-17T11:13:41.470Z"
   },
   {
    "duration": 17,
    "start_time": "2022-05-17T11:13:41.518Z"
   },
   {
    "duration": 10,
    "start_time": "2022-05-17T11:18:32.050Z"
   },
   {
    "duration": 2179,
    "start_time": "2022-05-17T11:25:03.274Z"
   },
   {
    "duration": 33,
    "start_time": "2022-05-17T11:25:05.457Z"
   },
   {
    "duration": 11,
    "start_time": "2022-05-17T11:25:05.511Z"
   },
   {
    "duration": 49,
    "start_time": "2022-05-17T11:25:05.526Z"
   },
   {
    "duration": 953,
    "start_time": "2022-05-17T11:25:05.578Z"
   },
   {
    "duration": 21,
    "start_time": "2022-05-17T11:25:06.534Z"
   },
   {
    "duration": 22,
    "start_time": "2022-05-17T11:25:06.557Z"
   },
   {
    "duration": 7,
    "start_time": "2022-05-17T11:25:06.582Z"
   },
   {
    "duration": 23,
    "start_time": "2022-05-17T11:25:06.592Z"
   },
   {
    "duration": 135,
    "start_time": "2022-05-17T11:25:06.624Z"
   },
   {
    "duration": 21,
    "start_time": "2022-05-17T11:25:06.761Z"
   },
   {
    "duration": 63,
    "start_time": "2022-05-17T11:25:06.784Z"
   },
   {
    "duration": 9,
    "start_time": "2022-05-17T11:25:06.850Z"
   },
   {
    "duration": 25,
    "start_time": "2022-05-17T11:25:06.862Z"
   },
   {
    "duration": 76,
    "start_time": "2022-05-17T11:25:06.890Z"
   },
   {
    "duration": 7,
    "start_time": "2022-05-17T11:25:06.968Z"
   },
   {
    "duration": 33,
    "start_time": "2022-05-17T11:25:06.978Z"
   },
   {
    "duration": 38,
    "start_time": "2022-05-17T11:25:07.014Z"
   },
   {
    "duration": 67,
    "start_time": "2022-05-17T11:25:07.055Z"
   },
   {
    "duration": 102,
    "start_time": "2022-05-17T11:25:07.125Z"
   },
   {
    "duration": 19,
    "start_time": "2022-05-17T11:25:07.231Z"
   },
   {
    "duration": 98,
    "start_time": "2022-05-17T11:25:07.254Z"
   },
   {
    "duration": 23,
    "start_time": "2022-05-17T11:25:07.354Z"
   },
   {
    "duration": 31,
    "start_time": "2022-05-17T11:25:07.380Z"
   },
   {
    "duration": 75,
    "start_time": "2022-05-17T11:25:07.413Z"
   },
   {
    "duration": 50,
    "start_time": "2022-05-17T11:25:07.491Z"
   },
   {
    "duration": 71,
    "start_time": "2022-05-17T11:25:07.544Z"
   },
   {
    "duration": 12,
    "start_time": "2022-05-17T11:25:07.623Z"
   },
   {
    "duration": 1501,
    "start_time": "2022-05-17T11:25:07.638Z"
   },
   {
    "duration": 9,
    "start_time": "2022-05-17T11:25:09.142Z"
   },
   {
    "duration": 11,
    "start_time": "2022-05-17T11:25:09.153Z"
   },
   {
    "duration": 4568,
    "start_time": "2022-05-17T11:25:09.166Z"
   },
   {
    "duration": 28,
    "start_time": "2022-05-17T11:25:13.736Z"
   },
   {
    "duration": 21,
    "start_time": "2022-05-17T11:25:13.767Z"
   },
   {
    "duration": 37,
    "start_time": "2022-05-17T11:25:13.809Z"
   },
   {
    "duration": 21,
    "start_time": "2022-05-17T11:25:13.848Z"
   },
   {
    "duration": 21,
    "start_time": "2022-05-17T11:25:13.872Z"
   },
   {
    "duration": 17,
    "start_time": "2022-05-17T11:25:13.911Z"
   },
   {
    "duration": 124,
    "start_time": "2022-05-17T11:25:13.933Z"
   },
   {
    "duration": 22,
    "start_time": "2022-05-17T11:25:14.060Z"
   },
   {
    "duration": 43,
    "start_time": "2022-05-17T11:25:14.085Z"
   },
   {
    "duration": 22,
    "start_time": "2022-05-17T11:25:14.131Z"
   }
  ],
  "kernelspec": {
   "display_name": "Python 3 (ipykernel)",
   "language": "python",
   "name": "python3"
  },
  "language_info": {
   "codemirror_mode": {
    "name": "ipython",
    "version": 3
   },
   "file_extension": ".py",
   "mimetype": "text/x-python",
   "name": "python",
   "nbconvert_exporter": "python",
   "pygments_lexer": "ipython3",
   "version": "3.9.5"
  },
  "toc": {
   "base_numbering": 1,
   "nav_menu": {},
   "number_sections": true,
   "sideBar": true,
   "skip_h1_title": true,
   "title_cell": "Содержание",
   "title_sidebar": "Содержание",
   "toc_cell": true,
   "toc_position": {
    "height": "calc(100% - 180px)",
    "left": "10px",
    "top": "150px",
    "width": "270.188px"
   },
   "toc_section_display": true,
   "toc_window_display": true
  }
 },
 "nbformat": 4,
 "nbformat_minor": 2
}
