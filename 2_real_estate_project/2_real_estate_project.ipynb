{
 "cells": [
  {
   "cell_type": "markdown",
   "metadata": {
    "toc": true
   },
   "source": [
    "<h1>Содержание<span class=\"tocSkip\"></span></h1>\n",
    "<div class=\"toc\"><ul class=\"toc-item\"><li><span><a href=\"#Изучение-данных-из-файла\" data-toc-modified-id=\"Изучение-данных-из-файла-1\"><span class=\"toc-item-num\">1&nbsp;&nbsp;</span>Изучение данных из файла</a></span></li><li><span><a href=\"#Предобработка-данных\" data-toc-modified-id=\"Предобработка-данных-2\"><span class=\"toc-item-num\">2&nbsp;&nbsp;</span>Предобработка данных</a></span><ul class=\"toc-item\"><li><span><a href=\"#Обработка-пропусков\" data-toc-modified-id=\"Обработка-пропусков-2.1\"><span class=\"toc-item-num\">2.1&nbsp;&nbsp;</span>Обработка пропусков</a></span></li><li><span><a href=\"#Изменение-типов-данных\" data-toc-modified-id=\"Изменение-типов-данных-2.2\"><span class=\"toc-item-num\">2.2&nbsp;&nbsp;</span>Изменение типов данных</a></span></li><li><span><a href=\"#Проверка-дубликатов\" data-toc-modified-id=\"Проверка-дубликатов-2.3\"><span class=\"toc-item-num\">2.3&nbsp;&nbsp;</span>Проверка дубликатов</a></span></li></ul></li><li><span><a href=\"#Расчёты-и-добавление-результатов-в-таблицу\" data-toc-modified-id=\"Расчёты-и-добавление-результатов-в-таблицу-3\"><span class=\"toc-item-num\">3&nbsp;&nbsp;</span>Расчёты и добавление результатов в таблицу</a></span></li><li><span><a href=\"#Исследовательский-анализ-данных\" data-toc-modified-id=\"Исследовательский-анализ-данных-4\"><span class=\"toc-item-num\">4&nbsp;&nbsp;</span>Исследовательский анализ данных</a></span><ul class=\"toc-item\"><li><span><a href=\"#Исследование-площади,-цены,-числа-комнат,-высоты-потолков\" data-toc-modified-id=\"Исследование-площади,-цены,-числа-комнат,-высоты-потолков-4.1\"><span class=\"toc-item-num\">4.1&nbsp;&nbsp;</span>Исследование площади, цены, числа комнат, высоты потолков</a></span></li><li><span><a href=\"#Исследование-количества-времени-для-продажи-квартиры\" data-toc-modified-id=\"Исследование-количества-времени-для-продажи-квартиры-4.2\"><span class=\"toc-item-num\">4.2&nbsp;&nbsp;</span>Исследование количества времени для продажи квартиры</a></span></li><li><span><a href=\"#Анализ-редких-и-выбивающихся-значений\" data-toc-modified-id=\"Анализ-редких-и-выбивающихся-значений-4.3\"><span class=\"toc-item-num\">4.3&nbsp;&nbsp;</span>Анализ редких и выбивающихся значений</a></span></li><li><span><a href=\"#Исследование-факторов,-влияющих-на-стоимость-квартиры\" data-toc-modified-id=\"Исследование-факторов,-влияющих-на-стоимость-квартиры-4.4\"><span class=\"toc-item-num\">4.4&nbsp;&nbsp;</span>Исследование факторов, влияющих на стоимость квартиры</a></span></li><li><span><a href=\"#Анализ-десяти-населённых-пунктов-с-наибольшим-числом-объявлений\" data-toc-modified-id=\"Анализ-десяти-населённых-пунктов-с-наибольшим-числом-объявлений-4.5\"><span class=\"toc-item-num\">4.5&nbsp;&nbsp;</span>Анализ десяти населённых пунктов с наибольшим числом объявлений</a></span></li><li><span><a href=\"#Анализ-изменения-цены-по-степени-удалённости-от-центра\" data-toc-modified-id=\"Анализ-изменения-цены-по-степени-удалённости-от-центра-4.6\"><span class=\"toc-item-num\">4.6&nbsp;&nbsp;</span>Анализ изменения цены по степени удалённости от центра</a></span></li><li><span><a href=\"#Сравнение-выводов-по-квартирам-в-центре-и-общих-выводов-по-всему-городу\" data-toc-modified-id=\"Сравнение-выводов-по-квартирам-в-центре-и-общих-выводов-по-всему-городу-4.7\"><span class=\"toc-item-num\">4.7&nbsp;&nbsp;</span>Сравнение выводов по квартирам в центре и общих выводов по всему городу</a></span></li></ul></li><li><span><a href=\"#Общий-вывод\" data-toc-modified-id=\"Общий-вывод-5\"><span class=\"toc-item-num\">5&nbsp;&nbsp;</span>Общий вывод</a></span></li></ul></div>"
   ]
  },
  {
   "cell_type": "markdown",
   "metadata": {},
   "source": [
    "# Продажа квартир в Санкт-Петербурге — анализ рынка недвижимости\n",
    "\n",
    "**Описание проекта:**\n",
    "\n",
    "В распоряжении данные сервиса Яндекс Недвижимость — архив объявлений о продаже квартир в Санкт-Петербурге и соседних населённых пунктах за несколько лет. Задача — установить параметры для определения рыночной стоимости объектов недвижимости. Это позволит построить автоматизированную систему: она отследит аномалии и мошенническую деятельность.\n",
    "\n",
    "По каждой квартире на продажу доступны два вида данных. Первые вписаны пользователем, вторые — получены автоматически на основе картографических данных. Например, расстояние до центра, аэропорта, ближайшего парка и водоёма."
   ]
  },
  {
   "cell_type": "markdown",
   "metadata": {},
   "source": [
    "## Изучение данных из файла"
   ]
  },
  {
   "cell_type": "markdown",
   "metadata": {},
   "source": [
    "Импортируем библиотеку `pandas`. Cохраним файл `real_estate_data.csv` из папки `/datasets` в переменную `data`. В качестве разделителя таблицы используется `\\t`, нужно передать это значение в параметр `sep`.\n",
    "\n",
    "Выведем первые 5 строк таблицы."
   ]
  },
  {
   "cell_type": "code",
   "execution_count": 1,
   "metadata": {},
   "outputs": [
    {
     "data": {
      "text/html": [
       "<div>\n",
       "<style scoped>\n",
       "    .dataframe tbody tr th:only-of-type {\n",
       "        vertical-align: middle;\n",
       "    }\n",
       "\n",
       "    .dataframe tbody tr th {\n",
       "        vertical-align: top;\n",
       "    }\n",
       "\n",
       "    .dataframe thead th {\n",
       "        text-align: right;\n",
       "    }\n",
       "</style>\n",
       "<table border=\"1\" class=\"dataframe\">\n",
       "  <thead>\n",
       "    <tr style=\"text-align: right;\">\n",
       "      <th></th>\n",
       "      <th>total_images</th>\n",
       "      <th>last_price</th>\n",
       "      <th>total_area</th>\n",
       "      <th>first_day_exposition</th>\n",
       "      <th>rooms</th>\n",
       "      <th>ceiling_height</th>\n",
       "      <th>floors_total</th>\n",
       "      <th>living_area</th>\n",
       "      <th>floor</th>\n",
       "      <th>is_apartment</th>\n",
       "      <th>...</th>\n",
       "      <th>kitchen_area</th>\n",
       "      <th>balcony</th>\n",
       "      <th>locality_name</th>\n",
       "      <th>airports_nearest</th>\n",
       "      <th>cityCenters_nearest</th>\n",
       "      <th>parks_around3000</th>\n",
       "      <th>parks_nearest</th>\n",
       "      <th>ponds_around3000</th>\n",
       "      <th>ponds_nearest</th>\n",
       "      <th>days_exposition</th>\n",
       "    </tr>\n",
       "  </thead>\n",
       "  <tbody>\n",
       "    <tr>\n",
       "      <th>0</th>\n",
       "      <td>20</td>\n",
       "      <td>13000000.0</td>\n",
       "      <td>108.0</td>\n",
       "      <td>2019-03-07T00:00:00</td>\n",
       "      <td>3</td>\n",
       "      <td>2.70</td>\n",
       "      <td>16.0</td>\n",
       "      <td>51.0</td>\n",
       "      <td>8</td>\n",
       "      <td>NaN</td>\n",
       "      <td>...</td>\n",
       "      <td>25.0</td>\n",
       "      <td>NaN</td>\n",
       "      <td>Санкт-Петербург</td>\n",
       "      <td>18863.0</td>\n",
       "      <td>16028.0</td>\n",
       "      <td>1.0</td>\n",
       "      <td>482.0</td>\n",
       "      <td>2.0</td>\n",
       "      <td>755.0</td>\n",
       "      <td>NaN</td>\n",
       "    </tr>\n",
       "    <tr>\n",
       "      <th>1</th>\n",
       "      <td>7</td>\n",
       "      <td>3350000.0</td>\n",
       "      <td>40.4</td>\n",
       "      <td>2018-12-04T00:00:00</td>\n",
       "      <td>1</td>\n",
       "      <td>NaN</td>\n",
       "      <td>11.0</td>\n",
       "      <td>18.6</td>\n",
       "      <td>1</td>\n",
       "      <td>NaN</td>\n",
       "      <td>...</td>\n",
       "      <td>11.0</td>\n",
       "      <td>2.0</td>\n",
       "      <td>посёлок Шушары</td>\n",
       "      <td>12817.0</td>\n",
       "      <td>18603.0</td>\n",
       "      <td>0.0</td>\n",
       "      <td>NaN</td>\n",
       "      <td>0.0</td>\n",
       "      <td>NaN</td>\n",
       "      <td>81.0</td>\n",
       "    </tr>\n",
       "    <tr>\n",
       "      <th>2</th>\n",
       "      <td>10</td>\n",
       "      <td>5196000.0</td>\n",
       "      <td>56.0</td>\n",
       "      <td>2015-08-20T00:00:00</td>\n",
       "      <td>2</td>\n",
       "      <td>NaN</td>\n",
       "      <td>5.0</td>\n",
       "      <td>34.3</td>\n",
       "      <td>4</td>\n",
       "      <td>NaN</td>\n",
       "      <td>...</td>\n",
       "      <td>8.3</td>\n",
       "      <td>0.0</td>\n",
       "      <td>Санкт-Петербург</td>\n",
       "      <td>21741.0</td>\n",
       "      <td>13933.0</td>\n",
       "      <td>1.0</td>\n",
       "      <td>90.0</td>\n",
       "      <td>2.0</td>\n",
       "      <td>574.0</td>\n",
       "      <td>558.0</td>\n",
       "    </tr>\n",
       "    <tr>\n",
       "      <th>3</th>\n",
       "      <td>0</td>\n",
       "      <td>64900000.0</td>\n",
       "      <td>159.0</td>\n",
       "      <td>2015-07-24T00:00:00</td>\n",
       "      <td>3</td>\n",
       "      <td>NaN</td>\n",
       "      <td>14.0</td>\n",
       "      <td>NaN</td>\n",
       "      <td>9</td>\n",
       "      <td>NaN</td>\n",
       "      <td>...</td>\n",
       "      <td>NaN</td>\n",
       "      <td>0.0</td>\n",
       "      <td>Санкт-Петербург</td>\n",
       "      <td>28098.0</td>\n",
       "      <td>6800.0</td>\n",
       "      <td>2.0</td>\n",
       "      <td>84.0</td>\n",
       "      <td>3.0</td>\n",
       "      <td>234.0</td>\n",
       "      <td>424.0</td>\n",
       "    </tr>\n",
       "    <tr>\n",
       "      <th>4</th>\n",
       "      <td>2</td>\n",
       "      <td>10000000.0</td>\n",
       "      <td>100.0</td>\n",
       "      <td>2018-06-19T00:00:00</td>\n",
       "      <td>2</td>\n",
       "      <td>3.03</td>\n",
       "      <td>14.0</td>\n",
       "      <td>32.0</td>\n",
       "      <td>13</td>\n",
       "      <td>NaN</td>\n",
       "      <td>...</td>\n",
       "      <td>41.0</td>\n",
       "      <td>NaN</td>\n",
       "      <td>Санкт-Петербург</td>\n",
       "      <td>31856.0</td>\n",
       "      <td>8098.0</td>\n",
       "      <td>2.0</td>\n",
       "      <td>112.0</td>\n",
       "      <td>1.0</td>\n",
       "      <td>48.0</td>\n",
       "      <td>121.0</td>\n",
       "    </tr>\n",
       "  </tbody>\n",
       "</table>\n",
       "<p>5 rows × 22 columns</p>\n",
       "</div>"
      ],
      "text/plain": [
       "   total_images  last_price  total_area first_day_exposition  rooms  \\\n",
       "0            20  13000000.0       108.0  2019-03-07T00:00:00      3   \n",
       "1             7   3350000.0        40.4  2018-12-04T00:00:00      1   \n",
       "2            10   5196000.0        56.0  2015-08-20T00:00:00      2   \n",
       "3             0  64900000.0       159.0  2015-07-24T00:00:00      3   \n",
       "4             2  10000000.0       100.0  2018-06-19T00:00:00      2   \n",
       "\n",
       "   ceiling_height  floors_total  living_area  floor is_apartment  ...  \\\n",
       "0            2.70          16.0         51.0      8          NaN  ...   \n",
       "1             NaN          11.0         18.6      1          NaN  ...   \n",
       "2             NaN           5.0         34.3      4          NaN  ...   \n",
       "3             NaN          14.0          NaN      9          NaN  ...   \n",
       "4            3.03          14.0         32.0     13          NaN  ...   \n",
       "\n",
       "   kitchen_area  balcony    locality_name  airports_nearest  \\\n",
       "0          25.0      NaN  Санкт-Петербург           18863.0   \n",
       "1          11.0      2.0   посёлок Шушары           12817.0   \n",
       "2           8.3      0.0  Санкт-Петербург           21741.0   \n",
       "3           NaN      0.0  Санкт-Петербург           28098.0   \n",
       "4          41.0      NaN  Санкт-Петербург           31856.0   \n",
       "\n",
       "  cityCenters_nearest  parks_around3000  parks_nearest  ponds_around3000  \\\n",
       "0             16028.0               1.0          482.0               2.0   \n",
       "1             18603.0               0.0            NaN               0.0   \n",
       "2             13933.0               1.0           90.0               2.0   \n",
       "3              6800.0               2.0           84.0               3.0   \n",
       "4              8098.0               2.0          112.0               1.0   \n",
       "\n",
       "   ponds_nearest  days_exposition  \n",
       "0          755.0              NaN  \n",
       "1            NaN             81.0  \n",
       "2          574.0            558.0  \n",
       "3          234.0            424.0  \n",
       "4           48.0            121.0  \n",
       "\n",
       "[5 rows x 22 columns]"
      ]
     },
     "execution_count": 1,
     "metadata": {},
     "output_type": "execute_result"
    }
   ],
   "source": [
    "import pandas as pd\n",
    "import numpy as np\n",
    "import matplotlib.pyplot as plt\n",
    "import warnings\n",
    "\n",
    "warnings.filterwarnings('ignore')\n",
    "data = pd.read_csv('/datasets/real_estate_data.csv', sep='\\t')\n",
    "data.head(5)"
   ]
  },
  {
   "cell_type": "markdown",
   "metadata": {},
   "source": [
    "Получим общую информацию о таблице:"
   ]
  },
  {
   "cell_type": "code",
   "execution_count": 2,
   "metadata": {},
   "outputs": [
    {
     "name": "stdout",
     "output_type": "stream",
     "text": [
      "<class 'pandas.core.frame.DataFrame'>\n",
      "RangeIndex: 23699 entries, 0 to 23698\n",
      "Data columns (total 22 columns):\n",
      " #   Column                Non-Null Count  Dtype  \n",
      "---  ------                --------------  -----  \n",
      " 0   total_images          23699 non-null  int64  \n",
      " 1   last_price            23699 non-null  float64\n",
      " 2   total_area            23699 non-null  float64\n",
      " 3   first_day_exposition  23699 non-null  object \n",
      " 4   rooms                 23699 non-null  int64  \n",
      " 5   ceiling_height        14504 non-null  float64\n",
      " 6   floors_total          23613 non-null  float64\n",
      " 7   living_area           21796 non-null  float64\n",
      " 8   floor                 23699 non-null  int64  \n",
      " 9   is_apartment          2775 non-null   object \n",
      " 10  studio                23699 non-null  bool   \n",
      " 11  open_plan             23699 non-null  bool   \n",
      " 12  kitchen_area          21421 non-null  float64\n",
      " 13  balcony               12180 non-null  float64\n",
      " 14  locality_name         23650 non-null  object \n",
      " 15  airports_nearest      18157 non-null  float64\n",
      " 16  cityCenters_nearest   18180 non-null  float64\n",
      " 17  parks_around3000      18181 non-null  float64\n",
      " 18  parks_nearest         8079 non-null   float64\n",
      " 19  ponds_around3000      18181 non-null  float64\n",
      " 20  ponds_nearest         9110 non-null   float64\n",
      " 21  days_exposition       20518 non-null  float64\n",
      "dtypes: bool(2), float64(14), int64(3), object(3)\n",
      "memory usage: 3.7+ MB\n"
     ]
    }
   ],
   "source": [
    "data.info()"
   ]
  },
  {
   "cell_type": "markdown",
   "metadata": {},
   "source": [
    "Приведем название столбца `cityCenters_nearest` к стилю Snake case и выведем список столбцов."
   ]
  },
  {
   "cell_type": "code",
   "execution_count": 3,
   "metadata": {
    "scrolled": true
   },
   "outputs": [
    {
     "data": {
      "text/plain": [
       "Index(['total_images', 'last_price', 'total_area', 'first_day_exposition',\n",
       "       'rooms', 'ceiling_height', 'floors_total', 'living_area', 'floor',\n",
       "       'is_apartment', 'studio', 'open_plan', 'kitchen_area', 'balcony',\n",
       "       'locality_name', 'airports_nearest', 'city_centers_nearest',\n",
       "       'parks_around3000', 'parks_nearest', 'ponds_around3000',\n",
       "       'ponds_nearest', 'days_exposition'],\n",
       "      dtype='object')"
      ]
     },
     "execution_count": 3,
     "metadata": {},
     "output_type": "execute_result"
    }
   ],
   "source": [
    "data = data.rename({'cityCenters_nearest': 'city_centers_nearest'}, axis='columns')\n",
    "data.columns"
   ]
  },
  {
   "cell_type": "markdown",
   "metadata": {},
   "source": [
    "**Вывод**"
   ]
  },
  {
   "cell_type": "markdown",
   "metadata": {},
   "source": [
    "Данные в таблице разделены символом `\\t`. В таблице 23699 строк и 22 столбца, в некоторых столбцах встречаются пропуски.\n",
    "\n",
    "Типы данных: bool, float, int и object.\n",
    "\n",
    "Описание данных:\n",
    "* `airports_nearest` — расстояние до ближайшего аэропорта в метрах (м)\n",
    "* `balcony` — число балконов\n",
    "* `ceiling_height` — высота потолков (м)\n",
    "* `city_centers_nearest` — расстояние до центра города (м)\n",
    "* `days_exposition` — сколько дней было размещено объявление (от публикации до снятия)\n",
    "* `first_day_exposition` — дата публикации\n",
    "* `floor` — этаж\n",
    "* `floors_total` — всего этажей в доме\n",
    "* `is_apartment` — апартаменты (булев тип)\n",
    "* `kitchen_area` — площадь кухни в квадратных метрах (м²)\n",
    "* `last_price` — цена на момент снятия с публикации\n",
    "* `living_area` — жилая площадь в квадратных метрах (м²)\n",
    "* `locality_name` — название населённого пункта\n",
    "* `open_plan` — свободная планировка (булев тип)\n",
    "* `parks_around3000` — число парков в радиусе 3 км\n",
    "* `parks_nearest` — расстояние до ближайшего парка (м)\n",
    "* `ponds_around3000` — число водоёмов в радиусе 3 км\n",
    "* `ponds_nearest` — расстояние до ближайшего водоёма (м)\n",
    "* `rooms` — число комнат\n",
    "* `studio` — квартира-студия (булев тип)\n",
    "* `total_area` — площадь квартиры в квадратных метрах (м²)\n",
    "* `total_images` — число фотографий квартиры в объявлении"
   ]
  },
  {
   "cell_type": "markdown",
   "metadata": {},
   "source": [
    "## Предобработка данных"
   ]
  },
  {
   "cell_type": "markdown",
   "metadata": {},
   "source": [
    "### Обработка пропусков"
   ]
  },
  {
   "cell_type": "markdown",
   "metadata": {},
   "source": [
    "Посмотрим на количество пропусков в таблице:"
   ]
  },
  {
   "cell_type": "code",
   "execution_count": 4,
   "metadata": {},
   "outputs": [
    {
     "data": {
      "text/html": [
       "<div>\n",
       "<style scoped>\n",
       "    .dataframe tbody tr th:only-of-type {\n",
       "        vertical-align: middle;\n",
       "    }\n",
       "\n",
       "    .dataframe tbody tr th {\n",
       "        vertical-align: top;\n",
       "    }\n",
       "\n",
       "    .dataframe thead th {\n",
       "        text-align: right;\n",
       "    }\n",
       "</style>\n",
       "<table border=\"1\" class=\"dataframe\">\n",
       "  <thead>\n",
       "    <tr style=\"text-align: right;\">\n",
       "      <th></th>\n",
       "      <th>sum</th>\n",
       "      <th>percent</th>\n",
       "    </tr>\n",
       "  </thead>\n",
       "  <tbody>\n",
       "    <tr>\n",
       "      <th>total_images</th>\n",
       "      <td>0</td>\n",
       "      <td>0.0%</td>\n",
       "    </tr>\n",
       "    <tr>\n",
       "      <th>last_price</th>\n",
       "      <td>0</td>\n",
       "      <td>0.0%</td>\n",
       "    </tr>\n",
       "    <tr>\n",
       "      <th>total_area</th>\n",
       "      <td>0</td>\n",
       "      <td>0.0%</td>\n",
       "    </tr>\n",
       "    <tr>\n",
       "      <th>first_day_exposition</th>\n",
       "      <td>0</td>\n",
       "      <td>0.0%</td>\n",
       "    </tr>\n",
       "    <tr>\n",
       "      <th>rooms</th>\n",
       "      <td>0</td>\n",
       "      <td>0.0%</td>\n",
       "    </tr>\n",
       "    <tr>\n",
       "      <th>ceiling_height</th>\n",
       "      <td>9195</td>\n",
       "      <td>38.8%</td>\n",
       "    </tr>\n",
       "    <tr>\n",
       "      <th>floors_total</th>\n",
       "      <td>86</td>\n",
       "      <td>0.4%</td>\n",
       "    </tr>\n",
       "    <tr>\n",
       "      <th>living_area</th>\n",
       "      <td>1903</td>\n",
       "      <td>8.0%</td>\n",
       "    </tr>\n",
       "    <tr>\n",
       "      <th>floor</th>\n",
       "      <td>0</td>\n",
       "      <td>0.0%</td>\n",
       "    </tr>\n",
       "    <tr>\n",
       "      <th>is_apartment</th>\n",
       "      <td>20924</td>\n",
       "      <td>88.3%</td>\n",
       "    </tr>\n",
       "    <tr>\n",
       "      <th>studio</th>\n",
       "      <td>0</td>\n",
       "      <td>0.0%</td>\n",
       "    </tr>\n",
       "    <tr>\n",
       "      <th>open_plan</th>\n",
       "      <td>0</td>\n",
       "      <td>0.0%</td>\n",
       "    </tr>\n",
       "    <tr>\n",
       "      <th>kitchen_area</th>\n",
       "      <td>2278</td>\n",
       "      <td>9.6%</td>\n",
       "    </tr>\n",
       "    <tr>\n",
       "      <th>balcony</th>\n",
       "      <td>11519</td>\n",
       "      <td>48.6%</td>\n",
       "    </tr>\n",
       "    <tr>\n",
       "      <th>locality_name</th>\n",
       "      <td>49</td>\n",
       "      <td>0.2%</td>\n",
       "    </tr>\n",
       "    <tr>\n",
       "      <th>airports_nearest</th>\n",
       "      <td>5542</td>\n",
       "      <td>23.4%</td>\n",
       "    </tr>\n",
       "    <tr>\n",
       "      <th>city_centers_nearest</th>\n",
       "      <td>5519</td>\n",
       "      <td>23.3%</td>\n",
       "    </tr>\n",
       "    <tr>\n",
       "      <th>parks_around3000</th>\n",
       "      <td>5518</td>\n",
       "      <td>23.3%</td>\n",
       "    </tr>\n",
       "    <tr>\n",
       "      <th>parks_nearest</th>\n",
       "      <td>15620</td>\n",
       "      <td>65.9%</td>\n",
       "    </tr>\n",
       "    <tr>\n",
       "      <th>ponds_around3000</th>\n",
       "      <td>5518</td>\n",
       "      <td>23.3%</td>\n",
       "    </tr>\n",
       "    <tr>\n",
       "      <th>ponds_nearest</th>\n",
       "      <td>14589</td>\n",
       "      <td>61.6%</td>\n",
       "    </tr>\n",
       "    <tr>\n",
       "      <th>days_exposition</th>\n",
       "      <td>3181</td>\n",
       "      <td>13.4%</td>\n",
       "    </tr>\n",
       "  </tbody>\n",
       "</table>\n",
       "</div>"
      ],
      "text/plain": [
       "                        sum percent\n",
       "total_images              0    0.0%\n",
       "last_price                0    0.0%\n",
       "total_area                0    0.0%\n",
       "first_day_exposition      0    0.0%\n",
       "rooms                     0    0.0%\n",
       "ceiling_height         9195   38.8%\n",
       "floors_total             86    0.4%\n",
       "living_area            1903    8.0%\n",
       "floor                     0    0.0%\n",
       "is_apartment          20924   88.3%\n",
       "studio                    0    0.0%\n",
       "open_plan                 0    0.0%\n",
       "kitchen_area           2278    9.6%\n",
       "balcony               11519   48.6%\n",
       "locality_name            49    0.2%\n",
       "airports_nearest       5542   23.4%\n",
       "city_centers_nearest   5519   23.3%\n",
       "parks_around3000       5518   23.3%\n",
       "parks_nearest         15620   65.9%\n",
       "ponds_around3000       5518   23.3%\n",
       "ponds_nearest         14589   61.6%\n",
       "days_exposition        3181   13.4%"
      ]
     },
     "execution_count": 4,
     "metadata": {},
     "output_type": "execute_result"
    }
   ],
   "source": [
    "data_isna = pd.DataFrame()\n",
    "# cтолбец суммы\n",
    "data_isna['sum'] = data.isna().sum() \n",
    "# cтолбец процента от общего\n",
    "data_isna['percent'] = (data.isna().mean()*100).round(1).astype(str).add('%')\n",
    "data_isna"
   ]
  },
  {
   "cell_type": "markdown",
   "metadata": {},
   "source": [
    "В столбцах `floors_total` и `locality_name` очень мало пропущенных значений, 49 и 86 от 23699 строк составляет меньше 0,4%. Удалим строки с отсутствующими значениями в этих столбцах, они не повлияют на результаты исследования."
   ]
  },
  {
   "cell_type": "code",
   "execution_count": 5,
   "metadata": {},
   "outputs": [],
   "source": [
    "data.dropna(subset = ['floors_total', 'locality_name'], inplace = True)"
   ]
  },
  {
   "cell_type": "markdown",
   "metadata": {},
   "source": [
    "Пропуски в `ceiling_height` (высота потолков) заменим на медианное значение этого столбца."
   ]
  },
  {
   "cell_type": "code",
   "execution_count": 6,
   "metadata": {},
   "outputs": [
    {
     "name": "stdout",
     "output_type": "stream",
     "text": [
      "Медиана высоты потолков: 2.65\n"
     ]
    }
   ],
   "source": [
    "print('Медиана высоты потолков:', data['ceiling_height'].median())\n",
    "data['ceiling_height'] = data['ceiling_height'].fillna(data['ceiling_height'].median())"
   ]
  },
  {
   "cell_type": "markdown",
   "metadata": {},
   "source": [
    "Если квартира является студией, то площадь кухни `kitchen_area` приравняем к нулю, а жилую площадь `living_area` сделаем равной общей площади `total_area`."
   ]
  },
  {
   "cell_type": "code",
   "execution_count": 7,
   "metadata": {
    "scrolled": true
   },
   "outputs": [],
   "source": [
    "# площадь кухни в студии приравниваем к 0\n",
    "data.loc[(data['kitchen_area'].isna()) & (data['studio'] == True),'kitchen_area'] = 0\n",
    "# жилую площадь в студии приравниваем к общей площади\n",
    "data.loc[(data['kitchen_area'].isna()) & (data['studio'] == True),'living_area'] = data['total_area']"
   ]
  },
  {
   "cell_type": "markdown",
   "metadata": {},
   "source": [
    "Пропуски в `living_area` и `kitchen_area`заменим на медианное значение группы по количеству комнат `rooms` с помощью метода `apply()`."
   ]
  },
  {
   "cell_type": "code",
   "execution_count": 8,
   "metadata": {},
   "outputs": [],
   "source": [
    "columns = ['living_area', 'kitchen_area']\n",
    "for column in columns:\n",
    "    # лямбда-функция для вычисленя медианы\n",
    "    data[column] = data.groupby('rooms')[column].apply(lambda x: x.fillna(x.median()))"
   ]
  },
  {
   "cell_type": "markdown",
   "metadata": {},
   "source": [
    "Колонка `is_apartment` имеет булев тип данных. Скорее всего отсутвующие значения означают, что это не апартаменты, заменим пустые значения на `False`."
   ]
  },
  {
   "cell_type": "code",
   "execution_count": 9,
   "metadata": {},
   "outputs": [],
   "source": [
    "data['is_apartment'] = data['is_apartment'].fillna(False)"
   ]
  },
  {
   "cell_type": "markdown",
   "metadata": {},
   "source": [
    "Отсутвие значений в колоке `balcony` заменим на 0."
   ]
  },
  {
   "cell_type": "code",
   "execution_count": 10,
   "metadata": {},
   "outputs": [],
   "source": [
    "data['balcony'] = data['balcony'].fillna(0)"
   ]
  },
  {
   "cell_type": "markdown",
   "metadata": {},
   "source": [
    "Посмотрим на парки и озера.\n",
    "\n",
    "Проверим ситуации, когда отсутвует значение в `parks_nearest` (расстояние до ближайшего парка в м), а в `parks_around3000` (число парков в радиусе 3 км) значение больше 0. И аналогично с озерами: `ponds_nearest` и `ponds_around3000`.\n",
    "\n",
    "Также проверим случаи обратные: в `parks_around3000` нет значения, а в `parks_nearest` значение меньше 3000. И аналогичным образом с озерами."
   ]
  },
  {
   "cell_type": "code",
   "execution_count": 11,
   "metadata": {},
   "outputs": [
    {
     "name": "stdout",
     "output_type": "stream",
     "text": [
      "0 0 0 0\n"
     ]
    }
   ],
   "source": [
    "print(len(data.query('parks_nearest.isna() and parks_around3000 > 0')),\n",
    "      len(data.query('ponds_nearest.isna() and ponds_around3000 > 0')),\n",
    "      len(data.query('parks_nearest < 3000 and parks_around3000.isna()')),\n",
    "      len(data.query('ponds_nearest < 3000 and ponds_around3000.isna()'))\n",
    "     )"
   ]
  },
  {
   "cell_type": "markdown",
   "metadata": {},
   "source": [
    "Строк удовлетворяющих таким условиям нет. Предположения оказались неверными.\n",
    "\n",
    "Тогда пропуски в параметрах `parks_around3000` и `ponds_around3000` (количество парков и озер в радиуссе 3км) можно заменить на 0."
   ]
  },
  {
   "cell_type": "code",
   "execution_count": 12,
   "metadata": {},
   "outputs": [],
   "source": [
    "data[['parks_around3000', 'ponds_around3000']] = data[['parks_around3000', 'ponds_around3000']].fillna(0)"
   ]
  },
  {
   "cell_type": "markdown",
   "metadata": {},
   "source": [
    "Пустые значения в столбцах с дистанцией `parks_nearest`, `ponds_nearest`, `airports_nearest` и `city_centers_nearest` заменим на медианные по всему набору данных, так как они не будут искажать результаты исследования."
   ]
  },
  {
   "cell_type": "code",
   "execution_count": 13,
   "metadata": {},
   "outputs": [],
   "source": [
    "columns = ['parks_nearest', 'ponds_nearest', 'airports_nearest', 'city_centers_nearest']\n",
    "for column in columns:\n",
    "    data[column] = data[column].fillna(data[column].median())"
   ]
  },
  {
   "cell_type": "markdown",
   "metadata": {},
   "source": [
    "Для пропущенных значений `days_exposition` - сколько дней было размещено объявление, построим график зависимости от даты публикации `first_day_exposition`, чтобы посмотреть, не зависят ли от нее пропуски."
   ]
  },
  {
   "cell_type": "code",
   "execution_count": 14,
   "metadata": {},
   "outputs": [
    {
     "data": {
      "text/plain": [
       "<AxesSubplot:title={'center':'Распределение объявлеинй с пропущенными days_exposition'}, xlabel='first_day_exposition'>"
      ]
     },
     "execution_count": 14,
     "metadata": {},
     "output_type": "execute_result"
    },
    {
     "data": {
      "image/png": "[encoded data removed]",
      "text/plain": [
       "<Figure size 576x432 with 1 Axes>"
      ]
     },
     "metadata": {
      "needs_background": "light"
     },
     "output_type": "display_data"
    }
   ],
   "source": [
    "# приводим first_day_exposition к типу даты\n",
    "data['first_day_exposition'] = pd.to_datetime(data['first_day_exposition'])\n",
    "# создаем новый столбец days_exposition_empty, определяющий пропущено ли количество дней объявления или нет\n",
    "data['days_exposition_empty'] = data['days_exposition'].isna().astype(int)\n",
    "\n",
    "(data\n",
    " .groupby('first_day_exposition')\n",
    " .agg({'days_exposition_empty': 'sum'})\n",
    " .plot(title='Распределение объявлеинй с пропущенными days_exposition', figsize=(8,6), grid=True)\n",
    ")"
   ]
  },
  {
   "cell_type": "markdown",
   "metadata": {},
   "source": [
    "На графике видно, что количество пропусков стремительно растет с начала 2019 года. Похоже, что данные пропущенны не просто так, а потому что на момент выгрузки эти объявления были все еще открыты.\n",
    "\n",
    "Пропущенные значения в столбце `days_exposition` заполнять не нужно, оставим их в таком виде."
   ]
  },
  {
   "cell_type": "markdown",
   "metadata": {},
   "source": [
    "**Вывод**"
   ]
  },
  {
   "cell_type": "markdown",
   "metadata": {},
   "source": [
    "В ходе обработки пропусков таблицы использовались различные методы.\n",
    "\n",
    "Строки с пропущенными значениями в `floors_total` и `locality_name` были удалены, так как они составляют 0,5% выборки и не повлияют на исследование.\n",
    "\n",
    "Для студий (строк в которых значение `studio == True`) приравняли пустые значения площади кухни `kitchen_area` к нулю, а `living_area` к `total_area`. Остальные пропущенные значения `kitchen_area` и `living_area` заполнены медианными значениями групп по количеству комнат `rooms`, так как это ключевой параметр, влияющий на площадь.\n",
    "\n",
    "Пропуски в высоте потолков `ceiling_height` и столбцах с дистанций `parks_nearest`, `ponds_nearest`, `airports_nearest` и `city_centers_nearest` заменены на медианные значения по всей таблице. Медианное значение в данных случаях позволит работать с данными и не исказит результаты исследований.\n",
    "\n",
    "Пропуски в `is_apartment` заменены на `False`, в `balcony` на 0, так как эти значения логично принимать, когда они отсутвуют.\n",
    "\n",
    "Пропущенные значения в столбце `days_exposition` оставлены в текущем виде. Так как мы убедились, построив график зависимости, что количество пропусков увеличивается ближе к дате выгрузки данных, то есть объявления еще активны.\n",
    "\n",
    "Вызовем еще раз метод `info()`, чтобы убедиться в том, что все пропуски были обработаны."
   ]
  },
  {
   "cell_type": "code",
   "execution_count": 15,
   "metadata": {},
   "outputs": [
    {
     "name": "stdout",
     "output_type": "stream",
     "text": [
      "<class 'pandas.core.frame.DataFrame'>\n",
      "Int64Index: 23565 entries, 0 to 23698\n",
      "Data columns (total 23 columns):\n",
      " #   Column                 Non-Null Count  Dtype         \n",
      "---  ------                 --------------  -----         \n",
      " 0   total_images           23565 non-null  int64         \n",
      " 1   last_price             23565 non-null  float64       \n",
      " 2   total_area             23565 non-null  float64       \n",
      " 3   first_day_exposition   23565 non-null  datetime64[ns]\n",
      " 4   rooms                  23565 non-null  int64         \n",
      " 5   ceiling_height         23565 non-null  float64       \n",
      " 6   floors_total           23565 non-null  float64       \n",
      " 7   living_area            23565 non-null  float64       \n",
      " 8   floor                  23565 non-null  int64         \n",
      " 9   is_apartment           23565 non-null  bool          \n",
      " 10  studio                 23565 non-null  bool          \n",
      " 11  open_plan              23565 non-null  bool          \n",
      " 12  kitchen_area           23565 non-null  float64       \n",
      " 13  balcony                23565 non-null  float64       \n",
      " 14  locality_name          23565 non-null  object        \n",
      " 15  airports_nearest       23565 non-null  float64       \n",
      " 16  city_centers_nearest   23565 non-null  float64       \n",
      " 17  parks_around3000       23565 non-null  float64       \n",
      " 18  parks_nearest          23565 non-null  float64       \n",
      " 19  ponds_around3000       23565 non-null  float64       \n",
      " 20  ponds_nearest          23565 non-null  float64       \n",
      " 21  days_exposition        20394 non-null  float64       \n",
      " 22  days_exposition_empty  23565 non-null  int64         \n",
      "dtypes: bool(3), datetime64[ns](1), float64(14), int64(4), object(1)\n",
      "memory usage: 3.8+ MB\n"
     ]
    }
   ],
   "source": [
    "data.info()"
   ]
  },
  {
   "cell_type": "markdown",
   "metadata": {},
   "source": [
    "### Изменение типов данных"
   ]
  },
  {
   "cell_type": "markdown",
   "metadata": {},
   "source": [
    "Посмотрим на типы данных таблицы."
   ]
  },
  {
   "cell_type": "code",
   "execution_count": 16,
   "metadata": {},
   "outputs": [
    {
     "data": {
      "text/plain": [
       "total_images                      int64\n",
       "last_price                      float64\n",
       "total_area                      float64\n",
       "first_day_exposition     datetime64[ns]\n",
       "rooms                             int64\n",
       "ceiling_height                  float64\n",
       "floors_total                    float64\n",
       "living_area                     float64\n",
       "floor                             int64\n",
       "is_apartment                       bool\n",
       "studio                             bool\n",
       "open_plan                          bool\n",
       "kitchen_area                    float64\n",
       "balcony                         float64\n",
       "locality_name                    object\n",
       "airports_nearest                float64\n",
       "city_centers_nearest            float64\n",
       "parks_around3000                float64\n",
       "parks_nearest                   float64\n",
       "ponds_around3000                float64\n",
       "ponds_nearest                   float64\n",
       "days_exposition                 float64\n",
       "days_exposition_empty             int64\n",
       "dtype: object"
      ]
     },
     "execution_count": 16,
     "metadata": {},
     "output_type": "execute_result"
    }
   ],
   "source": [
    "data.dtypes"
   ]
  },
  {
   "cell_type": "markdown",
   "metadata": {},
   "source": [
    "Столбец `first_day_exposition` уже был приведен к типу даты в пукте <a href='#Обработка-пропусков'>Обработка пропусков</a> с помошью строки:\n",
    "\n",
    "`data['first_day_exposition'] = pd.to_datetime(data['first_day_exposition'])`\n",
    "\n",
    "Но еще осталисть столбцы, у которых нужно изменить вещественный тип данных на целый:\n",
    "* `last_price` — цена\n",
    "* `floors_total` — количество этажей в доме\n",
    "* `balcony` — количество балконов\n",
    "* `parks_around3000` — число парков в радиусе 3 км\n",
    "* `ponds_around3000` — число водоёмов в радиусе 3 км\n",
    "\n",
    "\n",
    "Приведем их к целочисленному типу данных с помощью метода `astype()`. Столбец `days_exposition` не будем приводить, так как там остались пропуски."
   ]
  },
  {
   "cell_type": "code",
   "execution_count": 17,
   "metadata": {},
   "outputs": [],
   "source": [
    "columns = ['last_price', 'floors_total', 'balcony', 'parks_around3000', 'ponds_around3000']\n",
    "# обработка возможных ошибок с помощью try-except\n",
    "try:\n",
    "    data[columns] = data[columns].astype('int')\n",
    "except:\n",
    "    print('При изменении типа данных произошла ошибка')"
   ]
  },
  {
   "cell_type": "markdown",
   "metadata": {},
   "source": [
    "Рассмотрим значения переменной `locality_name` типа `object`."
   ]
  },
  {
   "cell_type": "code",
   "execution_count": 18,
   "metadata": {
    "scrolled": true
   },
   "outputs": [
    {
     "data": {
      "text/plain": [
       "array(['Санкт-Петербург', 'посёлок Шушары', 'городской посёлок Янино-1',\n",
       "       'посёлок Парголово', 'посёлок Мурино', 'Ломоносов', 'Сертолово',\n",
       "       'Петергоф', 'Пушкин', 'деревня Кудрово', 'Коммунар', 'Колпино',\n",
       "       'поселок городского типа Красный Бор', 'Гатчина', 'поселок Мурино',\n",
       "       'деревня Фёдоровское', 'Выборг', 'Кронштадт', 'Кировск',\n",
       "       'деревня Новое Девяткино', 'посёлок Металлострой',\n",
       "       'посёлок городского типа Лебяжье',\n",
       "       'посёлок городского типа Сиверский', 'поселок Молодцово',\n",
       "       'поселок городского типа Кузьмоловский',\n",
       "       'садовое товарищество Новая Ропша', 'Павловск',\n",
       "       'деревня Пикколово', 'Всеволожск', 'Волхов', 'Кингисепп',\n",
       "       'Приозерск', 'Сестрорецк', 'деревня Куттузи', 'посёлок Аннино',\n",
       "       'поселок городского типа Ефимовский', 'посёлок Плодовое',\n",
       "       'деревня Заклинье', 'поселок Торковичи', 'поселок Первомайское',\n",
       "       'Красное Село', 'посёлок Понтонный', 'Сясьстрой', 'деревня Старая',\n",
       "       'деревня Лесколово', 'посёлок Новый Свет', 'Сланцы',\n",
       "       'село Путилово', 'Ивангород', 'Мурино', 'Шлиссельбург',\n",
       "       'Никольское', 'Зеленогорск', 'Сосновый Бор', 'поселок Новый Свет',\n",
       "       'деревня Оржицы', 'деревня Кальтино', 'Кудрово',\n",
       "       'поселок Романовка', 'посёлок Бугры', 'поселок Бугры',\n",
       "       'поселок городского типа Рощино', 'Кириши', 'Луга', 'Волосово',\n",
       "       'Отрадное', 'село Павлово', 'поселок Оредеж', 'село Копорье',\n",
       "       'посёлок городского типа Красный Бор', 'посёлок Молодёжное',\n",
       "       'Тихвин', 'посёлок Победа', 'деревня Нурма',\n",
       "       'поселок городского типа Синявино', 'Тосно',\n",
       "       'посёлок городского типа Кузьмоловский', 'посёлок Стрельна',\n",
       "       'Бокситогорск', 'посёлок Александровская', 'деревня Лопухинка',\n",
       "       'Пикалёво', 'поселок Терволово',\n",
       "       'поселок городского типа Советский', 'Подпорожье',\n",
       "       'посёлок Петровское', 'посёлок городского типа Токсово',\n",
       "       'поселок Сельцо', 'посёлок городского типа Вырица',\n",
       "       'деревня Кипень', 'деревня Келози', 'деревня Вартемяги',\n",
       "       'посёлок Тельмана', 'поселок Севастьяново',\n",
       "       'городской поселок Большая Ижора', 'городской посёлок Павлово',\n",
       "       'деревня Агалатово', 'посёлок Новогорелово',\n",
       "       'городской посёлок Лесогорский', 'деревня Лаголово',\n",
       "       'поселок Цвелодубово', 'поселок городского типа Рахья',\n",
       "       'поселок городского типа Вырица', 'деревня Белогорка',\n",
       "       'поселок Заводской', 'городской посёлок Новоселье',\n",
       "       'деревня Большие Колпаны', 'деревня Горбунки', 'деревня Батово',\n",
       "       'деревня Заневка', 'деревня Иссад', 'Приморск',\n",
       "       'городской посёлок Фёдоровское', 'деревня Мистолово',\n",
       "       'Новая Ладога', 'поселок Зимитицы', 'поселок Барышево',\n",
       "       'деревня Разметелево', 'поселок городского типа имени Свердлова',\n",
       "       'деревня Пеники', 'поселок Рябово', 'деревня Пудомяги',\n",
       "       'поселок станции Корнево', 'деревня Низино', 'деревня Бегуницы',\n",
       "       'посёлок Поляны', 'городской посёлок Мга', 'поселок Елизаветино',\n",
       "       'посёлок городского типа Кузнечное', 'деревня Колтуши',\n",
       "       'поселок Запорожское', 'посёлок городского типа Рощино',\n",
       "       'деревня Гостилицы', 'деревня Малое Карлино',\n",
       "       'посёлок Мичуринское', 'посёлок городского типа имени Морозова',\n",
       "       'посёлок Песочный', 'посёлок Сосново', 'деревня Аро',\n",
       "       'поселок Ильичёво', 'посёлок городского типа Тайцы',\n",
       "       'деревня Малое Верево', 'деревня Извара', 'поселок станции Вещево',\n",
       "       'село Паша', 'деревня Калитино',\n",
       "       'посёлок городского типа Ульяновка', 'деревня Чудской Бор',\n",
       "       'поселок городского типа Дубровка', 'деревня Мины',\n",
       "       'поселок Войсковицы', 'посёлок городского типа имени Свердлова',\n",
       "       'деревня Коркино', 'посёлок Ропша',\n",
       "       'поселок городского типа Приладожский', 'посёлок Щеглово',\n",
       "       'посёлок Гаврилово', 'Лодейное Поле', 'деревня Рабитицы',\n",
       "       'поселок городского типа Никольский', 'деревня Кузьмолово',\n",
       "       'деревня Малые Колпаны', 'поселок Тельмана',\n",
       "       'посёлок Петро-Славянка', 'городской посёлок Назия',\n",
       "       'посёлок Репино', 'посёлок Ильичёво', 'поселок Углово',\n",
       "       'поселок Старая Малукса', 'садовое товарищество Рахья',\n",
       "       'поселок Аннино', 'поселок Победа', 'деревня Меньково',\n",
       "       'деревня Старые Бегуницы', 'посёлок Сапёрный', 'поселок Семрино',\n",
       "       'поселок Гаврилово', 'поселок Глажево', 'поселок Кобринское',\n",
       "       'деревня Гарболово', 'деревня Юкки',\n",
       "       'поселок станции Приветнинское', 'деревня Мануйлово',\n",
       "       'деревня Пчева', 'поселок Поляны', 'поселок Цвылёво',\n",
       "       'поселок Мельниково', 'посёлок Пудость', 'посёлок Усть-Луга',\n",
       "       'Светогорск', 'Любань', 'поселок Селезнёво',\n",
       "       'поселок городского типа Рябово', 'Каменногорск', 'деревня Кривко',\n",
       "       'поселок Глебычево', 'деревня Парицы', 'поселок Жилпосёлок',\n",
       "       'посёлок городского типа Мга', 'городской поселок Янино-1',\n",
       "       'посёлок Войскорово', 'село Никольское', 'посёлок Терволово',\n",
       "       'поселок Стеклянный', 'посёлок городского типа Важины',\n",
       "       'посёлок Мыза-Ивановка', 'село Русско-Высоцкое',\n",
       "       'поселок городского типа Лебяжье',\n",
       "       'поселок городского типа Форносово', 'село Старая Ладога',\n",
       "       'поселок Житково', 'городской посёлок Виллози', 'деревня Лампово',\n",
       "       'деревня Шпаньково', 'деревня Лаврики', 'посёлок Сумино',\n",
       "       'посёлок Возрождение', 'деревня Старосиверская',\n",
       "       'посёлок Кикерино', 'поселок Возрождение',\n",
       "       'деревня Старое Хинколово', 'посёлок Пригородный',\n",
       "       'посёлок Торфяное', 'городской посёлок Будогощь',\n",
       "       'поселок Суходолье', 'поселок Красная Долина', 'деревня Хапо-Ое',\n",
       "       'поселок городского типа Дружная Горка', 'поселок Лисий Нос',\n",
       "       'деревня Яльгелево', 'посёлок Стеклянный', 'село Рождествено',\n",
       "       'деревня Старополье', 'посёлок Левашово', 'деревня Сяськелево',\n",
       "       'деревня Камышовка',\n",
       "       'садоводческое некоммерческое товарищество Лесная Поляна',\n",
       "       'деревня Хязельки', 'поселок Жилгородок',\n",
       "       'посёлок городского типа Павлово', 'деревня Ялгино',\n",
       "       'поселок Новый Учхоз', 'городской посёлок Рощино',\n",
       "       'поселок Гончарово', 'поселок Почап', 'посёлок Сапёрное',\n",
       "       'посёлок Платформа 69-й километр', 'поселок Каложицы',\n",
       "       'деревня Фалилеево', 'деревня Пельгора',\n",
       "       'поселок городского типа Лесогорский', 'деревня Торошковичи',\n",
       "       'посёлок Белоостров', 'посёлок Алексеевка', 'поселок Серебрянский',\n",
       "       'поселок Лукаши', 'поселок Петровское', 'деревня Щеглово',\n",
       "       'поселок Мичуринское', 'деревня Тарасово', 'поселок Кингисеппский',\n",
       "       'посёлок при железнодорожной станции Вещево', 'поселок Ушаки',\n",
       "       'деревня Котлы', 'деревня Сижно', 'деревня Торосово',\n",
       "       'посёлок Форт Красная Горка', 'деревня Новолисино',\n",
       "       'посёлок станции Громово', 'деревня Глинка', 'посёлок Мельниково',\n",
       "       'поселок городского типа Назия', 'деревня Старая Пустошь',\n",
       "       'поселок Коммунары', 'поселок Починок',\n",
       "       'посёлок городского типа Вознесенье', 'деревня Разбегаево',\n",
       "       'посёлок городского типа Рябово', 'поселок Гладкое',\n",
       "       'посёлок при железнодорожной станции Приветнинское',\n",
       "       'поселок Тёсово-4', 'посёлок Жилгородок', 'деревня Бор',\n",
       "       'посёлок Коробицыно', 'деревня Большая Вруда', 'деревня Курковицы',\n",
       "       'посёлок Лисий Нос', 'городской посёлок Советский',\n",
       "       'посёлок Кобралово', 'деревня Суоранда', 'поселок Кобралово',\n",
       "       'поселок городского типа Кондратьево',\n",
       "       'коттеджный поселок Счастье', 'поселок Любань', 'деревня Реброво',\n",
       "       'деревня Зимитицы', 'деревня Тойворово', 'поселок Семиозерье',\n",
       "       'поселок Лесное', 'поселок Совхозный', 'поселок Усть-Луга',\n",
       "       'посёлок Ленинское', 'посёлок Суйда',\n",
       "       'посёлок городского типа Форносово', 'деревня Нижние Осельки',\n",
       "       'посёлок станции Свирь', 'поселок Перово', 'Высоцк',\n",
       "       'поселок Гарболово', 'село Шум', 'поселок Котельский',\n",
       "       'поселок станции Лужайка', 'деревня Большая Пустомержа',\n",
       "       'поселок Красносельское', 'деревня Вахнова Кара', 'деревня Пижма',\n",
       "       'коттеджный поселок Кивеннапа Север', 'поселок Коробицыно',\n",
       "       'поселок Ромашки', 'посёлок Перово', 'деревня Каськово',\n",
       "       'деревня Куровицы', 'посёлок Плоское', 'поселок Сумино',\n",
       "       'поселок городского типа Большая Ижора', 'поселок Кирпичное',\n",
       "       'деревня Ям-Тесово', 'деревня Раздолье', 'деревня Терпилицы',\n",
       "       'поселок городского типа Токсово', 'посёлок Шугозеро',\n",
       "       'деревня Ваганово', 'поселок Пушное', 'садовое товарищество Садко',\n",
       "       'посёлок Усть-Ижора', 'деревня Выскатка',\n",
       "       'городской посёлок Свирьстрой', 'поселок Громово',\n",
       "       'деревня Кисельня', 'посёлок Старая Малукса',\n",
       "       'деревня Трубников Бор', 'поселок Калитино',\n",
       "       'посёлок Высокоключевой', 'садовое товарищество Приладожский',\n",
       "       'посёлок Пансионат Зелёный Бор', 'деревня Ненимяки',\n",
       "       'поселок Пансионат Зелёный Бор', 'деревня Снегирёвка',\n",
       "       'деревня Рапполово', 'деревня Пустынка', 'поселок Рабитицы',\n",
       "       'деревня Большой Сабск', 'деревня Русско', 'деревня Лупполово',\n",
       "       'деревня Большое Рейзино', 'деревня Малая Романовка',\n",
       "       'поселок Дружноселье', 'поселок Пчевжа', 'поселок Володарское',\n",
       "       'деревня Нижняя', 'коттеджный посёлок Лесное', 'деревня Тихковицы',\n",
       "       'деревня Борисова Грива', 'посёлок Дзержинского'], dtype=object)"
      ]
     },
     "execution_count": 18,
     "metadata": {},
     "output_type": "execute_result"
    }
   ],
   "source": [
    "data['locality_name'].unique()"
   ]
  },
  {
   "cell_type": "markdown",
   "metadata": {},
   "source": [
    "Создадим список с наименованиями, которые нужно удалить из названий (например \"городской поселок\", \"посёлок городского типа\"). Удалим их из значений столбца `locality_name` с помощью метода `str.replace()`."
   ]
  },
  {
   "cell_type": "code",
   "execution_count": 19,
   "metadata": {},
   "outputs": [],
   "source": [
    "for item in ['садоводческое некоммерческое товарищество ', 'городской посёлок ','городской поселок ', 'коттеджный посёлок ', \n",
    "             'коттеджный поселок ', 'деревня ','поселок городского типа ', 'садовое товарищество ', 'поселок станции ',\n",
    "             'посёлок станции ', 'посёлок городского типа имени ', 'поселок городского типа имени',\n",
    "             'посёлок городского типа ', 'посёлок при железнодорожной станции ', 'посёлок ', 'поселок ', 'село ']:\n",
    "    data['locality_name'] = data['locality_name'].str.replace(item, '')"
   ]
  },
  {
   "cell_type": "markdown",
   "metadata": {},
   "source": [
    "Еще раз посмотрим на уникальные значения, чтобы убедиться в том, что все заменили."
   ]
  },
  {
   "cell_type": "code",
   "execution_count": 20,
   "metadata": {},
   "outputs": [
    {
     "data": {
      "text/plain": [
       "array(['Санкт-Петербург', 'Шушары', 'Янино-1', 'Парголово', 'Мурино',\n",
       "       'Ломоносов', 'Сертолово', 'Петергоф', 'Пушкин', 'Кудрово',\n",
       "       'Коммунар', 'Колпино', 'Красный Бор', 'Гатчина', 'Фёдоровское',\n",
       "       'Выборг', 'Кронштадт', 'Кировск', 'Новое Девяткино',\n",
       "       'Металлострой', 'Лебяжье', 'Сиверский', 'Молодцово',\n",
       "       'Кузьмоловский', 'Новая Ропша', 'Павловск', 'Пикколово',\n",
       "       'Всеволожск', 'Волхов', 'Кингисепп', 'Приозерск', 'Сестрорецк',\n",
       "       'Куттузи', 'Аннино', 'Ефимовский', 'Плодовое', 'Заклинье',\n",
       "       'Торковичи', 'Первомайское', 'Красное Село', 'Понтонный',\n",
       "       'Сясьстрой', 'Старая', 'Лесколово', 'Новый Свет', 'Сланцы',\n",
       "       'Путилово', 'Ивангород', 'Шлиссельбург', 'Никольское',\n",
       "       'Зеленогорск', 'Сосновый Бор', 'Оржицы', 'Кальтино', 'Романовка',\n",
       "       'Бугры', 'Рощино', 'Кириши', 'Луга', 'Волосово', 'Отрадное',\n",
       "       'Павлово', 'Оредеж', 'Копорье', 'Молодёжное', 'Тихвин', 'Победа',\n",
       "       'Нурма', 'Синявино', 'Тосно', 'Стрельна', 'Бокситогорск',\n",
       "       'Александровская', 'Лопухинка', 'Пикалёво', 'Терволово',\n",
       "       'Советский', 'Подпорожье', 'Петровское', 'Токсово', 'Сельцо',\n",
       "       'Вырица', 'Кипень', 'Келози', 'Вартемяги', 'Тельмана',\n",
       "       'Севастьяново', 'Большая Ижора', 'Агалатово', 'Новогорелово',\n",
       "       'Лесогорский', 'Лаголово', 'Цвелодубово', 'Рахья', 'Белогорка',\n",
       "       'Заводской', 'Новоселье', 'Большие Колпаны', 'Горбунки', 'Батово',\n",
       "       'Заневка', 'Иссад', 'Приморск', 'Мистолово', 'Новая Ладога',\n",
       "       'Зимитицы', 'Барышево', 'Разметелево', 'имени Свердлова', 'Пеники',\n",
       "       'Рябово', 'Пудомяги', 'Корнево', 'Низино', 'Бегуницы', 'Поляны',\n",
       "       'Мга', 'Елизаветино', 'Кузнечное', 'Колтуши', 'Запорожское',\n",
       "       'Гостилицы', 'Малое Карлино', 'Мичуринское', 'Морозова',\n",
       "       'Песочный', 'Сосново', 'Аро', 'Ильичёво', 'Тайцы', 'Малое Верево',\n",
       "       'Извара', 'Вещево', 'Паша', 'Калитино', 'Ульяновка', 'Чудской Бор',\n",
       "       'Дубровка', 'Мины', 'Войсковицы', 'Свердлова', 'Коркино', 'Ропша',\n",
       "       'Приладожский', 'Щеглово', 'Гаврилово', 'Лодейное Поле',\n",
       "       'Рабитицы', 'Никольский', 'Кузьмолово', 'Малые Колпаны',\n",
       "       'Петро-Славянка', 'Назия', 'Репино', 'Углово', 'Старая Малукса',\n",
       "       'Меньково', 'Старые Бегуницы', 'Сапёрный', 'Семрино', 'Глажево',\n",
       "       'Кобринское', 'Гарболово', 'Юкки', 'Приветнинское', 'Мануйлово',\n",
       "       'Пчева', 'Цвылёво', 'Мельниково', 'Пудость', 'Усть-Луга',\n",
       "       'Светогорск', 'Любань', 'Селезнёво', 'Каменногорск', 'Кривко',\n",
       "       'Глебычево', 'Парицы', 'Жилпосёлок', 'Войскорово', 'Стеклянный',\n",
       "       'Важины', 'Мыза-Ивановка', 'Русско-Высоцкое', 'Форносово',\n",
       "       'Старая Ладога', 'Житково', 'Виллози', 'Лампово', 'Шпаньково',\n",
       "       'Лаврики', 'Сумино', 'Возрождение', 'Старосиверская', 'Кикерино',\n",
       "       'Старое Хинколово', 'Пригородный', 'Торфяное', 'Будогощь',\n",
       "       'Суходолье', 'Красная Долина', 'Хапо-Ое', 'Дружная Горка',\n",
       "       'Лисий Нос', 'Яльгелево', 'Рождествено', 'Старополье', 'Левашово',\n",
       "       'Сяськелево', 'Камышовка', 'Лесная Поляна', 'Хязельки',\n",
       "       'Жилгородок', 'Ялгино', 'Новый Учхоз', 'Гончарово', 'Почап',\n",
       "       'Сапёрное', 'Платформа 69-й километр', 'Каложицы', 'Фалилеево',\n",
       "       'Пельгора', 'Торошковичи', 'Белоостров', 'Алексеевка',\n",
       "       'Серебрянский', 'Лукаши', 'Тарасово', 'Кингисеппский', 'Ушаки',\n",
       "       'Котлы', 'Сижно', 'Торосово', 'Форт Красная Горка', 'Новолисино',\n",
       "       'Громово', 'Глинка', 'Старая Пустошь', 'Коммунары', 'Починок',\n",
       "       'Вознесенье', 'Разбегаево', 'Гладкое', 'Тёсово-4', 'Бор',\n",
       "       'Коробицыно', 'Большая Вруда', 'Курковицы', 'Кобралово',\n",
       "       'Суоранда', 'Кондратьево', 'Счастье', 'Реброво', 'Тойворово',\n",
       "       'Семиозерье', 'Лесное', 'Совхозный', 'Ленинское', 'Суйда',\n",
       "       'Нижние Осельки', 'Свирь', 'Перово', 'Высоцк', 'Шум', 'Котельский',\n",
       "       'Лужайка', 'Большая Пустомержа', 'Красносельское', 'Вахнова Кара',\n",
       "       'Пижма', 'Кивеннапа Север', 'Ромашки', 'Каськово', 'Куровицы',\n",
       "       'Плоское', 'Кирпичное', 'Ям-Тесово', 'Раздолье', 'Терпилицы',\n",
       "       'Шугозеро', 'Ваганово', 'Пушное', 'Садко', 'Усть-Ижора',\n",
       "       'Выскатка', 'Свирьстрой', 'Кисельня', 'Трубников Бор',\n",
       "       'Высокоключевой', 'Пансионат Зелёный Бор', 'Ненимяки',\n",
       "       'Снегирёвка', 'Рапполово', 'Пустынка', 'Большой Сабск', 'Русско',\n",
       "       'Лупполово', 'Большое Рейзино', 'Малая Романовка', 'Дружноселье',\n",
       "       'Пчевжа', 'Володарское', 'Нижняя', 'Тихковицы', 'Борисова Грива',\n",
       "       'Дзержинского'], dtype=object)"
      ]
     },
     "execution_count": 20,
     "metadata": {},
     "output_type": "execute_result"
    }
   ],
   "source": [
    "data['locality_name'].unique()"
   ]
  },
  {
   "cell_type": "markdown",
   "metadata": {},
   "source": [
    "### Проверка дубликатов"
   ]
  },
  {
   "cell_type": "markdown",
   "metadata": {},
   "source": [
    "Посчитаем количество дубликатов в таблице:"
   ]
  },
  {
   "cell_type": "code",
   "execution_count": 21,
   "metadata": {},
   "outputs": [
    {
     "data": {
      "text/plain": [
       "0"
      ]
     },
     "execution_count": 21,
     "metadata": {},
     "output_type": "execute_result"
    }
   ],
   "source": [
    "data.duplicated().sum()"
   ]
  },
  {
   "cell_type": "markdown",
   "metadata": {},
   "source": [
    "Дубликатов в таблице нет."
   ]
  },
  {
   "cell_type": "markdown",
   "metadata": {},
   "source": [
    "**Вывод**"
   ]
  },
  {
   "cell_type": "markdown",
   "metadata": {},
   "source": [
    "Параметр `first_day_exposition` приведен к типу даты, столбцы `last_price`, `floors_total`, `balcony`, `parks_around3000` и `ponds_around3000` приведены к целочисленному типу данных.\n",
    "\n",
    "Убедимся в этом с помошью метода `dtypes`:"
   ]
  },
  {
   "cell_type": "code",
   "execution_count": 22,
   "metadata": {},
   "outputs": [
    {
     "data": {
      "text/plain": [
       "total_images                      int64\n",
       "last_price                        int64\n",
       "total_area                      float64\n",
       "first_day_exposition     datetime64[ns]\n",
       "rooms                             int64\n",
       "ceiling_height                  float64\n",
       "floors_total                      int64\n",
       "living_area                     float64\n",
       "floor                             int64\n",
       "is_apartment                       bool\n",
       "studio                             bool\n",
       "open_plan                          bool\n",
       "kitchen_area                    float64\n",
       "balcony                           int64\n",
       "locality_name                    object\n",
       "airports_nearest                float64\n",
       "city_centers_nearest            float64\n",
       "parks_around3000                  int64\n",
       "parks_nearest                   float64\n",
       "ponds_around3000                  int64\n",
       "ponds_nearest                   float64\n",
       "days_exposition                 float64\n",
       "days_exposition_empty             int64\n",
       "dtype: object"
      ]
     },
     "execution_count": 22,
     "metadata": {},
     "output_type": "execute_result"
    }
   ],
   "source": [
    "data.dtypes"
   ]
  },
  {
   "cell_type": "markdown",
   "metadata": {},
   "source": [
    "Также из значений столбца `locality_name` с типом данных `object` удалены лишние наименования названй населенных пунтов. \n",
    "Дубликатов в таблице нет. \n",
    "\n",
    "Предобработка данных завершена. Данные подготовленны к дальнейшей работе 👌"
   ]
  },
  {
   "cell_type": "markdown",
   "metadata": {},
   "source": [
    "## Расчёты и добавление результатов в таблицу"
   ]
  },
  {
   "cell_type": "markdown",
   "metadata": {},
   "source": [
    "Добавим в таблицу столбец с ценой квадратного метра `price_per_meter`."
   ]
  },
  {
   "cell_type": "code",
   "execution_count": 23,
   "metadata": {},
   "outputs": [],
   "source": [
    "data['price_per_meter'] = (data['last_price'] / data['total_area']).astype('int')"
   ]
  },
  {
   "cell_type": "markdown",
   "metadata": {},
   "source": [
    "Добавим в таблицу столбцы день недели, месяц и год публикации объявления, полученные из столбца `first_day_exposition`."
   ]
  },
  {
   "cell_type": "code",
   "execution_count": 24,
   "metadata": {},
   "outputs": [],
   "source": [
    "data['weekday'] = pd.DatetimeIndex(data['first_day_exposition']).weekday\n",
    "data['month'] = pd.DatetimeIndex(data['first_day_exposition']).month\n",
    "data['year'] = pd.DatetimeIndex(data['first_day_exposition']).year"
   ]
  },
  {
   "cell_type": "markdown",
   "metadata": {},
   "source": [
    "Для добавления столбца с этажем квартиры `floor_category` напишем функцию, которая возвращает одно из трех значений: первый, последний, другой."
   ]
  },
  {
   "cell_type": "code",
   "execution_count": 25,
   "metadata": {},
   "outputs": [],
   "source": [
    "# функция\n",
    "def floor_category(row):\n",
    "    if row['floor'] == 1:\n",
    "        return 'первый'\n",
    "    if row['floor'] == row['floors_total']:\n",
    "        return 'последний'\n",
    "    return 'другой'\n",
    "\n",
    "\n",
    "# применение функции к строкам\n",
    "data['floor_category'] = data.apply(floor_category, axis=1)"
   ]
  },
  {
   "cell_type": "markdown",
   "metadata": {},
   "source": [
    "Также вычислим соотношение жилой и общей площади, отношение площади кухни к общей. Вычеслим значения с точностью до 2 знаков после запятой.\n",
    "\n",
    "Создадим столбцы для этих значений `living_to_total_area` и `kitchen_to_total_area` соответственно."
   ]
  },
  {
   "cell_type": "code",
   "execution_count": 26,
   "metadata": {},
   "outputs": [],
   "source": [
    "data['living_to_total_area'] = (data['living_area'] / data['total_area']).round(2)\n",
    "data['kitchen_to_total_area'] = (data['kitchen_area'] / data['total_area']).round(2)"
   ]
  },
  {
   "cell_type": "markdown",
   "metadata": {},
   "source": [
    "Выведем первые 5 строк таблицы, чтобы посмотреть добавленные столбцы."
   ]
  },
  {
   "cell_type": "code",
   "execution_count": 27,
   "metadata": {
    "scrolled": true
   },
   "outputs": [
    {
     "data": {
      "text/html": [
       "<div>\n",
       "<style scoped>\n",
       "    .dataframe tbody tr th:only-of-type {\n",
       "        vertical-align: middle;\n",
       "    }\n",
       "\n",
       "    .dataframe tbody tr th {\n",
       "        vertical-align: top;\n",
       "    }\n",
       "\n",
       "    .dataframe thead th {\n",
       "        text-align: right;\n",
       "    }\n",
       "</style>\n",
       "<table border=\"1\" class=\"dataframe\">\n",
       "  <thead>\n",
       "    <tr style=\"text-align: right;\">\n",
       "      <th></th>\n",
       "      <th>total_images</th>\n",
       "      <th>last_price</th>\n",
       "      <th>total_area</th>\n",
       "      <th>first_day_exposition</th>\n",
       "      <th>rooms</th>\n",
       "      <th>ceiling_height</th>\n",
       "      <th>floors_total</th>\n",
       "      <th>living_area</th>\n",
       "      <th>floor</th>\n",
       "      <th>is_apartment</th>\n",
       "      <th>...</th>\n",
       "      <th>ponds_nearest</th>\n",
       "      <th>days_exposition</th>\n",
       "      <th>days_exposition_empty</th>\n",
       "      <th>price_per_meter</th>\n",
       "      <th>weekday</th>\n",
       "      <th>month</th>\n",
       "      <th>year</th>\n",
       "      <th>floor_category</th>\n",
       "      <th>living_to_total_area</th>\n",
       "      <th>kitchen_to_total_area</th>\n",
       "    </tr>\n",
       "  </thead>\n",
       "  <tbody>\n",
       "    <tr>\n",
       "      <th>0</th>\n",
       "      <td>20</td>\n",
       "      <td>13000000</td>\n",
       "      <td>108.0</td>\n",
       "      <td>2019-03-07</td>\n",
       "      <td>3</td>\n",
       "      <td>2.70</td>\n",
       "      <td>16</td>\n",
       "      <td>51.0</td>\n",
       "      <td>8</td>\n",
       "      <td>False</td>\n",
       "      <td>...</td>\n",
       "      <td>755.0</td>\n",
       "      <td>NaN</td>\n",
       "      <td>1</td>\n",
       "      <td>120370</td>\n",
       "      <td>3</td>\n",
       "      <td>3</td>\n",
       "      <td>2019</td>\n",
       "      <td>другой</td>\n",
       "      <td>0.47</td>\n",
       "      <td>0.23</td>\n",
       "    </tr>\n",
       "    <tr>\n",
       "      <th>1</th>\n",
       "      <td>7</td>\n",
       "      <td>3350000</td>\n",
       "      <td>40.4</td>\n",
       "      <td>2018-12-04</td>\n",
       "      <td>1</td>\n",
       "      <td>2.65</td>\n",
       "      <td>11</td>\n",
       "      <td>18.6</td>\n",
       "      <td>1</td>\n",
       "      <td>False</td>\n",
       "      <td>...</td>\n",
       "      <td>503.0</td>\n",
       "      <td>81.0</td>\n",
       "      <td>0</td>\n",
       "      <td>82920</td>\n",
       "      <td>1</td>\n",
       "      <td>12</td>\n",
       "      <td>2018</td>\n",
       "      <td>первый</td>\n",
       "      <td>0.46</td>\n",
       "      <td>0.27</td>\n",
       "    </tr>\n",
       "    <tr>\n",
       "      <th>2</th>\n",
       "      <td>10</td>\n",
       "      <td>5196000</td>\n",
       "      <td>56.0</td>\n",
       "      <td>2015-08-20</td>\n",
       "      <td>2</td>\n",
       "      <td>2.65</td>\n",
       "      <td>5</td>\n",
       "      <td>34.3</td>\n",
       "      <td>4</td>\n",
       "      <td>False</td>\n",
       "      <td>...</td>\n",
       "      <td>574.0</td>\n",
       "      <td>558.0</td>\n",
       "      <td>0</td>\n",
       "      <td>92785</td>\n",
       "      <td>3</td>\n",
       "      <td>8</td>\n",
       "      <td>2015</td>\n",
       "      <td>другой</td>\n",
       "      <td>0.61</td>\n",
       "      <td>0.15</td>\n",
       "    </tr>\n",
       "    <tr>\n",
       "      <th>3</th>\n",
       "      <td>0</td>\n",
       "      <td>64900000</td>\n",
       "      <td>159.0</td>\n",
       "      <td>2015-07-24</td>\n",
       "      <td>3</td>\n",
       "      <td>2.65</td>\n",
       "      <td>14</td>\n",
       "      <td>45.0</td>\n",
       "      <td>9</td>\n",
       "      <td>False</td>\n",
       "      <td>...</td>\n",
       "      <td>234.0</td>\n",
       "      <td>424.0</td>\n",
       "      <td>0</td>\n",
       "      <td>408176</td>\n",
       "      <td>4</td>\n",
       "      <td>7</td>\n",
       "      <td>2015</td>\n",
       "      <td>другой</td>\n",
       "      <td>0.28</td>\n",
       "      <td>0.06</td>\n",
       "    </tr>\n",
       "    <tr>\n",
       "      <th>4</th>\n",
       "      <td>2</td>\n",
       "      <td>10000000</td>\n",
       "      <td>100.0</td>\n",
       "      <td>2018-06-19</td>\n",
       "      <td>2</td>\n",
       "      <td>3.03</td>\n",
       "      <td>14</td>\n",
       "      <td>32.0</td>\n",
       "      <td>13</td>\n",
       "      <td>False</td>\n",
       "      <td>...</td>\n",
       "      <td>48.0</td>\n",
       "      <td>121.0</td>\n",
       "      <td>0</td>\n",
       "      <td>100000</td>\n",
       "      <td>1</td>\n",
       "      <td>6</td>\n",
       "      <td>2018</td>\n",
       "      <td>другой</td>\n",
       "      <td>0.32</td>\n",
       "      <td>0.41</td>\n",
       "    </tr>\n",
       "  </tbody>\n",
       "</table>\n",
       "<p>5 rows × 30 columns</p>\n",
       "</div>"
      ],
      "text/plain": [
       "   total_images  last_price  total_area first_day_exposition  rooms  \\\n",
       "0            20    13000000       108.0           2019-03-07      3   \n",
       "1             7     3350000        40.4           2018-12-04      1   \n",
       "2            10     5196000        56.0           2015-08-20      2   \n",
       "3             0    64900000       159.0           2015-07-24      3   \n",
       "4             2    10000000       100.0           2018-06-19      2   \n",
       "\n",
       "   ceiling_height  floors_total  living_area  floor  is_apartment  ...  \\\n",
       "0            2.70            16         51.0      8         False  ...   \n",
       "1            2.65            11         18.6      1         False  ...   \n",
       "2            2.65             5         34.3      4         False  ...   \n",
       "3            2.65            14         45.0      9         False  ...   \n",
       "4            3.03            14         32.0     13         False  ...   \n",
       "\n",
       "   ponds_nearest  days_exposition  days_exposition_empty  price_per_meter  \\\n",
       "0          755.0              NaN                      1           120370   \n",
       "1          503.0             81.0                      0            82920   \n",
       "2          574.0            558.0                      0            92785   \n",
       "3          234.0            424.0                      0           408176   \n",
       "4           48.0            121.0                      0           100000   \n",
       "\n",
       "  weekday  month  year  floor_category  living_to_total_area  \\\n",
       "0       3      3  2019          другой                  0.47   \n",
       "1       1     12  2018          первый                  0.46   \n",
       "2       3      8  2015          другой                  0.61   \n",
       "3       4      7  2015          другой                  0.28   \n",
       "4       1      6  2018          другой                  0.32   \n",
       "\n",
       "   kitchen_to_total_area  \n",
       "0                   0.23  \n",
       "1                   0.27  \n",
       "2                   0.15  \n",
       "3                   0.06  \n",
       "4                   0.41  \n",
       "\n",
       "[5 rows x 30 columns]"
      ]
     },
     "execution_count": 27,
     "metadata": {},
     "output_type": "execute_result"
    }
   ],
   "source": [
    "data.head()"
   ]
  },
  {
   "cell_type": "markdown",
   "metadata": {},
   "source": [
    "**Вывод**"
   ]
  },
  {
   "cell_type": "markdown",
   "metadata": {},
   "source": [
    "Теперь в таблице 30 столбцов, расчитаны и добавленны следующие:\n",
    "* `price_per_meter` - цена квадратного метра\n",
    "* `weekday` - день недели публикации объявления\n",
    "* `month` - месяц публикации объявления\n",
    "* `year` - год публикации объявления\n",
    "* `floor_category` - этаж квартиры (первый, последний, другой)\n",
    "* `living_to_total_area` - отношение жилой площади к общей\n",
    "* `kitchen_to_total_area` - отношение площади кухни к общей"
   ]
  },
  {
   "cell_type": "markdown",
   "metadata": {},
   "source": [
    "## Исследовательский анализ данных"
   ]
  },
  {
   "cell_type": "markdown",
   "metadata": {},
   "source": [
    "### Исследование площади, цены, числа комнат, высоты потолков"
   ]
  },
  {
   "cell_type": "markdown",
   "metadata": {},
   "source": [
    "Изучим следующие параметры: площадь, цена, число комнат, высота потолков."
   ]
  },
  {
   "cell_type": "code",
   "execution_count": 28,
   "metadata": {
    "scrolled": false
   },
   "outputs": [
    {
     "data": {
      "image/png": "[encoded data removed]",
      "text/plain": [
       "<Figure size 432x288 with 1 Axes>"
      ]
     },
     "metadata": {
      "needs_background": "light"
     },
     "output_type": "display_data"
    },
    {
     "data": {
      "image/png": "[encoded data removed]",
      "text/plain": [
       "<Figure size 576x288 with 1 Axes>"
      ]
     },
     "metadata": {
      "needs_background": "light"
     },
     "output_type": "display_data"
    },
    {
     "data": {
      "image/png": "[encoded data removed]",
      "text/plain": [
       "<Figure size 432x288 with 1 Axes>"
      ]
     },
     "metadata": {
      "needs_background": "light"
     },
     "output_type": "display_data"
    },
    {
     "data": {
      "image/png": "[encoded data removed]",
      "text/plain": [
       "<Figure size 432x576 with 1 Axes>"
      ]
     },
     "metadata": {
      "needs_background": "light"
     },
     "output_type": "display_data"
    }
   ],
   "source": [
    "# гистограмма для total_area\n",
    "data['total_area'].plot(kind='hist', bins=30, title='Площадь объекта')\n",
    "plt.show()\n",
    "# гистограмма для price_per_meter\n",
    "data['price_per_meter'].plot(kind='hist', bins=50, figsize=(8,4), title='Cтоимость за метр')\n",
    "plt.show()\n",
    "# гистограмма для rooms\n",
    "data['rooms'].plot(kind='hist', bins=10, title='Количество комнат')\n",
    "plt.show()\n",
    "# гистограмма для ceiling_height\n",
    "data['ceiling_height'].plot(kind='hist', bins=100, figsize=(6,8), title='Высота потолков')\n",
    "plt.show()"
   ]
  },
  {
   "cell_type": "markdown",
   "metadata": {},
   "source": [
    "Для вывода гистограм использовали разный размер и количество корзин, чтобы графики выглядели нагляднее. Все гистограммы похожи на распределение Пуассона.\n",
    "\n",
    "Площадь `total_area` имеет пик у 60м², почти все значения лежат в пределах 200м².\n",
    "\n",
    "Значения цены `last_price` почему-то имеют пик у 0 и длинный хвост больших значений. Нужно проверить выбросы.\n",
    "\n",
    "График `rooms` с распеределнием количества комнат показывает, что большинство кварир с 2-3 комнатами, почти все квартиры имеют меньше 7 комнат.\n",
    "\n",
    "Подавляющее большинство значений высоты потолков `ceiling_height` лежит в пределах 5 метров, значения имеют длинный хвост больших значений. Нужно проверить выбросы."
   ]
  },
  {
   "cell_type": "markdown",
   "metadata": {},
   "source": [
    "### Исследование количества времени для продажи квартиры"
   ]
  },
  {
   "cell_type": "markdown",
   "metadata": {},
   "source": [
    "Изучим время продажи квартир, столбец `days_exposition`.\n",
    "\n",
    "Построим гистограмму `days_exposition`, выведем числовое описание данных методом `describe()`. "
   ]
  },
  {
   "cell_type": "code",
   "execution_count": 29,
   "metadata": {},
   "outputs": [
    {
     "data": {
      "image/png": "[encoded data removed]",
      "text/plain": [
       "<Figure size 1152x432 with 1 Axes>"
      ]
     },
     "metadata": {
      "needs_background": "light"
     },
     "output_type": "display_data"
    },
    {
     "data": {
      "text/plain": [
       "count    20394.000000\n",
       "mean       180.741395\n",
       "std        219.732782\n",
       "min          1.000000\n",
       "25%         45.000000\n",
       "50%         95.000000\n",
       "75%        231.000000\n",
       "max       1580.000000\n",
       "Name: days_exposition, dtype: float64"
      ]
     },
     "execution_count": 29,
     "metadata": {},
     "output_type": "execute_result"
    }
   ],
   "source": [
    "data.hist(column='days_exposition', bins=200, figsize=(16,6))\n",
    "plt.title('Cколько дней было размещено объявление')\n",
    "plt.show()\n",
    "data['days_exposition'].describe()"
   ]
  },
  {
   "cell_type": "markdown",
   "metadata": {},
   "source": [
    "Судя по данным продажа обычно занимает 95 дней. При этом среднее значение 180 дней, что означает наличие объявлений с очень большим сроком размещения, самое длинное - 1580 дней.\n",
    "\n",
    "При этом есть очень выделяющиеся пики значений, возможно это автоматические закрытия объявлений или другие причины, вызвавшие аномалию."
   ]
  },
  {
   "cell_type": "markdown",
   "metadata": {},
   "source": [
    "### Анализ редких и выбивающихся значений"
   ]
  },
  {
   "cell_type": "markdown",
   "metadata": {},
   "source": [
    "Чтобы исключить редкие и выбивающиеся значения, построим диаграммы размаха `boxplot` (ящик с усами) для столбцов, которые мы исследовали: \n",
    "* `total_area`,\n",
    "* `price_per_meter`,\n",
    "* `rooms`,\n",
    "* `ceiling_height`,\n",
    "* `days_exposition`."
   ]
  },
  {
   "cell_type": "code",
   "execution_count": 30,
   "metadata": {},
   "outputs": [
    {
     "data": {
      "image/png": "[encoded data removed]",
      "text/plain": [
       "<Figure size 432x288 with 1 Axes>"
      ]
     },
     "metadata": {
      "needs_background": "light"
     },
     "output_type": "display_data"
    },
    {
     "data": {
      "image/png": "[encoded data removed]",
      "text/plain": [
       "<Figure size 432x288 with 1 Axes>"
      ]
     },
     "metadata": {
      "needs_background": "light"
     },
     "output_type": "display_data"
    },
    {
     "data": {
      "image/png": "[encoded data removed]",
      "text/plain": [
       "<Figure size 432x288 with 1 Axes>"
      ]
     },
     "metadata": {
      "needs_background": "light"
     },
     "output_type": "display_data"
    },
    {
     "data": {
      "image/png": "[encoded data removed]",
      "text/plain": [
       "<Figure size 432x288 with 1 Axes>"
      ]
     },
     "metadata": {
      "needs_background": "light"
     },
     "output_type": "display_data"
    }
   ],
   "source": [
    "for column in ['total_area', 'price_per_meter', 'rooms', 'ceiling_height']:\n",
    "    plt.boxplot(data[column])\n",
    "    plt.title(column)\n",
    "    plt.show()"
   ]
  },
  {
   "cell_type": "markdown",
   "metadata": {},
   "source": [
    "Для того, чтобы узнать точные значения границ верхних и нижних усов, используем `IQR` — число, которое показывает разброс средней половины. \n",
    "\n",
    "`IQR` — это разница между `Q3` и `Q1`. Тогда редкие значения будут меньше `Q1 - 1.5 * IQR`, а выбивающиеся значения больше `Q3 + 1.5 * IQR`."
   ]
  },
  {
   "cell_type": "code",
   "execution_count": 31,
   "metadata": {
    "scrolled": false
   },
   "outputs": [
    {
     "name": "stdout",
     "output_type": "stream",
     "text": [
      "total_area\n",
      "Границы выбросов: -4.550000000000004, 114.25\n",
      "\n",
      "price_per_meter\n",
      "Границы выбросов: 20095.5, 170683.5\n",
      "\n",
      "rooms\n",
      "Границы выбросов: -2.0, 6.0\n",
      "\n",
      "ceiling_height\n",
      "Границы выбросов: 2.45, 2.8500000000000005\n",
      "\n",
      "days_exposition\n",
      "Границы выбросов: -234.0, 510.0\n",
      "\n"
     ]
    }
   ],
   "source": [
    "for column in ['total_area', 'price_per_meter', 'rooms', 'ceiling_height', 'days_exposition']:\n",
    "    # расчет IQR\n",
    "    q1 = data[column].quantile(0.25)\n",
    "    q3 = data[column].quantile(0.75)\n",
    "    iqr = q3 - q1\n",
    "    # границы интервала наиболее вероятных значений\n",
    "    lower_border = q1 - 1.5 * iqr\n",
    "    upper_border = q3 + 1.5 * iqr\n",
    "    # название значения\n",
    "    print(column)\n",
    "    # вывод границ выбросов\n",
    "    print(f'Границы выбросов: {lower_border}, {upper_border}\\n')"
   ]
  },
  {
   "cell_type": "markdown",
   "metadata": {},
   "source": [
    "Посчитаем сколько процентов мы удалим при отсечении выбросов по каждому паарметру:"
   ]
  },
  {
   "cell_type": "code",
   "execution_count": 32,
   "metadata": {},
   "outputs": [
    {
     "name": "stdout",
     "output_type": "stream",
     "text": [
      "total_area: 5.26%\n",
      "\n",
      "price_per_meter: 4.62%\n",
      "\n",
      "rooms: 0.38%\n",
      "\n",
      "ceiling_height: 12.51%\n",
      "\n",
      "days_exposition: 7.07%\n"
     ]
    }
   ],
   "source": [
    "print(f'total_area: {1 - len(data.query(\"total_area <= 114.25\"))/len(data):.2%}\\n')\n",
    "print(f'price_per_meter: {1 - len(data.query(\"20095.5 <= price_per_meter <= 170683.5\"))/len(data):.2%}\\n')\n",
    "print(f'rooms: {1 - len(data.query(\"rooms <= 6\"))/len(data):.2%}\\n')\n",
    "print(f'ceiling_height: {1 - len(data.query(\"2.45 <= ceiling_height <= 2.85\"))/len(data):.2%}\\n')\n",
    "# также сохраним пустые значения days_exposition\n",
    "print(f'days_exposition: {1 - len(data.query(\"days_exposition <= 510 or days_exposition.isna()\"))/len(data):.2%}')"
   ]
  },
  {
   "cell_type": "markdown",
   "metadata": {},
   "source": [
    "Получается, что много выбросов в параметрах выоты потолков 13%, оставльные меньше 7%.\n",
    "\n",
    "Создадим новую таблицу `new data`. В ней будут данные отфильтрованные без выбросов."
   ]
  },
  {
   "cell_type": "code",
   "execution_count": 33,
   "metadata": {},
   "outputs": [
    {
     "name": "stdout",
     "output_type": "stream",
     "text": [
      "Размер выборки: 88%\n"
     ]
    }
   ],
   "source": [
    "new_data = data[(data['total_area'] <= 114.25) & \n",
    "                ((data['price_per_meter'] <= 170683.5) | (data['price_per_meter'] >= 20095.5)) &\n",
    "                (data['rooms'] <= 6) &\n",
    "                ((data['ceiling_height'] <= 2.85) | (data['ceiling_height'] >= 2.45)) &\n",
    "                ((data['days_exposition'] <= 510) | (data['days_exposition'].isna()))              \n",
    "               ]\n",
    "\n",
    "# посчитаем размер новой выборки\n",
    "print(f'Размер выборки: {len(new_data) / len(data):.0%}')"
   ]
  },
  {
   "cell_type": "markdown",
   "metadata": {},
   "source": [
    "Выборка без редких и выбивающихся значений составляет 88% от исходных данных Но это чистые данные с которыми уже можно работать. \n",
    "\n",
    "Посмотрим на результаты метода `describe()` для начальных данных и новой выборки, чтобы посмотреть не изменились ли значимо средние значения и квартили."
   ]
  },
  {
   "cell_type": "code",
   "execution_count": 34,
   "metadata": {},
   "outputs": [
    {
     "name": "stdout",
     "output_type": "stream",
     "text": [
      "last_price\n"
     ]
    },
    {
     "data": {
      "text/html": [
       "<div>\n",
       "<style scoped>\n",
       "    .dataframe tbody tr th:only-of-type {\n",
       "        vertical-align: middle;\n",
       "    }\n",
       "\n",
       "    .dataframe tbody tr th {\n",
       "        vertical-align: top;\n",
       "    }\n",
       "\n",
       "    .dataframe thead th {\n",
       "        text-align: right;\n",
       "    }\n",
       "</style>\n",
       "<table border=\"1\" class=\"dataframe\">\n",
       "  <thead>\n",
       "    <tr style=\"text-align: right;\">\n",
       "      <th></th>\n",
       "      <th>before</th>\n",
       "      <th>after</th>\n",
       "    </tr>\n",
       "  </thead>\n",
       "  <tbody>\n",
       "    <tr>\n",
       "      <th>count</th>\n",
       "      <td>2.356500e+04</td>\n",
       "      <td>20836.00</td>\n",
       "    </tr>\n",
       "    <tr>\n",
       "      <th>mean</th>\n",
       "      <td>6.540058e+06</td>\n",
       "      <td>5254197.07</td>\n",
       "    </tr>\n",
       "    <tr>\n",
       "      <th>std</th>\n",
       "      <td>1.091093e+07</td>\n",
       "      <td>3297425.86</td>\n",
       "    </tr>\n",
       "    <tr>\n",
       "      <th>min</th>\n",
       "      <td>1.219000e+04</td>\n",
       "      <td>12190.00</td>\n",
       "    </tr>\n",
       "    <tr>\n",
       "      <th>25%</th>\n",
       "      <td>3.400000e+06</td>\n",
       "      <td>3350000.00</td>\n",
       "    </tr>\n",
       "    <tr>\n",
       "      <th>50%</th>\n",
       "      <td>4.646000e+06</td>\n",
       "      <td>4500000.00</td>\n",
       "    </tr>\n",
       "    <tr>\n",
       "      <th>75%</th>\n",
       "      <td>6.790000e+06</td>\n",
       "      <td>6225000.00</td>\n",
       "    </tr>\n",
       "    <tr>\n",
       "      <th>max</th>\n",
       "      <td>7.630000e+08</td>\n",
       "      <td>53000000.00</td>\n",
       "    </tr>\n",
       "  </tbody>\n",
       "</table>\n",
       "</div>"
      ],
      "text/plain": [
       "             before        after\n",
       "count  2.356500e+04     20836.00\n",
       "mean   6.540058e+06   5254197.07\n",
       "std    1.091093e+07   3297425.86\n",
       "min    1.219000e+04     12190.00\n",
       "25%    3.400000e+06   3350000.00\n",
       "50%    4.646000e+06   4500000.00\n",
       "75%    6.790000e+06   6225000.00\n",
       "max    7.630000e+08  53000000.00"
      ]
     },
     "metadata": {},
     "output_type": "display_data"
    },
    {
     "name": "stdout",
     "output_type": "stream",
     "text": [
      "floors_total\n"
     ]
    },
    {
     "data": {
      "text/html": [
       "<div>\n",
       "<style scoped>\n",
       "    .dataframe tbody tr th:only-of-type {\n",
       "        vertical-align: middle;\n",
       "    }\n",
       "\n",
       "    .dataframe tbody tr th {\n",
       "        vertical-align: top;\n",
       "    }\n",
       "\n",
       "    .dataframe thead th {\n",
       "        text-align: right;\n",
       "    }\n",
       "</style>\n",
       "<table border=\"1\" class=\"dataframe\">\n",
       "  <thead>\n",
       "    <tr style=\"text-align: right;\">\n",
       "      <th></th>\n",
       "      <th>before</th>\n",
       "      <th>after</th>\n",
       "    </tr>\n",
       "  </thead>\n",
       "  <tbody>\n",
       "    <tr>\n",
       "      <th>count</th>\n",
       "      <td>23565.00</td>\n",
       "      <td>20836.00</td>\n",
       "    </tr>\n",
       "    <tr>\n",
       "      <th>mean</th>\n",
       "      <td>10.68</td>\n",
       "      <td>10.82</td>\n",
       "    </tr>\n",
       "    <tr>\n",
       "      <th>std</th>\n",
       "      <td>6.59</td>\n",
       "      <td>6.64</td>\n",
       "    </tr>\n",
       "    <tr>\n",
       "      <th>min</th>\n",
       "      <td>1.00</td>\n",
       "      <td>1.00</td>\n",
       "    </tr>\n",
       "    <tr>\n",
       "      <th>25%</th>\n",
       "      <td>5.00</td>\n",
       "      <td>5.00</td>\n",
       "    </tr>\n",
       "    <tr>\n",
       "      <th>50%</th>\n",
       "      <td>9.00</td>\n",
       "      <td>9.00</td>\n",
       "    </tr>\n",
       "    <tr>\n",
       "      <th>75%</th>\n",
       "      <td>16.00</td>\n",
       "      <td>16.00</td>\n",
       "    </tr>\n",
       "    <tr>\n",
       "      <th>max</th>\n",
       "      <td>60.00</td>\n",
       "      <td>60.00</td>\n",
       "    </tr>\n",
       "  </tbody>\n",
       "</table>\n",
       "</div>"
      ],
      "text/plain": [
       "         before     after\n",
       "count  23565.00  20836.00\n",
       "mean      10.68     10.82\n",
       "std        6.59      6.64\n",
       "min        1.00      1.00\n",
       "25%        5.00      5.00\n",
       "50%        9.00      9.00\n",
       "75%       16.00     16.00\n",
       "max       60.00     60.00"
      ]
     },
     "metadata": {},
     "output_type": "display_data"
    },
    {
     "name": "stdout",
     "output_type": "stream",
     "text": [
      "balcony\n"
     ]
    },
    {
     "data": {
      "text/html": [
       "<div>\n",
       "<style scoped>\n",
       "    .dataframe tbody tr th:only-of-type {\n",
       "        vertical-align: middle;\n",
       "    }\n",
       "\n",
       "    .dataframe tbody tr th {\n",
       "        vertical-align: top;\n",
       "    }\n",
       "\n",
       "    .dataframe thead th {\n",
       "        text-align: right;\n",
       "    }\n",
       "</style>\n",
       "<table border=\"1\" class=\"dataframe\">\n",
       "  <thead>\n",
       "    <tr style=\"text-align: right;\">\n",
       "      <th></th>\n",
       "      <th>before</th>\n",
       "      <th>after</th>\n",
       "    </tr>\n",
       "  </thead>\n",
       "  <tbody>\n",
       "    <tr>\n",
       "      <th>count</th>\n",
       "      <td>23565.00</td>\n",
       "      <td>20836.00</td>\n",
       "    </tr>\n",
       "    <tr>\n",
       "      <th>mean</th>\n",
       "      <td>0.59</td>\n",
       "      <td>0.60</td>\n",
       "    </tr>\n",
       "    <tr>\n",
       "      <th>std</th>\n",
       "      <td>0.96</td>\n",
       "      <td>0.96</td>\n",
       "    </tr>\n",
       "    <tr>\n",
       "      <th>min</th>\n",
       "      <td>0.00</td>\n",
       "      <td>0.00</td>\n",
       "    </tr>\n",
       "    <tr>\n",
       "      <th>25%</th>\n",
       "      <td>0.00</td>\n",
       "      <td>0.00</td>\n",
       "    </tr>\n",
       "    <tr>\n",
       "      <th>50%</th>\n",
       "      <td>0.00</td>\n",
       "      <td>0.00</td>\n",
       "    </tr>\n",
       "    <tr>\n",
       "      <th>75%</th>\n",
       "      <td>1.00</td>\n",
       "      <td>1.00</td>\n",
       "    </tr>\n",
       "    <tr>\n",
       "      <th>max</th>\n",
       "      <td>5.00</td>\n",
       "      <td>5.00</td>\n",
       "    </tr>\n",
       "  </tbody>\n",
       "</table>\n",
       "</div>"
      ],
      "text/plain": [
       "         before     after\n",
       "count  23565.00  20836.00\n",
       "mean       0.59      0.60\n",
       "std        0.96      0.96\n",
       "min        0.00      0.00\n",
       "25%        0.00      0.00\n",
       "50%        0.00      0.00\n",
       "75%        1.00      1.00\n",
       "max        5.00      5.00"
      ]
     },
     "metadata": {},
     "output_type": "display_data"
    },
    {
     "name": "stdout",
     "output_type": "stream",
     "text": [
      "parks_around3000\n"
     ]
    },
    {
     "data": {
      "text/html": [
       "<div>\n",
       "<style scoped>\n",
       "    .dataframe tbody tr th:only-of-type {\n",
       "        vertical-align: middle;\n",
       "    }\n",
       "\n",
       "    .dataframe tbody tr th {\n",
       "        vertical-align: top;\n",
       "    }\n",
       "\n",
       "    .dataframe thead th {\n",
       "        text-align: right;\n",
       "    }\n",
       "</style>\n",
       "<table border=\"1\" class=\"dataframe\">\n",
       "  <thead>\n",
       "    <tr style=\"text-align: right;\">\n",
       "      <th></th>\n",
       "      <th>before</th>\n",
       "      <th>after</th>\n",
       "    </tr>\n",
       "  </thead>\n",
       "  <tbody>\n",
       "    <tr>\n",
       "      <th>count</th>\n",
       "      <td>23565.00</td>\n",
       "      <td>20836.00</td>\n",
       "    </tr>\n",
       "    <tr>\n",
       "      <th>mean</th>\n",
       "      <td>0.47</td>\n",
       "      <td>0.43</td>\n",
       "    </tr>\n",
       "    <tr>\n",
       "      <th>std</th>\n",
       "      <td>0.75</td>\n",
       "      <td>0.72</td>\n",
       "    </tr>\n",
       "    <tr>\n",
       "      <th>min</th>\n",
       "      <td>0.00</td>\n",
       "      <td>0.00</td>\n",
       "    </tr>\n",
       "    <tr>\n",
       "      <th>25%</th>\n",
       "      <td>0.00</td>\n",
       "      <td>0.00</td>\n",
       "    </tr>\n",
       "    <tr>\n",
       "      <th>50%</th>\n",
       "      <td>0.00</td>\n",
       "      <td>0.00</td>\n",
       "    </tr>\n",
       "    <tr>\n",
       "      <th>75%</th>\n",
       "      <td>1.00</td>\n",
       "      <td>1.00</td>\n",
       "    </tr>\n",
       "    <tr>\n",
       "      <th>max</th>\n",
       "      <td>3.00</td>\n",
       "      <td>3.00</td>\n",
       "    </tr>\n",
       "  </tbody>\n",
       "</table>\n",
       "</div>"
      ],
      "text/plain": [
       "         before     after\n",
       "count  23565.00  20836.00\n",
       "mean       0.47      0.43\n",
       "std        0.75      0.72\n",
       "min        0.00      0.00\n",
       "25%        0.00      0.00\n",
       "50%        0.00      0.00\n",
       "75%        1.00      1.00\n",
       "max        3.00      3.00"
      ]
     },
     "metadata": {},
     "output_type": "display_data"
    },
    {
     "name": "stdout",
     "output_type": "stream",
     "text": [
      "ponds_around3000\n"
     ]
    },
    {
     "data": {
      "text/html": [
       "<div>\n",
       "<style scoped>\n",
       "    .dataframe tbody tr th:only-of-type {\n",
       "        vertical-align: middle;\n",
       "    }\n",
       "\n",
       "    .dataframe tbody tr th {\n",
       "        vertical-align: top;\n",
       "    }\n",
       "\n",
       "    .dataframe thead th {\n",
       "        text-align: right;\n",
       "    }\n",
       "</style>\n",
       "<table border=\"1\" class=\"dataframe\">\n",
       "  <thead>\n",
       "    <tr style=\"text-align: right;\">\n",
       "      <th></th>\n",
       "      <th>before</th>\n",
       "      <th>after</th>\n",
       "    </tr>\n",
       "  </thead>\n",
       "  <tbody>\n",
       "    <tr>\n",
       "      <th>count</th>\n",
       "      <td>23565.00</td>\n",
       "      <td>20836.00</td>\n",
       "    </tr>\n",
       "    <tr>\n",
       "      <th>mean</th>\n",
       "      <td>0.59</td>\n",
       "      <td>0.55</td>\n",
       "    </tr>\n",
       "    <tr>\n",
       "      <th>std</th>\n",
       "      <td>0.88</td>\n",
       "      <td>0.85</td>\n",
       "    </tr>\n",
       "    <tr>\n",
       "      <th>min</th>\n",
       "      <td>0.00</td>\n",
       "      <td>0.00</td>\n",
       "    </tr>\n",
       "    <tr>\n",
       "      <th>25%</th>\n",
       "      <td>0.00</td>\n",
       "      <td>0.00</td>\n",
       "    </tr>\n",
       "    <tr>\n",
       "      <th>50%</th>\n",
       "      <td>0.00</td>\n",
       "      <td>0.00</td>\n",
       "    </tr>\n",
       "    <tr>\n",
       "      <th>75%</th>\n",
       "      <td>1.00</td>\n",
       "      <td>1.00</td>\n",
       "    </tr>\n",
       "    <tr>\n",
       "      <th>max</th>\n",
       "      <td>3.00</td>\n",
       "      <td>3.00</td>\n",
       "    </tr>\n",
       "  </tbody>\n",
       "</table>\n",
       "</div>"
      ],
      "text/plain": [
       "         before     after\n",
       "count  23565.00  20836.00\n",
       "mean       0.59      0.55\n",
       "std        0.88      0.85\n",
       "min        0.00      0.00\n",
       "25%        0.00      0.00\n",
       "50%        0.00      0.00\n",
       "75%        1.00      1.00\n",
       "max        3.00      3.00"
      ]
     },
     "metadata": {},
     "output_type": "display_data"
    }
   ],
   "source": [
    "for column in columns:\n",
    "    print(column)\n",
    "    # колонка before\n",
    "    before = data[[column]].describe().round(2).rename(columns = {column: 'before'})\n",
    "    # колонка after\n",
    "    after = new_data[[column]].describe().round(2).rename(columns = {column: 'after'})\n",
    "    # соединение колонок методом join\n",
    "    display(before.join(after))"
   ]
  },
  {
   "cell_type": "markdown",
   "metadata": {},
   "source": [
    "### Исследование факторов, влияющих на стоимость квартиры"
   ]
  },
  {
   "cell_type": "markdown",
   "metadata": {},
   "source": [
    "Изучим зависит ли цена недвижимости за метр `price_per_meter` от следующийх факторов:\n",
    "* площади `total_area`,\n",
    "* числа комнат `rooms`,\n",
    "* удалённости от центра `city_centers_nearest`,\n",
    "* на каком этаже расположена квартира: первом, последнем или другом `floor_category`,\n",
    "* зависимость от даты размещения: дня недели, месяца и года `weekday`, `month`, `year`.\n",
    "\n",
    "Для начала посморим на коэффициенты Пирсона, получим их с помощью метода `corr()`."
   ]
  },
  {
   "cell_type": "code",
   "execution_count": 35,
   "metadata": {},
   "outputs": [
    {
     "data": {
      "text/html": [
       "<div>\n",
       "<style scoped>\n",
       "    .dataframe tbody tr th:only-of-type {\n",
       "        vertical-align: middle;\n",
       "    }\n",
       "\n",
       "    .dataframe tbody tr th {\n",
       "        vertical-align: top;\n",
       "    }\n",
       "\n",
       "    .dataframe thead th {\n",
       "        text-align: right;\n",
       "    }\n",
       "</style>\n",
       "<table border=\"1\" class=\"dataframe\">\n",
       "  <thead>\n",
       "    <tr style=\"text-align: right;\">\n",
       "      <th></th>\n",
       "      <th>price_per_meter</th>\n",
       "      <th>total_area</th>\n",
       "      <th>rooms</th>\n",
       "      <th>city_centers_nearest</th>\n",
       "      <th>weekday</th>\n",
       "      <th>month</th>\n",
       "      <th>year</th>\n",
       "    </tr>\n",
       "  </thead>\n",
       "  <tbody>\n",
       "    <tr>\n",
       "      <th>price_per_meter</th>\n",
       "      <td>1.000000</td>\n",
       "      <td>0.110333</td>\n",
       "      <td>-0.110335</td>\n",
       "      <td>-0.243076</td>\n",
       "      <td>-0.012910</td>\n",
       "      <td>-0.010291</td>\n",
       "      <td>0.067613</td>\n",
       "    </tr>\n",
       "    <tr>\n",
       "      <th>total_area</th>\n",
       "      <td>0.110333</td>\n",
       "      <td>1.000000</td>\n",
       "      <td>0.788125</td>\n",
       "      <td>-0.141471</td>\n",
       "      <td>-0.012198</td>\n",
       "      <td>0.004853</td>\n",
       "      <td>-0.031846</td>\n",
       "    </tr>\n",
       "    <tr>\n",
       "      <th>rooms</th>\n",
       "      <td>-0.110335</td>\n",
       "      <td>0.788125</td>\n",
       "      <td>1.000000</td>\n",
       "      <td>-0.077715</td>\n",
       "      <td>-0.001610</td>\n",
       "      <td>-0.003157</td>\n",
       "      <td>-0.016139</td>\n",
       "    </tr>\n",
       "    <tr>\n",
       "      <th>city_centers_nearest</th>\n",
       "      <td>-0.243076</td>\n",
       "      <td>-0.141471</td>\n",
       "      <td>-0.077715</td>\n",
       "      <td>1.000000</td>\n",
       "      <td>0.006992</td>\n",
       "      <td>-0.010965</td>\n",
       "      <td>-0.003287</td>\n",
       "    </tr>\n",
       "    <tr>\n",
       "      <th>weekday</th>\n",
       "      <td>-0.012910</td>\n",
       "      <td>-0.012198</td>\n",
       "      <td>-0.001610</td>\n",
       "      <td>0.006992</td>\n",
       "      <td>1.000000</td>\n",
       "      <td>0.014680</td>\n",
       "      <td>-0.010724</td>\n",
       "    </tr>\n",
       "    <tr>\n",
       "      <th>month</th>\n",
       "      <td>-0.010291</td>\n",
       "      <td>0.004853</td>\n",
       "      <td>-0.003157</td>\n",
       "      <td>-0.010965</td>\n",
       "      <td>0.014680</td>\n",
       "      <td>1.000000</td>\n",
       "      <td>-0.302062</td>\n",
       "    </tr>\n",
       "    <tr>\n",
       "      <th>year</th>\n",
       "      <td>0.067613</td>\n",
       "      <td>-0.031846</td>\n",
       "      <td>-0.016139</td>\n",
       "      <td>-0.003287</td>\n",
       "      <td>-0.010724</td>\n",
       "      <td>-0.302062</td>\n",
       "      <td>1.000000</td>\n",
       "    </tr>\n",
       "  </tbody>\n",
       "</table>\n",
       "</div>"
      ],
      "text/plain": [
       "                      price_per_meter  total_area     rooms  \\\n",
       "price_per_meter              1.000000    0.110333 -0.110335   \n",
       "total_area                   0.110333    1.000000  0.788125   \n",
       "rooms                       -0.110335    0.788125  1.000000   \n",
       "city_centers_nearest        -0.243076   -0.141471 -0.077715   \n",
       "weekday                     -0.012910   -0.012198 -0.001610   \n",
       "month                       -0.010291    0.004853 -0.003157   \n",
       "year                         0.067613   -0.031846 -0.016139   \n",
       "\n",
       "                      city_centers_nearest   weekday     month      year  \n",
       "price_per_meter                  -0.243076 -0.012910 -0.010291  0.067613  \n",
       "total_area                       -0.141471 -0.012198  0.004853 -0.031846  \n",
       "rooms                            -0.077715 -0.001610 -0.003157 -0.016139  \n",
       "city_centers_nearest              1.000000  0.006992 -0.010965 -0.003287  \n",
       "weekday                           0.006992  1.000000  0.014680 -0.010724  \n",
       "month                            -0.010965  0.014680  1.000000 -0.302062  \n",
       "year                             -0.003287 -0.010724 -0.302062  1.000000  "
      ]
     },
     "execution_count": 35,
     "metadata": {},
     "output_type": "execute_result"
    }
   ],
   "source": [
    "new_data[['price_per_meter', 'total_area','rooms', 'city_centers_nearest', 'weekday', 'month', 'year']].corr()"
   ]
  },
  {
   "cell_type": "markdown",
   "metadata": {},
   "source": [
    "Коэффиценты корреляции цены с другими параметрами по модулю ниже 0.2, что означает отсутвие линыйных зависимостей.\n",
    "\n",
    "\n",
    "Построим диаграммы расеивания для всех столбцов с помощью `scatter_matrix`."
   ]
  },
  {
   "cell_type": "code",
   "execution_count": 36,
   "metadata": {},
   "outputs": [
    {
     "data": {
      "image/png": "[encoded data removed]",
      "text/plain": [
       "<Figure size 1152x1152 with 49 Axes>"
      ]
     },
     "metadata": {
      "needs_background": "light"
     },
     "output_type": "display_data"
    }
   ],
   "source": [
    "pd.plotting.scatter_matrix(new_data[['price_per_meter', 'total_area','rooms', 'city_centers_nearest',\n",
    "                                     'floor_category', 'weekday', 'month', 'year']], figsize=(16,16))\n",
    "\n",
    "plt.show()"
   ]
  },
  {
   "cell_type": "markdown",
   "metadata": {},
   "source": [
    "На графиках видно, что зависимости от дня недели, месяца или года нет, на диаграммах рассеивания вертикальные линии примерно одинаковы у каждого значения. Рассмотрим ближе диаграмму с количеством комнат."
   ]
  },
  {
   "cell_type": "code",
   "execution_count": 37,
   "metadata": {
    "scrolled": true
   },
   "outputs": [
    {
     "data": {
      "text/plain": [
       "<AxesSubplot:title={'center':'Количество комнат'}, xlabel='rooms', ylabel='price_per_meter'>"
      ]
     },
     "execution_count": 37,
     "metadata": {},
     "output_type": "execute_result"
    },
    {
     "data": {
      "image/png": "[encoded data removed]",
      "text/plain": [
       "<Figure size 432x288 with 1 Axes>"
      ]
     },
     "metadata": {
      "needs_background": "light"
     },
     "output_type": "display_data"
    }
   ],
   "source": [
    "new_data.plot(x='rooms', y='price_per_meter', kind='scatter', grid=True, alpha=0.05, title='Количество комнат')"
   ]
  },
  {
   "cell_type": "markdown",
   "metadata": {},
   "source": [
    "Прямой зависимости от количесвта комнат с ценой нет, стоимость за метр бывает и низкая и высокая. Но видно, что предложений студий и квартир больше 4 комнат становится гораздо меньше."
   ]
  },
  {
   "cell_type": "markdown",
   "metadata": {},
   "source": [
    "Построим графики hexbin для просмотра зависимостей цены за метр от площади квартиры и расстояния до центра."
   ]
  },
  {
   "cell_type": "code",
   "execution_count": 38,
   "metadata": {},
   "outputs": [
    {
     "data": {
      "text/plain": [
       "<AxesSubplot:title={'center':'Площадь от цены за метр'}, xlabel='total_area', ylabel='price_per_meter'>"
      ]
     },
     "execution_count": 38,
     "metadata": {},
     "output_type": "execute_result"
    },
    {
     "data": {
      "image/png": "[encoded data removed]",
      "text/plain": [
       "<Figure size 576x432 with 2 Axes>"
      ]
     },
     "metadata": {
      "needs_background": "light"
     },
     "output_type": "display_data"
    }
   ],
   "source": [
    "new_data.plot(x='total_area', y='price_per_meter',\n",
    "              kind='hexbin', gridsize=25, figsize=(8, 6), sharex=False, grid=True, title='Площадь от цены за метр') "
   ]
  },
  {
   "cell_type": "code",
   "execution_count": 39,
   "metadata": {
    "scrolled": false
   },
   "outputs": [
    {
     "data": {
      "text/plain": [
       "<AxesSubplot:title={'center':'Расстояние от центра от цены за метр'}, xlabel='city_centers_nearest', ylabel='price_per_meter'>"
      ]
     },
     "execution_count": 39,
     "metadata": {},
     "output_type": "execute_result"
    },
    {
     "data": {
      "image/png": "[encoded data removed]",
      "text/plain": [
       "<Figure size 720x432 with 2 Axes>"
      ]
     },
     "metadata": {
      "needs_background": "light"
     },
     "output_type": "display_data"
    }
   ],
   "source": [
    "new_data.plot(x='city_centers_nearest', y='price_per_meter', kind='hexbin', gridsize=30, \n",
    "              figsize=(10, 6), sharex=False, grid=True, title='Расстояние от центра от цены за метр') "
   ]
  },
  {
   "cell_type": "markdown",
   "metadata": {},
   "source": [
    "На диаграмме с площаью `total_area` есть уплотнения при 30 кв.м. и цене 100 т.р., также у 45 кв.м. и стоимости 80-100 т.р. Присутсвует закономерность, у квартир площадью 30-50 кв.м. цена за метр почти одинакова.\n",
    "\n",
    "На диаграмме с расстоянием до центра `city_centers_nearest` цветом выделена вертикальная часть 11-14 км от центра. На этом расстоянии квартиры стоят определенные суммы, от 20 до 120 т.р.\n",
    "\n",
    "Скорее всего это частые рыночные цены."
   ]
  },
  {
   "cell_type": "markdown",
   "metadata": {},
   "source": [
    "Чтобы посмотреть на зависимость цены от этажа `floor_category` (первый, последний, другой), создадим сводную таблицу и выведем средние параметры."
   ]
  },
  {
   "cell_type": "code",
   "execution_count": 40,
   "metadata": {},
   "outputs": [
    {
     "data": {
      "text/html": [
       "<div>\n",
       "<style scoped>\n",
       "    .dataframe tbody tr th:only-of-type {\n",
       "        vertical-align: middle;\n",
       "    }\n",
       "\n",
       "    .dataframe tbody tr th {\n",
       "        vertical-align: top;\n",
       "    }\n",
       "\n",
       "    .dataframe thead th {\n",
       "        text-align: right;\n",
       "    }\n",
       "</style>\n",
       "<table border=\"1\" class=\"dataframe\">\n",
       "  <thead>\n",
       "    <tr style=\"text-align: right;\">\n",
       "      <th>floor_category</th>\n",
       "      <th>другой</th>\n",
       "      <th>первый</th>\n",
       "      <th>последний</th>\n",
       "    </tr>\n",
       "  </thead>\n",
       "  <tbody>\n",
       "    <tr>\n",
       "      <th>price_per_meter</th>\n",
       "      <td>100092.828198</td>\n",
       "      <td>80534.944743</td>\n",
       "      <td>86980.050246</td>\n",
       "    </tr>\n",
       "  </tbody>\n",
       "</table>\n",
       "</div>"
      ],
      "text/plain": [
       "floor_category          другой        первый     последний\n",
       "price_per_meter  100092.828198  80534.944743  86980.050246"
      ]
     },
     "execution_count": 40,
     "metadata": {},
     "output_type": "execute_result"
    }
   ],
   "source": [
    "pd.pivot_table(new_data, columns='floor_category', values='price_per_meter', aggfunc='mean')"
   ]
  },
  {
   "cell_type": "markdown",
   "metadata": {},
   "source": [
    "Дешевле всего квартиры на первом этаже, самы дорогие - другие."
   ]
  },
  {
   "cell_type": "markdown",
   "metadata": {},
   "source": [
    "### Анализ десяти населённых пунктов с наибольшим числом объявлений"
   ]
  },
  {
   "cell_type": "markdown",
   "metadata": {},
   "source": [
    "Выберите 10 населённых пунктов с наибольшим числом объявлений. Посчитайте среднюю цену квадратного метра в этих населённых пунктах. Выделите населённые пункты с самой высокой и низкой стоимостью жилья. Эти данные можно найти по имени в столбце locality_name."
   ]
  },
  {
   "cell_type": "markdown",
   "metadata": {},
   "source": [
    "Выделим 10 населенных пунктов с наибольшим числом объявлений с помощью `value_counts()`:"
   ]
  },
  {
   "cell_type": "code",
   "execution_count": 41,
   "metadata": {},
   "outputs": [
    {
     "data": {
      "text/plain": [
       "Санкт-Петербург    13513\n",
       "Мурино               553\n",
       "Кудрово              435\n",
       "Шушары               416\n",
       "Всеволожск           364\n",
       "Колпино              322\n",
       "Пушкин               321\n",
       "Парголово            312\n",
       "Гатчина              280\n",
       "Выборг               214\n",
       "Name: locality_name, dtype: int64"
      ]
     },
     "execution_count": 41,
     "metadata": {},
     "output_type": "execute_result"
    }
   ],
   "source": [
    "new_data['locality_name'].value_counts().head(10)"
   ]
  },
  {
   "cell_type": "markdown",
   "metadata": {},
   "source": [
    "Самое большое количество объявлений в Санкт-Петербурге, закрывает топ-10 Выборг.\n",
    "\n",
    "Посчитем среднюю цену квадратного метра в этих населённых пунктах, выведем таблицу с результатом по убыванию средней цены."
   ]
  },
  {
   "cell_type": "code",
   "execution_count": 42,
   "metadata": {},
   "outputs": [
    {
     "data": {
      "text/html": [
       "<div>\n",
       "<style scoped>\n",
       "    .dataframe tbody tr th:only-of-type {\n",
       "        vertical-align: middle;\n",
       "    }\n",
       "\n",
       "    .dataframe tbody tr th {\n",
       "        vertical-align: top;\n",
       "    }\n",
       "\n",
       "    .dataframe thead th {\n",
       "        text-align: right;\n",
       "    }\n",
       "</style>\n",
       "<table border=\"1\" class=\"dataframe\">\n",
       "  <thead>\n",
       "    <tr style=\"text-align: right;\">\n",
       "      <th></th>\n",
       "      <th>count</th>\n",
       "      <th>mean_price</th>\n",
       "    </tr>\n",
       "    <tr>\n",
       "      <th>locality_name</th>\n",
       "      <th></th>\n",
       "      <th></th>\n",
       "    </tr>\n",
       "  </thead>\n",
       "  <tbody>\n",
       "    <tr>\n",
       "      <th>Санкт-Петербург</th>\n",
       "      <td>13513</td>\n",
       "      <td>110566.649301</td>\n",
       "    </tr>\n",
       "    <tr>\n",
       "      <th>Пушкин</th>\n",
       "      <td>321</td>\n",
       "      <td>101814.074766</td>\n",
       "    </tr>\n",
       "    <tr>\n",
       "      <th>Кудрово</th>\n",
       "      <td>435</td>\n",
       "      <td>95439.558621</td>\n",
       "    </tr>\n",
       "    <tr>\n",
       "      <th>Парголово</th>\n",
       "      <td>312</td>\n",
       "      <td>90053.118590</td>\n",
       "    </tr>\n",
       "    <tr>\n",
       "      <th>Мурино</th>\n",
       "      <td>553</td>\n",
       "      <td>86264.164557</td>\n",
       "    </tr>\n",
       "    <tr>\n",
       "      <th>Шушары</th>\n",
       "      <td>416</td>\n",
       "      <td>78515.713942</td>\n",
       "    </tr>\n",
       "    <tr>\n",
       "      <th>Колпино</th>\n",
       "      <td>322</td>\n",
       "      <td>75284.993789</td>\n",
       "    </tr>\n",
       "    <tr>\n",
       "      <th>Гатчина</th>\n",
       "      <td>280</td>\n",
       "      <td>69123.221429</td>\n",
       "    </tr>\n",
       "    <tr>\n",
       "      <th>Всеволожск</th>\n",
       "      <td>364</td>\n",
       "      <td>68711.489011</td>\n",
       "    </tr>\n",
       "    <tr>\n",
       "      <th>Выборг</th>\n",
       "      <td>214</td>\n",
       "      <td>58262.574766</td>\n",
       "    </tr>\n",
       "  </tbody>\n",
       "</table>\n",
       "</div>"
      ],
      "text/plain": [
       "                 count     mean_price\n",
       "locality_name                        \n",
       "Санкт-Петербург  13513  110566.649301\n",
       "Пушкин             321  101814.074766\n",
       "Кудрово            435   95439.558621\n",
       "Парголово          312   90053.118590\n",
       "Мурино             553   86264.164557\n",
       "Шушары             416   78515.713942\n",
       "Колпино            322   75284.993789\n",
       "Гатчина            280   69123.221429\n",
       "Всеволожск         364   68711.489011\n",
       "Выборг             214   58262.574766"
      ]
     },
     "execution_count": 42,
     "metadata": {},
     "output_type": "execute_result"
    }
   ],
   "source": [
    "top_10_list = new_data['locality_name'].value_counts().head(10).index\n",
    "# создание сводной таблицы с функциями count и mean\n",
    "top_10 = new_data[new_data['locality_name'].isin(top_10_list)].pivot_table(index='locality_name', values='price_per_meter', aggfunc=['count', 'mean'])\n",
    "# переименование столбцов\n",
    "top_10.columns = ['count', 'mean_price']\n",
    "# вывод по убыванию mean_price\n",
    "top_10.sort_values(by='mean_price', ascending=False)"
   ]
  },
  {
   "cell_type": "markdown",
   "metadata": {},
   "source": [
    "### Анализ изменения цены по степени удалённости от центра"
   ]
  },
  {
   "cell_type": "markdown",
   "metadata": {},
   "source": [
    "Выделим квартиры в Санкт-Петербурге. Создадим столбец с расстоянием до центра в километрах, найдем среднюю стоимость за метр для каждого киллометра."
   ]
  },
  {
   "cell_type": "code",
   "execution_count": 43,
   "metadata": {},
   "outputs": [
    {
     "data": {
      "image/png": "[encoded data removed]",
      "text/plain": [
       "<Figure size 1008x360 with 1 Axes>"
      ]
     },
     "metadata": {
      "needs_background": "light"
     },
     "output_type": "display_data"
    }
   ],
   "source": [
    "# фильтрация объявлений по Санкт-Перербургу\n",
    "spb = new_data.query('locality_name == \"Санкт-Петербург\"')\n",
    "# создаем столбец удаленности от центра в км\n",
    "spb['city_centers_nearest_km'] = (spb['city_centers_nearest'] / 1000).astype('int')\n",
    "\n",
    "# сводная таблица со средней ценой\n",
    "spb_final = spb.pivot_table(index='city_centers_nearest_km', values='price_per_meter', aggfunc='mean')\n",
    "#display(spb_final)\n",
    "\n",
    "# построение графика\n",
    "spb_final.plot(grid=True, figsize=(14,5), title='Средняя стоимость от расстояния до цетра')\n",
    "# линия изменения графика, центра города\n",
    "plt.axvline(x = 7, color = 'red', linestyle=':')\n",
    "plt.show()"
   ]
  },
  {
   "cell_type": "markdown",
   "metadata": {},
   "source": [
    "Как видно на графике, примерно в 7 километрах цена квартир за квадратный метр начинает падать. То есть квартиры в радиусе 7км от центра стоят дороже, так как находятся в центре Санкт-Петербурга."
   ]
  },
  {
   "cell_type": "markdown",
   "metadata": {},
   "source": [
    "### Сравнение выводов по квартирам в центре и общих выводов по всему городу"
   ]
  },
  {
   "cell_type": "markdown",
   "metadata": {},
   "source": [
    "Сравним результаты для квартир в центре и всех квартир Санкт-Петербурга.\n",
    "\n",
    "Для сравнения построим диаграммы для слудющих параметров:\n",
    "* площадь `total_area`\n",
    "* цена `price_per_meter`\n",
    "* число комнат `rooms`\n",
    "* высота потолков `ceiling_height`\n",
    "* дата размещения объявления `first_day_exposition` \n",
    "* удалённость от центра `city_centers_nearest`"
   ]
  },
  {
   "cell_type": "code",
   "execution_count": 44,
   "metadata": {
    "scrolled": false
   },
   "outputs": [
    {
     "data": {
      "image/png": "[encoded data removed]",
      "text/plain": [
       "<Figure size 576x432 with 1 Axes>"
      ]
     },
     "metadata": {
      "needs_background": "light"
     },
     "output_type": "display_data"
    },
    {
     "data": {
      "image/png": "[encoded data removed]",
      "text/plain": [
       "<Figure size 576x432 with 1 Axes>"
      ]
     },
     "metadata": {
      "needs_background": "light"
     },
     "output_type": "display_data"
    },
    {
     "data": {
      "image/png": "[encoded data removed]",
      "text/plain": [
       "<Figure size 576x432 with 1 Axes>"
      ]
     },
     "metadata": {
      "needs_background": "light"
     },
     "output_type": "display_data"
    },
    {
     "data": {
      "image/png": "[encoded data removed]",
      "text/plain": [
       "<Figure size 576x432 with 1 Axes>"
      ]
     },
     "metadata": {
      "needs_background": "light"
     },
     "output_type": "display_data"
    },
    {
     "data": {
      "image/png": "[encoded data removed]",
      "text/plain": [
       "<Figure size 576x432 with 1 Axes>"
      ]
     },
     "metadata": {
      "needs_background": "light"
     },
     "output_type": "display_data"
    }
   ],
   "source": [
    "# квартрры в центре\n",
    "spb_center = spb.query('city_centers_nearest_km <= 7')\n",
    "\n",
    "for column in ['total_area', 'price_per_meter', 'rooms', 'ceiling_height', 'city_centers_nearest']:\n",
    "    spb[column].plot(kind='hist', bins=100, grid=True, density=True, label=\"Весь город\", alpha=0.7)\n",
    "    spb_center[column].plot(kind='hist', bins=100, grid=True, density=True, label=\"Центр города\", alpha=0.7, figsize=(8,6))\n",
    "    plt.title(column)\n",
    "    plt.legend(loc=\"upper right\")\n",
    "    plt.show()"
   ]
  },
  {
   "cell_type": "code",
   "execution_count": 45,
   "metadata": {
    "scrolled": false
   },
   "outputs": [
    {
     "data": {
      "text/plain": [
       "Text(0.5, 1.0, 'Дата размещения объявления')"
      ]
     },
     "execution_count": 45,
     "metadata": {},
     "output_type": "execute_result"
    },
    {
     "data": {
      "image/png": "[encoded data removed]",
      "text/plain": [
       "<Figure size 720x360 with 1 Axes>"
      ]
     },
     "metadata": {
      "needs_background": "light"
     },
     "output_type": "display_data"
    }
   ],
   "source": [
    "#день публикации\n",
    "spb['first_day_exposition'].hist(label='Питер')\n",
    "spb_center['first_day_exposition'].hist(figsize=(10,5), label='Центр Питера')\n",
    "plt.legend()\n",
    "plt.title('Дата размещения объявления')"
   ]
  },
  {
   "cell_type": "markdown",
   "metadata": {},
   "source": [
    "Оранжевым отображаются данные по цетру (в радиусе 7 км), а синим по всему городу.\n",
    "\n",
    "Исходя их полученных графиков:\n",
    "- в центре не так много маленьких квартир (35-45 км.м), чуть больше квартир большой площадью по сравнению со всем городом,\n",
    "- график цен за метр в центре очень похож на общий, только сдвинут врпаво, то есть чены дороже,\n",
    "- не так много однокомнатных квартир, остальное схоже,\n",
    "- высота потолков одинакова\n",
    "- пики по размещению объявлений совпадают, но объявленй в центре очень малое количество,\n",
    "- график расстояния до центра различен, что по сути очевидно, но мы наглядно в этом убедились."
   ]
  },
  {
   "cell_type": "markdown",
   "metadata": {},
   "source": [
    "Также необходимо сравнить корреляцию данных параметров во всем городе и в центре. Воспользуемся поочередно методом `corr()`."
   ]
  },
  {
   "cell_type": "code",
   "execution_count": 46,
   "metadata": {},
   "outputs": [
    {
     "data": {
      "text/html": [
       "<div>\n",
       "<style scoped>\n",
       "    .dataframe tbody tr th:only-of-type {\n",
       "        vertical-align: middle;\n",
       "    }\n",
       "\n",
       "    .dataframe tbody tr th {\n",
       "        vertical-align: top;\n",
       "    }\n",
       "\n",
       "    .dataframe thead th {\n",
       "        text-align: right;\n",
       "    }\n",
       "</style>\n",
       "<table border=\"1\" class=\"dataframe\">\n",
       "  <thead>\n",
       "    <tr style=\"text-align: right;\">\n",
       "      <th></th>\n",
       "      <th>total_area</th>\n",
       "      <th>price_per_meter</th>\n",
       "      <th>rooms</th>\n",
       "      <th>ceiling_height</th>\n",
       "      <th>city_centers_nearest</th>\n",
       "    </tr>\n",
       "  </thead>\n",
       "  <tbody>\n",
       "    <tr>\n",
       "      <th>total_area</th>\n",
       "      <td>1.000000</td>\n",
       "      <td>0.086791</td>\n",
       "      <td>0.774121</td>\n",
       "      <td>0.049648</td>\n",
       "      <td>-0.256429</td>\n",
       "    </tr>\n",
       "    <tr>\n",
       "      <th>price_per_meter</th>\n",
       "      <td>0.086791</td>\n",
       "      <td>1.000000</td>\n",
       "      <td>-0.154177</td>\n",
       "      <td>0.136510</td>\n",
       "      <td>-0.339504</td>\n",
       "    </tr>\n",
       "    <tr>\n",
       "      <th>rooms</th>\n",
       "      <td>0.774121</td>\n",
       "      <td>-0.154177</td>\n",
       "      <td>1.000000</td>\n",
       "      <td>0.014637</td>\n",
       "      <td>-0.173549</td>\n",
       "    </tr>\n",
       "    <tr>\n",
       "      <th>ceiling_height</th>\n",
       "      <td>0.049648</td>\n",
       "      <td>0.136510</td>\n",
       "      <td>0.014637</td>\n",
       "      <td>1.000000</td>\n",
       "      <td>-0.084635</td>\n",
       "    </tr>\n",
       "    <tr>\n",
       "      <th>city_centers_nearest</th>\n",
       "      <td>-0.256429</td>\n",
       "      <td>-0.339504</td>\n",
       "      <td>-0.173549</td>\n",
       "      <td>-0.084635</td>\n",
       "      <td>1.000000</td>\n",
       "    </tr>\n",
       "  </tbody>\n",
       "</table>\n",
       "</div>"
      ],
      "text/plain": [
       "                      total_area  price_per_meter     rooms  ceiling_height  \\\n",
       "total_area              1.000000         0.086791  0.774121        0.049648   \n",
       "price_per_meter         0.086791         1.000000 -0.154177        0.136510   \n",
       "rooms                   0.774121        -0.154177  1.000000        0.014637   \n",
       "ceiling_height          0.049648         0.136510  0.014637        1.000000   \n",
       "city_centers_nearest   -0.256429        -0.339504 -0.173549       -0.084635   \n",
       "\n",
       "                      city_centers_nearest  \n",
       "total_area                       -0.256429  \n",
       "price_per_meter                  -0.339504  \n",
       "rooms                            -0.173549  \n",
       "ceiling_height                   -0.084635  \n",
       "city_centers_nearest              1.000000  "
      ]
     },
     "execution_count": 46,
     "metadata": {},
     "output_type": "execute_result"
    }
   ],
   "source": [
    "spb[['total_area', 'price_per_meter', 'rooms', 'ceiling_height', 'city_centers_nearest']].corr()"
   ]
  },
  {
   "cell_type": "code",
   "execution_count": 47,
   "metadata": {
    "scrolled": true
   },
   "outputs": [
    {
     "data": {
      "text/html": [
       "<div>\n",
       "<style scoped>\n",
       "    .dataframe tbody tr th:only-of-type {\n",
       "        vertical-align: middle;\n",
       "    }\n",
       "\n",
       "    .dataframe tbody tr th {\n",
       "        vertical-align: top;\n",
       "    }\n",
       "\n",
       "    .dataframe thead th {\n",
       "        text-align: right;\n",
       "    }\n",
       "</style>\n",
       "<table border=\"1\" class=\"dataframe\">\n",
       "  <thead>\n",
       "    <tr style=\"text-align: right;\">\n",
       "      <th></th>\n",
       "      <th>total_area</th>\n",
       "      <th>price_per_meter</th>\n",
       "      <th>rooms</th>\n",
       "      <th>ceiling_height</th>\n",
       "      <th>city_centers_nearest</th>\n",
       "    </tr>\n",
       "  </thead>\n",
       "  <tbody>\n",
       "    <tr>\n",
       "      <th>total_area</th>\n",
       "      <td>1.000000</td>\n",
       "      <td>-0.026930</td>\n",
       "      <td>0.743406</td>\n",
       "      <td>0.081812</td>\n",
       "      <td>-0.163786</td>\n",
       "    </tr>\n",
       "    <tr>\n",
       "      <th>price_per_meter</th>\n",
       "      <td>-0.026930</td>\n",
       "      <td>1.000000</td>\n",
       "      <td>-0.220938</td>\n",
       "      <td>0.025014</td>\n",
       "      <td>-0.052510</td>\n",
       "    </tr>\n",
       "    <tr>\n",
       "      <th>rooms</th>\n",
       "      <td>0.743406</td>\n",
       "      <td>-0.220938</td>\n",
       "      <td>1.000000</td>\n",
       "      <td>0.034760</td>\n",
       "      <td>-0.150616</td>\n",
       "    </tr>\n",
       "    <tr>\n",
       "      <th>ceiling_height</th>\n",
       "      <td>0.081812</td>\n",
       "      <td>0.025014</td>\n",
       "      <td>0.034760</td>\n",
       "      <td>1.000000</td>\n",
       "      <td>-0.135469</td>\n",
       "    </tr>\n",
       "    <tr>\n",
       "      <th>city_centers_nearest</th>\n",
       "      <td>-0.163786</td>\n",
       "      <td>-0.052510</td>\n",
       "      <td>-0.150616</td>\n",
       "      <td>-0.135469</td>\n",
       "      <td>1.000000</td>\n",
       "    </tr>\n",
       "  </tbody>\n",
       "</table>\n",
       "</div>"
      ],
      "text/plain": [
       "                      total_area  price_per_meter     rooms  ceiling_height  \\\n",
       "total_area              1.000000        -0.026930  0.743406        0.081812   \n",
       "price_per_meter        -0.026930         1.000000 -0.220938        0.025014   \n",
       "rooms                   0.743406        -0.220938  1.000000        0.034760   \n",
       "ceiling_height          0.081812         0.025014  0.034760        1.000000   \n",
       "city_centers_nearest   -0.163786        -0.052510 -0.150616       -0.135469   \n",
       "\n",
       "                      city_centers_nearest  \n",
       "total_area                       -0.163786  \n",
       "price_per_meter                  -0.052510  \n",
       "rooms                            -0.150616  \n",
       "ceiling_height                   -0.135469  \n",
       "city_centers_nearest              1.000000  "
      ]
     },
     "execution_count": 47,
     "metadata": {},
     "output_type": "execute_result"
    }
   ],
   "source": [
    "spb_center[['total_area', 'price_per_meter', 'rooms', 'ceiling_height', 'city_centers_nearest']].corr()"
   ]
  },
  {
   "cell_type": "markdown",
   "metadata": {},
   "source": [
    "Корреляция стоимости с остальными параметрами:\n",
    "1. Площадь: корееляция в ценре более отрицательна, но все еще незначительна\n",
    "2. Количество комнат: в центре чуть более отрицательна, чем во всем городе, эта корреляция небольшая (при большем количесвтве комнат стоимость за метр уменьшается)\n",
    "3. Высота потолков: в центре города корреляция гораздо меньше, то есть цена не зависит от высоты потолков\n",
    "4. Расстояние до центра: во всем городе корреляция отрицательна, в центре положительна, что логично."
   ]
  },
  {
   "cell_type": "markdown",
   "metadata": {},
   "source": [
    "**Вывод**"
   ]
  },
  {
   "cell_type": "markdown",
   "metadata": {},
   "source": [
    "В ходе исследовательского анализа данных было решено множество задач:\n",
    "* исследованны площади, цены, числа комнат, высоты потолков, количество времени;\n",
    "* проанализированны редкие и выбивающиеся значения, они не были вкючены в выборку для дальнейшей работы;\n",
    "* исследованны факторы, влияющих на стоимость квартиры - это площадь и расстояние до центра;\n",
    "* выделены 10 населённых пунктов с наибольшим числом объявлений, посчитана средняя цена квадратного метра в этих населённых пунктах;\n",
    "* по убыванию цены в зависимости от удаленности от центра выделенн центр Санкт-Петербурга;\n",
    "* проведено сравнение основных параметров, влияющих на ценобразование, в центре и всем городе."
   ]
  },
  {
   "cell_type": "markdown",
   "metadata": {},
   "source": [
    "## Общий вывод"
   ]
  },
  {
   "cell_type": "markdown",
   "metadata": {},
   "source": [
    "В ходе данного проекта были изучены данные об объявлениях с Яндекс.Недвижимости, был произведен расчет и добавление дополнительних значений, проведено масштабное исследование по параметрам, которые влияют на цену недвижимости, которое влючало в себя удаление выбросов, построение графиков, создание сводных таблиц и т.д."
   ]
  }
 ],
 "metadata": {
  "ExecuteTimeLog": [
   {
    "duration": 797,
    "start_time": "2021-12-29T09:12:34.841Z"
   },
   {
    "duration": 96,
    "start_time": "2021-12-29T09:37:35.946Z"
   },
   {
    "duration": 171,
    "start_time": "2021-12-29T09:37:55.487Z"
   },
   {
    "duration": 74,
    "start_time": "2021-12-29T09:38:41.256Z"
   },
   {
    "duration": 166,
    "start_time": "2021-12-29T09:39:01.501Z"
   },
   {
    "duration": 124,
    "start_time": "2021-12-29T09:41:20.051Z"
   },
   {
    "duration": 16,
    "start_time": "2021-12-29T09:44:53.774Z"
   },
   {
    "duration": 311,
    "start_time": "2021-12-31T07:38:10.335Z"
   },
   {
    "duration": 818,
    "start_time": "2021-12-31T07:38:17.911Z"
   },
   {
    "duration": 16,
    "start_time": "2021-12-31T07:38:18.732Z"
   },
   {
    "duration": 13,
    "start_time": "2021-12-31T07:38:18.763Z"
   },
   {
    "duration": 14,
    "start_time": "2021-12-31T07:40:32.910Z"
   },
   {
    "duration": 11,
    "start_time": "2021-12-31T07:41:08.711Z"
   },
   {
    "duration": 241,
    "start_time": "2022-01-02T17:43:30.753Z"
   },
   {
    "duration": 663,
    "start_time": "2022-01-02T17:43:37.314Z"
   },
   {
    "duration": 9,
    "start_time": "2022-01-02T17:43:37.979Z"
   },
   {
    "duration": 12,
    "start_time": "2022-01-02T17:43:37.990Z"
   },
   {
    "duration": 7,
    "start_time": "2022-01-02T17:43:38.003Z"
   },
   {
    "duration": 5,
    "start_time": "2022-01-02T17:45:55.900Z"
   },
   {
    "duration": 5,
    "start_time": "2022-01-02T17:46:07.119Z"
   },
   {
    "duration": 4,
    "start_time": "2022-01-02T17:50:28.616Z"
   },
   {
    "duration": 26146,
    "start_time": "2022-01-02T18:01:24.302Z"
   },
   {
    "duration": 667,
    "start_time": "2022-01-04T10:09:34.132Z"
   },
   {
    "duration": 9,
    "start_time": "2022-01-04T10:09:34.801Z"
   },
   {
    "duration": 20,
    "start_time": "2022-01-04T10:09:34.812Z"
   },
   {
    "duration": 26083,
    "start_time": "2022-01-04T10:09:34.833Z"
   },
   {
    "duration": 2,
    "start_time": "2022-01-04T10:10:09.734Z"
   },
   {
    "duration": 311,
    "start_time": "2022-01-04T10:10:19.975Z"
   },
   {
    "duration": 5,
    "start_time": "2022-01-04T10:10:30.535Z"
   },
   {
    "duration": 17,
    "start_time": "2022-01-04T10:10:48.854Z"
   },
   {
    "duration": 17,
    "start_time": "2022-01-04T10:11:43.397Z"
   },
   {
    "duration": 224,
    "start_time": "2022-01-04T10:20:41.898Z"
   },
   {
    "duration": 10,
    "start_time": "2022-01-04T10:22:50.118Z"
   },
   {
    "duration": 204,
    "start_time": "2022-01-04T10:23:03.247Z"
   },
   {
    "duration": 353,
    "start_time": "2022-01-04T10:23:17.020Z"
   },
   {
    "duration": 203,
    "start_time": "2022-01-04T10:23:17.898Z"
   },
   {
    "duration": 578,
    "start_time": "2022-01-04T10:23:27.997Z"
   },
   {
    "duration": 11,
    "start_time": "2022-01-04T10:23:28.577Z"
   },
   {
    "duration": 9,
    "start_time": "2022-01-04T10:23:28.590Z"
   },
   {
    "duration": 16,
    "start_time": "2022-01-04T10:23:28.601Z"
   },
   {
    "duration": 9,
    "start_time": "2022-01-04T10:23:28.642Z"
   },
   {
    "duration": 231,
    "start_time": "2022-01-04T10:23:28.653Z"
   },
   {
    "duration": 669,
    "start_time": "2022-01-04T10:24:50.627Z"
   },
   {
    "duration": 10,
    "start_time": "2022-01-04T10:24:51.297Z"
   },
   {
    "duration": 8,
    "start_time": "2022-01-04T10:24:51.309Z"
   },
   {
    "duration": 31,
    "start_time": "2022-01-04T10:24:51.319Z"
   },
   {
    "duration": 7,
    "start_time": "2022-01-04T10:24:51.352Z"
   },
   {
    "duration": 14,
    "start_time": "2022-01-04T10:24:51.360Z"
   },
   {
    "duration": 569,
    "start_time": "2022-01-04T13:04:23.870Z"
   },
   {
    "duration": 912,
    "start_time": "2022-01-04T13:04:36.248Z"
   },
   {
    "duration": 16,
    "start_time": "2022-01-04T13:04:37.166Z"
   },
   {
    "duration": 12,
    "start_time": "2022-01-04T13:04:37.185Z"
   },
   {
    "duration": 67,
    "start_time": "2022-01-04T13:04:37.200Z"
   },
   {
    "duration": 8,
    "start_time": "2022-01-04T13:04:37.269Z"
   },
   {
    "duration": 12,
    "start_time": "2022-01-04T13:04:37.280Z"
   },
   {
    "duration": 14,
    "start_time": "2022-01-04T13:04:37.296Z"
   },
   {
    "duration": 9,
    "start_time": "2022-01-04T13:05:04.521Z"
   },
   {
    "duration": 12,
    "start_time": "2022-01-04T13:47:08.678Z"
   },
   {
    "duration": 7,
    "start_time": "2022-01-04T13:49:56.027Z"
   },
   {
    "duration": 396,
    "start_time": "2022-01-04T13:49:59.044Z"
   },
   {
    "duration": 567,
    "start_time": "2022-01-04T13:50:10.396Z"
   },
   {
    "duration": 856,
    "start_time": "2022-01-04T13:50:30.329Z"
   },
   {
    "duration": 1579,
    "start_time": "2022-01-04T13:50:36.884Z"
   },
   {
    "duration": 402,
    "start_time": "2022-01-04T13:50:40.839Z"
   },
   {
    "duration": 554,
    "start_time": "2022-01-04T13:56:42.697Z"
   },
   {
    "duration": 194,
    "start_time": "2022-01-04T13:58:51.612Z"
   },
   {
    "duration": 105,
    "start_time": "2022-01-04T13:59:07.796Z"
   },
   {
    "duration": 12,
    "start_time": "2022-01-04T13:59:30.842Z"
   },
   {
    "duration": 64,
    "start_time": "2022-01-04T14:00:32.734Z"
   },
   {
    "duration": 10,
    "start_time": "2022-01-04T14:00:39.640Z"
   },
   {
    "duration": 12,
    "start_time": "2022-01-04T14:00:45.280Z"
   },
   {
    "duration": 17,
    "start_time": "2022-01-04T14:00:50.863Z"
   },
   {
    "duration": 11,
    "start_time": "2022-01-04T14:00:54.336Z"
   },
   {
    "duration": 12,
    "start_time": "2022-01-04T14:01:00.285Z"
   },
   {
    "duration": 10,
    "start_time": "2022-01-04T14:01:03.245Z"
   },
   {
    "duration": 9,
    "start_time": "2022-01-04T14:20:59.570Z"
   },
   {
    "duration": 6,
    "start_time": "2022-01-04T14:21:07.823Z"
   },
   {
    "duration": 14,
    "start_time": "2022-01-04T14:21:31.948Z"
   },
   {
    "duration": 7,
    "start_time": "2022-01-04T14:21:44.092Z"
   },
   {
    "duration": 6,
    "start_time": "2022-01-04T14:21:53.566Z"
   },
   {
    "duration": 6,
    "start_time": "2022-01-04T14:22:16.678Z"
   },
   {
    "duration": 6,
    "start_time": "2022-01-04T14:22:18.751Z"
   },
   {
    "duration": 11,
    "start_time": "2022-01-04T14:22:46.415Z"
   },
   {
    "duration": 552,
    "start_time": "2022-01-04T14:26:32.644Z"
   },
   {
    "duration": 964,
    "start_time": "2022-01-04T14:26:58.029Z"
   },
   {
    "duration": 18,
    "start_time": "2022-01-04T14:26:58.997Z"
   },
   {
    "duration": 14,
    "start_time": "2022-01-04T14:26:59.019Z"
   },
   {
    "duration": 53,
    "start_time": "2022-01-04T14:26:59.036Z"
   },
   {
    "duration": 15,
    "start_time": "2022-01-04T14:26:59.092Z"
   },
   {
    "duration": 13,
    "start_time": "2022-01-04T14:26:59.110Z"
   },
   {
    "duration": 9,
    "start_time": "2022-01-04T14:26:59.164Z"
   },
   {
    "duration": 23,
    "start_time": "2022-01-04T14:26:59.177Z"
   },
   {
    "duration": 16,
    "start_time": "2022-01-04T14:26:59.204Z"
   },
   {
    "duration": 7,
    "start_time": "2022-01-04T14:28:15.930Z"
   },
   {
    "duration": 9,
    "start_time": "2022-01-04T14:29:39.676Z"
   },
   {
    "duration": 149,
    "start_time": "2022-01-04T14:30:16.425Z"
   },
   {
    "duration": 27,
    "start_time": "2022-01-04T14:30:20.914Z"
   },
   {
    "duration": 851,
    "start_time": "2022-01-04T14:37:45.715Z"
   },
   {
    "duration": 16,
    "start_time": "2022-01-04T14:37:46.569Z"
   },
   {
    "duration": 13,
    "start_time": "2022-01-04T14:37:46.588Z"
   },
   {
    "duration": 61,
    "start_time": "2022-01-04T14:37:46.603Z"
   },
   {
    "duration": 15,
    "start_time": "2022-01-04T14:37:46.666Z"
   },
   {
    "duration": 8,
    "start_time": "2022-01-04T14:37:46.683Z"
   },
   {
    "duration": 6,
    "start_time": "2022-01-04T14:37:46.693Z"
   },
   {
    "duration": 91,
    "start_time": "2022-01-04T14:38:20.112Z"
   },
   {
    "duration": 8,
    "start_time": "2022-01-04T14:38:26.784Z"
   },
   {
    "duration": 9,
    "start_time": "2022-01-04T14:38:30.773Z"
   },
   {
    "duration": 9,
    "start_time": "2022-01-04T14:38:41.016Z"
   },
   {
    "duration": 10,
    "start_time": "2022-01-04T14:38:46.189Z"
   },
   {
    "duration": 8,
    "start_time": "2022-01-04T14:38:49.294Z"
   },
   {
    "duration": 6,
    "start_time": "2022-01-04T14:38:52.020Z"
   },
   {
    "duration": 29,
    "start_time": "2022-01-04T14:54:54.186Z"
   },
   {
    "duration": 23,
    "start_time": "2022-01-04T15:09:57.447Z"
   },
   {
    "duration": 448,
    "start_time": "2022-01-04T15:10:11.195Z"
   },
   {
    "duration": 7,
    "start_time": "2022-01-04T15:10:24.453Z"
   },
   {
    "duration": 10,
    "start_time": "2022-01-04T15:12:56.819Z"
   },
   {
    "duration": 26,
    "start_time": "2022-01-04T15:13:08.705Z"
   },
   {
    "duration": 10,
    "start_time": "2022-01-04T15:13:27.417Z"
   },
   {
    "duration": 7,
    "start_time": "2022-01-04T15:14:09.052Z"
   },
   {
    "duration": 378,
    "start_time": "2022-01-04T15:17:46.032Z"
   },
   {
    "duration": 1185,
    "start_time": "2022-01-04T15:18:44.978Z"
   },
   {
    "duration": 16,
    "start_time": "2022-01-04T15:18:46.170Z"
   },
   {
    "duration": 13,
    "start_time": "2022-01-04T15:18:46.189Z"
   },
   {
    "duration": 76,
    "start_time": "2022-01-04T15:18:46.205Z"
   },
   {
    "duration": 14,
    "start_time": "2022-01-04T15:18:46.283Z"
   },
   {
    "duration": 8,
    "start_time": "2022-01-04T15:18:46.299Z"
   },
   {
    "duration": 341,
    "start_time": "2022-01-04T15:18:46.310Z"
   },
   {
    "duration": 134,
    "start_time": "2022-01-04T15:18:46.520Z"
   },
   {
    "duration": 132,
    "start_time": "2022-01-04T15:18:46.523Z"
   },
   {
    "duration": 7,
    "start_time": "2022-01-04T15:19:16.547Z"
   },
   {
    "duration": 6,
    "start_time": "2022-01-04T15:19:17.539Z"
   },
   {
    "duration": 43,
    "start_time": "2022-01-04T15:19:20.273Z"
   },
   {
    "duration": 6,
    "start_time": "2022-01-04T15:19:27.212Z"
   },
   {
    "duration": 6,
    "start_time": "2022-01-04T15:19:27.766Z"
   },
   {
    "duration": 96,
    "start_time": "2022-01-04T15:21:51.885Z"
   },
   {
    "duration": 9,
    "start_time": "2022-01-04T15:22:39.046Z"
   },
   {
    "duration": 14,
    "start_time": "2022-01-04T15:26:47.641Z"
   },
   {
    "duration": 14,
    "start_time": "2022-01-04T15:28:24.507Z"
   },
   {
    "duration": 9,
    "start_time": "2022-01-04T15:28:25.615Z"
   },
   {
    "duration": 41,
    "start_time": "2022-01-04T15:28:26.145Z"
   },
   {
    "duration": 7,
    "start_time": "2022-01-04T15:28:29.143Z"
   },
   {
    "duration": 8,
    "start_time": "2022-01-04T15:28:29.753Z"
   },
   {
    "duration": 41,
    "start_time": "2022-01-04T15:29:39.942Z"
   },
   {
    "duration": 27,
    "start_time": "2022-01-04T15:31:20.528Z"
   },
   {
    "duration": 8,
    "start_time": "2022-01-04T15:31:49.096Z"
   },
   {
    "duration": 7,
    "start_time": "2022-01-04T15:31:58.040Z"
   },
   {
    "duration": 920,
    "start_time": "2022-01-04T16:06:28.334Z"
   },
   {
    "duration": 18,
    "start_time": "2022-01-04T16:06:29.257Z"
   },
   {
    "duration": 13,
    "start_time": "2022-01-04T16:06:29.278Z"
   },
   {
    "duration": 43,
    "start_time": "2022-01-04T16:06:29.295Z"
   },
   {
    "duration": 30,
    "start_time": "2022-01-04T16:06:29.341Z"
   },
   {
    "duration": 11,
    "start_time": "2022-01-04T16:06:29.374Z"
   },
   {
    "duration": 17,
    "start_time": "2022-01-04T16:06:29.388Z"
   },
   {
    "duration": 71,
    "start_time": "2022-01-04T16:06:29.410Z"
   },
   {
    "duration": 36,
    "start_time": "2022-01-04T16:06:29.485Z"
   },
   {
    "duration": 6,
    "start_time": "2022-01-04T16:06:29.524Z"
   },
   {
    "duration": 7,
    "start_time": "2022-01-04T16:06:29.532Z"
   },
   {
    "duration": 42,
    "start_time": "2022-01-04T16:09:34.242Z"
   },
   {
    "duration": 29,
    "start_time": "2022-01-04T16:09:34.998Z"
   },
   {
    "duration": 9,
    "start_time": "2022-01-04T16:12:58.003Z"
   },
   {
    "duration": 10,
    "start_time": "2022-01-04T16:15:57.348Z"
   },
   {
    "duration": 8,
    "start_time": "2022-01-04T16:16:12.618Z"
   },
   {
    "duration": 7,
    "start_time": "2022-01-04T16:16:19.433Z"
   },
   {
    "duration": 6,
    "start_time": "2022-01-04T16:16:21.024Z"
   },
   {
    "duration": 8,
    "start_time": "2022-01-04T16:17:40.107Z"
   },
   {
    "duration": 5,
    "start_time": "2022-01-04T16:17:42.571Z"
   },
   {
    "duration": 5,
    "start_time": "2022-01-04T16:17:44.694Z"
   },
   {
    "duration": 11,
    "start_time": "2022-01-04T16:20:51.947Z"
   },
   {
    "duration": 11,
    "start_time": "2022-01-04T16:21:49.375Z"
   },
   {
    "duration": 99,
    "start_time": "2022-01-04T16:21:50.294Z"
   },
   {
    "duration": 11,
    "start_time": "2022-01-04T16:21:55.388Z"
   },
   {
    "duration": 938,
    "start_time": "2022-01-04T16:39:03.085Z"
   },
   {
    "duration": 16,
    "start_time": "2022-01-04T16:39:04.026Z"
   },
   {
    "duration": 28,
    "start_time": "2022-01-04T16:39:04.045Z"
   },
   {
    "duration": 48,
    "start_time": "2022-01-04T16:39:04.077Z"
   },
   {
    "duration": 56,
    "start_time": "2022-01-04T16:39:04.128Z"
   },
   {
    "duration": 12,
    "start_time": "2022-01-04T16:39:04.187Z"
   },
   {
    "duration": 140,
    "start_time": "2022-01-04T16:39:04.202Z"
   },
   {
    "duration": 71,
    "start_time": "2022-01-04T16:39:04.347Z"
   },
   {
    "duration": 10,
    "start_time": "2022-01-04T16:39:04.422Z"
   },
   {
    "duration": 7,
    "start_time": "2022-01-04T16:39:04.435Z"
   },
   {
    "duration": 6,
    "start_time": "2022-01-04T16:39:04.463Z"
   },
   {
    "duration": 19,
    "start_time": "2022-01-04T16:39:04.472Z"
   },
   {
    "duration": 13,
    "start_time": "2022-01-04T16:39:04.494Z"
   },
   {
    "duration": 18,
    "start_time": "2022-01-04T16:39:04.510Z"
   },
   {
    "duration": 51,
    "start_time": "2022-01-04T16:39:04.531Z"
   },
   {
    "duration": 21,
    "start_time": "2022-01-04T16:39:36.470Z"
   },
   {
    "duration": 926,
    "start_time": "2022-01-04T16:39:49.466Z"
   },
   {
    "duration": 16,
    "start_time": "2022-01-04T16:39:50.395Z"
   },
   {
    "duration": 12,
    "start_time": "2022-01-04T16:39:50.414Z"
   },
   {
    "duration": 63,
    "start_time": "2022-01-04T16:39:50.429Z"
   },
   {
    "duration": 17,
    "start_time": "2022-01-04T16:39:50.495Z"
   },
   {
    "duration": 12,
    "start_time": "2022-01-04T16:39:50.515Z"
   },
   {
    "duration": 48,
    "start_time": "2022-01-04T16:39:50.530Z"
   },
   {
    "duration": 45,
    "start_time": "2022-01-04T16:39:50.582Z"
   },
   {
    "duration": 38,
    "start_time": "2022-01-04T16:39:50.629Z"
   },
   {
    "duration": 13,
    "start_time": "2022-01-04T16:39:50.670Z"
   },
   {
    "duration": 20,
    "start_time": "2022-01-04T16:39:50.685Z"
   },
   {
    "duration": 30,
    "start_time": "2022-01-04T16:39:50.707Z"
   },
   {
    "duration": 27,
    "start_time": "2022-01-04T16:39:50.741Z"
   },
   {
    "duration": 12,
    "start_time": "2022-01-04T16:39:50.770Z"
   },
   {
    "duration": 17,
    "start_time": "2022-01-04T16:39:50.784Z"
   },
   {
    "duration": 903,
    "start_time": "2022-01-04T16:40:10.866Z"
   },
   {
    "duration": 21,
    "start_time": "2022-01-04T16:40:11.773Z"
   },
   {
    "duration": 14,
    "start_time": "2022-01-04T16:40:11.797Z"
   },
   {
    "duration": 71,
    "start_time": "2022-01-04T16:40:11.814Z"
   },
   {
    "duration": 13,
    "start_time": "2022-01-04T16:40:11.888Z"
   },
   {
    "duration": 8,
    "start_time": "2022-01-04T16:40:11.904Z"
   },
   {
    "duration": 17,
    "start_time": "2022-01-04T16:40:11.914Z"
   },
   {
    "duration": 46,
    "start_time": "2022-01-04T16:40:11.966Z"
   },
   {
    "duration": 10,
    "start_time": "2022-01-04T16:40:12.015Z"
   },
   {
    "duration": 37,
    "start_time": "2022-01-04T16:40:12.028Z"
   },
   {
    "duration": 3,
    "start_time": "2022-01-04T16:40:12.068Z"
   },
   {
    "duration": 24,
    "start_time": "2022-01-04T16:40:12.074Z"
   },
   {
    "duration": 12,
    "start_time": "2022-01-04T16:40:12.101Z"
   },
   {
    "duration": 8,
    "start_time": "2022-01-04T16:40:12.116Z"
   },
   {
    "duration": 8,
    "start_time": "2022-01-04T16:40:12.164Z"
   },
   {
    "duration": 6,
    "start_time": "2022-01-04T16:44:14.095Z"
   },
   {
    "duration": 19,
    "start_time": "2022-01-04T16:44:22.069Z"
   },
   {
    "duration": 13,
    "start_time": "2022-01-04T16:44:46.543Z"
   },
   {
    "duration": 28,
    "start_time": "2022-01-04T16:44:54.002Z"
   },
   {
    "duration": 12,
    "start_time": "2022-01-04T16:46:25.129Z"
   },
   {
    "duration": 11,
    "start_time": "2022-01-04T16:46:26.207Z"
   },
   {
    "duration": 12,
    "start_time": "2022-01-04T16:51:19.186Z"
   },
   {
    "duration": 86,
    "start_time": "2022-01-04T16:55:20.900Z"
   },
   {
    "duration": 32,
    "start_time": "2022-01-04T16:55:50.244Z"
   },
   {
    "duration": 33,
    "start_time": "2022-01-04T16:56:50.251Z"
   },
   {
    "duration": 6554,
    "start_time": "2022-01-04T16:59:12.429Z"
   },
   {
    "duration": 7,
    "start_time": "2022-01-04T17:00:18.689Z"
   },
   {
    "duration": 7,
    "start_time": "2022-01-04T17:00:30.329Z"
   },
   {
    "duration": 289,
    "start_time": "2022-01-04T17:00:39.890Z"
   },
   {
    "duration": 9,
    "start_time": "2022-01-04T17:00:51.672Z"
   },
   {
    "duration": 7,
    "start_time": "2022-01-04T17:02:13.852Z"
   },
   {
    "duration": 7,
    "start_time": "2022-01-04T17:02:14.609Z"
   },
   {
    "duration": 6,
    "start_time": "2022-01-04T17:02:15.552Z"
   },
   {
    "duration": 22,
    "start_time": "2022-01-04T17:02:54.726Z"
   },
   {
    "duration": 12,
    "start_time": "2022-01-04T17:12:20.173Z"
   },
   {
    "duration": 7,
    "start_time": "2022-01-04T17:12:26.383Z"
   },
   {
    "duration": 249,
    "start_time": "2022-01-04T17:12:48.869Z"
   },
   {
    "duration": 247,
    "start_time": "2022-01-04T17:12:58.630Z"
   },
   {
    "duration": 258,
    "start_time": "2022-01-04T17:13:24.112Z"
   },
   {
    "duration": 7,
    "start_time": "2022-01-04T17:14:14.686Z"
   },
   {
    "duration": 932,
    "start_time": "2022-01-04T17:27:44.106Z"
   },
   {
    "duration": 24,
    "start_time": "2022-01-04T17:27:45.041Z"
   },
   {
    "duration": 15,
    "start_time": "2022-01-04T17:27:45.069Z"
   },
   {
    "duration": 36,
    "start_time": "2022-01-04T17:27:45.088Z"
   },
   {
    "duration": 49,
    "start_time": "2022-01-04T17:27:45.127Z"
   },
   {
    "duration": 8,
    "start_time": "2022-01-04T17:27:45.179Z"
   },
   {
    "duration": 14,
    "start_time": "2022-01-04T17:27:45.190Z"
   },
   {
    "duration": 84,
    "start_time": "2022-01-04T17:27:45.206Z"
   },
   {
    "duration": 8,
    "start_time": "2022-01-04T17:27:45.294Z"
   },
   {
    "duration": 23,
    "start_time": "2022-01-04T17:27:45.306Z"
   },
   {
    "duration": 57,
    "start_time": "2022-01-04T17:27:45.331Z"
   },
   {
    "duration": 7,
    "start_time": "2022-01-04T17:27:45.390Z"
   },
   {
    "duration": 356,
    "start_time": "2022-01-04T17:27:45.400Z"
   },
   {
    "duration": 10,
    "start_time": "2022-01-04T17:28:15.050Z"
   },
   {
    "duration": 7,
    "start_time": "2022-01-04T17:28:41.485Z"
   },
   {
    "duration": 12,
    "start_time": "2022-01-04T17:28:50.634Z"
   },
   {
    "duration": 6,
    "start_time": "2022-01-04T17:28:51.137Z"
   },
   {
    "duration": 902,
    "start_time": "2022-01-04T17:50:05.227Z"
   },
   {
    "duration": 31,
    "start_time": "2022-01-04T17:50:06.132Z"
   },
   {
    "duration": 16,
    "start_time": "2022-01-04T17:50:06.166Z"
   },
   {
    "duration": 33,
    "start_time": "2022-01-04T17:50:06.186Z"
   },
   {
    "duration": 52,
    "start_time": "2022-01-04T17:50:06.222Z"
   },
   {
    "duration": 8,
    "start_time": "2022-01-04T17:50:06.278Z"
   },
   {
    "duration": 31,
    "start_time": "2022-01-04T17:50:06.289Z"
   },
   {
    "duration": 55,
    "start_time": "2022-01-04T17:50:06.324Z"
   },
   {
    "duration": 8,
    "start_time": "2022-01-04T17:50:06.381Z"
   },
   {
    "duration": 7,
    "start_time": "2022-01-04T17:50:06.391Z"
   },
   {
    "duration": 33,
    "start_time": "2022-01-04T17:50:06.400Z"
   },
   {
    "duration": 33,
    "start_time": "2022-01-04T17:50:06.435Z"
   },
   {
    "duration": 13,
    "start_time": "2022-01-04T17:50:06.471Z"
   },
   {
    "duration": 521,
    "start_time": "2022-01-04T17:50:06.487Z"
   },
   {
    "duration": 265,
    "start_time": "2022-01-04T17:56:55.593Z"
   },
   {
    "duration": 6,
    "start_time": "2022-01-04T17:59:40.194Z"
   },
   {
    "duration": 5,
    "start_time": "2022-01-04T17:59:51.464Z"
   },
   {
    "duration": 15,
    "start_time": "2022-01-04T18:03:17.234Z"
   },
   {
    "duration": 6,
    "start_time": "2022-01-04T18:03:43.719Z"
   },
   {
    "duration": 13,
    "start_time": "2022-01-04T18:03:51.408Z"
   },
   {
    "duration": 6,
    "start_time": "2022-01-04T18:03:51.812Z"
   },
   {
    "duration": 885,
    "start_time": "2022-01-04T18:19:32.850Z"
   },
   {
    "duration": 27,
    "start_time": "2022-01-04T18:19:33.737Z"
   },
   {
    "duration": 14,
    "start_time": "2022-01-04T18:19:33.768Z"
   },
   {
    "duration": 36,
    "start_time": "2022-01-04T18:19:33.785Z"
   },
   {
    "duration": 46,
    "start_time": "2022-01-04T18:19:33.824Z"
   },
   {
    "duration": 9,
    "start_time": "2022-01-04T18:19:33.873Z"
   },
   {
    "duration": 14,
    "start_time": "2022-01-04T18:19:33.884Z"
   },
   {
    "duration": 77,
    "start_time": "2022-01-04T18:19:33.902Z"
   },
   {
    "duration": 8,
    "start_time": "2022-01-04T18:19:33.981Z"
   },
   {
    "duration": 6,
    "start_time": "2022-01-04T18:19:33.992Z"
   },
   {
    "duration": 29,
    "start_time": "2022-01-04T18:19:34.000Z"
   },
   {
    "duration": 33,
    "start_time": "2022-01-04T18:19:34.032Z"
   },
   {
    "duration": 11,
    "start_time": "2022-01-04T18:19:34.068Z"
   },
   {
    "duration": 15,
    "start_time": "2022-01-04T18:19:34.081Z"
   },
   {
    "duration": 6,
    "start_time": "2022-01-04T18:19:34.098Z"
   },
   {
    "duration": 7,
    "start_time": "2022-01-04T18:19:34.108Z"
   },
   {
    "duration": 525,
    "start_time": "2022-01-04T18:29:10.484Z"
   },
   {
    "duration": 121,
    "start_time": "2022-01-04T18:31:03.512Z"
   },
   {
    "duration": 1065,
    "start_time": "2022-01-04T18:31:10.742Z"
   },
   {
    "duration": 16,
    "start_time": "2022-01-04T18:31:11.810Z"
   },
   {
    "duration": 35,
    "start_time": "2022-01-04T18:31:11.829Z"
   },
   {
    "duration": 33,
    "start_time": "2022-01-04T18:31:11.867Z"
   },
   {
    "duration": 13,
    "start_time": "2022-01-04T18:31:11.902Z"
   },
   {
    "duration": 45,
    "start_time": "2022-01-04T18:31:11.918Z"
   },
   {
    "duration": 15,
    "start_time": "2022-01-04T18:31:11.966Z"
   },
   {
    "duration": 42,
    "start_time": "2022-01-04T18:31:11.986Z"
   },
   {
    "duration": 33,
    "start_time": "2022-01-04T18:31:12.031Z"
   },
   {
    "duration": 10,
    "start_time": "2022-01-04T18:31:12.067Z"
   },
   {
    "duration": 36,
    "start_time": "2022-01-04T18:31:12.080Z"
   },
   {
    "duration": 8,
    "start_time": "2022-01-04T18:31:12.119Z"
   },
   {
    "duration": 11,
    "start_time": "2022-01-04T18:31:12.162Z"
   },
   {
    "duration": 597,
    "start_time": "2022-01-04T18:31:12.175Z"
   },
   {
    "duration": -387,
    "start_time": "2022-01-04T18:31:13.163Z"
   },
   {
    "duration": -388,
    "start_time": "2022-01-04T18:31:13.166Z"
   },
   {
    "duration": 358,
    "start_time": "2022-01-04T18:31:53.770Z"
   },
   {
    "duration": 361,
    "start_time": "2022-01-04T18:32:04.737Z"
   },
   {
    "duration": 383,
    "start_time": "2022-01-04T18:32:44.266Z"
   },
   {
    "duration": 428,
    "start_time": "2022-01-04T18:33:14.055Z"
   },
   {
    "duration": 448,
    "start_time": "2022-01-04T18:33:21.704Z"
   },
   {
    "duration": 417,
    "start_time": "2022-01-04T18:33:32.040Z"
   },
   {
    "duration": 422,
    "start_time": "2022-01-04T18:33:52.724Z"
   },
   {
    "duration": 439,
    "start_time": "2022-01-04T18:34:06.173Z"
   },
   {
    "duration": 437,
    "start_time": "2022-01-04T18:34:10.554Z"
   },
   {
    "duration": 427,
    "start_time": "2022-01-04T18:35:22.127Z"
   },
   {
    "duration": 440,
    "start_time": "2022-01-04T18:46:02.396Z"
   },
   {
    "duration": 16,
    "start_time": "2022-01-04T19:10:47.519Z"
   },
   {
    "duration": 42,
    "start_time": "2022-01-04T20:07:24.796Z"
   },
   {
    "duration": 8,
    "start_time": "2022-01-04T20:13:30.071Z"
   },
   {
    "duration": 55,
    "start_time": "2022-01-04T20:22:41.114Z"
   },
   {
    "duration": 98,
    "start_time": "2022-01-04T20:33:02.989Z"
   },
   {
    "duration": 86,
    "start_time": "2022-01-04T20:33:13.122Z"
   },
   {
    "duration": 257,
    "start_time": "2022-01-04T20:33:38.424Z"
   },
   {
    "duration": 242,
    "start_time": "2022-01-04T20:34:02.730Z"
   },
   {
    "duration": 249,
    "start_time": "2022-01-04T20:34:13.245Z"
   },
   {
    "duration": 953,
    "start_time": "2022-01-04T20:38:28.214Z"
   },
   {
    "duration": 17,
    "start_time": "2022-01-04T20:38:29.170Z"
   },
   {
    "duration": 15,
    "start_time": "2022-01-04T20:38:29.190Z"
   },
   {
    "duration": 74,
    "start_time": "2022-01-04T20:38:29.208Z"
   },
   {
    "duration": 13,
    "start_time": "2022-01-04T20:38:29.285Z"
   },
   {
    "duration": 8,
    "start_time": "2022-01-04T20:38:29.300Z"
   },
   {
    "duration": 53,
    "start_time": "2022-01-04T20:38:29.311Z"
   },
   {
    "duration": 41,
    "start_time": "2022-01-04T20:38:29.366Z"
   },
   {
    "duration": 7,
    "start_time": "2022-01-04T20:38:29.410Z"
   },
   {
    "duration": 6,
    "start_time": "2022-01-04T20:38:29.420Z"
   },
   {
    "duration": 66,
    "start_time": "2022-01-04T20:38:29.428Z"
   },
   {
    "duration": 7,
    "start_time": "2022-01-04T20:38:29.496Z"
   },
   {
    "duration": 11,
    "start_time": "2022-01-04T20:38:29.506Z"
   },
   {
    "duration": 467,
    "start_time": "2022-01-04T20:38:29.519Z"
   },
   {
    "duration": 15,
    "start_time": "2022-01-04T20:38:29.988Z"
   },
   {
    "duration": 7,
    "start_time": "2022-01-04T20:38:30.006Z"
   },
   {
    "duration": 360,
    "start_time": "2022-01-04T20:38:30.015Z"
   },
   {
    "duration": 594,
    "start_time": "2022-01-04T20:39:39.614Z"
   },
   {
    "duration": 283,
    "start_time": "2022-01-04T20:39:47.099Z"
   },
   {
    "duration": 524,
    "start_time": "2022-01-04T20:39:52.349Z"
   },
   {
    "duration": 269,
    "start_time": "2022-01-04T20:40:41.570Z"
   },
   {
    "duration": 262,
    "start_time": "2022-01-04T20:41:33.348Z"
   },
   {
    "duration": 396,
    "start_time": "2022-01-04T20:43:55.694Z"
   },
   {
    "duration": 10,
    "start_time": "2022-01-04T20:44:20.559Z"
   },
   {
    "duration": 8,
    "start_time": "2022-01-04T20:44:54.982Z"
   },
   {
    "duration": 15,
    "start_time": "2022-01-04T20:45:11.032Z"
   },
   {
    "duration": 17,
    "start_time": "2022-01-04T20:46:33.670Z"
   },
   {
    "duration": 20,
    "start_time": "2022-01-04T20:46:52.529Z"
   },
   {
    "duration": 18,
    "start_time": "2022-01-04T20:47:16.260Z"
   },
   {
    "duration": 18,
    "start_time": "2022-01-04T20:47:34.037Z"
   },
   {
    "duration": 19,
    "start_time": "2022-01-04T20:47:40.348Z"
   },
   {
    "duration": 563,
    "start_time": "2022-01-04T20:47:45.776Z"
   },
   {
    "duration": 367,
    "start_time": "2022-01-04T20:48:17.074Z"
   },
   {
    "duration": 762,
    "start_time": "2022-01-04T20:48:28.170Z"
   },
   {
    "duration": 18,
    "start_time": "2022-01-04T20:51:08.658Z"
   },
   {
    "duration": 241,
    "start_time": "2022-01-04T20:52:23.428Z"
   },
   {
    "duration": 274,
    "start_time": "2022-01-04T20:52:28.091Z"
   },
   {
    "duration": 7,
    "start_time": "2022-01-04T20:52:59.987Z"
   },
   {
    "duration": 1123,
    "start_time": "2022-01-04T20:53:20.822Z"
   },
   {
    "duration": 31,
    "start_time": "2022-01-04T20:53:21.948Z"
   },
   {
    "duration": 13,
    "start_time": "2022-01-04T20:53:21.982Z"
   },
   {
    "duration": 65,
    "start_time": "2022-01-04T20:53:21.998Z"
   },
   {
    "duration": 14,
    "start_time": "2022-01-04T20:53:22.065Z"
   },
   {
    "duration": 8,
    "start_time": "2022-01-04T20:53:22.082Z"
   },
   {
    "duration": 14,
    "start_time": "2022-01-04T20:53:22.093Z"
   },
   {
    "duration": 93,
    "start_time": "2022-01-04T20:53:22.112Z"
   },
   {
    "duration": 8,
    "start_time": "2022-01-04T20:53:22.209Z"
   },
   {
    "duration": 6,
    "start_time": "2022-01-04T20:53:22.220Z"
   },
   {
    "duration": 59,
    "start_time": "2022-01-04T20:53:22.229Z"
   },
   {
    "duration": 9,
    "start_time": "2022-01-04T20:53:22.291Z"
   },
   {
    "duration": 15,
    "start_time": "2022-01-04T20:53:22.303Z"
   },
   {
    "duration": 595,
    "start_time": "2022-01-04T20:53:22.321Z"
   },
   {
    "duration": 15,
    "start_time": "2022-01-04T20:53:22.918Z"
   },
   {
    "duration": 28,
    "start_time": "2022-01-04T20:53:22.936Z"
   },
   {
    "duration": 12,
    "start_time": "2022-01-04T20:53:22.967Z"
   },
   {
    "duration": 18,
    "start_time": "2022-01-04T20:53:22.982Z"
   },
   {
    "duration": 360,
    "start_time": "2022-01-04T20:54:54.839Z"
   },
   {
    "duration": 292,
    "start_time": "2022-01-04T20:55:43.104Z"
   },
   {
    "duration": 23,
    "start_time": "2022-01-04T20:57:09.284Z"
   },
   {
    "duration": 1064,
    "start_time": "2022-01-04T20:57:47.635Z"
   },
   {
    "duration": 15,
    "start_time": "2022-01-04T20:57:48.702Z"
   },
   {
    "duration": 15,
    "start_time": "2022-01-04T20:57:48.720Z"
   },
   {
    "duration": 56,
    "start_time": "2022-01-04T20:57:48.737Z"
   },
   {
    "duration": 13,
    "start_time": "2022-01-04T20:57:48.795Z"
   },
   {
    "duration": 9,
    "start_time": "2022-01-04T20:57:48.811Z"
   },
   {
    "duration": 49,
    "start_time": "2022-01-04T20:57:48.823Z"
   },
   {
    "duration": 41,
    "start_time": "2022-01-04T20:57:48.874Z"
   },
   {
    "duration": 7,
    "start_time": "2022-01-04T20:57:48.920Z"
   },
   {
    "duration": 33,
    "start_time": "2022-01-04T20:57:48.929Z"
   },
   {
    "duration": 49,
    "start_time": "2022-01-04T20:57:48.965Z"
   },
   {
    "duration": 6,
    "start_time": "2022-01-04T20:57:49.016Z"
   },
   {
    "duration": 12,
    "start_time": "2022-01-04T20:57:49.025Z"
   },
   {
    "duration": 457,
    "start_time": "2022-01-04T20:57:49.040Z"
   },
   {
    "duration": 15,
    "start_time": "2022-01-04T20:57:49.500Z"
   },
   {
    "duration": 7,
    "start_time": "2022-01-04T20:57:49.518Z"
   },
   {
    "duration": 540,
    "start_time": "2022-01-04T20:57:49.528Z"
   },
   {
    "duration": -36,
    "start_time": "2022-01-04T20:57:50.107Z"
   },
   {
    "duration": 17,
    "start_time": "2022-01-04T20:58:09.211Z"
   },
   {
    "duration": 244,
    "start_time": "2022-01-04T20:58:56.600Z"
   },
   {
    "duration": 356,
    "start_time": "2022-01-04T21:00:10.280Z"
   },
   {
    "duration": 14,
    "start_time": "2022-01-04T21:04:03.458Z"
   },
   {
    "duration": 12,
    "start_time": "2022-01-04T21:04:58.710Z"
   },
   {
    "duration": 11,
    "start_time": "2022-01-04T21:05:12.912Z"
   },
   {
    "duration": 970,
    "start_time": "2022-01-04T21:07:27.364Z"
   },
   {
    "duration": 26,
    "start_time": "2022-01-04T21:07:28.337Z"
   },
   {
    "duration": 13,
    "start_time": "2022-01-04T21:07:28.366Z"
   },
   {
    "duration": 32,
    "start_time": "2022-01-04T21:07:28.382Z"
   },
   {
    "duration": 52,
    "start_time": "2022-01-04T21:07:28.417Z"
   },
   {
    "duration": 10,
    "start_time": "2022-01-04T21:07:28.472Z"
   },
   {
    "duration": 14,
    "start_time": "2022-01-04T21:07:28.484Z"
   },
   {
    "duration": 1244,
    "start_time": "2022-01-04T21:07:28.501Z"
   },
   {
    "duration": -231,
    "start_time": "2022-01-04T21:07:29.979Z"
   },
   {
    "duration": -232,
    "start_time": "2022-01-04T21:07:29.982Z"
   },
   {
    "duration": -235,
    "start_time": "2022-01-04T21:07:29.986Z"
   },
   {
    "duration": -236,
    "start_time": "2022-01-04T21:07:29.988Z"
   },
   {
    "duration": -239,
    "start_time": "2022-01-04T21:07:29.992Z"
   },
   {
    "duration": -231,
    "start_time": "2022-01-04T21:07:29.994Z"
   },
   {
    "duration": -233,
    "start_time": "2022-01-04T21:07:29.997Z"
   },
   {
    "duration": -258,
    "start_time": "2022-01-04T21:07:30.023Z"
   },
   {
    "duration": -259,
    "start_time": "2022-01-04T21:07:30.026Z"
   },
   {
    "duration": -260,
    "start_time": "2022-01-04T21:07:30.028Z"
   },
   {
    "duration": 42,
    "start_time": "2022-01-04T21:08:19.131Z"
   },
   {
    "duration": 994,
    "start_time": "2022-01-04T21:08:24.462Z"
   },
   {
    "duration": 17,
    "start_time": "2022-01-04T21:08:25.459Z"
   },
   {
    "duration": 15,
    "start_time": "2022-01-04T21:08:25.479Z"
   },
   {
    "duration": 68,
    "start_time": "2022-01-04T21:08:25.498Z"
   },
   {
    "duration": 13,
    "start_time": "2022-01-04T21:08:25.568Z"
   },
   {
    "duration": 9,
    "start_time": "2022-01-04T21:08:25.584Z"
   },
   {
    "duration": 14,
    "start_time": "2022-01-04T21:08:25.595Z"
   },
   {
    "duration": 79,
    "start_time": "2022-01-04T21:08:25.613Z"
   },
   {
    "duration": 7,
    "start_time": "2022-01-04T21:08:25.695Z"
   },
   {
    "duration": 8,
    "start_time": "2022-01-04T21:08:25.705Z"
   },
   {
    "duration": 51,
    "start_time": "2022-01-04T21:08:25.715Z"
   },
   {
    "duration": 6,
    "start_time": "2022-01-04T21:08:25.769Z"
   },
   {
    "duration": 15,
    "start_time": "2022-01-04T21:08:25.778Z"
   },
   {
    "duration": 667,
    "start_time": "2022-01-04T21:08:25.796Z"
   },
   {
    "duration": 14,
    "start_time": "2022-01-04T21:08:26.465Z"
   },
   {
    "duration": 6,
    "start_time": "2022-01-04T21:08:26.482Z"
   },
   {
    "duration": 72,
    "start_time": "2022-01-04T21:08:26.491Z"
   },
   {
    "duration": 16,
    "start_time": "2022-01-04T21:08:26.566Z"
   },
   {
    "duration": 9,
    "start_time": "2022-01-04T21:11:41.557Z"
   },
   {
    "duration": 340,
    "start_time": "2022-01-04T21:16:56.784Z"
   },
   {
    "duration": 301,
    "start_time": "2022-01-04T21:17:10.364Z"
   },
   {
    "duration": 77,
    "start_time": "2022-01-04T21:18:47.876Z"
   },
   {
    "duration": 244,
    "start_time": "2022-01-04T21:18:55.418Z"
   },
   {
    "duration": 200,
    "start_time": "2022-01-04T21:19:03.278Z"
   },
   {
    "duration": 9,
    "start_time": "2022-01-04T21:19:11.509Z"
   },
   {
    "duration": 954,
    "start_time": "2022-01-04T21:20:39.696Z"
   },
   {
    "duration": 16,
    "start_time": "2022-01-04T21:20:40.653Z"
   },
   {
    "duration": 14,
    "start_time": "2022-01-04T21:20:40.672Z"
   },
   {
    "duration": 31,
    "start_time": "2022-01-04T21:20:40.688Z"
   },
   {
    "duration": 50,
    "start_time": "2022-01-04T21:20:40.722Z"
   },
   {
    "duration": 8,
    "start_time": "2022-01-04T21:20:40.775Z"
   },
   {
    "duration": 14,
    "start_time": "2022-01-04T21:20:40.785Z"
   },
   {
    "duration": 73,
    "start_time": "2022-01-04T21:20:40.803Z"
   },
   {
    "duration": 7,
    "start_time": "2022-01-04T21:20:40.879Z"
   },
   {
    "duration": 6,
    "start_time": "2022-01-04T21:20:40.888Z"
   },
   {
    "duration": 34,
    "start_time": "2022-01-04T21:20:40.896Z"
   },
   {
    "duration": 6,
    "start_time": "2022-01-04T21:20:40.932Z"
   },
   {
    "duration": 11,
    "start_time": "2022-01-04T21:20:40.963Z"
   },
   {
    "duration": 444,
    "start_time": "2022-01-04T21:20:40.977Z"
   },
   {
    "duration": 15,
    "start_time": "2022-01-04T21:20:41.424Z"
   },
   {
    "duration": 24,
    "start_time": "2022-01-04T21:20:41.441Z"
   },
   {
    "duration": 13,
    "start_time": "2022-01-04T21:20:41.467Z"
   },
   {
    "duration": 10,
    "start_time": "2022-01-04T21:20:41.482Z"
   },
   {
    "duration": 231,
    "start_time": "2022-01-04T21:20:41.494Z"
   },
   {
    "duration": 9,
    "start_time": "2022-01-04T21:20:41.727Z"
   },
   {
    "duration": 205,
    "start_time": "2022-01-04T21:23:41.115Z"
   },
   {
    "duration": 12,
    "start_time": "2022-01-04T21:27:10.419Z"
   },
   {
    "duration": 8,
    "start_time": "2022-01-04T21:27:49.700Z"
   },
   {
    "duration": 10,
    "start_time": "2022-01-04T21:28:24.401Z"
   },
   {
    "duration": 9,
    "start_time": "2022-01-04T21:30:25.898Z"
   },
   {
    "duration": 984,
    "start_time": "2022-01-04T21:52:45.767Z"
   },
   {
    "duration": 19,
    "start_time": "2022-01-04T21:52:46.755Z"
   },
   {
    "duration": 14,
    "start_time": "2022-01-04T21:52:46.778Z"
   },
   {
    "duration": 68,
    "start_time": "2022-01-04T21:52:46.795Z"
   },
   {
    "duration": 14,
    "start_time": "2022-01-04T21:52:46.865Z"
   },
   {
    "duration": 9,
    "start_time": "2022-01-04T21:52:46.881Z"
   },
   {
    "duration": 14,
    "start_time": "2022-01-04T21:52:46.893Z"
   },
   {
    "duration": 81,
    "start_time": "2022-01-04T21:52:46.910Z"
   },
   {
    "duration": 8,
    "start_time": "2022-01-04T21:52:46.994Z"
   },
   {
    "duration": 7,
    "start_time": "2022-01-04T21:52:47.004Z"
   },
   {
    "duration": 50,
    "start_time": "2022-01-04T21:52:47.013Z"
   },
   {
    "duration": 6,
    "start_time": "2022-01-04T21:52:47.065Z"
   },
   {
    "duration": 11,
    "start_time": "2022-01-04T21:52:47.074Z"
   },
   {
    "duration": 467,
    "start_time": "2022-01-04T21:52:47.088Z"
   },
   {
    "duration": 16,
    "start_time": "2022-01-04T21:52:47.558Z"
   },
   {
    "duration": 7,
    "start_time": "2022-01-04T21:52:47.576Z"
   },
   {
    "duration": 13,
    "start_time": "2022-01-04T21:52:47.586Z"
   },
   {
    "duration": 9,
    "start_time": "2022-01-04T21:52:47.601Z"
   },
   {
    "duration": 245,
    "start_time": "2022-01-04T21:52:47.613Z"
   },
   {
    "duration": 7,
    "start_time": "2022-01-04T21:52:47.863Z"
   },
   {
    "duration": 11,
    "start_time": "2022-01-04T21:52:47.872Z"
   },
   {
    "duration": 1207,
    "start_time": "2022-01-04T21:53:38.100Z"
   },
   {
    "duration": 26,
    "start_time": "2022-01-04T21:53:39.310Z"
   },
   {
    "duration": 35,
    "start_time": "2022-01-04T21:53:39.340Z"
   },
   {
    "duration": 47,
    "start_time": "2022-01-04T21:53:39.379Z"
   },
   {
    "duration": 44,
    "start_time": "2022-01-04T21:53:39.429Z"
   },
   {
    "duration": 8,
    "start_time": "2022-01-04T21:53:39.476Z"
   },
   {
    "duration": 14,
    "start_time": "2022-01-04T21:53:39.486Z"
   },
   {
    "duration": 74,
    "start_time": "2022-01-04T21:53:39.505Z"
   },
   {
    "duration": 7,
    "start_time": "2022-01-04T21:53:39.582Z"
   },
   {
    "duration": 6,
    "start_time": "2022-01-04T21:53:39.591Z"
   },
   {
    "duration": 35,
    "start_time": "2022-01-04T21:53:39.600Z"
   },
   {
    "duration": 27,
    "start_time": "2022-01-04T21:53:39.637Z"
   },
   {
    "duration": 11,
    "start_time": "2022-01-04T21:53:39.667Z"
   },
   {
    "duration": 458,
    "start_time": "2022-01-04T21:53:39.680Z"
   },
   {
    "duration": 27,
    "start_time": "2022-01-04T21:53:40.141Z"
   },
   {
    "duration": 8,
    "start_time": "2022-01-04T21:53:40.170Z"
   },
   {
    "duration": 13,
    "start_time": "2022-01-04T21:53:40.180Z"
   },
   {
    "duration": 10,
    "start_time": "2022-01-04T21:53:40.195Z"
   },
   {
    "duration": 265,
    "start_time": "2022-01-04T21:53:40.208Z"
   },
   {
    "duration": 9,
    "start_time": "2022-01-04T21:53:40.475Z"
   },
   {
    "duration": 12,
    "start_time": "2022-01-04T21:53:40.486Z"
   },
   {
    "duration": 999,
    "start_time": "2022-01-04T21:57:09.917Z"
   },
   {
    "duration": 16,
    "start_time": "2022-01-04T21:57:10.919Z"
   },
   {
    "duration": 31,
    "start_time": "2022-01-04T21:57:10.941Z"
   },
   {
    "duration": 33,
    "start_time": "2022-01-04T21:57:10.975Z"
   },
   {
    "duration": 14,
    "start_time": "2022-01-04T21:57:11.010Z"
   },
   {
    "duration": 46,
    "start_time": "2022-01-04T21:57:11.026Z"
   },
   {
    "duration": 15,
    "start_time": "2022-01-04T21:57:11.076Z"
   },
   {
    "duration": 71,
    "start_time": "2022-01-04T21:57:11.094Z"
   },
   {
    "duration": 9,
    "start_time": "2022-01-04T21:57:11.167Z"
   },
   {
    "duration": 8,
    "start_time": "2022-01-04T21:57:11.178Z"
   },
   {
    "duration": 35,
    "start_time": "2022-01-04T21:57:11.188Z"
   },
   {
    "duration": 7,
    "start_time": "2022-01-04T21:57:11.226Z"
   },
   {
    "duration": 12,
    "start_time": "2022-01-04T21:57:11.263Z"
   },
   {
    "duration": 458,
    "start_time": "2022-01-04T21:57:11.277Z"
   },
   {
    "duration": 27,
    "start_time": "2022-01-04T21:57:11.737Z"
   },
   {
    "duration": 9,
    "start_time": "2022-01-04T21:57:11.767Z"
   },
   {
    "duration": 15,
    "start_time": "2022-01-04T21:57:11.779Z"
   },
   {
    "duration": 11,
    "start_time": "2022-01-04T21:57:11.797Z"
   },
   {
    "duration": 308,
    "start_time": "2022-01-04T21:57:11.812Z"
   },
   {
    "duration": 7,
    "start_time": "2022-01-04T21:57:12.122Z"
   },
   {
    "duration": 32,
    "start_time": "2022-01-04T21:57:12.132Z"
   },
   {
    "duration": 271,
    "start_time": "2022-01-04T21:58:29.494Z"
   },
   {
    "duration": 8,
    "start_time": "2022-01-04T21:58:30.469Z"
   },
   {
    "duration": 9,
    "start_time": "2022-01-04T21:58:32.078Z"
   },
   {
    "duration": 981,
    "start_time": "2022-01-04T21:58:47.248Z"
   },
   {
    "duration": 31,
    "start_time": "2022-01-04T21:58:48.232Z"
   },
   {
    "duration": 15,
    "start_time": "2022-01-04T21:58:48.267Z"
   },
   {
    "duration": 32,
    "start_time": "2022-01-04T21:58:48.285Z"
   },
   {
    "duration": 47,
    "start_time": "2022-01-04T21:58:48.319Z"
   },
   {
    "duration": 8,
    "start_time": "2022-01-04T21:58:48.368Z"
   },
   {
    "duration": 12,
    "start_time": "2022-01-04T21:58:48.379Z"
   },
   {
    "duration": 73,
    "start_time": "2022-01-04T21:58:48.395Z"
   },
   {
    "duration": 7,
    "start_time": "2022-01-04T21:58:48.471Z"
   },
   {
    "duration": 6,
    "start_time": "2022-01-04T21:58:48.481Z"
   },
   {
    "duration": 34,
    "start_time": "2022-01-04T21:58:48.490Z"
   },
   {
    "duration": 38,
    "start_time": "2022-01-04T21:58:48.527Z"
   },
   {
    "duration": 12,
    "start_time": "2022-01-04T21:58:48.567Z"
   },
   {
    "duration": 442,
    "start_time": "2022-01-04T21:58:48.581Z"
   },
   {
    "duration": 14,
    "start_time": "2022-01-04T21:58:49.026Z"
   },
   {
    "duration": 24,
    "start_time": "2022-01-04T21:58:49.042Z"
   },
   {
    "duration": 13,
    "start_time": "2022-01-04T21:58:49.068Z"
   },
   {
    "duration": 10,
    "start_time": "2022-01-04T21:58:49.083Z"
   },
   {
    "duration": 310,
    "start_time": "2022-01-04T21:58:49.095Z"
   },
   {
    "duration": 7,
    "start_time": "2022-01-04T21:58:49.408Z"
   },
   {
    "duration": 9,
    "start_time": "2022-01-04T21:58:49.418Z"
   },
   {
    "duration": 1029,
    "start_time": "2022-01-04T22:00:30.266Z"
   },
   {
    "duration": 16,
    "start_time": "2022-01-04T22:00:31.297Z"
   },
   {
    "duration": 15,
    "start_time": "2022-01-04T22:00:31.316Z"
   },
   {
    "duration": 58,
    "start_time": "2022-01-04T22:00:31.334Z"
   },
   {
    "duration": 15,
    "start_time": "2022-01-04T22:00:31.394Z"
   },
   {
    "duration": 16,
    "start_time": "2022-01-04T22:00:31.411Z"
   },
   {
    "duration": 41,
    "start_time": "2022-01-04T22:00:31.430Z"
   },
   {
    "duration": 42,
    "start_time": "2022-01-04T22:00:31.475Z"
   },
   {
    "duration": 9,
    "start_time": "2022-01-04T22:00:31.520Z"
   },
   {
    "duration": 32,
    "start_time": "2022-01-04T22:00:31.531Z"
   },
   {
    "duration": 35,
    "start_time": "2022-01-04T22:00:31.566Z"
   },
   {
    "duration": 6,
    "start_time": "2022-01-04T22:00:31.603Z"
   },
   {
    "duration": 11,
    "start_time": "2022-01-04T22:00:31.612Z"
   },
   {
    "duration": 473,
    "start_time": "2022-01-04T22:00:31.626Z"
   },
   {
    "duration": 14,
    "start_time": "2022-01-04T22:00:32.102Z"
   },
   {
    "duration": 7,
    "start_time": "2022-01-04T22:00:32.118Z"
   },
   {
    "duration": 41,
    "start_time": "2022-01-04T22:00:32.128Z"
   },
   {
    "duration": 10,
    "start_time": "2022-01-04T22:00:32.172Z"
   },
   {
    "duration": 309,
    "start_time": "2022-01-04T22:00:32.185Z"
   },
   {
    "duration": 8,
    "start_time": "2022-01-04T22:00:32.496Z"
   },
   {
    "duration": 10,
    "start_time": "2022-01-04T22:00:32.506Z"
   },
   {
    "duration": 7,
    "start_time": "2022-01-04T22:03:39.476Z"
   },
   {
    "duration": 40,
    "start_time": "2022-01-04T22:03:49.082Z"
   },
   {
    "duration": 6,
    "start_time": "2022-01-04T22:04:53.553Z"
   },
   {
    "duration": 38,
    "start_time": "2022-01-04T22:04:54.586Z"
   },
   {
    "duration": 6,
    "start_time": "2022-01-04T22:05:21.588Z"
   },
   {
    "duration": 40,
    "start_time": "2022-01-04T22:05:22.203Z"
   },
   {
    "duration": 6,
    "start_time": "2022-01-04T22:06:02.861Z"
   },
   {
    "duration": 37,
    "start_time": "2022-01-04T22:06:03.528Z"
   },
   {
    "duration": 15,
    "start_time": "2022-01-04T22:10:01.965Z"
   },
   {
    "duration": 17,
    "start_time": "2022-01-04T22:11:50.344Z"
   },
   {
    "duration": 33,
    "start_time": "2022-01-04T22:11:57.121Z"
   },
   {
    "duration": 924,
    "start_time": "2022-01-04T22:14:34.511Z"
   },
   {
    "duration": 26,
    "start_time": "2022-01-04T22:14:35.438Z"
   },
   {
    "duration": 13,
    "start_time": "2022-01-04T22:14:35.468Z"
   },
   {
    "duration": 31,
    "start_time": "2022-01-04T22:14:35.484Z"
   },
   {
    "duration": 46,
    "start_time": "2022-01-04T22:14:35.518Z"
   },
   {
    "duration": 9,
    "start_time": "2022-01-04T22:14:35.567Z"
   },
   {
    "duration": 14,
    "start_time": "2022-01-04T22:14:35.578Z"
   },
   {
    "duration": 67,
    "start_time": "2022-01-04T22:14:35.596Z"
   },
   {
    "duration": 9,
    "start_time": "2022-01-04T22:14:35.666Z"
   },
   {
    "duration": 6,
    "start_time": "2022-01-04T22:14:35.677Z"
   },
   {
    "duration": 38,
    "start_time": "2022-01-04T22:14:35.686Z"
   },
   {
    "duration": 36,
    "start_time": "2022-01-04T22:14:35.727Z"
   },
   {
    "duration": 10,
    "start_time": "2022-01-04T22:14:35.765Z"
   },
   {
    "duration": 452,
    "start_time": "2022-01-04T22:14:35.778Z"
   },
   {
    "duration": 14,
    "start_time": "2022-01-04T22:14:36.233Z"
   },
   {
    "duration": 8,
    "start_time": "2022-01-04T22:14:36.262Z"
   },
   {
    "duration": 12,
    "start_time": "2022-01-04T22:14:36.274Z"
   },
   {
    "duration": 9,
    "start_time": "2022-01-04T22:14:36.289Z"
   },
   {
    "duration": 350,
    "start_time": "2022-01-04T22:14:36.300Z"
   },
   {
    "duration": 12,
    "start_time": "2022-01-04T22:14:36.653Z"
   },
   {
    "duration": 12,
    "start_time": "2022-01-04T22:14:36.668Z"
   },
   {
    "duration": 6,
    "start_time": "2022-01-04T22:14:36.682Z"
   },
   {
    "duration": 18,
    "start_time": "2022-01-04T22:14:36.692Z"
   },
   {
    "duration": 80,
    "start_time": "2022-01-04T22:14:36.712Z"
   },
   {
    "duration": 1021,
    "start_time": "2022-01-04T22:21:01.103Z"
   },
   {
    "duration": 36,
    "start_time": "2022-01-04T22:21:04.287Z"
   },
   {
    "duration": 244,
    "start_time": "2022-01-05T06:41:01.969Z"
   },
   {
    "duration": 758,
    "start_time": "2022-01-05T06:41:41.244Z"
   },
   {
    "duration": 10,
    "start_time": "2022-01-05T06:41:42.004Z"
   },
   {
    "duration": 11,
    "start_time": "2022-01-05T06:41:42.016Z"
   },
   {
    "duration": 33,
    "start_time": "2022-01-05T06:41:42.028Z"
   },
   {
    "duration": 10,
    "start_time": "2022-01-05T06:41:42.063Z"
   },
   {
    "duration": 6,
    "start_time": "2022-01-05T06:41:42.075Z"
   },
   {
    "duration": 10,
    "start_time": "2022-01-05T06:41:42.082Z"
   },
   {
    "duration": 24,
    "start_time": "2022-01-05T06:41:42.094Z"
   },
   {
    "duration": 5,
    "start_time": "2022-01-05T06:41:42.120Z"
   },
   {
    "duration": 35,
    "start_time": "2022-01-05T06:41:42.127Z"
   },
   {
    "duration": 19,
    "start_time": "2022-01-05T06:41:42.163Z"
   },
   {
    "duration": 4,
    "start_time": "2022-01-05T06:41:42.184Z"
   },
   {
    "duration": 14,
    "start_time": "2022-01-05T06:41:42.189Z"
   },
   {
    "duration": 288,
    "start_time": "2022-01-05T06:41:42.204Z"
   },
   {
    "duration": 10,
    "start_time": "2022-01-05T06:41:42.493Z"
   },
   {
    "duration": 5,
    "start_time": "2022-01-05T06:41:42.505Z"
   },
   {
    "duration": 11,
    "start_time": "2022-01-05T06:41:42.511Z"
   },
   {
    "duration": 5,
    "start_time": "2022-01-05T06:41:42.524Z"
   },
   {
    "duration": 195,
    "start_time": "2022-01-05T06:41:42.531Z"
   },
   {
    "duration": 5,
    "start_time": "2022-01-05T06:41:42.727Z"
   },
   {
    "duration": 8,
    "start_time": "2022-01-05T06:41:42.733Z"
   },
   {
    "duration": 17,
    "start_time": "2022-01-05T06:41:42.743Z"
   },
   {
    "duration": 11,
    "start_time": "2022-01-05T06:41:42.763Z"
   },
   {
    "duration": 591,
    "start_time": "2022-01-05T06:41:42.776Z"
   },
   {
    "duration": 6,
    "start_time": "2022-01-05T06:41:43.368Z"
   },
   {
    "duration": 22,
    "start_time": "2022-01-05T06:41:43.376Z"
   },
   {
    "duration": 272,
    "start_time": "2022-01-05T06:43:16.409Z"
   },
   {
    "duration": 12,
    "start_time": "2022-01-05T06:43:23.807Z"
   },
   {
    "duration": 189,
    "start_time": "2022-01-05T06:56:42.685Z"
   },
   {
    "duration": 1135,
    "start_time": "2022-01-05T06:56:59.715Z"
   },
   {
    "duration": 177,
    "start_time": "2022-01-05T06:57:45.572Z"
   },
   {
    "duration": 381,
    "start_time": "2022-01-05T06:57:56.754Z"
   },
   {
    "duration": 206,
    "start_time": "2022-01-05T06:58:02.210Z"
   },
   {
    "duration": 250,
    "start_time": "2022-01-05T06:58:10.460Z"
   },
   {
    "duration": 214,
    "start_time": "2022-01-05T06:58:15.973Z"
   },
   {
    "duration": 818,
    "start_time": "2022-01-05T07:02:34.514Z"
   },
   {
    "duration": 655,
    "start_time": "2022-01-05T07:02:42.937Z"
   },
   {
    "duration": 480,
    "start_time": "2022-01-05T07:02:57.090Z"
   },
   {
    "duration": 880,
    "start_time": "2022-01-05T07:03:01.935Z"
   },
   {
    "duration": 515,
    "start_time": "2022-01-05T07:04:04.790Z"
   },
   {
    "duration": 355,
    "start_time": "2022-01-05T07:04:21.144Z"
   },
   {
    "duration": 692,
    "start_time": "2022-01-05T07:04:51.441Z"
   },
   {
    "duration": 376,
    "start_time": "2022-01-05T07:04:56.277Z"
   },
   {
    "duration": 533,
    "start_time": "2022-01-05T07:05:04.368Z"
   },
   {
    "duration": 467,
    "start_time": "2022-01-05T07:11:38.635Z"
   },
   {
    "duration": 518,
    "start_time": "2022-01-05T07:11:47.799Z"
   },
   {
    "duration": 598,
    "start_time": "2022-01-05T07:12:11.806Z"
   },
   {
    "duration": 711,
    "start_time": "2022-01-05T07:12:24.694Z"
   },
   {
    "duration": 312,
    "start_time": "2022-01-05T20:31:43.267Z"
   },
   {
    "duration": 957,
    "start_time": "2022-01-05T20:32:07.168Z"
   },
   {
    "duration": 15,
    "start_time": "2022-01-05T20:32:08.128Z"
   },
   {
    "duration": 26,
    "start_time": "2022-01-05T20:32:08.146Z"
   },
   {
    "duration": 31,
    "start_time": "2022-01-05T20:32:08.174Z"
   },
   {
    "duration": 13,
    "start_time": "2022-01-05T20:32:08.207Z"
   },
   {
    "duration": 41,
    "start_time": "2022-01-05T20:32:08.222Z"
   },
   {
    "duration": 13,
    "start_time": "2022-01-05T20:32:08.266Z"
   },
   {
    "duration": 38,
    "start_time": "2022-01-05T20:32:08.283Z"
   },
   {
    "duration": 7,
    "start_time": "2022-01-05T20:32:08.324Z"
   },
   {
    "duration": 32,
    "start_time": "2022-01-05T20:32:08.334Z"
   },
   {
    "duration": 38,
    "start_time": "2022-01-05T20:32:08.368Z"
   },
   {
    "duration": 6,
    "start_time": "2022-01-05T20:32:08.409Z"
   },
   {
    "duration": 11,
    "start_time": "2022-01-05T20:32:08.417Z"
   },
   {
    "duration": 562,
    "start_time": "2022-01-05T20:32:08.464Z"
   },
   {
    "duration": 13,
    "start_time": "2022-01-05T20:32:09.029Z"
   },
   {
    "duration": 23,
    "start_time": "2022-01-05T20:32:09.045Z"
   },
   {
    "duration": 14,
    "start_time": "2022-01-05T20:32:09.071Z"
   },
   {
    "duration": 9,
    "start_time": "2022-01-05T20:32:09.088Z"
   },
   {
    "duration": 319,
    "start_time": "2022-01-05T20:32:09.100Z"
   },
   {
    "duration": 7,
    "start_time": "2022-01-05T20:32:09.421Z"
   },
   {
    "duration": 31,
    "start_time": "2022-01-05T20:32:09.431Z"
   },
   {
    "duration": 6,
    "start_time": "2022-01-05T20:32:09.464Z"
   },
   {
    "duration": 17,
    "start_time": "2022-01-05T20:32:09.474Z"
   },
   {
    "duration": 1009,
    "start_time": "2022-01-05T20:32:09.493Z"
   },
   {
    "duration": 7,
    "start_time": "2022-01-05T20:32:10.504Z"
   },
   {
    "duration": 51,
    "start_time": "2022-01-05T20:32:10.514Z"
   },
   {
    "duration": 1403,
    "start_time": "2022-01-05T20:32:10.567Z"
   },
   {
    "duration": 1674,
    "start_time": "2022-01-05T20:32:33.819Z"
   },
   {
    "duration": 2166,
    "start_time": "2022-01-05T20:32:55.341Z"
   },
   {
    "duration": 2076,
    "start_time": "2022-01-05T20:33:05.502Z"
   },
   {
    "duration": 2105,
    "start_time": "2022-01-05T20:33:17.933Z"
   },
   {
    "duration": 2086,
    "start_time": "2022-01-05T20:33:27.260Z"
   },
   {
    "duration": 1650,
    "start_time": "2022-01-05T20:33:37.705Z"
   },
   {
    "duration": 1995,
    "start_time": "2022-01-05T20:33:46.980Z"
   },
   {
    "duration": 674,
    "start_time": "2022-01-05T20:35:37.227Z"
   },
   {
    "duration": 1940,
    "start_time": "2022-01-05T20:36:09.849Z"
   },
   {
    "duration": 749,
    "start_time": "2022-01-06T06:46:31.110Z"
   },
   {
    "duration": 9,
    "start_time": "2022-01-06T06:46:31.861Z"
   },
   {
    "duration": 8,
    "start_time": "2022-01-06T06:46:31.872Z"
   },
   {
    "duration": 18,
    "start_time": "2022-01-06T06:46:31.881Z"
   },
   {
    "duration": 8,
    "start_time": "2022-01-06T06:46:31.900Z"
   },
   {
    "duration": 22,
    "start_time": "2022-01-06T06:46:31.909Z"
   },
   {
    "duration": 16,
    "start_time": "2022-01-06T06:46:31.932Z"
   },
   {
    "duration": 23,
    "start_time": "2022-01-06T06:46:31.950Z"
   },
   {
    "duration": 4,
    "start_time": "2022-01-06T06:46:31.975Z"
   },
   {
    "duration": 5,
    "start_time": "2022-01-06T06:46:31.981Z"
   },
   {
    "duration": 19,
    "start_time": "2022-01-06T06:46:31.987Z"
   },
   {
    "duration": 4,
    "start_time": "2022-01-06T06:46:32.007Z"
   },
   {
    "duration": 19,
    "start_time": "2022-01-06T06:46:32.012Z"
   },
   {
    "duration": 239,
    "start_time": "2022-01-06T06:46:32.033Z"
   },
   {
    "duration": 9,
    "start_time": "2022-01-06T06:46:32.273Z"
   },
   {
    "duration": 4,
    "start_time": "2022-01-06T06:46:32.283Z"
   },
   {
    "duration": 9,
    "start_time": "2022-01-06T06:46:32.289Z"
   },
   {
    "duration": 5,
    "start_time": "2022-01-06T06:46:32.299Z"
   },
   {
    "duration": 166,
    "start_time": "2022-01-06T06:46:32.327Z"
   },
   {
    "duration": 4,
    "start_time": "2022-01-06T06:46:32.494Z"
   },
   {
    "duration": 9,
    "start_time": "2022-01-06T06:46:32.500Z"
   },
   {
    "duration": 3,
    "start_time": "2022-01-06T06:46:32.511Z"
   },
   {
    "duration": 20,
    "start_time": "2022-01-06T06:46:32.517Z"
   },
   {
    "duration": 654,
    "start_time": "2022-01-06T06:46:32.541Z"
   },
   {
    "duration": 5,
    "start_time": "2022-01-06T06:46:33.197Z"
   },
   {
    "duration": 32,
    "start_time": "2022-01-06T06:46:33.203Z"
   },
   {
    "duration": 973,
    "start_time": "2022-01-06T06:46:33.236Z"
   },
   {
    "duration": 8,
    "start_time": "2022-01-06T06:46:34.211Z"
   },
   {
    "duration": 1011,
    "start_time": "2022-01-06T06:50:43.967Z"
   },
   {
    "duration": 1151,
    "start_time": "2022-01-06T06:50:55.351Z"
   },
   {
    "duration": 976,
    "start_time": "2022-01-06T06:51:11.300Z"
   },
   {
    "duration": 7,
    "start_time": "2022-01-06T06:53:40.854Z"
   },
   {
    "duration": 932,
    "start_time": "2022-01-06T10:29:27.595Z"
   },
   {
    "duration": 16,
    "start_time": "2022-01-06T10:29:28.530Z"
   },
   {
    "duration": 22,
    "start_time": "2022-01-06T10:29:28.550Z"
   },
   {
    "duration": 33,
    "start_time": "2022-01-06T10:29:28.575Z"
   },
   {
    "duration": 55,
    "start_time": "2022-01-06T10:29:28.611Z"
   },
   {
    "duration": 10,
    "start_time": "2022-01-06T10:29:28.669Z"
   },
   {
    "duration": 13,
    "start_time": "2022-01-06T10:29:28.682Z"
   },
   {
    "duration": 71,
    "start_time": "2022-01-06T10:29:28.699Z"
   },
   {
    "duration": 8,
    "start_time": "2022-01-06T10:29:28.773Z"
   },
   {
    "duration": 5,
    "start_time": "2022-01-06T10:29:28.783Z"
   },
   {
    "duration": 34,
    "start_time": "2022-01-06T10:29:28.791Z"
   },
   {
    "duration": 6,
    "start_time": "2022-01-06T10:29:28.827Z"
   },
   {
    "duration": 36,
    "start_time": "2022-01-06T10:29:28.835Z"
   },
   {
    "duration": 457,
    "start_time": "2022-01-06T10:29:28.873Z"
   },
   {
    "duration": 15,
    "start_time": "2022-01-06T10:29:29.332Z"
   },
   {
    "duration": 7,
    "start_time": "2022-01-06T10:29:29.364Z"
   },
   {
    "duration": 13,
    "start_time": "2022-01-06T10:29:29.374Z"
   },
   {
    "duration": 10,
    "start_time": "2022-01-06T10:29:29.389Z"
   },
   {
    "duration": 340,
    "start_time": "2022-01-06T10:29:29.401Z"
   },
   {
    "duration": 8,
    "start_time": "2022-01-06T10:29:29.743Z"
   },
   {
    "duration": 9,
    "start_time": "2022-01-06T10:29:29.763Z"
   },
   {
    "duration": 6,
    "start_time": "2022-01-06T10:29:29.775Z"
   },
   {
    "duration": 17,
    "start_time": "2022-01-06T10:29:29.786Z"
   },
   {
    "duration": 1194,
    "start_time": "2022-01-06T10:29:29.806Z"
   },
   {
    "duration": 7,
    "start_time": "2022-01-06T10:29:31.003Z"
   },
   {
    "duration": 55,
    "start_time": "2022-01-06T10:29:31.013Z"
   },
   {
    "duration": 2039,
    "start_time": "2022-01-06T10:29:31.071Z"
   },
   {
    "duration": 11,
    "start_time": "2022-01-06T10:29:33.113Z"
   },
   {
    "duration": 453,
    "start_time": "2022-01-06T10:57:51.524Z"
   },
   {
    "duration": 358,
    "start_time": "2022-01-06T10:57:56.729Z"
   },
   {
    "duration": 610,
    "start_time": "2022-01-06T10:58:04.326Z"
   },
   {
    "duration": 412,
    "start_time": "2022-01-06T10:58:34.149Z"
   },
   {
    "duration": 12,
    "start_time": "2022-01-06T10:58:57.163Z"
   },
   {
    "duration": 625,
    "start_time": "2022-01-06T11:00:48.852Z"
   },
   {
    "duration": 365,
    "start_time": "2022-01-06T11:01:05.395Z"
   },
   {
    "duration": 454,
    "start_time": "2022-01-06T11:01:10.909Z"
   },
   {
    "duration": 13,
    "start_time": "2022-01-06T11:01:21.393Z"
   },
   {
    "duration": 456,
    "start_time": "2022-01-06T11:12:43.038Z"
   },
   {
    "duration": 7,
    "start_time": "2022-01-06T11:12:47.867Z"
   },
   {
    "duration": 7,
    "start_time": "2022-01-06T11:12:52.914Z"
   },
   {
    "duration": 460,
    "start_time": "2022-01-06T11:13:03.367Z"
   },
   {
    "duration": 476,
    "start_time": "2022-01-06T11:13:20.264Z"
   },
   {
    "duration": 245,
    "start_time": "2022-01-06T11:17:34.895Z"
   },
   {
    "duration": 1673,
    "start_time": "2022-01-06T11:17:41.150Z"
   },
   {
    "duration": 471,
    "start_time": "2022-01-06T11:21:19.658Z"
   },
   {
    "duration": 351,
    "start_time": "2022-01-06T11:54:11.222Z"
   },
   {
    "duration": 43,
    "start_time": "2022-01-06T11:54:25.083Z"
   },
   {
    "duration": 48,
    "start_time": "2022-01-06T11:57:05.600Z"
   },
   {
    "duration": 12,
    "start_time": "2022-01-06T11:57:16.183Z"
   },
   {
    "duration": 8,
    "start_time": "2022-01-06T11:57:36.701Z"
   },
   {
    "duration": 13,
    "start_time": "2022-01-06T11:57:42.463Z"
   },
   {
    "duration": 10,
    "start_time": "2022-01-06T11:58:02.924Z"
   },
   {
    "duration": 18,
    "start_time": "2022-01-06T11:58:43.080Z"
   },
   {
    "duration": 108,
    "start_time": "2022-01-06T11:59:13.044Z"
   },
   {
    "duration": 88,
    "start_time": "2022-01-06T11:59:31.803Z"
   },
   {
    "duration": 16,
    "start_time": "2022-01-06T11:59:43.239Z"
   },
   {
    "duration": 87,
    "start_time": "2022-01-06T12:09:53.931Z"
   },
   {
    "duration": 78,
    "start_time": "2022-01-06T12:15:48.864Z"
   },
   {
    "duration": 27,
    "start_time": "2022-01-06T12:16:41.644Z"
   },
   {
    "duration": 61,
    "start_time": "2022-01-06T12:17:33.564Z"
   },
   {
    "duration": 47,
    "start_time": "2022-01-06T12:18:08.381Z"
   },
   {
    "duration": 46,
    "start_time": "2022-01-06T12:20:34.853Z"
   },
   {
    "duration": 44,
    "start_time": "2022-01-06T12:23:01.452Z"
   },
   {
    "duration": 964,
    "start_time": "2022-01-06T12:23:08.710Z"
   },
   {
    "duration": 15,
    "start_time": "2022-01-06T12:23:09.677Z"
   },
   {
    "duration": 12,
    "start_time": "2022-01-06T12:23:09.695Z"
   },
   {
    "duration": 61,
    "start_time": "2022-01-06T12:23:09.709Z"
   },
   {
    "duration": 13,
    "start_time": "2022-01-06T12:23:09.772Z"
   },
   {
    "duration": 9,
    "start_time": "2022-01-06T12:23:09.788Z"
   },
   {
    "duration": 15,
    "start_time": "2022-01-06T12:23:09.801Z"
   },
   {
    "duration": 82,
    "start_time": "2022-01-06T12:23:09.818Z"
   },
   {
    "duration": 8,
    "start_time": "2022-01-06T12:23:09.902Z"
   },
   {
    "duration": 7,
    "start_time": "2022-01-06T12:23:09.913Z"
   },
   {
    "duration": 58,
    "start_time": "2022-01-06T12:23:09.922Z"
   },
   {
    "duration": 6,
    "start_time": "2022-01-06T12:23:09.982Z"
   },
   {
    "duration": 11,
    "start_time": "2022-01-06T12:23:09.991Z"
   },
   {
    "duration": 466,
    "start_time": "2022-01-06T12:23:10.005Z"
   },
   {
    "duration": 14,
    "start_time": "2022-01-06T12:23:10.474Z"
   },
   {
    "duration": 7,
    "start_time": "2022-01-06T12:23:10.490Z"
   },
   {
    "duration": 13,
    "start_time": "2022-01-06T12:23:10.499Z"
   },
   {
    "duration": 49,
    "start_time": "2022-01-06T12:23:10.514Z"
   },
   {
    "duration": 299,
    "start_time": "2022-01-06T12:23:10.568Z"
   },
   {
    "duration": 8,
    "start_time": "2022-01-06T12:23:10.869Z"
   },
   {
    "duration": 10,
    "start_time": "2022-01-06T12:23:10.879Z"
   },
   {
    "duration": 6,
    "start_time": "2022-01-06T12:23:10.892Z"
   },
   {
    "duration": 77,
    "start_time": "2022-01-06T12:23:10.900Z"
   },
   {
    "duration": 1349,
    "start_time": "2022-01-06T12:23:10.979Z"
   },
   {
    "duration": 7,
    "start_time": "2022-01-06T12:23:12.331Z"
   },
   {
    "duration": 47,
    "start_time": "2022-01-06T12:23:12.340Z"
   },
   {
    "duration": 1976,
    "start_time": "2022-01-06T12:23:12.391Z"
   },
   {
    "duration": 469,
    "start_time": "2022-01-06T12:23:14.369Z"
   },
   {
    "duration": 57,
    "start_time": "2022-01-06T12:23:14.841Z"
   },
   {
    "duration": 79,
    "start_time": "2022-01-06T12:23:14.901Z"
   },
   {
    "duration": 46,
    "start_time": "2022-01-06T12:27:16.849Z"
   },
   {
    "duration": 43,
    "start_time": "2022-01-06T12:29:26.676Z"
   },
   {
    "duration": 375,
    "start_time": "2022-01-06T12:30:07.540Z"
   },
   {
    "duration": 12,
    "start_time": "2022-01-06T12:30:22.213Z"
   },
   {
    "duration": 13,
    "start_time": "2022-01-06T12:30:30.368Z"
   },
   {
    "duration": 46,
    "start_time": "2022-01-06T12:39:47.651Z"
   },
   {
    "duration": 46,
    "start_time": "2022-01-06T12:46:41.970Z"
   },
   {
    "duration": 44,
    "start_time": "2022-01-06T12:46:45.832Z"
   },
   {
    "duration": 46,
    "start_time": "2022-01-06T12:47:47.074Z"
   },
   {
    "duration": 43,
    "start_time": "2022-01-06T12:49:00.407Z"
   },
   {
    "duration": 40,
    "start_time": "2022-01-06T12:51:50.860Z"
   },
   {
    "duration": 47,
    "start_time": "2022-01-06T13:08:03.831Z"
   },
   {
    "duration": 50,
    "start_time": "2022-01-06T13:09:27.564Z"
   },
   {
    "duration": 941,
    "start_time": "2022-01-06T13:10:58.585Z"
   },
   {
    "duration": 34,
    "start_time": "2022-01-06T13:10:59.529Z"
   },
   {
    "duration": 14,
    "start_time": "2022-01-06T13:10:59.566Z"
   },
   {
    "duration": 34,
    "start_time": "2022-01-06T13:10:59.582Z"
   },
   {
    "duration": 52,
    "start_time": "2022-01-06T13:10:59.618Z"
   },
   {
    "duration": 9,
    "start_time": "2022-01-06T13:10:59.672Z"
   },
   {
    "duration": 15,
    "start_time": "2022-01-06T13:10:59.684Z"
   },
   {
    "duration": 73,
    "start_time": "2022-01-06T13:10:59.702Z"
   },
   {
    "duration": 7,
    "start_time": "2022-01-06T13:10:59.778Z"
   },
   {
    "duration": 7,
    "start_time": "2022-01-06T13:10:59.788Z"
   },
   {
    "duration": 34,
    "start_time": "2022-01-06T13:10:59.798Z"
   },
   {
    "duration": 31,
    "start_time": "2022-01-06T13:10:59.835Z"
   },
   {
    "duration": 12,
    "start_time": "2022-01-06T13:10:59.869Z"
   },
   {
    "duration": 467,
    "start_time": "2022-01-06T13:10:59.883Z"
   },
   {
    "duration": 22,
    "start_time": "2022-01-06T13:11:00.352Z"
   },
   {
    "duration": 7,
    "start_time": "2022-01-06T13:11:00.377Z"
   },
   {
    "duration": 17,
    "start_time": "2022-01-06T13:11:00.387Z"
   },
   {
    "duration": 9,
    "start_time": "2022-01-06T13:11:00.407Z"
   },
   {
    "duration": 318,
    "start_time": "2022-01-06T13:11:00.419Z"
   },
   {
    "duration": 8,
    "start_time": "2022-01-06T13:11:00.740Z"
   },
   {
    "duration": 19,
    "start_time": "2022-01-06T13:11:00.750Z"
   },
   {
    "duration": 11,
    "start_time": "2022-01-06T13:11:00.772Z"
   },
   {
    "duration": 20,
    "start_time": "2022-01-06T13:11:00.787Z"
   },
   {
    "duration": 1045,
    "start_time": "2022-01-06T13:11:00.810Z"
   },
   {
    "duration": 12,
    "start_time": "2022-01-06T13:11:01.857Z"
   },
   {
    "duration": 45,
    "start_time": "2022-01-06T13:11:01.871Z"
   },
   {
    "duration": 1861,
    "start_time": "2022-01-06T13:11:01.918Z"
   },
   {
    "duration": 812,
    "start_time": "2022-01-06T13:11:03.781Z"
   },
   {
    "duration": 105,
    "start_time": "2022-01-06T13:11:04.595Z"
   },
   {
    "duration": 100,
    "start_time": "2022-01-06T13:11:04.703Z"
   },
   {
    "duration": -13,
    "start_time": "2022-01-06T13:11:04.818Z"
   },
   {
    "duration": 1744,
    "start_time": "2022-01-06T13:11:22.431Z"
   },
   {
    "duration": 1633,
    "start_time": "2022-01-06T13:11:42.510Z"
   },
   {
    "duration": 1758,
    "start_time": "2022-01-06T13:11:50.259Z"
   },
   {
    "duration": 2007,
    "start_time": "2022-01-06T13:11:58.556Z"
   },
   {
    "duration": 78,
    "start_time": "2022-01-06T13:16:22.441Z"
   },
   {
    "duration": 77,
    "start_time": "2022-01-06T13:16:42.078Z"
   },
   {
    "duration": 85,
    "start_time": "2022-01-06T13:17:26.171Z"
   },
   {
    "duration": 5,
    "start_time": "2022-01-06T13:18:44.787Z"
   },
   {
    "duration": 48,
    "start_time": "2022-01-06T13:18:52.897Z"
   },
   {
    "duration": 6,
    "start_time": "2022-01-06T13:18:54.217Z"
   },
   {
    "duration": 1000,
    "start_time": "2022-01-07T16:25:39.101Z"
   },
   {
    "duration": 17,
    "start_time": "2022-01-07T16:25:40.104Z"
   },
   {
    "duration": 13,
    "start_time": "2022-01-07T16:25:40.124Z"
   },
   {
    "duration": 37,
    "start_time": "2022-01-07T16:25:40.168Z"
   },
   {
    "duration": 15,
    "start_time": "2022-01-07T16:25:40.207Z"
   },
   {
    "duration": 47,
    "start_time": "2022-01-07T16:25:40.225Z"
   },
   {
    "duration": 13,
    "start_time": "2022-01-07T16:25:40.274Z"
   },
   {
    "duration": 41,
    "start_time": "2022-01-07T16:25:40.292Z"
   },
   {
    "duration": 33,
    "start_time": "2022-01-07T16:25:40.336Z"
   },
   {
    "duration": 7,
    "start_time": "2022-01-07T16:25:40.371Z"
   },
   {
    "duration": 41,
    "start_time": "2022-01-07T16:25:40.380Z"
   },
   {
    "duration": 46,
    "start_time": "2022-01-07T16:25:40.424Z"
   },
   {
    "duration": 18,
    "start_time": "2022-01-07T16:25:40.473Z"
   },
   {
    "duration": 474,
    "start_time": "2022-01-07T16:25:40.494Z"
   },
   {
    "duration": 17,
    "start_time": "2022-01-07T16:25:40.971Z"
   },
   {
    "duration": 9,
    "start_time": "2022-01-07T16:25:40.992Z"
   },
   {
    "duration": 18,
    "start_time": "2022-01-07T16:25:41.003Z"
   },
   {
    "duration": 45,
    "start_time": "2022-01-07T16:25:41.024Z"
   },
   {
    "duration": 318,
    "start_time": "2022-01-07T16:25:41.072Z"
   },
   {
    "duration": 8,
    "start_time": "2022-01-07T16:25:41.393Z"
   },
   {
    "duration": 17,
    "start_time": "2022-01-07T16:25:41.404Z"
   },
   {
    "duration": 7,
    "start_time": "2022-01-07T16:25:41.423Z"
   },
   {
    "duration": 18,
    "start_time": "2022-01-07T16:25:41.469Z"
   },
   {
    "duration": 1055,
    "start_time": "2022-01-07T16:25:41.490Z"
   },
   {
    "duration": 8,
    "start_time": "2022-01-07T16:25:42.547Z"
   },
   {
    "duration": 57,
    "start_time": "2022-01-07T16:25:42.558Z"
   },
   {
    "duration": 1870,
    "start_time": "2022-01-07T16:25:42.618Z"
   },
   {
    "duration": 810,
    "start_time": "2022-01-07T16:25:44.491Z"
   },
   {
    "duration": 78,
    "start_time": "2022-01-07T16:25:45.303Z"
   },
   {
    "duration": 1382,
    "start_time": "2022-01-07T16:28:15.762Z"
   },
   {
    "duration": 1055,
    "start_time": "2022-01-07T16:28:29.284Z"
   },
   {
    "duration": 1475,
    "start_time": "2022-01-07T16:29:11.180Z"
   },
   {
    "duration": 979,
    "start_time": "2022-01-07T16:29:20.297Z"
   },
   {
    "duration": 1135,
    "start_time": "2022-01-07T16:29:31.303Z"
   },
   {
    "duration": 1870,
    "start_time": "2022-01-07T16:30:05.979Z"
   },
   {
    "duration": 156,
    "start_time": "2022-01-07T16:51:59.484Z"
   },
   {
    "duration": 417,
    "start_time": "2022-01-07T16:52:04.226Z"
   },
   {
    "duration": 1212,
    "start_time": "2022-01-07T16:52:35.171Z"
   },
   {
    "duration": 16,
    "start_time": "2022-01-07T16:52:36.386Z"
   },
   {
    "duration": 14,
    "start_time": "2022-01-07T16:52:36.406Z"
   },
   {
    "duration": 68,
    "start_time": "2022-01-07T16:52:36.424Z"
   },
   {
    "duration": 17,
    "start_time": "2022-01-07T16:52:36.495Z"
   },
   {
    "duration": 10,
    "start_time": "2022-01-07T16:52:36.515Z"
   },
   {
    "duration": 46,
    "start_time": "2022-01-07T16:52:36.528Z"
   },
   {
    "duration": 42,
    "start_time": "2022-01-07T16:52:36.577Z"
   },
   {
    "duration": 8,
    "start_time": "2022-01-07T16:52:36.623Z"
   },
   {
    "duration": 40,
    "start_time": "2022-01-07T16:52:36.636Z"
   },
   {
    "duration": 33,
    "start_time": "2022-01-07T16:52:36.678Z"
   },
   {
    "duration": 7,
    "start_time": "2022-01-07T16:52:36.713Z"
   },
   {
    "duration": 15,
    "start_time": "2022-01-07T16:52:36.722Z"
   },
   {
    "duration": 850,
    "start_time": "2022-01-07T16:52:36.740Z"
   },
   {
    "duration": 76,
    "start_time": "2022-01-07T16:52:37.593Z"
   },
   {
    "duration": 9,
    "start_time": "2022-01-07T16:52:37.672Z"
   },
   {
    "duration": 22,
    "start_time": "2022-01-07T16:52:37.684Z"
   },
   {
    "duration": 66,
    "start_time": "2022-01-07T16:52:37.709Z"
   },
   {
    "duration": 691,
    "start_time": "2022-01-07T16:52:37.778Z"
   },
   {
    "duration": 10,
    "start_time": "2022-01-07T16:52:38.472Z"
   },
   {
    "duration": 14,
    "start_time": "2022-01-07T16:52:38.485Z"
   },
   {
    "duration": 8,
    "start_time": "2022-01-07T16:52:38.502Z"
   },
   {
    "duration": 64,
    "start_time": "2022-01-07T16:52:38.514Z"
   },
   {
    "duration": 1073,
    "start_time": "2022-01-07T16:52:38.581Z"
   },
   {
    "duration": 10,
    "start_time": "2022-01-07T16:52:39.657Z"
   },
   {
    "duration": 49,
    "start_time": "2022-01-07T16:52:39.670Z"
   },
   {
    "duration": 1735,
    "start_time": "2022-01-07T16:52:39.726Z"
   },
   {
    "duration": 1027,
    "start_time": "2022-01-07T16:52:41.467Z"
   },
   {
    "duration": 51,
    "start_time": "2022-01-07T16:52:42.496Z"
   },
   {
    "duration": 101,
    "start_time": "2022-01-07T16:52:42.566Z"
   },
   {
    "duration": 432,
    "start_time": "2022-01-07T16:52:48.724Z"
   },
   {
    "duration": 343,
    "start_time": "2022-01-07T16:53:16.383Z"
   },
   {
    "duration": 315,
    "start_time": "2022-01-07T16:53:23.957Z"
   },
   {
    "duration": 113,
    "start_time": "2022-01-07T16:53:42.940Z"
   },
   {
    "duration": 28,
    "start_time": "2022-01-07T16:53:53.198Z"
   },
   {
    "duration": 418,
    "start_time": "2022-01-07T16:54:09.665Z"
   },
   {
    "duration": 45,
    "start_time": "2022-01-07T16:54:15.665Z"
   },
   {
    "duration": 98,
    "start_time": "2022-01-07T16:56:33.469Z"
   },
   {
    "duration": 465,
    "start_time": "2022-01-07T16:56:46.414Z"
   },
   {
    "duration": 349,
    "start_time": "2022-01-07T16:56:58.188Z"
   },
   {
    "duration": 150,
    "start_time": "2022-01-07T16:57:34.430Z"
   },
   {
    "duration": 143,
    "start_time": "2022-01-07T16:57:56.615Z"
   },
   {
    "duration": 183,
    "start_time": "2022-01-07T16:58:07.822Z"
   },
   {
    "duration": 143,
    "start_time": "2022-01-07T16:58:16.990Z"
   },
   {
    "duration": 816,
    "start_time": "2022-01-07T17:02:58.529Z"
   },
   {
    "duration": 323,
    "start_time": "2022-01-07T17:03:11.139Z"
   },
   {
    "duration": 461,
    "start_time": "2022-01-07T17:03:47.810Z"
   },
   {
    "duration": 559,
    "start_time": "2022-01-07T17:03:51.660Z"
   },
   {
    "duration": 507,
    "start_time": "2022-01-07T17:04:02.932Z"
   },
   {
    "duration": 1030,
    "start_time": "2022-01-07T17:27:54.200Z"
   },
   {
    "duration": 33,
    "start_time": "2022-01-07T17:27:55.233Z"
   },
   {
    "duration": 14,
    "start_time": "2022-01-07T17:27:55.272Z"
   },
   {
    "duration": 37,
    "start_time": "2022-01-07T17:27:55.290Z"
   },
   {
    "duration": 53,
    "start_time": "2022-01-07T17:27:55.329Z"
   },
   {
    "duration": 11,
    "start_time": "2022-01-07T17:27:55.385Z"
   },
   {
    "duration": 17,
    "start_time": "2022-01-07T17:27:55.399Z"
   },
   {
    "duration": 77,
    "start_time": "2022-01-07T17:27:55.421Z"
   },
   {
    "duration": 9,
    "start_time": "2022-01-07T17:27:55.501Z"
   },
   {
    "duration": 8,
    "start_time": "2022-01-07T17:27:55.513Z"
   },
   {
    "duration": 64,
    "start_time": "2022-01-07T17:27:55.524Z"
   },
   {
    "duration": 8,
    "start_time": "2022-01-07T17:27:55.591Z"
   },
   {
    "duration": 13,
    "start_time": "2022-01-07T17:27:55.603Z"
   },
   {
    "duration": 687,
    "start_time": "2022-01-07T17:27:55.619Z"
   },
   {
    "duration": 63,
    "start_time": "2022-01-07T17:27:56.308Z"
   },
   {
    "duration": 7,
    "start_time": "2022-01-07T17:27:56.374Z"
   },
   {
    "duration": 13,
    "start_time": "2022-01-07T17:27:56.384Z"
   },
   {
    "duration": 9,
    "start_time": "2022-01-07T17:27:56.399Z"
   },
   {
    "duration": 596,
    "start_time": "2022-01-07T17:27:56.410Z"
   },
   {
    "duration": 8,
    "start_time": "2022-01-07T17:27:57.008Z"
   },
   {
    "duration": 55,
    "start_time": "2022-01-07T17:27:57.019Z"
   },
   {
    "duration": 6,
    "start_time": "2022-01-07T17:27:57.077Z"
   },
   {
    "duration": 18,
    "start_time": "2022-01-07T17:27:57.087Z"
   },
   {
    "duration": 1059,
    "start_time": "2022-01-07T17:27:57.108Z"
   },
   {
    "duration": 8,
    "start_time": "2022-01-07T17:27:58.169Z"
   },
   {
    "duration": 38,
    "start_time": "2022-01-07T17:27:58.179Z"
   },
   {
    "duration": 1970,
    "start_time": "2022-01-07T17:27:58.219Z"
   },
   {
    "duration": 1023,
    "start_time": "2022-01-07T17:28:00.192Z"
   },
   {
    "duration": 61,
    "start_time": "2022-01-07T17:28:01.217Z"
   },
   {
    "duration": 189,
    "start_time": "2022-01-07T17:28:01.281Z"
   },
   {
    "duration": 171,
    "start_time": "2022-01-07T17:28:12.613Z"
   },
   {
    "duration": 175,
    "start_time": "2022-01-07T17:31:10.047Z"
   },
   {
    "duration": 8540,
    "start_time": "2022-01-07T17:47:56.808Z"
   },
   {
    "duration": 8938,
    "start_time": "2022-01-07T17:50:33.959Z"
   },
   {
    "duration": 26,
    "start_time": "2022-01-07T17:51:23.704Z"
   },
   {
    "duration": 21,
    "start_time": "2022-01-07T17:51:40.301Z"
   },
   {
    "duration": 25,
    "start_time": "2022-01-07T17:52:25.440Z"
   },
   {
    "duration": 1092,
    "start_time": "2022-01-07T18:25:02.913Z"
   },
   {
    "duration": 17,
    "start_time": "2022-01-07T18:25:04.008Z"
   },
   {
    "duration": 14,
    "start_time": "2022-01-07T18:25:04.028Z"
   },
   {
    "duration": 35,
    "start_time": "2022-01-07T18:25:04.067Z"
   },
   {
    "duration": 14,
    "start_time": "2022-01-07T18:25:04.104Z"
   },
   {
    "duration": 46,
    "start_time": "2022-01-07T18:25:04.121Z"
   },
   {
    "duration": 14,
    "start_time": "2022-01-07T18:25:04.170Z"
   },
   {
    "duration": 44,
    "start_time": "2022-01-07T18:25:04.189Z"
   },
   {
    "duration": 33,
    "start_time": "2022-01-07T18:25:04.237Z"
   },
   {
    "duration": 7,
    "start_time": "2022-01-07T18:25:04.273Z"
   },
   {
    "duration": 33,
    "start_time": "2022-01-07T18:25:04.283Z"
   },
   {
    "duration": 8,
    "start_time": "2022-01-07T18:25:04.319Z"
   },
   {
    "duration": 11,
    "start_time": "2022-01-07T18:25:04.368Z"
   },
   {
    "duration": 655,
    "start_time": "2022-01-07T18:25:04.382Z"
   },
   {
    "duration": 31,
    "start_time": "2022-01-07T18:25:05.040Z"
   },
   {
    "duration": 10,
    "start_time": "2022-01-07T18:25:05.074Z"
   },
   {
    "duration": 15,
    "start_time": "2022-01-07T18:25:05.087Z"
   },
   {
    "duration": 12,
    "start_time": "2022-01-07T18:25:05.105Z"
   },
   {
    "duration": 514,
    "start_time": "2022-01-07T18:25:05.120Z"
   },
   {
    "duration": 8,
    "start_time": "2022-01-07T18:25:05.637Z"
   },
   {
    "duration": 23,
    "start_time": "2022-01-07T18:25:05.648Z"
   },
   {
    "duration": 7,
    "start_time": "2022-01-07T18:25:05.674Z"
   },
   {
    "duration": 22,
    "start_time": "2022-01-07T18:25:05.688Z"
   },
   {
    "duration": 1618,
    "start_time": "2022-01-07T18:25:05.713Z"
   },
   {
    "duration": 7,
    "start_time": "2022-01-07T18:25:07.334Z"
   },
   {
    "duration": 67,
    "start_time": "2022-01-07T18:25:07.344Z"
   },
   {
    "duration": 2587,
    "start_time": "2022-01-07T18:25:07.414Z"
   },
   {
    "duration": 1467,
    "start_time": "2022-01-07T18:25:10.004Z"
   },
   {
    "duration": 52,
    "start_time": "2022-01-07T18:25:11.474Z"
   },
   {
    "duration": 201,
    "start_time": "2022-01-07T18:25:11.528Z"
   },
   {
    "duration": 40,
    "start_time": "2022-01-07T18:25:11.731Z"
   },
   {
    "duration": 756,
    "start_time": "2022-01-07T18:25:11.774Z"
   },
   {
    "duration": 882,
    "start_time": "2022-01-07T18:25:24.196Z"
   },
   {
    "duration": 1105,
    "start_time": "2022-01-07T18:25:30.521Z"
   },
   {
    "duration": 31,
    "start_time": "2022-01-07T18:27:27.441Z"
   },
   {
    "duration": 742,
    "start_time": "2022-01-07T18:27:43.306Z"
   },
   {
    "duration": 679,
    "start_time": "2022-01-07T18:27:56.888Z"
   },
   {
    "duration": 688,
    "start_time": "2022-01-07T18:28:02.715Z"
   },
   {
    "duration": 645,
    "start_time": "2022-01-07T18:28:05.979Z"
   },
   {
    "duration": 667,
    "start_time": "2022-01-07T18:28:10.853Z"
   },
   {
    "duration": 691,
    "start_time": "2022-01-07T18:29:09.536Z"
   },
   {
    "duration": 911,
    "start_time": "2022-01-07T18:29:45.224Z"
   },
   {
    "duration": 684,
    "start_time": "2022-01-07T18:29:51.362Z"
   },
   {
    "duration": 740,
    "start_time": "2022-01-07T18:30:34.241Z"
   },
   {
    "duration": 604,
    "start_time": "2022-01-07T18:31:14.392Z"
   },
   {
    "duration": 803,
    "start_time": "2022-01-07T18:31:22.036Z"
   },
   {
    "duration": 930,
    "start_time": "2022-01-07T18:31:26.037Z"
   },
   {
    "duration": 829,
    "start_time": "2022-01-07T18:31:32.226Z"
   },
   {
    "duration": 22,
    "start_time": "2022-01-07T18:41:29.700Z"
   },
   {
    "duration": 691,
    "start_time": "2022-01-07T18:41:37.529Z"
   },
   {
    "duration": 568,
    "start_time": "2022-01-07T18:56:33.393Z"
   },
   {
    "duration": 585,
    "start_time": "2022-01-07T18:56:44.300Z"
   },
   {
    "duration": 102,
    "start_time": "2022-01-07T18:57:52.855Z"
   },
   {
    "duration": 2255,
    "start_time": "2022-01-07T18:58:35.048Z"
   },
   {
    "duration": 586,
    "start_time": "2022-01-07T18:59:44.360Z"
   },
   {
    "duration": 545,
    "start_time": "2022-01-07T19:00:42.213Z"
   },
   {
    "duration": 786,
    "start_time": "2022-01-07T19:00:56.197Z"
   },
   {
    "duration": 649,
    "start_time": "2022-01-07T19:01:33.458Z"
   },
   {
    "duration": 556,
    "start_time": "2022-01-07T19:01:46.472Z"
   },
   {
    "duration": 601,
    "start_time": "2022-01-07T19:01:51.066Z"
   },
   {
    "duration": 580,
    "start_time": "2022-01-07T19:01:55.876Z"
   },
   {
    "duration": 171,
    "start_time": "2022-01-07T19:04:29.336Z"
   },
   {
    "duration": 132,
    "start_time": "2022-01-07T19:04:34.081Z"
   },
   {
    "duration": 1005,
    "start_time": "2022-01-07T19:05:29.305Z"
   },
   {
    "duration": 17,
    "start_time": "2022-01-07T19:05:30.314Z"
   },
   {
    "duration": 43,
    "start_time": "2022-01-07T19:05:30.335Z"
   },
   {
    "duration": 38,
    "start_time": "2022-01-07T19:05:30.381Z"
   },
   {
    "duration": 14,
    "start_time": "2022-01-07T19:05:30.422Z"
   },
   {
    "duration": 35,
    "start_time": "2022-01-07T19:05:30.439Z"
   },
   {
    "duration": 22,
    "start_time": "2022-01-07T19:05:30.477Z"
   },
   {
    "duration": 59,
    "start_time": "2022-01-07T19:05:30.505Z"
   },
   {
    "duration": 8,
    "start_time": "2022-01-07T19:05:30.568Z"
   },
   {
    "duration": 31,
    "start_time": "2022-01-07T19:05:30.578Z"
   },
   {
    "duration": 42,
    "start_time": "2022-01-07T19:05:30.611Z"
   },
   {
    "duration": 13,
    "start_time": "2022-01-07T19:05:30.656Z"
   },
   {
    "duration": 22,
    "start_time": "2022-01-07T19:05:30.672Z"
   },
   {
    "duration": 495,
    "start_time": "2022-01-07T19:05:30.696Z"
   },
   {
    "duration": 14,
    "start_time": "2022-01-07T19:05:31.194Z"
   },
   {
    "duration": 19,
    "start_time": "2022-01-07T19:05:31.211Z"
   },
   {
    "duration": 46,
    "start_time": "2022-01-07T19:05:31.232Z"
   },
   {
    "duration": 67,
    "start_time": "2022-01-07T19:05:31.281Z"
   },
   {
    "duration": 444,
    "start_time": "2022-01-07T19:05:31.350Z"
   },
   {
    "duration": 21,
    "start_time": "2022-01-07T19:05:31.796Z"
   },
   {
    "duration": 19,
    "start_time": "2022-01-07T19:05:31.820Z"
   },
   {
    "duration": 27,
    "start_time": "2022-01-07T19:05:31.843Z"
   },
   {
    "duration": 19,
    "start_time": "2022-01-07T19:05:31.877Z"
   },
   {
    "duration": 1514,
    "start_time": "2022-01-07T19:05:31.899Z"
   },
   {
    "duration": 10,
    "start_time": "2022-01-07T19:05:33.416Z"
   },
   {
    "duration": 63,
    "start_time": "2022-01-07T19:05:33.429Z"
   },
   {
    "duration": 1779,
    "start_time": "2022-01-07T19:05:33.494Z"
   },
   {
    "duration": 1084,
    "start_time": "2022-01-07T19:05:35.276Z"
   },
   {
    "duration": 72,
    "start_time": "2022-01-07T19:05:36.367Z"
   },
   {
    "duration": 239,
    "start_time": "2022-01-07T19:05:36.442Z"
   },
   {
    "duration": 24,
    "start_time": "2022-01-07T19:05:36.684Z"
   },
   {
    "duration": 611,
    "start_time": "2022-01-07T19:05:36.711Z"
   },
   {
    "duration": 636,
    "start_time": "2022-01-07T19:05:37.326Z"
   },
   {
    "duration": 983,
    "start_time": "2022-01-07T19:09:51.609Z"
   },
   {
    "duration": 22,
    "start_time": "2022-01-07T19:09:52.596Z"
   },
   {
    "duration": 17,
    "start_time": "2022-01-07T19:09:52.622Z"
   },
   {
    "duration": 41,
    "start_time": "2022-01-07T19:09:52.667Z"
   },
   {
    "duration": 13,
    "start_time": "2022-01-07T19:09:52.711Z"
   },
   {
    "duration": 47,
    "start_time": "2022-01-07T19:09:52.727Z"
   },
   {
    "duration": 13,
    "start_time": "2022-01-07T19:09:52.777Z"
   },
   {
    "duration": 74,
    "start_time": "2022-01-07T19:09:52.796Z"
   },
   {
    "duration": 9,
    "start_time": "2022-01-07T19:09:52.873Z"
   },
   {
    "duration": 11,
    "start_time": "2022-01-07T19:09:52.885Z"
   },
   {
    "duration": 37,
    "start_time": "2022-01-07T19:09:52.899Z"
   },
   {
    "duration": 34,
    "start_time": "2022-01-07T19:09:52.939Z"
   },
   {
    "duration": 15,
    "start_time": "2022-01-07T19:09:52.977Z"
   },
   {
    "duration": 484,
    "start_time": "2022-01-07T19:09:52.995Z"
   },
   {
    "duration": 15,
    "start_time": "2022-01-07T19:09:53.481Z"
   },
   {
    "duration": 8,
    "start_time": "2022-01-07T19:09:53.498Z"
   },
   {
    "duration": 59,
    "start_time": "2022-01-07T19:09:53.509Z"
   },
   {
    "duration": 9,
    "start_time": "2022-01-07T19:09:53.571Z"
   },
   {
    "duration": 586,
    "start_time": "2022-01-07T19:09:53.583Z"
   },
   {
    "duration": 8,
    "start_time": "2022-01-07T19:09:54.171Z"
   },
   {
    "duration": 15,
    "start_time": "2022-01-07T19:09:54.182Z"
   },
   {
    "duration": 6,
    "start_time": "2022-01-07T19:09:54.200Z"
   },
   {
    "duration": 73,
    "start_time": "2022-01-07T19:09:54.211Z"
   },
   {
    "duration": 1139,
    "start_time": "2022-01-07T19:09:54.286Z"
   },
   {
    "duration": 8,
    "start_time": "2022-01-07T19:09:55.427Z"
   },
   {
    "duration": 56,
    "start_time": "2022-01-07T19:09:55.438Z"
   },
   {
    "duration": 2874,
    "start_time": "2022-01-07T19:09:55.497Z"
   },
   {
    "duration": 1068,
    "start_time": "2022-01-07T19:09:58.376Z"
   },
   {
    "duration": 85,
    "start_time": "2022-01-07T19:09:59.448Z"
   },
   {
    "duration": 240,
    "start_time": "2022-01-07T19:09:59.536Z"
   },
   {
    "duration": 24,
    "start_time": "2022-01-07T19:09:59.779Z"
   },
   {
    "duration": 606,
    "start_time": "2022-01-07T19:09:59.806Z"
   },
   {
    "duration": 886,
    "start_time": "2022-01-07T19:10:00.415Z"
   },
   {
    "duration": 474,
    "start_time": "2022-01-07T19:10:01.305Z"
   },
   {
    "duration": 209,
    "start_time": "2022-01-07T19:14:02.268Z"
   },
   {
    "duration": 414,
    "start_time": "2022-01-07T19:14:37.339Z"
   },
   {
    "duration": 390,
    "start_time": "2022-01-07T19:16:23.806Z"
   },
   {
    "duration": 338,
    "start_time": "2022-01-07T19:24:36.623Z"
   },
   {
    "duration": 338,
    "start_time": "2022-01-07T19:25:09.920Z"
   },
   {
    "duration": 20463,
    "start_time": "2022-01-07T19:25:29.871Z"
   },
   {
    "duration": 20871,
    "start_time": "2022-01-07T19:25:56.886Z"
   },
   {
    "duration": 21342,
    "start_time": "2022-01-07T19:26:46.748Z"
   },
   {
    "duration": 339,
    "start_time": "2022-01-07T19:37:08.951Z"
   },
   {
    "duration": 312,
    "start_time": "2022-01-07T19:38:22.510Z"
   },
   {
    "duration": 345,
    "start_time": "2022-01-07T19:38:27.122Z"
   },
   {
    "duration": 305,
    "start_time": "2022-01-07T19:39:14.876Z"
   },
   {
    "duration": 22,
    "start_time": "2022-01-07T19:39:24.764Z"
   },
   {
    "duration": 714,
    "start_time": "2022-01-07T19:42:50.563Z"
   },
   {
    "duration": -13,
    "start_time": "2022-01-07T19:43:05.491Z"
   },
   {
    "duration": 673,
    "start_time": "2022-01-07T19:43:11.544Z"
   },
   {
    "duration": 834,
    "start_time": "2022-01-07T19:43:18.771Z"
   },
   {
    "duration": 304,
    "start_time": "2022-01-07T19:44:38.260Z"
   },
   {
    "duration": 22,
    "start_time": "2022-01-07T19:44:52.736Z"
   },
   {
    "duration": 641,
    "start_time": "2022-01-07T19:47:11.061Z"
   },
   {
    "duration": 635,
    "start_time": "2022-01-07T19:47:45.946Z"
   },
   {
    "duration": 684,
    "start_time": "2022-01-07T19:47:51.630Z"
   },
   {
    "duration": 650,
    "start_time": "2022-01-07T19:48:11.211Z"
   },
   {
    "duration": 569,
    "start_time": "2022-01-07T19:51:08.157Z"
   },
   {
    "duration": 587,
    "start_time": "2022-01-07T19:51:13.365Z"
   },
   {
    "duration": 7,
    "start_time": "2022-01-07T20:10:04.626Z"
   },
   {
    "duration": 65,
    "start_time": "2022-01-07T20:10:16.898Z"
   },
   {
    "duration": 8,
    "start_time": "2022-01-07T20:13:34.239Z"
   },
   {
    "duration": 7,
    "start_time": "2022-01-07T20:13:42.066Z"
   },
   {
    "duration": 8,
    "start_time": "2022-01-07T20:13:55.078Z"
   },
   {
    "duration": 331,
    "start_time": "2022-01-07T20:15:01.280Z"
   },
   {
    "duration": 8,
    "start_time": "2022-01-07T20:15:04.168Z"
   },
   {
    "duration": 10,
    "start_time": "2022-01-07T20:15:12.447Z"
   },
   {
    "duration": 7,
    "start_time": "2022-01-07T20:15:27.486Z"
   },
   {
    "duration": 10,
    "start_time": "2022-01-07T20:15:37.441Z"
   },
   {
    "duration": 16,
    "start_time": "2022-01-07T20:15:47.672Z"
   },
   {
    "duration": 14,
    "start_time": "2022-01-07T20:16:17.829Z"
   },
   {
    "duration": 58,
    "start_time": "2022-01-07T20:19:30.061Z"
   },
   {
    "duration": 52,
    "start_time": "2022-01-07T20:20:38.665Z"
   },
   {
    "duration": 56,
    "start_time": "2022-01-07T20:22:11.607Z"
   },
   {
    "duration": 362,
    "start_time": "2022-01-07T20:24:42.097Z"
   },
   {
    "duration": 39,
    "start_time": "2022-01-07T20:24:46.645Z"
   },
   {
    "duration": 15,
    "start_time": "2022-01-07T20:44:12.176Z"
   },
   {
    "duration": 37,
    "start_time": "2022-01-07T20:44:19.495Z"
   },
   {
    "duration": 7,
    "start_time": "2022-01-07T20:45:20.073Z"
   },
   {
    "duration": 6,
    "start_time": "2022-01-07T20:45:31.083Z"
   },
   {
    "duration": 41,
    "start_time": "2022-01-07T20:46:24.311Z"
   },
   {
    "duration": 14,
    "start_time": "2022-01-07T20:46:42.258Z"
   },
   {
    "duration": 10,
    "start_time": "2022-01-07T20:46:46.791Z"
   },
   {
    "duration": 10,
    "start_time": "2022-01-07T20:47:07.163Z"
   },
   {
    "duration": 10,
    "start_time": "2022-01-07T20:48:45.524Z"
   },
   {
    "duration": 13,
    "start_time": "2022-01-07T20:48:50.386Z"
   },
   {
    "duration": 11,
    "start_time": "2022-01-07T20:48:50.402Z"
   },
   {
    "duration": 13,
    "start_time": "2022-01-07T20:49:05.376Z"
   },
   {
    "duration": 9,
    "start_time": "2022-01-07T20:49:06.071Z"
   },
   {
    "duration": 8222,
    "start_time": "2022-01-07T20:50:31.617Z"
   },
   {
    "duration": 9805,
    "start_time": "2022-01-07T20:51:48.728Z"
   },
   {
    "duration": -109,
    "start_time": "2022-01-07T20:52:15.068Z"
   },
   {
    "duration": 8227,
    "start_time": "2022-01-07T20:52:21.454Z"
   },
   {
    "duration": 11,
    "start_time": "2022-01-07T20:53:25.897Z"
   },
   {
    "duration": 318,
    "start_time": "2022-01-07T20:53:36.552Z"
   },
   {
    "duration": 21,
    "start_time": "2022-01-07T20:53:44.633Z"
   },
   {
    "duration": 21,
    "start_time": "2022-01-07T20:53:52.362Z"
   },
   {
    "duration": 331,
    "start_time": "2022-01-07T20:55:14.613Z"
   },
   {
    "duration": 42,
    "start_time": "2022-01-07T20:59:28.088Z"
   },
   {
    "duration": 37,
    "start_time": "2022-01-07T21:00:25.890Z"
   },
   {
    "duration": 37,
    "start_time": "2022-01-07T21:05:13.891Z"
   },
   {
    "duration": 32,
    "start_time": "2022-01-07T21:05:26.256Z"
   },
   {
    "duration": 32,
    "start_time": "2022-01-07T21:05:45.321Z"
   },
   {
    "duration": 24,
    "start_time": "2022-01-07T21:06:18.494Z"
   },
   {
    "duration": 32,
    "start_time": "2022-01-07T21:06:22.509Z"
   },
   {
    "duration": 321,
    "start_time": "2022-01-07T21:06:49.032Z"
   },
   {
    "duration": 34,
    "start_time": "2022-01-07T21:06:54.035Z"
   },
   {
    "duration": 32,
    "start_time": "2022-01-07T21:07:00.390Z"
   },
   {
    "duration": 970,
    "start_time": "2022-01-07T21:10:52.022Z"
   },
   {
    "duration": 15,
    "start_time": "2022-01-07T21:10:52.995Z"
   },
   {
    "duration": 14,
    "start_time": "2022-01-07T21:10:53.013Z"
   },
   {
    "duration": 58,
    "start_time": "2022-01-07T21:10:53.030Z"
   },
   {
    "duration": 14,
    "start_time": "2022-01-07T21:10:53.091Z"
   },
   {
    "duration": 15,
    "start_time": "2022-01-07T21:10:53.107Z"
   },
   {
    "duration": 13,
    "start_time": "2022-01-07T21:10:53.125Z"
   },
   {
    "duration": 40,
    "start_time": "2022-01-07T21:10:53.168Z"
   },
   {
    "duration": 7,
    "start_time": "2022-01-07T21:10:53.212Z"
   },
   {
    "duration": 14,
    "start_time": "2022-01-07T21:10:53.221Z"
   },
   {
    "duration": 50,
    "start_time": "2022-01-07T21:10:53.237Z"
   },
   {
    "duration": 6,
    "start_time": "2022-01-07T21:10:53.289Z"
   },
   {
    "duration": 15,
    "start_time": "2022-01-07T21:10:53.297Z"
   },
   {
    "duration": 468,
    "start_time": "2022-01-07T21:10:53.314Z"
   },
   {
    "duration": 15,
    "start_time": "2022-01-07T21:10:53.784Z"
   },
   {
    "duration": 7,
    "start_time": "2022-01-07T21:10:53.801Z"
   },
   {
    "duration": 16,
    "start_time": "2022-01-07T21:10:53.810Z"
   },
   {
    "duration": 41,
    "start_time": "2022-01-07T21:10:53.828Z"
   },
   {
    "duration": 315,
    "start_time": "2022-01-07T21:10:53.871Z"
   },
   {
    "duration": 7,
    "start_time": "2022-01-07T21:10:54.188Z"
   },
   {
    "duration": 15,
    "start_time": "2022-01-07T21:10:54.197Z"
   },
   {
    "duration": 59,
    "start_time": "2022-01-07T21:10:54.214Z"
   },
   {
    "duration": 18,
    "start_time": "2022-01-07T21:10:54.279Z"
   },
   {
    "duration": 1350,
    "start_time": "2022-01-07T21:10:54.300Z"
   },
   {
    "duration": 15,
    "start_time": "2022-01-07T21:10:55.652Z"
   },
   {
    "duration": 35,
    "start_time": "2022-01-07T21:10:55.669Z"
   },
   {
    "duration": 2098,
    "start_time": "2022-01-07T21:10:55.707Z"
   },
   {
    "duration": 1034,
    "start_time": "2022-01-07T21:10:57.808Z"
   },
   {
    "duration": 62,
    "start_time": "2022-01-07T21:10:58.844Z"
   },
   {
    "duration": 193,
    "start_time": "2022-01-07T21:10:58.909Z"
   },
   {
    "duration": 23,
    "start_time": "2022-01-07T21:10:59.105Z"
   },
   {
    "duration": 23529,
    "start_time": "2022-01-07T21:10:59.130Z"
   },
   {
    "duration": 723,
    "start_time": "2022-01-07T21:11:22.661Z"
   },
   {
    "duration": 587,
    "start_time": "2022-01-07T21:11:23.387Z"
   },
   {
    "duration": 617,
    "start_time": "2022-01-07T21:11:23.976Z"
   },
   {
    "duration": 22,
    "start_time": "2022-01-07T21:11:24.595Z"
   },
   {
    "duration": 11,
    "start_time": "2022-01-07T21:11:24.620Z"
   },
   {
    "duration": 67,
    "start_time": "2022-01-07T21:11:24.634Z"
   },
   {
    "duration": 379,
    "start_time": "2022-01-07T21:12:53.984Z"
   },
   {
    "duration": 382,
    "start_time": "2022-01-07T21:13:00.665Z"
   },
   {
    "duration": 392,
    "start_time": "2022-01-07T21:13:07.875Z"
   },
   {
    "duration": 390,
    "start_time": "2022-01-07T21:13:16.141Z"
   },
   {
    "duration": 403,
    "start_time": "2022-01-07T21:14:09.239Z"
   },
   {
    "duration": 383,
    "start_time": "2022-01-07T21:14:18.374Z"
   },
   {
    "duration": 468,
    "start_time": "2022-01-07T21:14:36.861Z"
   },
   {
    "duration": 535,
    "start_time": "2022-01-07T21:15:16.937Z"
   },
   {
    "duration": 845,
    "start_time": "2022-01-07T21:18:06.990Z"
   },
   {
    "duration": 718,
    "start_time": "2022-01-07T21:18:32.888Z"
   },
   {
    "duration": 721,
    "start_time": "2022-01-07T21:18:42.749Z"
   },
   {
    "duration": 901,
    "start_time": "2022-01-07T21:19:47.164Z"
   },
   {
    "duration": 752,
    "start_time": "2022-01-07T21:20:19.706Z"
   },
   {
    "duration": 534,
    "start_time": "2022-01-07T21:20:35.227Z"
   },
   {
    "duration": 524,
    "start_time": "2022-01-07T21:21:02.460Z"
   },
   {
    "duration": 538,
    "start_time": "2022-01-07T21:27:07.585Z"
   },
   {
    "duration": 588,
    "start_time": "2022-01-07T21:27:14.244Z"
   },
   {
    "duration": 548,
    "start_time": "2022-01-07T21:27:29.090Z"
   },
   {
    "duration": 355,
    "start_time": "2022-01-07T21:30:13.646Z"
   },
   {
    "duration": 339,
    "start_time": "2022-01-07T21:30:21.979Z"
   },
   {
    "duration": 580,
    "start_time": "2022-01-07T21:30:27.328Z"
   },
   {
    "duration": 684,
    "start_time": "2022-01-07T21:30:53.716Z"
   },
   {
    "duration": 344,
    "start_time": "2022-01-07T21:31:01.801Z"
   },
   {
    "duration": 469,
    "start_time": "2022-01-07T21:31:20.833Z"
   },
   {
    "duration": 1009,
    "start_time": "2022-01-07T21:31:35.350Z"
   },
   {
    "duration": 1519,
    "start_time": "2022-01-07T21:39:38.995Z"
   },
   {
    "duration": 2060,
    "start_time": "2022-01-07T21:40:01.456Z"
   },
   {
    "duration": 5056,
    "start_time": "2022-01-07T21:42:10.646Z"
   },
   {
    "duration": 4949,
    "start_time": "2022-01-07T21:42:50.677Z"
   },
   {
    "duration": 4854,
    "start_time": "2022-01-07T21:43:18.928Z"
   },
   {
    "duration": 4646,
    "start_time": "2022-01-07T21:43:28.249Z"
   },
   {
    "duration": 7,
    "start_time": "2022-01-07T21:45:47.023Z"
   },
   {
    "duration": 381,
    "start_time": "2022-01-07T21:45:55.372Z"
   },
   {
    "duration": 3442,
    "start_time": "2022-01-07T21:46:09.804Z"
   },
   {
    "duration": 942,
    "start_time": "2022-01-07T21:46:53.026Z"
   },
   {
    "duration": 879,
    "start_time": "2022-01-07T21:46:58.225Z"
   },
   {
    "duration": 822,
    "start_time": "2022-01-07T21:47:18.380Z"
   },
   {
    "duration": 725,
    "start_time": "2022-01-07T21:47:29.686Z"
   },
   {
    "duration": 794,
    "start_time": "2022-01-07T21:47:32.784Z"
   },
   {
    "duration": 803,
    "start_time": "2022-01-07T21:47:39.046Z"
   },
   {
    "duration": 390,
    "start_time": "2022-01-07T21:48:18.979Z"
   },
   {
    "duration": 4735,
    "start_time": "2022-01-07T21:48:36.328Z"
   },
   {
    "duration": 4793,
    "start_time": "2022-01-07T21:53:43.290Z"
   },
   {
    "duration": 10,
    "start_time": "2022-01-07T22:05:09.399Z"
   },
   {
    "duration": 41,
    "start_time": "2022-01-07T22:05:29.857Z"
   },
   {
    "duration": 129,
    "start_time": "2022-01-09T08:44:41.009Z"
   },
   {
    "duration": 241,
    "start_time": "2022-01-10T07:17:45.024Z"
   },
   {
    "duration": 720,
    "start_time": "2022-01-10T07:17:52.782Z"
   },
   {
    "duration": 10,
    "start_time": "2022-01-10T07:17:53.504Z"
   },
   {
    "duration": 9,
    "start_time": "2022-01-10T07:17:53.516Z"
   },
   {
    "duration": 300,
    "start_time": "2022-01-10T07:17:53.527Z"
   },
   {
    "duration": 101,
    "start_time": "2022-01-10T07:17:53.728Z"
   },
   {
    "duration": 96,
    "start_time": "2022-01-10T07:17:53.734Z"
   },
   {
    "duration": 91,
    "start_time": "2022-01-10T07:17:53.740Z"
   },
   {
    "duration": 87,
    "start_time": "2022-01-10T07:17:53.745Z"
   },
   {
    "duration": 61,
    "start_time": "2022-01-10T07:17:53.771Z"
   },
   {
    "duration": 58,
    "start_time": "2022-01-10T07:17:53.776Z"
   },
   {
    "duration": 55,
    "start_time": "2022-01-10T07:17:53.779Z"
   },
   {
    "duration": 51,
    "start_time": "2022-01-10T07:17:53.784Z"
   },
   {
    "duration": 49,
    "start_time": "2022-01-10T07:17:53.787Z"
   },
   {
    "duration": 47,
    "start_time": "2022-01-10T07:17:53.790Z"
   },
   {
    "duration": 44,
    "start_time": "2022-01-10T07:17:53.794Z"
   },
   {
    "duration": 41,
    "start_time": "2022-01-10T07:17:53.798Z"
   },
   {
    "duration": 37,
    "start_time": "2022-01-10T07:17:53.802Z"
   },
   {
    "duration": 35,
    "start_time": "2022-01-10T07:17:53.805Z"
   },
   {
    "duration": 32,
    "start_time": "2022-01-10T07:17:53.809Z"
   },
   {
    "duration": 29,
    "start_time": "2022-01-10T07:17:53.813Z"
   },
   {
    "duration": 27,
    "start_time": "2022-01-10T07:17:53.816Z"
   },
   {
    "duration": 25,
    "start_time": "2022-01-10T07:17:53.820Z"
   },
   {
    "duration": 23,
    "start_time": "2022-01-10T07:17:53.823Z"
   },
   {
    "duration": 21,
    "start_time": "2022-01-10T07:17:53.826Z"
   },
   {
    "duration": 20,
    "start_time": "2022-01-10T07:17:53.828Z"
   },
   {
    "duration": 17,
    "start_time": "2022-01-10T07:17:53.832Z"
   },
   {
    "duration": 15,
    "start_time": "2022-01-10T07:17:53.835Z"
   },
   {
    "duration": 12,
    "start_time": "2022-01-10T07:17:53.839Z"
   },
   {
    "duration": 11,
    "start_time": "2022-01-10T07:17:53.841Z"
   },
   {
    "duration": 8,
    "start_time": "2022-01-10T07:17:53.844Z"
   },
   {
    "duration": -2,
    "start_time": "2022-01-10T07:17:53.855Z"
   },
   {
    "duration": -4,
    "start_time": "2022-01-10T07:17:53.858Z"
   },
   {
    "duration": -6,
    "start_time": "2022-01-10T07:17:53.861Z"
   },
   {
    "duration": -9,
    "start_time": "2022-01-10T07:17:53.865Z"
   },
   {
    "duration": -11,
    "start_time": "2022-01-10T07:17:53.868Z"
   },
   {
    "duration": -13,
    "start_time": "2022-01-10T07:17:53.871Z"
   },
   {
    "duration": -14,
    "start_time": "2022-01-10T07:17:53.873Z"
   },
   {
    "duration": -17,
    "start_time": "2022-01-10T07:17:53.877Z"
   },
   {
    "duration": -18,
    "start_time": "2022-01-10T07:17:53.879Z"
   },
   {
    "duration": -21,
    "start_time": "2022-01-10T07:17:53.883Z"
   },
   {
    "duration": -23,
    "start_time": "2022-01-10T07:17:53.886Z"
   },
   {
    "duration": -25,
    "start_time": "2022-01-10T07:17:53.889Z"
   },
   {
    "duration": 30,
    "start_time": "2022-01-10T07:18:59.836Z"
   },
   {
    "duration": 31,
    "start_time": "2022-01-10T07:19:54.394Z"
   },
   {
    "duration": 108,
    "start_time": "2022-01-10T07:20:27.201Z"
   },
   {
    "duration": 361,
    "start_time": "2022-01-10T07:21:04.323Z"
   },
   {
    "duration": 80,
    "start_time": "2022-01-10T07:21:49.047Z"
   },
   {
    "duration": 13,
    "start_time": "2022-01-10T07:21:51.511Z"
   },
   {
    "duration": 65,
    "start_time": "2022-01-10T07:22:05.627Z"
   },
   {
    "duration": 63,
    "start_time": "2022-01-10T07:22:09.636Z"
   },
   {
    "duration": 97,
    "start_time": "2022-01-10T07:23:23.524Z"
   },
   {
    "duration": 15,
    "start_time": "2022-01-10T07:23:53.989Z"
   },
   {
    "duration": 223,
    "start_time": "2022-01-10T07:25:28.770Z"
   },
   {
    "duration": 67,
    "start_time": "2022-01-10T07:25:33.189Z"
   },
   {
    "duration": 212,
    "start_time": "2022-01-10T07:25:38.116Z"
   },
   {
    "duration": 18,
    "start_time": "2022-01-10T07:26:08.507Z"
   },
   {
    "duration": 19,
    "start_time": "2022-01-10T07:30:24.129Z"
   },
   {
    "duration": 6195,
    "start_time": "2022-01-10T07:30:44.365Z"
   },
   {
    "duration": 18,
    "start_time": "2022-01-10T07:30:58.629Z"
   },
   {
    "duration": 801,
    "start_time": "2022-01-10T07:33:41.702Z"
   },
   {
    "duration": 11,
    "start_time": "2022-01-10T07:33:42.505Z"
   },
   {
    "duration": 11,
    "start_time": "2022-01-10T07:33:42.518Z"
   },
   {
    "duration": 36,
    "start_time": "2022-01-10T07:33:42.530Z"
   },
   {
    "duration": 11,
    "start_time": "2022-01-10T07:33:42.568Z"
   },
   {
    "duration": 5,
    "start_time": "2022-01-10T07:33:42.581Z"
   },
   {
    "duration": 11,
    "start_time": "2022-01-10T07:33:42.588Z"
   },
   {
    "duration": 26,
    "start_time": "2022-01-10T07:33:42.602Z"
   },
   {
    "duration": 5,
    "start_time": "2022-01-10T07:33:42.630Z"
   },
   {
    "duration": 4,
    "start_time": "2022-01-10T07:33:42.662Z"
   },
   {
    "duration": 20,
    "start_time": "2022-01-10T07:33:42.667Z"
   },
   {
    "duration": 4,
    "start_time": "2022-01-10T07:33:42.689Z"
   },
   {
    "duration": 9,
    "start_time": "2022-01-10T07:33:42.695Z"
   },
   {
    "duration": 292,
    "start_time": "2022-01-10T07:33:42.706Z"
   },
   {
    "duration": 10,
    "start_time": "2022-01-10T07:33:43.000Z"
   },
   {
    "duration": 5,
    "start_time": "2022-01-10T07:33:43.011Z"
   },
   {
    "duration": 13,
    "start_time": "2022-01-10T07:33:43.018Z"
   },
   {
    "duration": 28,
    "start_time": "2022-01-10T07:33:43.033Z"
   },
   {
    "duration": 179,
    "start_time": "2022-01-10T07:33:43.063Z"
   },
   {
    "duration": 4,
    "start_time": "2022-01-10T07:33:43.244Z"
   },
   {
    "duration": 13,
    "start_time": "2022-01-10T07:33:43.250Z"
   },
   {
    "duration": 4,
    "start_time": "2022-01-10T07:33:43.265Z"
   },
   {
    "duration": 15,
    "start_time": "2022-01-10T07:33:43.272Z"
   },
   {
    "duration": 623,
    "start_time": "2022-01-10T07:33:43.289Z"
   },
   {
    "duration": 5,
    "start_time": "2022-01-10T07:33:43.914Z"
   },
   {
    "duration": 24,
    "start_time": "2022-01-10T07:33:43.920Z"
   },
   {
    "duration": 986,
    "start_time": "2022-01-10T07:33:43.946Z"
   },
   {
    "duration": 574,
    "start_time": "2022-01-10T07:33:44.933Z"
   },
   {
    "duration": 35,
    "start_time": "2022-01-10T07:33:45.508Z"
   },
   {
    "duration": 128,
    "start_time": "2022-01-10T07:33:45.545Z"
   },
   {
    "duration": 13,
    "start_time": "2022-01-10T07:33:45.674Z"
   },
   {
    "duration": 13515,
    "start_time": "2022-01-10T07:33:45.688Z"
   },
   {
    "duration": 469,
    "start_time": "2022-01-10T07:33:59.205Z"
   },
   {
    "duration": 329,
    "start_time": "2022-01-10T07:33:59.676Z"
   },
   {
    "duration": 367,
    "start_time": "2022-01-10T07:34:00.007Z"
   },
   {
    "duration": 16,
    "start_time": "2022-01-10T07:34:00.376Z"
   },
   {
    "duration": 8,
    "start_time": "2022-01-10T07:34:00.393Z"
   },
   {
    "duration": 35,
    "start_time": "2022-01-10T07:34:00.402Z"
   },
   {
    "duration": 382,
    "start_time": "2022-01-10T07:34:00.439Z"
   },
   {
    "duration": 2677,
    "start_time": "2022-01-10T07:34:00.823Z"
   },
   {
    "duration": 244,
    "start_time": "2022-01-10T07:34:03.502Z"
   },
   {
    "duration": 7,
    "start_time": "2022-01-10T07:37:13.514Z"
   },
   {
    "duration": 269,
    "start_time": "2022-01-10T07:37:52.308Z"
   },
   {
    "duration": 27,
    "start_time": "2022-01-10T07:37:57.589Z"
   },
   {
    "duration": 759,
    "start_time": "2022-01-10T07:38:21.610Z"
   },
   {
    "duration": 10,
    "start_time": "2022-01-10T07:38:22.371Z"
   },
   {
    "duration": 10,
    "start_time": "2022-01-10T07:38:22.383Z"
   },
   {
    "duration": 23,
    "start_time": "2022-01-10T07:38:22.395Z"
   },
   {
    "duration": 9,
    "start_time": "2022-01-10T07:38:22.419Z"
   },
   {
    "duration": 10,
    "start_time": "2022-01-10T07:38:22.430Z"
   },
   {
    "duration": 10,
    "start_time": "2022-01-10T07:38:22.461Z"
   },
   {
    "duration": 34,
    "start_time": "2022-01-10T07:38:22.473Z"
   },
   {
    "duration": 5,
    "start_time": "2022-01-10T07:38:22.510Z"
   },
   {
    "duration": 20,
    "start_time": "2022-01-10T07:38:22.517Z"
   },
   {
    "duration": 29,
    "start_time": "2022-01-10T07:38:22.538Z"
   },
   {
    "duration": 6,
    "start_time": "2022-01-10T07:38:22.568Z"
   },
   {
    "duration": 29,
    "start_time": "2022-01-10T07:38:22.576Z"
   },
   {
    "duration": 268,
    "start_time": "2022-01-10T07:38:22.606Z"
   },
   {
    "duration": 9,
    "start_time": "2022-01-10T07:38:22.876Z"
   },
   {
    "duration": 36,
    "start_time": "2022-01-10T07:38:22.887Z"
   },
   {
    "duration": 30,
    "start_time": "2022-01-10T07:38:22.925Z"
   },
   {
    "duration": 14,
    "start_time": "2022-01-10T07:38:22.957Z"
   },
   {
    "duration": 339,
    "start_time": "2022-01-10T07:38:22.973Z"
   },
   {
    "duration": 6,
    "start_time": "2022-01-10T07:38:23.315Z"
   },
   {
    "duration": 51,
    "start_time": "2022-01-10T07:38:23.323Z"
   },
   {
    "duration": 5,
    "start_time": "2022-01-10T07:38:23.375Z"
   },
   {
    "duration": 20,
    "start_time": "2022-01-10T07:38:23.383Z"
   },
   {
    "duration": 22,
    "start_time": "2022-01-10T07:38:23.405Z"
   },
   {
    "duration": 18,
    "start_time": "2022-01-10T07:38:23.428Z"
   },
   {
    "duration": 628,
    "start_time": "2022-01-10T07:38:23.447Z"
   },
   {
    "duration": 6,
    "start_time": "2022-01-10T07:38:24.077Z"
   },
   {
    "duration": 23,
    "start_time": "2022-01-10T07:38:24.084Z"
   },
   {
    "duration": 1007,
    "start_time": "2022-01-10T07:38:24.109Z"
   },
   {
    "duration": 575,
    "start_time": "2022-01-10T07:38:25.117Z"
   },
   {
    "duration": 36,
    "start_time": "2022-01-10T07:38:25.694Z"
   },
   {
    "duration": 141,
    "start_time": "2022-01-10T07:38:25.732Z"
   },
   {
    "duration": 12,
    "start_time": "2022-01-10T07:38:25.875Z"
   },
   {
    "duration": 14011,
    "start_time": "2022-01-10T07:38:25.889Z"
   },
   {
    "duration": 489,
    "start_time": "2022-01-10T07:38:39.902Z"
   },
   {
    "duration": 334,
    "start_time": "2022-01-10T07:38:40.393Z"
   },
   {
    "duration": 478,
    "start_time": "2022-01-10T07:38:40.729Z"
   },
   {
    "duration": 14,
    "start_time": "2022-01-10T07:38:41.209Z"
   },
   {
    "duration": 7,
    "start_time": "2022-01-10T07:38:41.224Z"
   },
   {
    "duration": 61,
    "start_time": "2022-01-10T07:38:41.233Z"
   },
   {
    "duration": 379,
    "start_time": "2022-01-10T07:38:41.295Z"
   },
   {
    "duration": 2772,
    "start_time": "2022-01-10T07:38:41.676Z"
   },
   {
    "duration": 264,
    "start_time": "2022-01-10T07:38:44.450Z"
   },
   {
    "duration": 721,
    "start_time": "2022-01-10T07:42:40.818Z"
   },
   {
    "duration": 10,
    "start_time": "2022-01-10T07:42:41.541Z"
   },
   {
    "duration": 10,
    "start_time": "2022-01-10T07:42:41.560Z"
   },
   {
    "duration": 18,
    "start_time": "2022-01-10T07:42:41.572Z"
   },
   {
    "duration": 10,
    "start_time": "2022-01-10T07:42:41.592Z"
   },
   {
    "duration": 8,
    "start_time": "2022-01-10T07:42:41.604Z"
   },
   {
    "duration": 17,
    "start_time": "2022-01-10T07:42:41.613Z"
   },
   {
    "duration": 46,
    "start_time": "2022-01-10T07:42:41.633Z"
   },
   {
    "duration": 5,
    "start_time": "2022-01-10T07:42:41.681Z"
   },
   {
    "duration": 6,
    "start_time": "2022-01-10T07:42:41.688Z"
   },
   {
    "duration": 20,
    "start_time": "2022-01-10T07:42:41.696Z"
   },
   {
    "duration": 5,
    "start_time": "2022-01-10T07:42:41.717Z"
   },
   {
    "duration": 11,
    "start_time": "2022-01-10T07:42:41.723Z"
   },
   {
    "duration": 298,
    "start_time": "2022-01-10T07:42:41.736Z"
   },
   {
    "duration": 10,
    "start_time": "2022-01-10T07:42:42.036Z"
   },
   {
    "duration": 15,
    "start_time": "2022-01-10T07:42:42.047Z"
   },
   {
    "duration": 12,
    "start_time": "2022-01-10T07:42:42.063Z"
   },
   {
    "duration": 6,
    "start_time": "2022-01-10T07:42:42.077Z"
   },
   {
    "duration": 194,
    "start_time": "2022-01-10T07:42:42.085Z"
   },
   {
    "duration": 6,
    "start_time": "2022-01-10T07:42:42.281Z"
   },
   {
    "duration": 34,
    "start_time": "2022-01-10T07:42:42.289Z"
   },
   {
    "duration": 5,
    "start_time": "2022-01-10T07:42:42.325Z"
   },
   {
    "duration": 13,
    "start_time": "2022-01-10T07:42:42.334Z"
   },
   {
    "duration": 22,
    "start_time": "2022-01-10T07:42:42.349Z"
   },
   {
    "duration": 660,
    "start_time": "2022-01-10T07:42:42.373Z"
   },
   {
    "duration": 5,
    "start_time": "2022-01-10T07:42:43.034Z"
   },
   {
    "duration": 30,
    "start_time": "2022-01-10T07:42:43.041Z"
   },
   {
    "duration": 999,
    "start_time": "2022-01-10T07:42:43.073Z"
   },
   {
    "duration": 569,
    "start_time": "2022-01-10T07:42:44.074Z"
   },
   {
    "duration": 44,
    "start_time": "2022-01-10T07:42:44.645Z"
   },
   {
    "duration": 113,
    "start_time": "2022-01-10T07:42:44.691Z"
   },
   {
    "duration": 13,
    "start_time": "2022-01-10T07:42:44.806Z"
   },
   {
    "duration": 13862,
    "start_time": "2022-01-10T07:42:44.820Z"
   },
   {
    "duration": 488,
    "start_time": "2022-01-10T07:42:58.683Z"
   },
   {
    "duration": 351,
    "start_time": "2022-01-10T07:42:59.173Z"
   },
   {
    "duration": 376,
    "start_time": "2022-01-10T07:42:59.525Z"
   },
   {
    "duration": 15,
    "start_time": "2022-01-10T07:42:59.902Z"
   },
   {
    "duration": 7,
    "start_time": "2022-01-10T07:42:59.918Z"
   },
   {
    "duration": 53,
    "start_time": "2022-01-10T07:42:59.927Z"
   },
   {
    "duration": 397,
    "start_time": "2022-01-10T07:42:59.982Z"
   },
   {
    "duration": 3421,
    "start_time": "2022-01-10T07:43:00.380Z"
   },
   {
    "duration": 346,
    "start_time": "2022-01-10T07:43:03.803Z"
   },
   {
    "duration": 82,
    "start_time": "2022-01-10T12:31:08.623Z"
   },
   {
    "duration": 84,
    "start_time": "2022-01-10T12:31:14.195Z"
   },
   {
    "duration": 508,
    "start_time": "2022-01-10T12:31:30.711Z"
   },
   {
    "duration": 89,
    "start_time": "2022-01-10T12:35:47.296Z"
   },
   {
    "duration": 5518,
    "start_time": "2022-01-10T12:40:37.904Z"
   },
   {
    "duration": 204,
    "start_time": "2022-01-10T12:44:20.561Z"
   },
   {
    "duration": 123,
    "start_time": "2022-01-10T12:44:27.494Z"
   },
   {
    "duration": 113,
    "start_time": "2022-01-10T12:44:40.652Z"
   },
   {
    "duration": 127,
    "start_time": "2022-01-10T12:45:19.785Z"
   },
   {
    "duration": 117,
    "start_time": "2022-01-10T12:45:32.093Z"
   },
   {
    "duration": 250,
    "start_time": "2022-01-10T12:46:26.876Z"
   },
   {
    "duration": 120,
    "start_time": "2022-01-10T12:46:31.504Z"
   },
   {
    "duration": 71,
    "start_time": "2022-01-10T13:01:14.627Z"
   },
   {
    "duration": 78,
    "start_time": "2022-01-10T13:01:27.204Z"
   },
   {
    "duration": 259,
    "start_time": "2022-01-10T13:01:34.335Z"
   },
   {
    "duration": 6172,
    "start_time": "2022-01-10T13:01:43.144Z"
   },
   {
    "duration": 767,
    "start_time": "2022-01-10T13:02:40.056Z"
   },
   {
    "duration": 10,
    "start_time": "2022-01-10T13:02:40.825Z"
   },
   {
    "duration": 24,
    "start_time": "2022-01-10T13:02:40.837Z"
   },
   {
    "duration": 20,
    "start_time": "2022-01-10T13:02:40.863Z"
   },
   {
    "duration": 10,
    "start_time": "2022-01-10T13:02:40.884Z"
   },
   {
    "duration": 7,
    "start_time": "2022-01-10T13:02:40.896Z"
   },
   {
    "duration": 9,
    "start_time": "2022-01-10T13:02:40.905Z"
   },
   {
    "duration": 57,
    "start_time": "2022-01-10T13:02:40.916Z"
   },
   {
    "duration": 5,
    "start_time": "2022-01-10T13:02:40.975Z"
   },
   {
    "duration": 6,
    "start_time": "2022-01-10T13:02:40.982Z"
   },
   {
    "duration": 20,
    "start_time": "2022-01-10T13:02:40.990Z"
   },
   {
    "duration": 5,
    "start_time": "2022-01-10T13:02:41.012Z"
   },
   {
    "duration": 9,
    "start_time": "2022-01-10T13:02:41.018Z"
   },
   {
    "duration": 301,
    "start_time": "2022-01-10T13:02:41.028Z"
   },
   {
    "duration": 10,
    "start_time": "2022-01-10T13:02:41.331Z"
   },
   {
    "duration": 18,
    "start_time": "2022-01-10T13:02:41.343Z"
   },
   {
    "duration": 10,
    "start_time": "2022-01-10T13:02:41.362Z"
   },
   {
    "duration": 6,
    "start_time": "2022-01-10T13:02:41.374Z"
   },
   {
    "duration": 197,
    "start_time": "2022-01-10T13:02:41.382Z"
   },
   {
    "duration": 6,
    "start_time": "2022-01-10T13:02:41.581Z"
   },
   {
    "duration": 26,
    "start_time": "2022-01-10T13:02:41.589Z"
   },
   {
    "duration": 5,
    "start_time": "2022-01-10T13:02:41.616Z"
   },
   {
    "duration": 7,
    "start_time": "2022-01-10T13:02:41.624Z"
   },
   {
    "duration": 34,
    "start_time": "2022-01-10T13:02:41.633Z"
   },
   {
    "duration": 641,
    "start_time": "2022-01-10T13:02:41.669Z"
   },
   {
    "duration": 6,
    "start_time": "2022-01-10T13:02:42.312Z"
   },
   {
    "duration": 28,
    "start_time": "2022-01-10T13:02:42.320Z"
   },
   {
    "duration": 1245,
    "start_time": "2022-01-10T13:02:42.350Z"
   },
   {
    "duration": 764,
    "start_time": "2022-01-10T13:02:43.596Z"
   },
   {
    "duration": 878,
    "start_time": "2022-01-10T13:02:44.363Z"
   },
   {
    "duration": 47,
    "start_time": "2022-01-10T13:02:45.243Z"
   },
   {
    "duration": 123,
    "start_time": "2022-01-10T13:02:45.292Z"
   },
   {
    "duration": 14,
    "start_time": "2022-01-10T13:02:45.417Z"
   },
   {
    "duration": 13678,
    "start_time": "2022-01-10T13:02:45.433Z"
   },
   {
    "duration": 479,
    "start_time": "2022-01-10T13:02:59.113Z"
   },
   {
    "duration": 351,
    "start_time": "2022-01-10T13:02:59.594Z"
   },
   {
    "duration": 385,
    "start_time": "2022-01-10T13:02:59.947Z"
   },
   {
    "duration": 31,
    "start_time": "2022-01-10T13:03:00.335Z"
   },
   {
    "duration": 9,
    "start_time": "2022-01-10T13:03:00.368Z"
   },
   {
    "duration": 43,
    "start_time": "2022-01-10T13:03:00.379Z"
   },
   {
    "duration": 453,
    "start_time": "2022-01-10T13:03:00.424Z"
   },
   {
    "duration": 2848,
    "start_time": "2022-01-10T13:03:00.880Z"
   },
   {
    "duration": 239,
    "start_time": "2022-01-10T13:03:03.730Z"
   },
   {
    "duration": 649,
    "start_time": "2022-01-10T13:03:17.452Z"
   },
   {
    "duration": 188,
    "start_time": "2022-01-10T13:04:29.020Z"
   },
   {
    "duration": 244,
    "start_time": "2022-01-10T13:04:48.504Z"
   },
   {
    "duration": 146,
    "start_time": "2022-01-10T13:05:04.481Z"
   },
   {
    "duration": 140,
    "start_time": "2022-01-10T13:05:15.782Z"
   },
   {
    "duration": 160,
    "start_time": "2022-01-10T13:05:35.232Z"
   },
   {
    "duration": 150,
    "start_time": "2022-01-10T13:05:44.125Z"
   },
   {
    "duration": 153,
    "start_time": "2022-01-10T13:06:00.717Z"
   },
   {
    "duration": 125,
    "start_time": "2022-01-10T13:06:14.350Z"
   },
   {
    "duration": 497,
    "start_time": "2022-01-10T13:07:22.495Z"
   },
   {
    "duration": 19,
    "start_time": "2022-01-10T13:10:05.313Z"
   },
   {
    "duration": 16,
    "start_time": "2022-01-10T13:10:11.814Z"
   },
   {
    "duration": 18,
    "start_time": "2022-01-10T13:10:52.419Z"
   },
   {
    "duration": 17,
    "start_time": "2022-01-10T13:12:30.820Z"
   },
   {
    "duration": 266,
    "start_time": "2022-01-10T13:13:42.322Z"
   },
   {
    "duration": 71,
    "start_time": "2022-01-10T13:13:54.008Z"
   },
   {
    "duration": 97,
    "start_time": "2022-01-10T13:14:03.305Z"
   },
   {
    "duration": 11,
    "start_time": "2022-01-10T13:14:10.446Z"
   },
   {
    "duration": 18,
    "start_time": "2022-01-10T13:15:08.991Z"
   },
   {
    "duration": 17,
    "start_time": "2022-01-10T13:15:57.934Z"
   },
   {
    "duration": 21,
    "start_time": "2022-01-10T13:19:10.605Z"
   },
   {
    "duration": 18,
    "start_time": "2022-01-10T13:19:19.244Z"
   },
   {
    "duration": 16,
    "start_time": "2022-01-10T13:19:28.736Z"
   },
   {
    "duration": 17,
    "start_time": "2022-01-10T13:19:40.107Z"
   },
   {
    "duration": 10,
    "start_time": "2022-01-10T13:20:47.237Z"
   },
   {
    "duration": 266,
    "start_time": "2022-01-10T13:21:16.271Z"
   },
   {
    "duration": 67,
    "start_time": "2022-01-10T13:21:42.865Z"
   },
   {
    "duration": 117,
    "start_time": "2022-01-10T13:21:47.488Z"
   },
   {
    "duration": 9,
    "start_time": "2022-01-10T13:25:37.388Z"
   },
   {
    "duration": 10,
    "start_time": "2022-01-10T13:25:44.157Z"
   },
   {
    "duration": 10,
    "start_time": "2022-01-10T13:25:52.574Z"
   },
   {
    "duration": 10,
    "start_time": "2022-01-10T13:25:59.333Z"
   },
   {
    "duration": 11,
    "start_time": "2022-01-10T13:26:18.763Z"
   },
   {
    "duration": 10,
    "start_time": "2022-01-10T13:27:56.890Z"
   },
   {
    "duration": 8,
    "start_time": "2022-01-10T13:33:09.208Z"
   },
   {
    "duration": 35,
    "start_time": "2022-01-10T13:35:03.401Z"
   },
   {
    "duration": 33,
    "start_time": "2022-01-10T13:35:27.144Z"
   },
   {
    "duration": 38,
    "start_time": "2022-01-10T13:36:07.914Z"
   },
   {
    "duration": 34,
    "start_time": "2022-01-10T13:37:54.551Z"
   },
   {
    "duration": 32,
    "start_time": "2022-01-10T13:41:02.830Z"
   },
   {
    "duration": 829,
    "start_time": "2022-01-10T13:43:16.204Z"
   },
   {
    "duration": 30,
    "start_time": "2022-01-10T13:43:39.136Z"
   },
   {
    "duration": 33,
    "start_time": "2022-01-10T13:43:52.586Z"
   },
   {
    "duration": 33,
    "start_time": "2022-01-10T13:45:01.744Z"
   },
   {
    "duration": 29,
    "start_time": "2022-01-10T13:45:54.824Z"
   },
   {
    "duration": 27,
    "start_time": "2022-01-10T13:46:10.118Z"
   },
   {
    "duration": 28,
    "start_time": "2022-01-10T13:46:18.082Z"
   },
   {
    "duration": 29,
    "start_time": "2022-01-10T13:46:23.322Z"
   },
   {
    "duration": 29,
    "start_time": "2022-01-10T13:46:26.218Z"
   },
   {
    "duration": 18,
    "start_time": "2022-01-10T13:46:44.624Z"
   },
   {
    "duration": 29,
    "start_time": "2022-01-10T13:47:02.768Z"
   },
   {
    "duration": 295,
    "start_time": "2022-01-10T13:52:26.661Z"
   },
   {
    "duration": 8,
    "start_time": "2022-01-10T13:53:42.505Z"
   },
   {
    "duration": 11,
    "start_time": "2022-01-10T13:55:56.356Z"
   },
   {
    "duration": 28,
    "start_time": "2022-01-10T13:57:25.383Z"
   },
   {
    "duration": 30,
    "start_time": "2022-01-10T13:57:40.316Z"
   },
   {
    "duration": 31,
    "start_time": "2022-01-10T13:58:04.412Z"
   },
   {
    "duration": 32,
    "start_time": "2022-01-10T13:58:18.843Z"
   },
   {
    "duration": 9,
    "start_time": "2022-01-10T13:59:46.538Z"
   },
   {
    "duration": 42,
    "start_time": "2022-01-10T14:00:05.479Z"
   },
   {
    "duration": 12,
    "start_time": "2022-01-10T14:00:09.189Z"
   },
   {
    "duration": 14,
    "start_time": "2022-01-10T14:01:51.047Z"
   },
   {
    "duration": 13,
    "start_time": "2022-01-10T14:03:15.520Z"
   },
   {
    "duration": 120,
    "start_time": "2022-01-10T14:04:53.741Z"
   },
   {
    "duration": 3350,
    "start_time": "2022-01-10T14:08:51.176Z"
   },
   {
    "duration": 3297,
    "start_time": "2022-01-10T14:09:05.853Z"
   },
   {
    "duration": 3257,
    "start_time": "2022-01-10T14:09:19.014Z"
   },
   {
    "duration": 607,
    "start_time": "2022-01-10T14:11:21.714Z"
   },
   {
    "duration": 2895,
    "start_time": "2022-01-10T14:13:03.717Z"
   },
   {
    "duration": 2902,
    "start_time": "2022-01-10T14:13:17.120Z"
   },
   {
    "duration": 3305,
    "start_time": "2022-01-10T14:13:28.478Z"
   },
   {
    "duration": 2982,
    "start_time": "2022-01-10T14:13:33.689Z"
   },
   {
    "duration": 3144,
    "start_time": "2022-01-10T14:14:31.984Z"
   },
   {
    "duration": 3214,
    "start_time": "2022-01-10T14:14:49.939Z"
   },
   {
    "duration": 59,
    "start_time": "2022-01-10T14:18:21.273Z"
   },
   {
    "duration": 8097,
    "start_time": "2022-01-10T14:19:02.077Z"
   },
   {
    "duration": 226,
    "start_time": "2022-01-10T14:19:32.826Z"
   },
   {
    "duration": 13,
    "start_time": "2022-01-10T14:19:35.686Z"
   },
   {
    "duration": 12,
    "start_time": "2022-01-10T14:19:46.980Z"
   },
   {
    "duration": 110,
    "start_time": "2022-01-10T14:27:42.092Z"
   },
   {
    "duration": 733,
    "start_time": "2022-01-10T14:27:58.213Z"
   },
   {
    "duration": 17,
    "start_time": "2022-01-10T14:27:58.948Z"
   },
   {
    "duration": 11,
    "start_time": "2022-01-10T14:27:58.967Z"
   },
   {
    "duration": 19,
    "start_time": "2022-01-10T14:27:58.980Z"
   },
   {
    "duration": 42,
    "start_time": "2022-01-10T14:27:59.001Z"
   },
   {
    "duration": 16,
    "start_time": "2022-01-10T14:27:59.045Z"
   },
   {
    "duration": 20,
    "start_time": "2022-01-10T14:27:59.063Z"
   },
   {
    "duration": 59,
    "start_time": "2022-01-10T14:27:59.086Z"
   },
   {
    "duration": 53,
    "start_time": "2022-01-10T14:27:59.148Z"
   },
   {
    "duration": 34,
    "start_time": "2022-01-10T14:27:59.203Z"
   },
   {
    "duration": 30,
    "start_time": "2022-01-10T14:27:59.239Z"
   },
   {
    "duration": 8,
    "start_time": "2022-01-10T14:27:59.271Z"
   },
   {
    "duration": 12,
    "start_time": "2022-01-10T14:27:59.281Z"
   },
   {
    "duration": 302,
    "start_time": "2022-01-10T14:27:59.295Z"
   },
   {
    "duration": 10,
    "start_time": "2022-01-10T14:27:59.599Z"
   },
   {
    "duration": 5,
    "start_time": "2022-01-10T14:27:59.611Z"
   },
   {
    "duration": 18,
    "start_time": "2022-01-10T14:27:59.618Z"
   },
   {
    "duration": 24,
    "start_time": "2022-01-10T14:27:59.638Z"
   },
   {
    "duration": 196,
    "start_time": "2022-01-10T14:27:59.664Z"
   },
   {
    "duration": 7,
    "start_time": "2022-01-10T14:27:59.862Z"
   },
   {
    "duration": 28,
    "start_time": "2022-01-10T14:27:59.870Z"
   },
   {
    "duration": 5,
    "start_time": "2022-01-10T14:27:59.900Z"
   },
   {
    "duration": 4,
    "start_time": "2022-01-10T14:27:59.909Z"
   },
   {
    "duration": 48,
    "start_time": "2022-01-10T14:27:59.915Z"
   },
   {
    "duration": 683,
    "start_time": "2022-01-10T14:27:59.965Z"
   },
   {
    "duration": 16,
    "start_time": "2022-01-10T14:28:00.650Z"
   },
   {
    "duration": 39,
    "start_time": "2022-01-10T14:28:00.668Z"
   },
   {
    "duration": 1393,
    "start_time": "2022-01-10T14:28:00.709Z"
   },
   {
    "duration": 637,
    "start_time": "2022-01-10T14:28:02.104Z"
   },
   {
    "duration": 623,
    "start_time": "2022-01-10T14:28:02.743Z"
   },
   {
    "duration": 18,
    "start_time": "2022-01-10T14:28:03.368Z"
   },
   {
    "duration": 33,
    "start_time": "2022-01-10T14:28:03.388Z"
   },
   {
    "duration": 38,
    "start_time": "2022-01-10T14:28:03.423Z"
   },
   {
    "duration": 3,
    "start_time": "2022-01-10T14:28:03.463Z"
   },
   {
    "duration": 127,
    "start_time": "2022-01-10T14:28:03.468Z"
   },
   {
    "duration": 15,
    "start_time": "2022-01-10T14:28:03.597Z"
   },
   {
    "duration": 18547,
    "start_time": "2022-01-10T14:28:03.614Z"
   },
   {
    "duration": 482,
    "start_time": "2022-01-10T14:28:22.163Z"
   },
   {
    "duration": 319,
    "start_time": "2022-01-10T14:28:22.646Z"
   },
   {
    "duration": 381,
    "start_time": "2022-01-10T14:28:22.967Z"
   },
   {
    "duration": 20,
    "start_time": "2022-01-10T14:28:23.350Z"
   },
   {
    "duration": 10,
    "start_time": "2022-01-10T14:28:23.372Z"
   },
   {
    "duration": 31,
    "start_time": "2022-01-10T14:28:23.384Z"
   },
   {
    "duration": 398,
    "start_time": "2022-01-10T14:28:23.416Z"
   },
   {
    "duration": 2942,
    "start_time": "2022-01-10T14:28:23.816Z"
   },
   {
    "duration": 266,
    "start_time": "2022-01-10T14:28:26.761Z"
   },
   {
    "duration": 12,
    "start_time": "2022-01-10T14:28:27.029Z"
   },
   {
    "duration": 25,
    "start_time": "2022-01-10T14:28:27.043Z"
   },
   {
    "duration": 279,
    "start_time": "2022-01-11T05:57:25.938Z"
   },
   {
    "duration": 734,
    "start_time": "2022-01-26T09:33:14.828Z"
   },
   {
    "duration": 809,
    "start_time": "2022-01-26T09:33:22.488Z"
   },
   {
    "duration": 12,
    "start_time": "2022-01-26T09:33:23.299Z"
   },
   {
    "duration": 10,
    "start_time": "2022-01-26T09:33:23.316Z"
   },
   {
    "duration": 23,
    "start_time": "2022-01-26T09:33:23.328Z"
   },
   {
    "duration": 14,
    "start_time": "2022-01-26T09:33:23.353Z"
   },
   {
    "duration": 40,
    "start_time": "2022-01-26T09:33:23.368Z"
   },
   {
    "duration": 11,
    "start_time": "2022-01-26T09:33:23.411Z"
   },
   {
    "duration": 31,
    "start_time": "2022-01-26T09:33:23.424Z"
   },
   {
    "duration": 7,
    "start_time": "2022-01-26T09:33:23.456Z"
   },
   {
    "duration": 7,
    "start_time": "2022-01-26T09:33:23.464Z"
   },
   {
    "duration": 51,
    "start_time": "2022-01-26T09:33:23.473Z"
   },
   {
    "duration": 5,
    "start_time": "2022-01-26T09:33:23.526Z"
   },
   {
    "duration": 15,
    "start_time": "2022-01-26T09:33:23.533Z"
   },
   {
    "duration": 304,
    "start_time": "2022-01-26T09:33:23.550Z"
   },
   {
    "duration": 10,
    "start_time": "2022-01-26T09:33:23.856Z"
   },
   {
    "duration": 6,
    "start_time": "2022-01-26T09:33:23.869Z"
   },
   {
    "duration": 35,
    "start_time": "2022-01-26T09:33:23.877Z"
   },
   {
    "duration": 7,
    "start_time": "2022-01-26T09:33:23.914Z"
   },
   {
    "duration": 200,
    "start_time": "2022-01-26T09:33:23.923Z"
   },
   {
    "duration": 6,
    "start_time": "2022-01-26T09:33:24.125Z"
   },
   {
    "duration": 24,
    "start_time": "2022-01-26T09:33:24.132Z"
   },
   {
    "duration": 6,
    "start_time": "2022-01-26T09:33:24.160Z"
   },
   {
    "duration": 6,
    "start_time": "2022-01-26T09:33:24.169Z"
   },
   {
    "duration": 43,
    "start_time": "2022-01-26T09:33:24.177Z"
   },
   {
    "duration": 645,
    "start_time": "2022-01-26T09:33:24.222Z"
   },
   {
    "duration": 7,
    "start_time": "2022-01-26T09:33:24.869Z"
   },
   {
    "duration": 38,
    "start_time": "2022-01-26T09:33:24.878Z"
   },
   {
    "duration": 1328,
    "start_time": "2022-01-26T09:33:24.917Z"
   },
   {
    "duration": 623,
    "start_time": "2022-01-26T09:33:26.247Z"
   },
   {
    "duration": 644,
    "start_time": "2022-01-26T09:33:26.872Z"
   },
   {
    "duration": 20,
    "start_time": "2022-01-26T09:33:27.519Z"
   },
   {
    "duration": 38,
    "start_time": "2022-01-26T09:33:27.542Z"
   },
   {
    "duration": 35,
    "start_time": "2022-01-26T09:33:27.581Z"
   },
   {
    "duration": 3,
    "start_time": "2022-01-26T09:33:27.617Z"
   },
   {
    "duration": 130,
    "start_time": "2022-01-26T09:33:27.622Z"
   },
   {
    "duration": 18,
    "start_time": "2022-01-26T09:33:27.754Z"
   },
   {
    "duration": 18343,
    "start_time": "2022-01-26T09:33:27.775Z"
   },
   {
    "duration": 523,
    "start_time": "2022-01-26T09:33:46.120Z"
   },
   {
    "duration": 329,
    "start_time": "2022-01-26T09:33:46.645Z"
   },
   {
    "duration": 396,
    "start_time": "2022-01-26T09:33:46.975Z"
   },
   {
    "duration": 18,
    "start_time": "2022-01-26T09:33:47.373Z"
   },
   {
    "duration": 8,
    "start_time": "2022-01-26T09:33:47.408Z"
   },
   {
    "duration": 42,
    "start_time": "2022-01-26T09:33:47.418Z"
   },
   {
    "duration": 437,
    "start_time": "2022-01-26T09:33:47.461Z"
   },
   {
    "duration": 3069,
    "start_time": "2022-01-26T09:33:47.900Z"
   },
   {
    "duration": 290,
    "start_time": "2022-01-26T09:33:50.972Z"
   },
   {
    "duration": 13,
    "start_time": "2022-01-26T09:33:51.264Z"
   },
   {
    "duration": 30,
    "start_time": "2022-01-26T09:33:51.279Z"
   },
   {
    "duration": 31,
    "start_time": "2022-01-26T09:33:54.448Z"
   },
   {
    "duration": 12,
    "start_time": "2022-01-26T09:34:24.642Z"
   },
   {
    "duration": 779,
    "start_time": "2022-01-26T09:34:34.793Z"
   },
   {
    "duration": 12,
    "start_time": "2022-01-26T09:34:35.574Z"
   },
   {
    "duration": 25,
    "start_time": "2022-01-26T09:34:35.588Z"
   },
   {
    "duration": 23,
    "start_time": "2022-01-26T09:34:35.615Z"
   },
   {
    "duration": 26,
    "start_time": "2022-01-26T09:34:35.640Z"
   },
   {
    "duration": 12,
    "start_time": "2022-01-26T09:34:35.668Z"
   },
   {
    "duration": 32,
    "start_time": "2022-01-26T09:34:35.681Z"
   },
   {
    "duration": 32,
    "start_time": "2022-01-26T09:34:35.717Z"
   },
   {
    "duration": 7,
    "start_time": "2022-01-26T09:34:35.752Z"
   },
   {
    "duration": 26,
    "start_time": "2022-01-26T09:34:35.760Z"
   },
   {
    "duration": 29,
    "start_time": "2022-01-26T09:34:35.788Z"
   },
   {
    "duration": 9,
    "start_time": "2022-01-26T09:34:35.819Z"
   },
   {
    "duration": 18,
    "start_time": "2022-01-26T09:34:35.830Z"
   },
   {
    "duration": 312,
    "start_time": "2022-01-26T09:34:35.850Z"
   },
   {
    "duration": 11,
    "start_time": "2022-01-26T09:34:36.165Z"
   },
   {
    "duration": 190,
    "start_time": "2022-01-26T09:34:36.179Z"
   },
   {
    "duration": 25,
    "start_time": "2022-01-26T09:34:36.372Z"
   },
   {
    "duration": 10,
    "start_time": "2022-01-26T09:34:36.400Z"
   },
   {
    "duration": 339,
    "start_time": "2022-01-26T09:34:36.412Z"
   },
   {
    "duration": 7,
    "start_time": "2022-01-26T09:34:36.752Z"
   },
   {
    "duration": 37,
    "start_time": "2022-01-26T09:34:36.761Z"
   },
   {
    "duration": 11,
    "start_time": "2022-01-26T09:34:36.800Z"
   },
   {
    "duration": 15,
    "start_time": "2022-01-26T09:34:36.815Z"
   },
   {
    "duration": 31,
    "start_time": "2022-01-26T09:34:36.833Z"
   },
   {
    "duration": 922,
    "start_time": "2022-01-26T09:34:36.866Z"
   },
   {
    "duration": 7,
    "start_time": "2022-01-26T09:34:37.790Z"
   },
   {
    "duration": 32,
    "start_time": "2022-01-26T09:34:37.798Z"
   },
   {
    "duration": 1113,
    "start_time": "2022-01-26T09:34:37.832Z"
   },
   {
    "duration": 633,
    "start_time": "2022-01-26T09:34:38.947Z"
   },
   {
    "duration": 648,
    "start_time": "2022-01-26T09:34:39.582Z"
   },
   {
    "duration": 19,
    "start_time": "2022-01-26T09:34:40.231Z"
   },
   {
    "duration": 33,
    "start_time": "2022-01-26T09:34:40.251Z"
   },
   {
    "duration": 32,
    "start_time": "2022-01-26T09:34:40.285Z"
   },
   {
    "duration": 3,
    "start_time": "2022-01-26T09:34:40.319Z"
   },
   {
    "duration": 132,
    "start_time": "2022-01-26T09:34:40.323Z"
   },
   {
    "duration": 16,
    "start_time": "2022-01-26T09:34:40.457Z"
   },
   {
    "duration": 751,
    "start_time": "2022-01-26T09:35:02.954Z"
   },
   {
    "duration": 12,
    "start_time": "2022-01-26T09:35:03.707Z"
   },
   {
    "duration": 10,
    "start_time": "2022-01-26T09:35:03.722Z"
   },
   {
    "duration": 23,
    "start_time": "2022-01-26T09:35:03.735Z"
   },
   {
    "duration": 11,
    "start_time": "2022-01-26T09:35:03.759Z"
   },
   {
    "duration": 40,
    "start_time": "2022-01-26T09:35:03.771Z"
   },
   {
    "duration": 10,
    "start_time": "2022-01-26T09:35:03.813Z"
   },
   {
    "duration": 31,
    "start_time": "2022-01-26T09:35:03.825Z"
   },
   {
    "duration": 7,
    "start_time": "2022-01-26T09:35:03.859Z"
   },
   {
    "duration": 7,
    "start_time": "2022-01-26T09:35:03.868Z"
   },
   {
    "duration": 48,
    "start_time": "2022-01-26T09:35:03.876Z"
   },
   {
    "duration": 13,
    "start_time": "2022-01-26T09:35:03.926Z"
   },
   {
    "duration": 13,
    "start_time": "2022-01-26T09:35:03.941Z"
   },
   {
    "duration": 315,
    "start_time": "2022-01-26T09:35:03.956Z"
   },
   {
    "duration": 10,
    "start_time": "2022-01-26T09:35:04.274Z"
   },
   {
    "duration": 21,
    "start_time": "2022-01-26T09:35:04.286Z"
   },
   {
    "duration": 11,
    "start_time": "2022-01-26T09:35:04.309Z"
   },
   {
    "duration": 9,
    "start_time": "2022-01-26T09:35:04.322Z"
   },
   {
    "duration": 206,
    "start_time": "2022-01-26T09:35:04.332Z"
   },
   {
    "duration": 6,
    "start_time": "2022-01-26T09:35:04.540Z"
   },
   {
    "duration": 29,
    "start_time": "2022-01-26T09:35:04.548Z"
   },
   {
    "duration": 5,
    "start_time": "2022-01-26T09:35:04.579Z"
   },
   {
    "duration": 28,
    "start_time": "2022-01-26T09:35:04.586Z"
   },
   {
    "duration": 47,
    "start_time": "2022-01-26T09:35:04.616Z"
   },
   {
    "duration": 627,
    "start_time": "2022-01-26T09:35:04.665Z"
   },
   {
    "duration": 14,
    "start_time": "2022-01-26T09:35:05.294Z"
   },
   {
    "duration": 23,
    "start_time": "2022-01-26T09:35:05.313Z"
   },
   {
    "duration": 1070,
    "start_time": "2022-01-26T09:35:05.339Z"
   },
   {
    "duration": 644,
    "start_time": "2022-01-26T09:35:06.411Z"
   },
   {
    "duration": 652,
    "start_time": "2022-01-26T09:35:07.057Z"
   },
   {
    "duration": 18,
    "start_time": "2022-01-26T09:35:07.711Z"
   },
   {
    "duration": 41,
    "start_time": "2022-01-26T09:35:07.732Z"
   },
   {
    "duration": 32,
    "start_time": "2022-01-26T09:35:07.775Z"
   },
   {
    "duration": 3,
    "start_time": "2022-01-26T09:35:07.809Z"
   },
   {
    "duration": 128,
    "start_time": "2022-01-26T09:35:07.814Z"
   },
   {
    "duration": 16,
    "start_time": "2022-01-26T09:35:07.944Z"
   },
   {
    "duration": 17857,
    "start_time": "2022-01-26T09:35:07.962Z"
   },
   {
    "duration": 526,
    "start_time": "2022-01-26T09:35:25.822Z"
   },
   {
    "duration": 324,
    "start_time": "2022-01-26T09:35:26.350Z"
   },
   {
    "duration": 385,
    "start_time": "2022-01-26T09:35:26.676Z"
   },
   {
    "duration": 18,
    "start_time": "2022-01-26T09:35:27.064Z"
   },
   {
    "duration": 26,
    "start_time": "2022-01-26T09:35:27.084Z"
   },
   {
    "duration": 38,
    "start_time": "2022-01-26T09:35:27.112Z"
   },
   {
    "duration": 422,
    "start_time": "2022-01-26T09:35:27.152Z"
   },
   {
    "duration": 3019,
    "start_time": "2022-01-26T09:35:27.576Z"
   },
   {
    "duration": 278,
    "start_time": "2022-01-26T09:35:30.598Z"
   },
   {
    "duration": 12,
    "start_time": "2022-01-26T09:35:30.879Z"
   },
   {
    "duration": 23,
    "start_time": "2022-01-26T09:35:30.893Z"
   },
   {
    "duration": 80,
    "start_time": "2022-05-17T12:01:12.374Z"
   },
   {
    "duration": 19,
    "start_time": "2022-05-17T12:03:55.176Z"
   },
   {
    "duration": 2025,
    "start_time": "2022-05-17T12:05:20.565Z"
   },
   {
    "duration": 10,
    "start_time": "2022-05-17T12:05:28.198Z"
   },
   {
    "duration": 146,
    "start_time": "2022-05-17T12:06:20.853Z"
   },
   {
    "duration": 13,
    "start_time": "2022-05-17T12:06:29.960Z"
   },
   {
    "duration": 1432,
    "start_time": "2022-05-17T12:06:42.479Z"
   },
   {
    "duration": 26,
    "start_time": "2022-05-17T12:06:43.917Z"
   },
   {
    "duration": 10,
    "start_time": "2022-05-17T12:06:44.755Z"
   },
   {
    "duration": 55,
    "start_time": "2022-05-17T12:06:47.328Z"
   },
   {
    "duration": 455,
    "start_time": "2022-05-17T12:13:36.838Z"
   },
   {
    "duration": 526,
    "start_time": "2022-05-17T12:15:12.153Z"
   },
   {
    "duration": 2681,
    "start_time": "2022-05-17T12:16:14.151Z"
   },
   {
    "duration": 3584,
    "start_time": "2022-05-17T12:16:21.401Z"
   },
   {
    "duration": 2796,
    "start_time": "2022-05-17T12:17:03.478Z"
   },
   {
    "duration": 3152,
    "start_time": "2022-05-17T12:17:33.202Z"
   },
   {
    "duration": 1466,
    "start_time": "2022-05-17T12:17:51.353Z"
   },
   {
    "duration": 25,
    "start_time": "2022-05-17T12:17:52.823Z"
   },
   {
    "duration": 11,
    "start_time": "2022-05-17T12:17:52.850Z"
   },
   {
    "duration": 77,
    "start_time": "2022-05-17T12:17:52.865Z"
   },
   {
    "duration": 22,
    "start_time": "2022-05-17T12:17:52.945Z"
   },
   {
    "duration": 9,
    "start_time": "2022-05-17T12:17:52.970Z"
   },
   {
    "duration": 43,
    "start_time": "2022-05-17T12:17:52.982Z"
   },
   {
    "duration": 85,
    "start_time": "2022-05-17T12:17:53.029Z"
   },
   {
    "duration": 10,
    "start_time": "2022-05-17T12:17:53.116Z"
   },
   {
    "duration": 14,
    "start_time": "2022-05-17T12:17:53.131Z"
   },
   {
    "duration": 35,
    "start_time": "2022-05-17T12:17:53.147Z"
   },
   {
    "duration": 36,
    "start_time": "2022-05-17T12:17:53.184Z"
   },
   {
    "duration": 18,
    "start_time": "2022-05-17T12:17:53.223Z"
   },
   {
    "duration": 1498,
    "start_time": "2022-05-17T12:17:53.243Z"
   },
   {
    "duration": 76,
    "start_time": "2022-05-17T12:17:54.745Z"
   },
   {
    "duration": 12,
    "start_time": "2022-05-17T12:17:54.825Z"
   },
   {
    "duration": 74,
    "start_time": "2022-05-17T12:17:54.840Z"
   },
   {
    "duration": 18,
    "start_time": "2022-05-17T12:17:54.916Z"
   },
   {
    "duration": 986,
    "start_time": "2022-05-17T12:17:54.937Z"
   },
   {
    "duration": 12,
    "start_time": "2022-05-17T12:17:55.926Z"
   },
   {
    "duration": 94,
    "start_time": "2022-05-17T12:17:55.940Z"
   },
   {
    "duration": 8,
    "start_time": "2022-05-17T12:17:56.036Z"
   },
   {
    "duration": 7,
    "start_time": "2022-05-17T12:17:56.046Z"
   },
   {
    "duration": 70,
    "start_time": "2022-05-17T12:17:56.056Z"
   },
   {
    "duration": 1315,
    "start_time": "2022-05-17T12:17:56.131Z"
   },
   {
    "duration": 8,
    "start_time": "2022-05-17T12:17:57.448Z"
   },
   {
    "duration": 88,
    "start_time": "2022-05-17T12:17:57.458Z"
   },
   {
    "duration": 939,
    "start_time": "2022-05-17T12:17:57.554Z"
   },
   {
    "duration": 748,
    "start_time": "2022-05-17T12:17:58.496Z"
   },
   {
    "duration": 866,
    "start_time": "2022-05-17T12:17:59.246Z"
   },
   {
    "duration": 31,
    "start_time": "2022-05-17T12:18:00.115Z"
   },
   {
    "duration": 159,
    "start_time": "2022-05-17T12:18:00.150Z"
   },
   {
    "duration": 17,
    "start_time": "2022-05-17T12:18:00.312Z"
   },
   {
    "duration": 243,
    "start_time": "2022-05-17T12:18:00.331Z"
   },
   {
    "duration": 55,
    "start_time": "2022-05-17T12:18:00.577Z"
   },
   {
    "duration": 8932,
    "start_time": "2022-05-17T12:18:00.635Z"
   },
   {
    "duration": 296,
    "start_time": "2022-05-17T12:18:09.569Z"
   },
   {
    "duration": 350,
    "start_time": "2022-05-17T12:18:09.867Z"
   },
   {
    "duration": 401,
    "start_time": "2022-05-17T12:18:10.219Z"
   },
   {
    "duration": 25,
    "start_time": "2022-05-17T12:18:10.622Z"
   },
   {
    "duration": 18,
    "start_time": "2022-05-17T12:18:10.649Z"
   },
   {
    "duration": 71,
    "start_time": "2022-05-17T12:18:10.669Z"
   },
   {
    "duration": 459,
    "start_time": "2022-05-17T12:18:10.742Z"
   },
   {
    "duration": 3483,
    "start_time": "2022-05-17T12:18:11.203Z"
   },
   {
    "duration": 352,
    "start_time": "2022-05-17T12:18:14.690Z"
   },
   {
    "duration": 17,
    "start_time": "2022-05-17T12:18:15.044Z"
   },
   {
    "duration": 15,
    "start_time": "2022-05-17T12:18:15.063Z"
   },
   {
    "duration": 1026,
    "start_time": "2022-05-17T12:18:18.798Z"
   },
   {
    "duration": 23,
    "start_time": "2022-05-17T12:18:19.829Z"
   },
   {
    "duration": 15,
    "start_time": "2022-05-17T12:18:19.855Z"
   },
   {
    "duration": 54,
    "start_time": "2022-05-17T12:18:19.873Z"
   },
   {
    "duration": 18,
    "start_time": "2022-05-17T12:18:19.929Z"
   },
   {
    "duration": 19,
    "start_time": "2022-05-17T12:18:19.949Z"
   },
   {
    "duration": 27,
    "start_time": "2022-05-17T12:18:19.971Z"
   },
   {
    "duration": 102,
    "start_time": "2022-05-17T12:18:20.000Z"
   },
   {
    "duration": 19,
    "start_time": "2022-05-17T12:18:20.105Z"
   },
   {
    "duration": 28,
    "start_time": "2022-05-17T12:18:20.131Z"
   },
   {
    "duration": 64,
    "start_time": "2022-05-17T12:18:20.163Z"
   },
   {
    "duration": 7,
    "start_time": "2022-05-17T12:18:20.230Z"
   },
   {
    "duration": 20,
    "start_time": "2022-05-17T12:18:20.241Z"
   },
   {
    "duration": 539,
    "start_time": "2022-05-17T12:18:20.263Z"
   },
   {
    "duration": 26,
    "start_time": "2022-05-17T12:18:20.808Z"
   },
   {
    "duration": 8,
    "start_time": "2022-05-17T12:18:20.839Z"
   },
   {
    "duration": 26,
    "start_time": "2022-05-17T12:18:20.849Z"
   },
   {
    "duration": 33,
    "start_time": "2022-05-17T12:18:20.877Z"
   },
   {
    "duration": 354,
    "start_time": "2022-05-17T12:18:20.915Z"
   },
   {
    "duration": 10,
    "start_time": "2022-05-17T12:18:21.271Z"
   },
   {
    "duration": 60,
    "start_time": "2022-05-17T12:18:21.284Z"
   },
   {
    "duration": 9,
    "start_time": "2022-05-17T12:18:21.346Z"
   },
   {
    "duration": 26,
    "start_time": "2022-05-17T12:18:21.358Z"
   },
   {
    "duration": 37,
    "start_time": "2022-05-17T12:18:21.386Z"
   },
   {
    "duration": 640,
    "start_time": "2022-05-17T12:18:21.425Z"
   },
   {
    "duration": 7,
    "start_time": "2022-05-17T12:18:22.067Z"
   },
   {
    "duration": 62,
    "start_time": "2022-05-17T12:18:22.076Z"
   },
   {
    "duration": 686,
    "start_time": "2022-05-17T12:18:22.143Z"
   },
   {
    "duration": 1000,
    "start_time": "2022-05-17T12:18:22.831Z"
   },
   {
    "duration": 1382,
    "start_time": "2022-05-17T12:18:23.834Z"
   },
   {
    "duration": 28,
    "start_time": "2022-05-17T12:18:25.218Z"
   },
   {
    "duration": 294,
    "start_time": "2022-05-17T12:18:25.249Z"
   },
   {
    "duration": 70,
    "start_time": "2022-05-17T12:18:25.545Z"
   },
   {
    "duration": 326,
    "start_time": "2022-05-17T12:18:25.618Z"
   },
   {
    "duration": 74,
    "start_time": "2022-05-17T12:18:25.946Z"
   },
   {
    "duration": 10011,
    "start_time": "2022-05-17T12:18:26.022Z"
   },
   {
    "duration": 293,
    "start_time": "2022-05-17T12:18:36.036Z"
   },
   {
    "duration": 698,
    "start_time": "2022-05-17T12:18:36.333Z"
   },
   {
    "duration": 418,
    "start_time": "2022-05-17T12:18:37.034Z"
   },
   {
    "duration": 63,
    "start_time": "2022-05-17T12:18:37.455Z"
   },
   {
    "duration": 18,
    "start_time": "2022-05-17T12:18:37.522Z"
   },
   {
    "duration": 77,
    "start_time": "2022-05-17T12:18:37.543Z"
   },
   {
    "duration": 444,
    "start_time": "2022-05-17T12:18:37.622Z"
   },
   {
    "duration": 3583,
    "start_time": "2022-05-17T12:18:38.069Z"
   },
   {
    "duration": 361,
    "start_time": "2022-05-17T12:18:41.654Z"
   },
   {
    "duration": 27,
    "start_time": "2022-05-17T12:18:42.017Z"
   },
   {
    "duration": 16,
    "start_time": "2022-05-17T12:18:42.046Z"
   },
   {
    "duration": 1607,
    "start_time": "2022-05-17T12:18:49.819Z"
   },
   {
    "duration": 35,
    "start_time": "2022-05-17T12:18:51.429Z"
   },
   {
    "duration": 11,
    "start_time": "2022-05-17T12:18:51.467Z"
   },
   {
    "duration": 76,
    "start_time": "2022-05-17T12:18:51.483Z"
   },
   {
    "duration": 25,
    "start_time": "2022-05-17T12:18:51.563Z"
   },
   {
    "duration": 31,
    "start_time": "2022-05-17T12:18:51.591Z"
   },
   {
    "duration": 27,
    "start_time": "2022-05-17T12:18:51.625Z"
   },
   {
    "duration": 154,
    "start_time": "2022-05-17T12:18:51.655Z"
   },
   {
    "duration": 11,
    "start_time": "2022-05-17T12:18:51.813Z"
   },
   {
    "duration": 19,
    "start_time": "2022-05-17T12:18:51.830Z"
   },
   {
    "duration": 93,
    "start_time": "2022-05-17T12:18:51.852Z"
   },
   {
    "duration": 8,
    "start_time": "2022-05-17T12:18:51.949Z"
   },
   {
    "duration": 59,
    "start_time": "2022-05-17T12:18:51.959Z"
   },
   {
    "duration": 1694,
    "start_time": "2022-05-17T12:18:52.021Z"
   },
   {
    "duration": 31,
    "start_time": "2022-05-17T12:18:53.718Z"
   },
   {
    "duration": 64,
    "start_time": "2022-05-17T12:18:53.752Z"
   },
   {
    "duration": 32,
    "start_time": "2022-05-17T12:18:53.819Z"
   },
   {
    "duration": 70,
    "start_time": "2022-05-17T12:18:53.855Z"
   },
   {
    "duration": 715,
    "start_time": "2022-05-17T12:18:53.931Z"
   },
   {
    "duration": 67,
    "start_time": "2022-05-17T12:18:54.649Z"
   },
   {
    "duration": 91,
    "start_time": "2022-05-17T12:18:54.719Z"
   },
   {
    "duration": 8,
    "start_time": "2022-05-17T12:18:54.815Z"
   },
   {
    "duration": 14,
    "start_time": "2022-05-17T12:18:54.826Z"
   },
   {
    "duration": 73,
    "start_time": "2022-05-17T12:18:54.843Z"
   },
   {
    "duration": 1918,
    "start_time": "2022-05-17T12:18:54.919Z"
   },
   {
    "duration": 9,
    "start_time": "2022-05-17T12:18:56.840Z"
   },
   {
    "duration": 98,
    "start_time": "2022-05-17T12:18:56.852Z"
   },
   {
    "duration": 2557,
    "start_time": "2022-05-17T12:18:57.011Z"
   },
   {
    "duration": 729,
    "start_time": "2022-05-17T12:18:59.572Z"
   },
   {
    "duration": 746,
    "start_time": "2022-05-17T12:19:00.308Z"
   },
   {
    "duration": 23,
    "start_time": "2022-05-17T12:19:01.056Z"
   },
   {
    "duration": 99,
    "start_time": "2022-05-17T12:19:01.081Z"
   },
   {
    "duration": 33,
    "start_time": "2022-05-17T12:19:01.183Z"
   },
   {
    "duration": 208,
    "start_time": "2022-05-17T12:19:01.222Z"
   },
   {
    "duration": 27,
    "start_time": "2022-05-17T12:19:01.433Z"
   },
   {
    "duration": 13624,
    "start_time": "2022-05-17T12:19:01.462Z"
   },
   {
    "duration": 343,
    "start_time": "2022-05-17T12:19:15.089Z"
   },
   {
    "duration": 397,
    "start_time": "2022-05-17T12:19:15.436Z"
   },
   {
    "duration": 684,
    "start_time": "2022-05-17T12:19:15.836Z"
   },
   {
    "duration": 43,
    "start_time": "2022-05-17T12:19:16.524Z"
   },
   {
    "duration": 11,
    "start_time": "2022-05-17T12:19:16.571Z"
   },
   {
    "duration": 102,
    "start_time": "2022-05-17T12:19:16.585Z"
   },
   {
    "duration": 634,
    "start_time": "2022-05-17T12:19:16.691Z"
   },
   {
    "duration": 3630,
    "start_time": "2022-05-17T12:19:17.329Z"
   },
   {
    "duration": 361,
    "start_time": "2022-05-17T12:19:20.961Z"
   },
   {
    "duration": 18,
    "start_time": "2022-05-17T12:19:21.326Z"
   },
   {
    "duration": 17,
    "start_time": "2022-05-17T12:19:21.347Z"
   },
   {
    "duration": 692,
    "start_time": "2022-05-17T12:23:49.825Z"
   },
   {
    "duration": 14927,
    "start_time": "2022-05-17T12:24:36.657Z"
   },
   {
    "duration": 10086,
    "start_time": "2022-05-17T12:27:01.851Z"
   },
   {
    "duration": 9250,
    "start_time": "2022-05-17T12:27:31.636Z"
   },
   {
    "duration": 132,
    "start_time": "2022-05-17T12:27:49.529Z"
   },
   {
    "duration": 6143,
    "start_time": "2022-05-17T12:27:58.889Z"
   },
   {
    "duration": 10197,
    "start_time": "2022-05-17T12:28:12.327Z"
   },
   {
    "duration": 293,
    "start_time": "2022-05-17T12:30:54.218Z"
   },
   {
    "duration": 277,
    "start_time": "2022-05-17T12:31:02.116Z"
   },
   {
    "duration": 472,
    "start_time": "2022-05-17T12:31:53.118Z"
   },
   {
    "duration": 546,
    "start_time": "2022-05-17T12:32:49.471Z"
   },
   {
    "duration": 442,
    "start_time": "2022-05-17T12:32:50.020Z"
   },
   {
    "duration": 347,
    "start_time": "2022-05-17T12:33:51.613Z"
   },
   {
    "duration": 353,
    "start_time": "2022-05-17T12:33:57.384Z"
   },
   {
    "duration": 343,
    "start_time": "2022-05-17T12:34:06.966Z"
   },
   {
    "duration": 572,
    "start_time": "2022-05-17T12:34:12.015Z"
   },
   {
    "duration": 632,
    "start_time": "2022-05-17T12:34:51.410Z"
   },
   {
    "duration": 135,
    "start_time": "2022-05-17T12:35:54.339Z"
   },
   {
    "duration": 215,
    "start_time": "2022-05-17T12:35:57.930Z"
   },
   {
    "duration": 381,
    "start_time": "2022-05-17T12:36:04.661Z"
   },
   {
    "duration": 435,
    "start_time": "2022-05-17T12:40:05.200Z"
   },
   {
    "duration": 469,
    "start_time": "2022-05-17T12:40:11.323Z"
   },
   {
    "duration": 3981,
    "start_time": "2022-05-17T12:41:08.942Z"
   },
   {
    "duration": 326,
    "start_time": "2022-05-17T12:41:38.813Z"
   },
   {
    "duration": 436,
    "start_time": "2022-05-17T12:41:43.297Z"
   },
   {
    "duration": 539,
    "start_time": "2022-05-17T12:41:45.692Z"
   },
   {
    "duration": 346,
    "start_time": "2022-05-17T12:41:47.637Z"
   },
   {
    "duration": 325,
    "start_time": "2022-05-17T12:41:54.539Z"
   },
   {
    "duration": 341,
    "start_time": "2022-05-17T12:42:17.917Z"
   },
   {
    "duration": 332,
    "start_time": "2022-05-17T12:42:30.812Z"
   },
   {
    "duration": 291,
    "start_time": "2022-05-17T12:43:21.887Z"
   },
   {
    "duration": 373,
    "start_time": "2022-05-17T12:45:27.746Z"
   },
   {
    "duration": 19,
    "start_time": "2022-05-17T12:45:34.248Z"
   },
   {
    "duration": 144,
    "start_time": "2022-05-17T12:45:53.219Z"
   },
   {
    "duration": 384,
    "start_time": "2022-05-17T12:46:03.285Z"
   },
   {
    "duration": 330,
    "start_time": "2022-05-17T12:46:19.523Z"
   },
   {
    "duration": 826,
    "start_time": "2022-05-17T12:46:49.967Z"
   },
   {
    "duration": 552,
    "start_time": "2022-05-17T12:48:08.067Z"
   },
   {
    "duration": 494,
    "start_time": "2022-05-17T12:48:32.501Z"
   },
   {
    "duration": 517,
    "start_time": "2022-05-17T12:49:20.226Z"
   },
   {
    "duration": 405,
    "start_time": "2022-05-17T12:49:59.560Z"
   },
   {
    "duration": 429,
    "start_time": "2022-05-17T12:50:19.741Z"
   },
   {
    "duration": 442,
    "start_time": "2022-05-17T12:50:33.097Z"
   },
   {
    "duration": 1081,
    "start_time": "2022-05-17T12:51:08.935Z"
   },
   {
    "duration": 31,
    "start_time": "2022-05-17T12:51:10.019Z"
   },
   {
    "duration": 10,
    "start_time": "2022-05-17T12:51:10.053Z"
   },
   {
    "duration": 54,
    "start_time": "2022-05-17T12:51:10.066Z"
   },
   {
    "duration": 22,
    "start_time": "2022-05-17T12:51:10.124Z"
   },
   {
    "duration": 10,
    "start_time": "2022-05-17T12:51:10.148Z"
   },
   {
    "duration": 9,
    "start_time": "2022-05-17T12:51:10.160Z"
   },
   {
    "duration": 80,
    "start_time": "2022-05-17T12:51:10.171Z"
   },
   {
    "duration": 9,
    "start_time": "2022-05-17T12:51:10.254Z"
   },
   {
    "duration": 10,
    "start_time": "2022-05-17T12:51:10.266Z"
   },
   {
    "duration": 41,
    "start_time": "2022-05-17T12:51:10.279Z"
   },
   {
    "duration": 11,
    "start_time": "2022-05-17T12:51:10.325Z"
   },
   {
    "duration": 16,
    "start_time": "2022-05-17T12:51:10.343Z"
   },
   {
    "duration": 560,
    "start_time": "2022-05-17T12:51:10.364Z"
   },
   {
    "duration": 25,
    "start_time": "2022-05-17T12:51:10.926Z"
   },
   {
    "duration": 7,
    "start_time": "2022-05-17T12:51:10.953Z"
   },
   {
    "duration": 21,
    "start_time": "2022-05-17T12:51:10.962Z"
   },
   {
    "duration": 41,
    "start_time": "2022-05-17T12:51:10.985Z"
   },
   {
    "duration": 369,
    "start_time": "2022-05-17T12:51:11.028Z"
   },
   {
    "duration": 13,
    "start_time": "2022-05-17T12:51:11.400Z"
   },
   {
    "duration": 50,
    "start_time": "2022-05-17T12:51:11.415Z"
   },
   {
    "duration": 9,
    "start_time": "2022-05-17T12:51:11.467Z"
   },
   {
    "duration": 34,
    "start_time": "2022-05-17T12:51:11.479Z"
   },
   {
    "duration": 19,
    "start_time": "2022-05-17T12:51:11.517Z"
   },
   {
    "duration": 678,
    "start_time": "2022-05-17T12:51:11.539Z"
   },
   {
    "duration": 17,
    "start_time": "2022-05-17T12:51:12.228Z"
   },
   {
    "duration": 96,
    "start_time": "2022-05-17T12:51:12.247Z"
   },
   {
    "duration": 2971,
    "start_time": "2022-05-17T12:51:12.348Z"
   },
   {
    "duration": 1588,
    "start_time": "2022-05-17T12:51:15.341Z"
   },
   {
    "duration": 1591,
    "start_time": "2022-05-17T12:51:16.936Z"
   },
   {
    "duration": 24,
    "start_time": "2022-05-17T12:51:18.530Z"
   },
   {
    "duration": 153,
    "start_time": "2022-05-17T12:51:18.556Z"
   },
   {
    "duration": 27,
    "start_time": "2022-05-17T12:51:18.720Z"
   },
   {
    "duration": 398,
    "start_time": "2022-05-17T12:51:18.750Z"
   },
   {
    "duration": 85,
    "start_time": "2022-05-17T12:51:19.151Z"
   },
   {
    "duration": 14114,
    "start_time": "2022-05-17T12:51:19.238Z"
   },
   {
    "duration": 312,
    "start_time": "2022-05-17T12:51:33.354Z"
   },
   {
    "duration": 380,
    "start_time": "2022-05-17T12:51:33.669Z"
   },
   {
    "duration": 411,
    "start_time": "2022-05-17T12:51:34.051Z"
   },
   {
    "duration": 23,
    "start_time": "2022-05-17T12:51:34.465Z"
   },
   {
    "duration": 15,
    "start_time": "2022-05-17T12:51:34.510Z"
   },
   {
    "duration": 60,
    "start_time": "2022-05-17T12:51:34.529Z"
   },
   {
    "duration": 537,
    "start_time": "2022-05-17T12:51:34.592Z"
   },
   {
    "duration": 3891,
    "start_time": "2022-05-17T12:51:35.133Z"
   },
   {
    "duration": 434,
    "start_time": "2022-05-17T12:51:39.029Z"
   },
   {
    "duration": 20,
    "start_time": "2022-05-17T12:51:39.466Z"
   },
   {
    "duration": 53,
    "start_time": "2022-05-17T12:51:39.488Z"
   },
   {
    "duration": 3429,
    "start_time": "2022-05-17T12:52:17.566Z"
   },
   {
    "duration": 741,
    "start_time": "2022-05-17T12:52:31.563Z"
   },
   {
    "duration": 1230,
    "start_time": "2022-05-17T12:52:39.285Z"
   },
   {
    "duration": 26,
    "start_time": "2022-05-17T12:52:40.524Z"
   },
   {
    "duration": 18,
    "start_time": "2022-05-17T12:52:40.553Z"
   },
   {
    "duration": 35,
    "start_time": "2022-05-17T12:52:40.574Z"
   },
   {
    "duration": 18,
    "start_time": "2022-05-17T12:52:40.614Z"
   },
   {
    "duration": 41,
    "start_time": "2022-05-17T12:52:40.636Z"
   },
   {
    "duration": 8,
    "start_time": "2022-05-17T12:52:40.679Z"
   },
   {
    "duration": 69,
    "start_time": "2022-05-17T12:52:40.689Z"
   },
   {
    "duration": 7,
    "start_time": "2022-05-17T12:52:40.761Z"
   },
   {
    "duration": 20,
    "start_time": "2022-05-17T12:52:40.772Z"
   },
   {
    "duration": 56,
    "start_time": "2022-05-17T12:52:40.794Z"
   },
   {
    "duration": 7,
    "start_time": "2022-05-17T12:52:40.852Z"
   },
   {
    "duration": 27,
    "start_time": "2022-05-17T12:52:40.861Z"
   },
   {
    "duration": 932,
    "start_time": "2022-05-17T12:52:40.891Z"
   },
   {
    "duration": 30,
    "start_time": "2022-05-17T12:52:41.825Z"
   },
   {
    "duration": 19,
    "start_time": "2022-05-17T12:52:41.857Z"
   },
   {
    "duration": 34,
    "start_time": "2022-05-17T12:52:41.878Z"
   },
   {
    "duration": 11,
    "start_time": "2022-05-17T12:52:41.914Z"
   },
   {
    "duration": 360,
    "start_time": "2022-05-17T12:52:41.928Z"
   },
   {
    "duration": 25,
    "start_time": "2022-05-17T12:52:42.291Z"
   },
   {
    "duration": 37,
    "start_time": "2022-05-17T12:52:42.319Z"
   },
   {
    "duration": 9,
    "start_time": "2022-05-17T12:52:42.358Z"
   },
   {
    "duration": 41,
    "start_time": "2022-05-17T12:52:42.370Z"
   },
   {
    "duration": 23,
    "start_time": "2022-05-17T12:52:42.415Z"
   },
   {
    "duration": 657,
    "start_time": "2022-05-17T12:52:42.441Z"
   },
   {
    "duration": 22,
    "start_time": "2022-05-17T12:52:43.100Z"
   },
   {
    "duration": 53,
    "start_time": "2022-05-17T12:52:43.125Z"
   },
   {
    "duration": 1386,
    "start_time": "2022-05-17T12:52:43.185Z"
   },
   {
    "duration": 720,
    "start_time": "2022-05-17T12:52:44.573Z"
   },
   {
    "duration": 730,
    "start_time": "2022-05-17T12:52:45.295Z"
   },
   {
    "duration": 28,
    "start_time": "2022-05-17T12:52:46.030Z"
   },
   {
    "duration": 54,
    "start_time": "2022-05-17T12:52:46.061Z"
   },
   {
    "duration": 21,
    "start_time": "2022-05-17T12:52:46.122Z"
   },
   {
    "duration": 192,
    "start_time": "2022-05-17T12:52:46.146Z"
   },
   {
    "duration": 25,
    "start_time": "2022-05-17T12:52:46.340Z"
   },
   {
    "duration": 8684,
    "start_time": "2022-05-17T12:52:46.369Z"
   },
   {
    "duration": 315,
    "start_time": "2022-05-17T12:52:55.055Z"
   },
   {
    "duration": 367,
    "start_time": "2022-05-17T12:52:55.373Z"
   },
   {
    "duration": 412,
    "start_time": "2022-05-17T12:52:55.743Z"
   },
   {
    "duration": 22,
    "start_time": "2022-05-17T12:52:56.158Z"
   },
   {
    "duration": 38,
    "start_time": "2022-05-17T12:52:56.182Z"
   },
   {
    "duration": 55,
    "start_time": "2022-05-17T12:52:56.227Z"
   },
   {
    "duration": 510,
    "start_time": "2022-05-17T12:52:56.285Z"
   },
   {
    "duration": 3528,
    "start_time": "2022-05-17T12:52:56.798Z"
   },
   {
    "duration": 507,
    "start_time": "2022-05-17T12:53:00.339Z"
   },
   {
    "duration": 19,
    "start_time": "2022-05-17T12:53:00.848Z"
   },
   {
    "duration": 50,
    "start_time": "2022-05-17T12:53:00.871Z"
   }
  ],
  "kernelspec": {
   "display_name": "Python 3 (ipykernel)",
   "language": "python",
   "name": "python3"
  },
  "language_info": {
   "codemirror_mode": {
    "name": "ipython",
    "version": 3
   },
   "file_extension": ".py",
   "mimetype": "text/x-python",
   "name": "python",
   "nbconvert_exporter": "python",
   "pygments_lexer": "ipython3",
   "version": "3.9.5"
  },
  "toc": {
   "base_numbering": 1,
   "nav_menu": {},
   "number_sections": true,
   "sideBar": true,
   "skip_h1_title": true,
   "title_cell": "Содержание",
   "title_sidebar": "Contents",
   "toc_cell": true,
   "toc_position": {
    "height": "calc(100% - 180px)",
    "left": "10px",
    "top": "150px",
    "width": "270.391px"
   },
   "toc_section_display": true,
   "toc_window_display": true
  }
 },
 "nbformat": 4,
 "nbformat_minor": 2
}
